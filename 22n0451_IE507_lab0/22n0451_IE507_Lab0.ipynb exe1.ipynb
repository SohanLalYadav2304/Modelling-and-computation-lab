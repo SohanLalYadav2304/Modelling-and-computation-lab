{
  "nbformat": 4,
  "nbformat_minor": 0,
  "metadata": {
    "colab": {
      "name": "22n0451_lab0.ipynb",
      "provenance": [],
      "collapsed_sections": []
    },
    "kernelspec": {
      "name": "python3",
      "display_name": "Python 3"
    },
    "language_info": {
      "name": "python"
    }
  },
  "cells": [
    {
      "cell_type": "code",
      "execution_count": 1,
      "metadata": {
        "id": "3CkX6f0yGz2v"
      },
      "outputs": [],
      "source": [
        "! pip install -q pyomo"
      ]
    },
    {
      "cell_type": "code",
      "source": [
        "from pyomo.environ import *"
      ],
      "metadata": {
        "id": "ve4n_LGoG3U9"
      },
      "execution_count": 2,
      "outputs": []
    },
    {
      "cell_type": "code",
      "source": [
        "# create a model\n",
        "model = ConcreteModel()"
      ],
      "metadata": {
        "id": "lIAShwMQG_AD"
      },
      "execution_count": 3,
      "outputs": []
    },
    {
      "cell_type": "code",
      "source": [
        "# declare decision variables\n",
        "model.x1 = Var(domain = Reals)\n",
        "model.x2 = Var(domain=Reals)\n",
        "model.y1 = Var(domain=Reals)\n",
        "model.y2 = Var(domain=Reals)"
      ],
      "metadata": {
        "id": "oqisYFrOHM0u"
      },
      "execution_count": 4,
      "outputs": []
    },
    {
      "cell_type": "code",
      "source": [
        "# declare objective \n",
        "model.cost = Objective(expr = 6*model.x1 + 5*model.x2 + 4*model.y1+3*model.y2, sense = minimize)"
      ],
      "metadata": {
        "id": "24FU-goLHu91"
      },
      "execution_count": 5,
      "outputs": []
    },
    {
      "cell_type": "code",
      "source": [
        "# declare constraints\n",
        "model.constr = Constraint(expr = model.y1 <= 150)\n",
        "model.constr = Constraint(expr = model.y2 >= 30)\n",
        "model.constr = Constraint(expr = 5*model.x1+4*model.y2<=90)\n",
        "model.constr = Constraint (expr = -1*model.x1+6*model.x2+8*model.y1-4*model.y2>=120)"
      ],
      "metadata": {
        "colab": {
          "base_uri": "https://localhost:8080/"
        },
        "id": "MPobMVeIITL2",
        "outputId": "0ca23eff-fbee-4447-9fc6-96cc9eb8a69b"
      },
      "execution_count": 6,
      "outputs": [
        {
          "output_type": "stream",
          "name": "stdout",
          "text": [
            "WARNING: Implicitly replacing the Component attribute constr (type=<class\n",
            "    'pyomo.core.base.constraint.ScalarConstraint'>) on block unknown with a\n",
            "    new Component (type=<class\n",
            "    'pyomo.core.base.constraint.AbstractScalarConstraint'>). This is usually\n",
            "    indicative of a modelling error. To avoid this warning, use\n",
            "    block.del_component() and block.add_component().\n",
            "WARNING: Implicitly replacing the Component attribute constr (type=<class\n",
            "    'pyomo.core.base.constraint.ScalarConstraint'>) on block unknown with a\n",
            "    new Component (type=<class\n",
            "    'pyomo.core.base.constraint.AbstractScalarConstraint'>). This is usually\n",
            "    indicative of a modelling error. To avoid this warning, use\n",
            "    block.del_component() and block.add_component().\n",
            "WARNING: Implicitly replacing the Component attribute constr (type=<class\n",
            "    'pyomo.core.base.constraint.ScalarConstraint'>) on block unknown with a\n",
            "    new Component (type=<class\n",
            "    'pyomo.core.base.constraint.AbstractScalarConstraint'>). This is usually\n",
            "    indicative of a modelling error. To avoid this warning, use\n",
            "    block.del_component() and block.add_component().\n"
          ]
        }
      ]
    },
    {
      "cell_type": "code",
      "source": [
        "model.pprint()"
      ],
      "metadata": {
        "colab": {
          "base_uri": "https://localhost:8080/"
        },
        "id": "sZyTSLK0JSc-",
        "outputId": "fc971dc2-696c-441c-d882-0a2371296c29"
      },
      "execution_count": 7,
      "outputs": [
        {
          "output_type": "stream",
          "name": "stdout",
          "text": [
            "4 Var Declarations\n",
            "    x1 : Size=1, Index=None\n",
            "        Key  : Lower : Value : Upper : Fixed : Stale : Domain\n",
            "        None :  None :  None :  None : False :  True :  Reals\n",
            "    x2 : Size=1, Index=None\n",
            "        Key  : Lower : Value : Upper : Fixed : Stale : Domain\n",
            "        None :  None :  None :  None : False :  True :  Reals\n",
            "    y1 : Size=1, Index=None\n",
            "        Key  : Lower : Value : Upper : Fixed : Stale : Domain\n",
            "        None :  None :  None :  None : False :  True :  Reals\n",
            "    y2 : Size=1, Index=None\n",
            "        Key  : Lower : Value : Upper : Fixed : Stale : Domain\n",
            "        None :  None :  None :  None : False :  True :  Reals\n",
            "\n",
            "1 Objective Declarations\n",
            "    cost : Size=1, Index=None, Active=True\n",
            "        Key  : Active : Sense    : Expression\n",
            "        None :   True : minimize : 6*x1 + 5*x2 + 4*y1 + 3*y2\n",
            "\n",
            "1 Constraint Declarations\n",
            "    constr : Size=1, Index=None, Active=True\n",
            "        Key  : Lower : Body                      : Upper : Active\n",
            "        None : 120.0 : - x1 + 6*x2 + 8*y1 - 4*y2 :  +Inf :   True\n",
            "\n",
            "6 Declarations: x1 x2 y1 y2 cost constr\n"
          ]
        }
      ]
    },
    {
      "cell_type": "code",
      "source": [
        "! apt-get install -y -qq glpk-utils"
      ],
      "metadata": {
        "id": "jgRf4HSEJfvm"
      },
      "execution_count": 8,
      "outputs": []
    },
    {
      "cell_type": "code",
      "source": [
        "SolverFactory('glpk', executable='/usr/bin/glpsol').solve(model).write()"
      ],
      "metadata": {
        "colab": {
          "base_uri": "https://localhost:8080/"
        },
        "id": "oUhP9A7GJsdE",
        "outputId": "af75361c-38ac-4eb0-90c6-675b52135dbf"
      },
      "execution_count": 12,
      "outputs": [
        {
          "output_type": "stream",
          "name": "stdout",
          "text": [
            "# ==========================================================\n",
            "# = Solver Results                                         =\n",
            "# ==========================================================\n",
            "# ----------------------------------------------------------\n",
            "#   Problem Information\n",
            "# ----------------------------------------------------------\n",
            "Problem: \n",
            "- Name: unknown\n",
            "  Lower bound: -inf\n",
            "  Upper bound: inf\n",
            "  Number of objectives: 1\n",
            "  Number of constraints: 2\n",
            "  Number of variables: 5\n",
            "  Number of nonzeros: 5\n",
            "  Sense: minimize\n",
            "# ----------------------------------------------------------\n",
            "#   Solver Information\n",
            "# ----------------------------------------------------------\n",
            "Solver: \n",
            "- Status: ok\n",
            "  Termination condition: unbounded\n",
            "  Statistics: \n",
            "    Branch and bound: \n",
            "      Number of bounded subproblems: 0\n",
            "      Number of created subproblems: 0\n",
            "  Error rc: 0\n",
            "  Time: 0.012176513671875\n"
          ]
        }
      ]
    },
    {
      "cell_type": "markdown",
      "source": [
        ""
      ],
      "metadata": {
        "id": "EdAcBLHILmOu"
      }
    },
    {
      "cell_type": "code",
      "source": [
        ""
      ],
      "metadata": {
        "id": "lRzAW3f3LXrt"
      },
      "execution_count": null,
      "outputs": []
    }
  ]
}