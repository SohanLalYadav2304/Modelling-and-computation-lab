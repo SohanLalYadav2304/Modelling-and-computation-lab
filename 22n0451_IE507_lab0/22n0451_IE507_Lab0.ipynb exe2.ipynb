{
  "nbformat": 4,
  "nbformat_minor": 0,
  "metadata": {
    "colab": {
      "name": "22n0451 question 2.ipynb",
      "provenance": []
    },
    "kernelspec": {
      "name": "python3",
      "display_name": "Python 3"
    },
    "language_info": {
      "name": "python"
    }
  },
  "cells": [
    {
      "cell_type": "code",
      "execution_count": 1,
      "metadata": {
        "id": "t8ajjmPiH_Uc"
      },
      "outputs": [],
      "source": [
        "! pip install -q pyomo"
      ]
    },
    {
      "cell_type": "code",
      "source": [
        "from pyomo.environ import *"
      ],
      "metadata": {
        "id": "zcNUryRbICCc"
      },
      "execution_count": 2,
      "outputs": []
    },
    {
      "cell_type": "code",
      "source": [
        "# Create a model\n",
        "model = ConcreteModel()"
      ],
      "metadata": {
        "id": "24gQlBsdIM76"
      },
      "execution_count": 3,
      "outputs": []
    },
    {
      "cell_type": "code",
      "source": [
        "# Declare decision variable\n",
        "model.x1 = Var(domain=Reals)\n",
        "model.x2 = Var(domain=Reals)\n",
        "model.x3 = Var(domain=Reals)\n"
      ],
      "metadata": {
        "id": "aaABIQU4IVfK"
      },
      "execution_count": 4,
      "outputs": []
    },
    {
      "cell_type": "code",
      "source": [
        "# Declare objective\n",
        "model.cost = Objective(expr=model.x1+model.x2+model.x3,sense=maximize)"
      ],
      "metadata": {
        "id": "HQo8O6WeIwU1"
      },
      "execution_count": 5,
      "outputs": []
    },
    {
      "cell_type": "code",
      "source": [
        "# Declare constraints\n",
        "model.constr1 = Constraint(expr=model.x1+model.x3>=12)\n",
        "model.constr2 = Constraint(expr=-4*model.x1-3*model.x3>=20)\n",
        "model.constr3 = Constraint(expr=-1*model.x2+model.x3<=-25)\n",
        "model.constr4 = Constraint(expr=model.x1>=0)\n",
        "model.constr5 = Constraint(expr=model.x2>=0)\n",
        "model.constr6 = Constraint(expr=model.x3>=0)"
      ],
      "metadata": {
        "id": "XKamb7NBJUwp"
      },
      "execution_count": 6,
      "outputs": []
    },
    {
      "cell_type": "code",
      "source": [
        "model.pprint()"
      ],
      "metadata": {
        "colab": {
          "base_uri": "https://localhost:8080/"
        },
        "id": "jPS2kCSSKit7",
        "outputId": "91f26b7b-c86c-4acf-cd2c-e634ba8314ba"
      },
      "execution_count": 7,
      "outputs": [
        {
          "output_type": "stream",
          "name": "stdout",
          "text": [
            "3 Var Declarations\n",
            "    x1 : Size=1, Index=None\n",
            "        Key  : Lower : Value : Upper : Fixed : Stale : Domain\n",
            "        None :  None :  None :  None : False :  True :  Reals\n",
            "    x2 : Size=1, Index=None\n",
            "        Key  : Lower : Value : Upper : Fixed : Stale : Domain\n",
            "        None :  None :  None :  None : False :  True :  Reals\n",
            "    x3 : Size=1, Index=None\n",
            "        Key  : Lower : Value : Upper : Fixed : Stale : Domain\n",
            "        None :  None :  None :  None : False :  True :  Reals\n",
            "\n",
            "1 Objective Declarations\n",
            "    cost : Size=1, Index=None, Active=True\n",
            "        Key  : Active : Sense    : Expression\n",
            "        None :   True : maximize : x1 + x2 + x3\n",
            "\n",
            "6 Constraint Declarations\n",
            "    constr1 : Size=1, Index=None, Active=True\n",
            "        Key  : Lower : Body    : Upper : Active\n",
            "        None :  12.0 : x1 + x3 :  +Inf :   True\n",
            "    constr2 : Size=1, Index=None, Active=True\n",
            "        Key  : Lower : Body         : Upper : Active\n",
            "        None :  20.0 : -4*x1 - 3*x3 :  +Inf :   True\n",
            "    constr3 : Size=1, Index=None, Active=True\n",
            "        Key  : Lower : Body      : Upper : Active\n",
            "        None :  -Inf : - x2 + x3 : -25.0 :   True\n",
            "    constr4 : Size=1, Index=None, Active=True\n",
            "        Key  : Lower : Body : Upper : Active\n",
            "        None :   0.0 :   x1 :  +Inf :   True\n",
            "    constr5 : Size=1, Index=None, Active=True\n",
            "        Key  : Lower : Body : Upper : Active\n",
            "        None :   0.0 :   x2 :  +Inf :   True\n",
            "    constr6 : Size=1, Index=None, Active=True\n",
            "        Key  : Lower : Body : Upper : Active\n",
            "        None :   0.0 :   x3 :  +Inf :   True\n",
            "\n",
            "10 Declarations: x1 x2 x3 cost constr1 constr2 constr3 constr4 constr5 constr6\n"
          ]
        }
      ]
    },
    {
      "cell_type": "code",
      "source": [
        "! apt-get install -y -qq glpk-utils"
      ],
      "metadata": {
        "id": "iedWfVl7KsPl"
      },
      "execution_count": 8,
      "outputs": []
    },
    {
      "cell_type": "code",
      "source": [
        "SolverFactory('glpk', executable='/usr/bin/glpsol').solve(model).write()"
      ],
      "metadata": {
        "colab": {
          "base_uri": "https://localhost:8080/"
        },
        "id": "aFUrKQ--K7b5",
        "outputId": "fadf8492-8902-4902-865a-5e7ddb1c186e"
      },
      "execution_count": 9,
      "outputs": [
        {
          "output_type": "stream",
          "name": "stdout",
          "text": [
            "# ==========================================================\n",
            "# = Solver Results                                         =\n",
            "# ==========================================================\n",
            "# ----------------------------------------------------------\n",
            "#   Problem Information\n",
            "# ----------------------------------------------------------\n",
            "Problem: \n",
            "- Name: unknown\n",
            "  Lower bound: -inf\n",
            "  Upper bound: inf\n",
            "  Number of objectives: 1\n",
            "  Number of constraints: 7\n",
            "  Number of variables: 4\n",
            "  Number of nonzeros: 10\n",
            "  Sense: maximize\n",
            "# ----------------------------------------------------------\n",
            "#   Solver Information\n",
            "# ----------------------------------------------------------\n",
            "Solver: \n",
            "- Status: ok\n",
            "  Termination condition: infeasible\n",
            "  Statistics: \n",
            "    Branch and bound: \n",
            "      Number of bounded subproblems: 0\n",
            "      Number of created subproblems: 0\n",
            "  Error rc: 0\n",
            "  Time: 0.010963678359985352\n"
          ]
        }
      ]
    },
    {
      "cell_type": "code",
      "source": [
        ""
      ],
      "metadata": {
        "id": "WgBTBtg_L_Sd"
      },
      "execution_count": 9,
      "outputs": []
    }
  ]
}