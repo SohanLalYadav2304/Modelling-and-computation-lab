{
  "nbformat": 4,
  "nbformat_minor": 0,
  "metadata": {
    "colab": {
      "provenance": []
    },
    "kernelspec": {
      "name": "python3",
      "display_name": "Python 3"
    },
    "language_info": {
      "name": "python"
    }
  },
  "cells": [
    {
      "cell_type": "code",
      "execution_count": null,
      "metadata": {
        "id": "vMLt7WChYkHt"
      },
      "outputs": [],
      "source": [
        "!pip install -q pyomo"
      ]
    },
    {
      "cell_type": "code",
      "source": [
        "from pyomo.environ import * "
      ],
      "metadata": {
        "id": "ADUH7TRuYlWN"
      },
      "execution_count": null,
      "outputs": []
    },
    {
      "cell_type": "code",
      "source": [
        "import numpy as np"
      ],
      "metadata": {
        "id": "zjivTubgZhLq"
      },
      "execution_count": null,
      "outputs": []
    },
    {
      "cell_type": "code",
      "source": [
        "import pandas as pd"
      ],
      "metadata": {
        "id": "SegBDy4PZjkT"
      },
      "execution_count": null,
      "outputs": []
    },
    {
      "cell_type": "markdown",
      "source": [
        "Given that Saga Logistics is to transport electic vehicles from warehouses to markets.There are 8 warehouses and we are to transport EVs to 8 markets.\n",
        "Let we define variables such that $ x_{i,j} $ where $ x_{i,j} $ denotes the number of electic vehicles transported to $ j^{th} \\text{market from } \\ i^{th} $  warehouse.\n",
        "\n",
        "Since  market  has demand to be fulfilled  so sum of each quantity what is supplied to 1st market by all the warehouses must be equal to the demand of that market so for 1st market  : \n",
        "\n",
        "\n",
        "$ \\sum_{i=1}^8 x_{i,1} = 250 \\\\\n",
        " similarly: \\\\ \\sum_{i=1}^8 x_{i,2} = 300 \\\\  \\sum_{i=1}^8 x_{i,3} = 425 \\\\  \\sum_{i=1}^8 x_{i,4} =270 \\\\  \\sum_{i=1}^8 x_{i,5} = 375  \\\\  \\sum_{i=1}^8 x_{i,6} = 225 \\\\  \\sum_{i=1}^8 x_{i,7} = 185 \\\\  \\sum_{i=1}^8 x_{i,8} = 110 \\\\ $ \n",
        "\n",
        " Since we are given that each warehouse has its availability stock so all the supplied stock must be less than or equal to the available stock in that warehouse so for first market: \n",
        "\n",
        " $ \\sum_{i=1}^8 x_{1,i} \\leq 350 \\\\ similarly  \\\\ \\sum_{i=1}^8 x_{2,i} \\leq 185 \\\\ \\sum_{i=1}^8 x_{3,i} \\leq 305 \\\\ \\sum_{i=1}^8 x_{4,i} \\leq 180 \\\\ \\sum_{i=1}^8 x_{5,i} \\leq 205 \\\\ \\sum_{i=1}^8 x_{6,i} \\leq 175 \\\\ \\sum_{i=1}^8 x_{7,i} \\leq 325 \\\\ \\sum_{i=1}^8 x_{8,i} \\leq 370 \\\\ x_{ij} \\geq 0 \\ ∀ i,j $\n",
        " \n",
        " A = \n",
        "\n",
        "[[827,817,1470,2272,1615,3143,1264,4465\n",
        "\n",
        "559,1832,751,3772,637,3773,1856,5459\n",
        "\n",
        "1109,2443,577,3865,798,3521,1984,5303\n",
        "\n",
        "2943,1471,4676,1337,2702,2741,2482,4148\n",
        "\n",
        "3742,3089,2931,3199,2226,1739,1691,2128\n",
        "\n",
        "2353,1160,3295,368,2369,2365,1293,3642\n",
        "\n",
        "1356,1617,2045,2941,2334,4151,1937,4287\n",
        "\n",
        "195,1862,1331,2921,402,2825,563,4441]]\n",
        "\n",
        "\n",
        "Cost function = $ A_{ij}  * X{ij}  ∀ i,j ∈ {1,2, ⋯8} \n",
        " and X_{ij} = [x_{ij}] $\n",
        " \n",
        "  \n",
        "Objective function = minimize $ A_{ij}  * X{ij}  ∀ i,j ∈ {1,2, ⋯8} \n",
        " and X_{ij} = [x_{ij}] $ \n",
        "\n",
        "  "
      ],
      "metadata": {
        "id": "z-S8LmQEq3Cx"
      }
    },
    {
      "cell_type": "markdown",
      "source": [],
      "metadata": {
        "id": "5zxNp7tGxxDe"
      }
    },
    {
      "cell_type": "code",
      "source": [
        "data_csvfile = pd.read_csv('lab6_ex1_1.csv')"
      ],
      "metadata": {
        "id": "nctj-AnKZm2D"
      },
      "execution_count": null,
      "outputs": []
    },
    {
      "cell_type": "code",
      "source": [
        "data_csvfile.index"
      ],
      "metadata": {
        "colab": {
          "base_uri": "https://localhost:8080/"
        },
        "id": "AN64LhBHaoqK",
        "outputId": "bfccff40-c57d-4155-9a11-a4ee9b94d178"
      },
      "execution_count": null,
      "outputs": [
        {
          "output_type": "execute_result",
          "data": {
            "text/plain": [
              "RangeIndex(start=0, stop=9, step=1)"
            ]
          },
          "metadata": {},
          "execution_count": 6
        },
        {
          "output_type": "execute_result",
          "data": {
            "text/plain": [
              "RangeIndex(start=0, stop=9, step=1)"
            ]
          },
          "metadata": {},
          "execution_count": 45
        }
      ]
    },
    {
      "cell_type": "code",
      "source": [
        "model=ConcreteModel()"
      ],
      "metadata": {
        "id": "mwZjT-Klar3Q"
      },
      "execution_count": null,
      "outputs": []
    },
    {
      "cell_type": "code",
      "source": [
        "M = len(data_csvfile.index)-1  \n",
        "print('warehouses: ',M)"
      ],
      "metadata": {
        "colab": {
          "base_uri": "https://localhost:8080/"
        },
        "id": "n7JWVo4xa4Qz",
        "outputId": "d92f02ef-9915-484d-f764-76cd4efab38d"
      },
      "execution_count": null,
      "outputs": [
        {
          "output_type": "stream",
          "name": "stdout",
          "text": [
            "warehouses:  8\n",
            "warehouses:  8\n"
          ]
        }
      ]
    },
    {
      "cell_type": "code",
      "source": [
        "N = len(data_csvfile.columns)-2 \n",
        "print('markets: ',N)"
      ],
      "metadata": {
        "colab": {
          "base_uri": "https://localhost:8080/"
        },
        "id": "rqbgWMKbbDnF",
        "outputId": "74bf42f6-a08f-4353-de82-3c55c0830036"
      },
      "execution_count": null,
      "outputs": [
        {
          "output_type": "stream",
          "name": "stdout",
          "text": [
            "markets:  8\n",
            "markets:  8\n"
          ]
        }
      ]
    },
    {
      "cell_type": "code",
      "source": [
        "row_indices = range(M)\n",
        "col_indices = range(N)\n"
      ],
      "metadata": {
        "id": "CuRc0v4LbNL6"
      },
      "execution_count": null,
      "outputs": []
    },
    {
      "cell_type": "code",
      "source": [
        "for row_idx in row_indices:\n",
        "  for col_idx in col_indices:\n",
        "    print('cost[',row_idx,'][',col_idx+1,']:',data_csvfile.iloc[row_idx, col_idx+1])"
      ],
      "metadata": {
        "colab": {
          "base_uri": "https://localhost:8080/"
        },
        "id": "VwWbQ7oebQUa",
        "outputId": "e161258a-5f74-41dd-aea4-bae2a03caf67"
      },
      "execution_count": null,
      "outputs": [
        {
          "output_type": "stream",
          "name": "stdout",
          "text": [
            "cost[ 0 ][ 1 ]: 827\n",
            "cost[ 0 ][ 2 ]: 817\n",
            "cost[ 0 ][ 3 ]: 1470\n",
            "cost[ 0 ][ 4 ]: 2272\n",
            "cost[ 0 ][ 5 ]: 1615\n",
            "cost[ 0 ][ 6 ]: 3143\n",
            "cost[ 0 ][ 7 ]: 1264\n",
            "cost[ 0 ][ 8 ]: 4465\n",
            "cost[ 1 ][ 1 ]: 559\n",
            "cost[ 1 ][ 2 ]: 1832\n",
            "cost[ 1 ][ 3 ]: 751\n",
            "cost[ 1 ][ 4 ]: 3772\n",
            "cost[ 1 ][ 5 ]: 637\n",
            "cost[ 1 ][ 6 ]: 3773\n",
            "cost[ 1 ][ 7 ]: 1856\n",
            "cost[ 1 ][ 8 ]: 5459\n",
            "cost[ 2 ][ 1 ]: 1109\n",
            "cost[ 2 ][ 2 ]: 2443\n",
            "cost[ 2 ][ 3 ]: 577\n",
            "cost[ 2 ][ 4 ]: 3865\n",
            "cost[ 2 ][ 5 ]: 798\n",
            "cost[ 2 ][ 6 ]: 3521\n",
            "cost[ 2 ][ 7 ]: 1984\n",
            "cost[ 2 ][ 8 ]: 5303\n",
            "cost[ 3 ][ 1 ]: 2943\n",
            "cost[ 3 ][ 2 ]: 1471\n",
            "cost[ 3 ][ 3 ]: 4676\n",
            "cost[ 3 ][ 4 ]: 1337\n",
            "cost[ 3 ][ 5 ]: 2702\n",
            "cost[ 3 ][ 6 ]: 2741\n",
            "cost[ 3 ][ 7 ]: 2482\n",
            "cost[ 3 ][ 8 ]: 4148\n",
            "cost[ 4 ][ 1 ]: 3742\n",
            "cost[ 4 ][ 2 ]: 3089\n",
            "cost[ 4 ][ 3 ]: 2931\n",
            "cost[ 4 ][ 4 ]: 3199\n",
            "cost[ 4 ][ 5 ]: 2226\n",
            "cost[ 4 ][ 6 ]: 1739\n",
            "cost[ 4 ][ 7 ]: 1691\n",
            "cost[ 4 ][ 8 ]: 2128\n",
            "cost[ 5 ][ 1 ]: 2353\n",
            "cost[ 5 ][ 2 ]: 1160\n",
            "cost[ 5 ][ 3 ]: 3295\n",
            "cost[ 5 ][ 4 ]: 368\n",
            "cost[ 5 ][ 5 ]: 2369\n",
            "cost[ 5 ][ 6 ]: 2365\n",
            "cost[ 5 ][ 7 ]: 1293\n",
            "cost[ 5 ][ 8 ]: 3642\n",
            "cost[ 6 ][ 1 ]: 1356\n",
            "cost[ 6 ][ 2 ]: 1617\n",
            "cost[ 6 ][ 3 ]: 2045\n",
            "cost[ 6 ][ 4 ]: 2941\n",
            "cost[ 6 ][ 5 ]: 2334\n",
            "cost[ 6 ][ 6 ]: 4151\n",
            "cost[ 6 ][ 7 ]: 1937\n",
            "cost[ 6 ][ 8 ]: 4287\n",
            "cost[ 7 ][ 1 ]: 195\n",
            "cost[ 7 ][ 2 ]: 1862\n",
            "cost[ 7 ][ 3 ]: 1331\n",
            "cost[ 7 ][ 4 ]: 2921\n",
            "cost[ 7 ][ 5 ]: 402\n",
            "cost[ 7 ][ 6 ]: 2825\n",
            "cost[ 7 ][ 7 ]: 563\n",
            "cost[ 7 ][ 8 ]: 4441\n",
            "cost[ 0 ][ 1 ]: 827\n",
            "cost[ 0 ][ 2 ]: 817\n",
            "cost[ 0 ][ 3 ]: 1470\n",
            "cost[ 0 ][ 4 ]: 2272\n",
            "cost[ 0 ][ 5 ]: 1615\n",
            "cost[ 0 ][ 6 ]: 3143\n",
            "cost[ 0 ][ 7 ]: 1264\n",
            "cost[ 0 ][ 8 ]: 4465\n",
            "cost[ 1 ][ 1 ]: 559\n",
            "cost[ 1 ][ 2 ]: 1832\n",
            "cost[ 1 ][ 3 ]: 751\n",
            "cost[ 1 ][ 4 ]: 3772\n",
            "cost[ 1 ][ 5 ]: 637\n",
            "cost[ 1 ][ 6 ]: 3773\n",
            "cost[ 1 ][ 7 ]: 1856\n",
            "cost[ 1 ][ 8 ]: 5459\n",
            "cost[ 2 ][ 1 ]: 1109\n",
            "cost[ 2 ][ 2 ]: 2443\n",
            "cost[ 2 ][ 3 ]: 577\n",
            "cost[ 2 ][ 4 ]: 3865\n",
            "cost[ 2 ][ 5 ]: 798\n",
            "cost[ 2 ][ 6 ]: 3521\n",
            "cost[ 2 ][ 7 ]: 1984\n",
            "cost[ 2 ][ 8 ]: 5303\n",
            "cost[ 3 ][ 1 ]: 2943\n",
            "cost[ 3 ][ 2 ]: 1471\n",
            "cost[ 3 ][ 3 ]: 4676\n",
            "cost[ 3 ][ 4 ]: 1337\n",
            "cost[ 3 ][ 5 ]: 2702\n",
            "cost[ 3 ][ 6 ]: 2741\n",
            "cost[ 3 ][ 7 ]: 2482\n",
            "cost[ 3 ][ 8 ]: 4148\n",
            "cost[ 4 ][ 1 ]: 3742\n",
            "cost[ 4 ][ 2 ]: 3089\n",
            "cost[ 4 ][ 3 ]: 2931\n",
            "cost[ 4 ][ 4 ]: 3199\n",
            "cost[ 4 ][ 5 ]: 2226\n",
            "cost[ 4 ][ 6 ]: 1739\n",
            "cost[ 4 ][ 7 ]: 1691\n",
            "cost[ 4 ][ 8 ]: 2128\n",
            "cost[ 5 ][ 1 ]: 2353\n",
            "cost[ 5 ][ 2 ]: 1160\n",
            "cost[ 5 ][ 3 ]: 3295\n",
            "cost[ 5 ][ 4 ]: 368\n",
            "cost[ 5 ][ 5 ]: 2369\n",
            "cost[ 5 ][ 6 ]: 2365\n",
            "cost[ 5 ][ 7 ]: 1293\n",
            "cost[ 5 ][ 8 ]: 3642\n",
            "cost[ 6 ][ 1 ]: 1356\n",
            "cost[ 6 ][ 2 ]: 1617\n",
            "cost[ 6 ][ 3 ]: 2045\n",
            "cost[ 6 ][ 4 ]: 2941\n",
            "cost[ 6 ][ 5 ]: 2334\n",
            "cost[ 6 ][ 6 ]: 4151\n",
            "cost[ 6 ][ 7 ]: 1937\n",
            "cost[ 6 ][ 8 ]: 4287\n",
            "cost[ 7 ][ 1 ]: 195\n",
            "cost[ 7 ][ 2 ]: 1862\n",
            "cost[ 7 ][ 3 ]: 1331\n",
            "cost[ 7 ][ 4 ]: 2921\n",
            "cost[ 7 ][ 5 ]: 402\n",
            "cost[ 7 ][ 6 ]: 2825\n",
            "cost[ 7 ][ 7 ]: 563\n",
            "cost[ 7 ][ 8 ]: 4441\n"
          ]
        }
      ]
    },
    {
      "cell_type": "code",
      "source": [
        " model.x=Var(row_indices, col_indices, domain= NonNegativeReals)"
      ],
      "metadata": {
        "id": "pCT0KZcUbh3f"
      },
      "execution_count": null,
      "outputs": []
    },
    {
      "cell_type": "code",
      "source": [
        "model.objective = Objective(expr=sum(data_csvfile.iloc[i,j+1]*model.x[i,j] for i in row_indices for j in col_indices),sense=minimize)"
      ],
      "metadata": {
        "id": "ZPfQdL79eB-Z"
      },
      "execution_count": null,
      "outputs": []
    },
    {
      "cell_type": "code",
      "source": [
        "model.constraints=ConstraintList()"
      ],
      "metadata": {
        "id": "1SBNERTsbvkt"
      },
      "execution_count": null,
      "outputs": []
    },
    {
      "cell_type": "code",
      "source": [
        "for i in range(8):\n",
        "  model.constraints.add(expr=sum(model.x[i,j] for j in col_indices) <= data_csvfile.iloc[i,N+1]) "
      ],
      "metadata": {
        "id": "p60iUK1UcH1o"
      },
      "execution_count": null,
      "outputs": []
    },
    {
      "cell_type": "code",
      "source": [
        "for j in range(8):\n",
        "  model.constraints.add(expr=sum(model.x[i,j] for i in row_indices) == data_csvfile.iloc[M,j+1])"
      ],
      "metadata": {
        "id": "qldYCBdRdQv8"
      },
      "execution_count": null,
      "outputs": []
    },
    {
      "cell_type": "code",
      "source": [
        "model.pprint()"
      ],
      "metadata": {
        "colab": {
          "base_uri": "https://localhost:8080/"
        },
        "id": "3WAg7vYyd0G1",
        "outputId": "a9c91729-d698-4303-e7e9-f4d083534827"
      },
      "execution_count": null,
      "outputs": [
        {
          "output_type": "stream",
          "name": "stdout",
          "text": [
            "4 Set Declarations\n",
            "    constraints_index : Size=1, Index=None, Ordered=Insertion\n",
            "        Key  : Dimen : Domain : Size : Members\n",
            "        None :     1 :    Any :   16 : {1, 2, 3, 4, 5, 6, 7, 8, 9, 10, 11, 12, 13, 14, 15, 16}\n",
            "    x_index : Size=1, Index=None, Ordered=True\n",
            "        Key  : Dimen : Domain              : Size : Members\n",
            "        None :     2 : x_index_0*x_index_1 :   64 : {(0, 0), (0, 1), (0, 2), (0, 3), (0, 4), (0, 5), (0, 6), (0, 7), (1, 0), (1, 1), (1, 2), (1, 3), (1, 4), (1, 5), (1, 6), (1, 7), (2, 0), (2, 1), (2, 2), (2, 3), (2, 4), (2, 5), (2, 6), (2, 7), (3, 0), (3, 1), (3, 2), (3, 3), (3, 4), (3, 5), (3, 6), (3, 7), (4, 0), (4, 1), (4, 2), (4, 3), (4, 4), (4, 5), (4, 6), (4, 7), (5, 0), (5, 1), (5, 2), (5, 3), (5, 4), (5, 5), (5, 6), (5, 7), (6, 0), (6, 1), (6, 2), (6, 3), (6, 4), (6, 5), (6, 6), (6, 7), (7, 0), (7, 1), (7, 2), (7, 3), (7, 4), (7, 5), (7, 6), (7, 7)}\n",
            "    x_index_0 : Size=1, Index=None, Ordered=Insertion\n",
            "        Key  : Dimen : Domain : Size : Members\n",
            "        None :     1 :    Any :    8 : {0, 1, 2, 3, 4, 5, 6, 7}\n",
            "    x_index_1 : Size=1, Index=None, Ordered=Insertion\n",
            "        Key  : Dimen : Domain : Size : Members\n",
            "        None :     1 :    Any :    8 : {0, 1, 2, 3, 4, 5, 6, 7}\n",
            "\n",
            "1 Var Declarations\n",
            "    x : Size=64, Index=x_index\n",
            "        Key    : Lower : Value : Upper : Fixed : Stale : Domain\n",
            "        (0, 0) :     0 :  None :  None : False :  True : NonNegativeReals\n",
            "        (0, 1) :     0 :  None :  None : False :  True : NonNegativeReals\n",
            "        (0, 2) :     0 :  None :  None : False :  True : NonNegativeReals\n",
            "        (0, 3) :     0 :  None :  None : False :  True : NonNegativeReals\n",
            "        (0, 4) :     0 :  None :  None : False :  True : NonNegativeReals\n",
            "        (0, 5) :     0 :  None :  None : False :  True : NonNegativeReals\n",
            "        (0, 6) :     0 :  None :  None : False :  True : NonNegativeReals\n",
            "        (0, 7) :     0 :  None :  None : False :  True : NonNegativeReals\n",
            "        (1, 0) :     0 :  None :  None : False :  True : NonNegativeReals\n",
            "        (1, 1) :     0 :  None :  None : False :  True : NonNegativeReals\n",
            "        (1, 2) :     0 :  None :  None : False :  True : NonNegativeReals\n",
            "        (1, 3) :     0 :  None :  None : False :  True : NonNegativeReals\n",
            "        (1, 4) :     0 :  None :  None : False :  True : NonNegativeReals\n",
            "        (1, 5) :     0 :  None :  None : False :  True : NonNegativeReals\n",
            "        (1, 6) :     0 :  None :  None : False :  True : NonNegativeReals\n",
            "        (1, 7) :     0 :  None :  None : False :  True : NonNegativeReals\n",
            "        (2, 0) :     0 :  None :  None : False :  True : NonNegativeReals\n",
            "        (2, 1) :     0 :  None :  None : False :  True : NonNegativeReals\n",
            "        (2, 2) :     0 :  None :  None : False :  True : NonNegativeReals\n",
            "        (2, 3) :     0 :  None :  None : False :  True : NonNegativeReals\n",
            "        (2, 4) :     0 :  None :  None : False :  True : NonNegativeReals\n",
            "        (2, 5) :     0 :  None :  None : False :  True : NonNegativeReals\n",
            "        (2, 6) :     0 :  None :  None : False :  True : NonNegativeReals\n",
            "        (2, 7) :     0 :  None :  None : False :  True : NonNegativeReals\n",
            "        (3, 0) :     0 :  None :  None : False :  True : NonNegativeReals\n",
            "        (3, 1) :     0 :  None :  None : False :  True : NonNegativeReals\n",
            "        (3, 2) :     0 :  None :  None : False :  True : NonNegativeReals\n",
            "        (3, 3) :     0 :  None :  None : False :  True : NonNegativeReals\n",
            "        (3, 4) :     0 :  None :  None : False :  True : NonNegativeReals\n",
            "        (3, 5) :     0 :  None :  None : False :  True : NonNegativeReals\n",
            "        (3, 6) :     0 :  None :  None : False :  True : NonNegativeReals\n",
            "        (3, 7) :     0 :  None :  None : False :  True : NonNegativeReals\n",
            "        (4, 0) :     0 :  None :  None : False :  True : NonNegativeReals\n",
            "        (4, 1) :     0 :  None :  None : False :  True : NonNegativeReals\n",
            "        (4, 2) :     0 :  None :  None : False :  True : NonNegativeReals\n",
            "        (4, 3) :     0 :  None :  None : False :  True : NonNegativeReals\n",
            "        (4, 4) :     0 :  None :  None : False :  True : NonNegativeReals\n",
            "        (4, 5) :     0 :  None :  None : False :  True : NonNegativeReals\n",
            "        (4, 6) :     0 :  None :  None : False :  True : NonNegativeReals\n",
            "        (4, 7) :     0 :  None :  None : False :  True : NonNegativeReals\n",
            "        (5, 0) :     0 :  None :  None : False :  True : NonNegativeReals\n",
            "        (5, 1) :     0 :  None :  None : False :  True : NonNegativeReals\n",
            "        (5, 2) :     0 :  None :  None : False :  True : NonNegativeReals\n",
            "        (5, 3) :     0 :  None :  None : False :  True : NonNegativeReals\n",
            "        (5, 4) :     0 :  None :  None : False :  True : NonNegativeReals\n",
            "        (5, 5) :     0 :  None :  None : False :  True : NonNegativeReals\n",
            "        (5, 6) :     0 :  None :  None : False :  True : NonNegativeReals\n",
            "        (5, 7) :     0 :  None :  None : False :  True : NonNegativeReals\n",
            "        (6, 0) :     0 :  None :  None : False :  True : NonNegativeReals\n",
            "        (6, 1) :     0 :  None :  None : False :  True : NonNegativeReals\n",
            "        (6, 2) :     0 :  None :  None : False :  True : NonNegativeReals\n",
            "        (6, 3) :     0 :  None :  None : False :  True : NonNegativeReals\n",
            "        (6, 4) :     0 :  None :  None : False :  True : NonNegativeReals\n",
            "        (6, 5) :     0 :  None :  None : False :  True : NonNegativeReals\n",
            "        (6, 6) :     0 :  None :  None : False :  True : NonNegativeReals\n",
            "        (6, 7) :     0 :  None :  None : False :  True : NonNegativeReals\n",
            "        (7, 0) :     0 :  None :  None : False :  True : NonNegativeReals\n",
            "        (7, 1) :     0 :  None :  None : False :  True : NonNegativeReals\n",
            "        (7, 2) :     0 :  None :  None : False :  True : NonNegativeReals\n",
            "        (7, 3) :     0 :  None :  None : False :  True : NonNegativeReals\n",
            "        (7, 4) :     0 :  None :  None : False :  True : NonNegativeReals\n",
            "        (7, 5) :     0 :  None :  None : False :  True : NonNegativeReals\n",
            "        (7, 6) :     0 :  None :  None : False :  True : NonNegativeReals\n",
            "        (7, 7) :     0 :  None :  None : False :  True : NonNegativeReals\n",
            "\n",
            "1 Objective Declarations\n",
            "    objective : Size=1, Index=None, Active=True\n",
            "        Key  : Active : Sense    : Expression\n",
            "        None :   True : minimize : 827*x[0,0] + 817*x[0,1] + 1470*x[0,2] + 2272*x[0,3] + 1615*x[0,4] + 3143*x[0,5] + 1264*x[0,6] + 4465*x[0,7] + 559*x[1,0] + 1832*x[1,1] + 751*x[1,2] + 3772*x[1,3] + 637*x[1,4] + 3773*x[1,5] + 1856*x[1,6] + 5459*x[1,7] + 1109*x[2,0] + 2443*x[2,1] + 577*x[2,2] + 3865*x[2,3] + 798*x[2,4] + 3521*x[2,5] + 1984*x[2,6] + 5303*x[2,7] + 2943*x[3,0] + 1471*x[3,1] + 4676*x[3,2] + 1337*x[3,3] + 2702*x[3,4] + 2741*x[3,5] + 2482*x[3,6] + 4148*x[3,7] + 3742*x[4,0] + 3089*x[4,1] + 2931*x[4,2] + 3199*x[4,3] + 2226*x[4,4] + 1739*x[4,5] + 1691*x[4,6] + 2128*x[4,7] + 2353*x[5,0] + 1160*x[5,1] + 3295*x[5,2] + 368*x[5,3] + 2369*x[5,4] + 2365*x[5,5] + 1293*x[5,6] + 3642*x[5,7] + 1356*x[6,0] + 1617*x[6,1] + 2045*x[6,2] + 2941*x[6,3] + 2334*x[6,4] + 4151*x[6,5] + 1937*x[6,6] + 4287*x[6,7] + 195*x[7,0] + 1862*x[7,1] + 1331*x[7,2] + 2921*x[7,3] + 402*x[7,4] + 2825*x[7,5] + 563*x[7,6] + 4441*x[7,7]\n",
            "\n",
            "1 Constraint Declarations\n",
            "    constraints : Size=16, Index=constraints_index, Active=True\n",
            "        Key : Lower : Body                                                                  : Upper : Active\n",
            "          1 :  -Inf : x[0,0] + x[0,1] + x[0,2] + x[0,3] + x[0,4] + x[0,5] + x[0,6] + x[0,7] : 350.0 :   True\n",
            "          2 :  -Inf : x[1,0] + x[1,1] + x[1,2] + x[1,3] + x[1,4] + x[1,5] + x[1,6] + x[1,7] : 185.0 :   True\n",
            "          3 :  -Inf : x[2,0] + x[2,1] + x[2,2] + x[2,3] + x[2,4] + x[2,5] + x[2,6] + x[2,7] : 305.0 :   True\n",
            "          4 :  -Inf : x[3,0] + x[3,1] + x[3,2] + x[3,3] + x[3,4] + x[3,5] + x[3,6] + x[3,7] : 180.0 :   True\n",
            "          5 :  -Inf : x[4,0] + x[4,1] + x[4,2] + x[4,3] + x[4,4] + x[4,5] + x[4,6] + x[4,7] : 205.0 :   True\n",
            "          6 :  -Inf : x[5,0] + x[5,1] + x[5,2] + x[5,3] + x[5,4] + x[5,5] + x[5,6] + x[5,7] : 175.0 :   True\n",
            "          7 :  -Inf : x[6,0] + x[6,1] + x[6,2] + x[6,3] + x[6,4] + x[6,5] + x[6,6] + x[6,7] : 325.0 :   True\n",
            "          8 :  -Inf : x[7,0] + x[7,1] + x[7,2] + x[7,3] + x[7,4] + x[7,5] + x[7,6] + x[7,7] : 370.0 :   True\n",
            "          9 : 205.0 : x[0,0] + x[1,0] + x[2,0] + x[3,0] + x[4,0] + x[5,0] + x[6,0] + x[7,0] : 205.0 :   True\n",
            "         10 : 300.0 : x[0,1] + x[1,1] + x[2,1] + x[3,1] + x[4,1] + x[5,1] + x[6,1] + x[7,1] : 300.0 :   True\n",
            "         11 : 425.0 : x[0,2] + x[1,2] + x[2,2] + x[3,2] + x[4,2] + x[5,2] + x[6,2] + x[7,2] : 425.0 :   True\n",
            "         12 : 270.0 : x[0,3] + x[1,3] + x[2,3] + x[3,3] + x[4,3] + x[5,3] + x[6,3] + x[7,3] : 270.0 :   True\n",
            "         13 : 375.0 : x[0,4] + x[1,4] + x[2,4] + x[3,4] + x[4,4] + x[5,4] + x[6,4] + x[7,4] : 375.0 :   True\n",
            "         14 : 225.0 : x[0,5] + x[1,5] + x[2,5] + x[3,5] + x[4,5] + x[5,5] + x[6,5] + x[7,5] : 225.0 :   True\n",
            "         15 : 185.0 : x[0,6] + x[1,6] + x[2,6] + x[3,6] + x[4,6] + x[5,6] + x[6,6] + x[7,6] : 185.0 :   True\n",
            "         16 : 110.0 : x[0,7] + x[1,7] + x[2,7] + x[3,7] + x[4,7] + x[5,7] + x[6,7] + x[7,7] : 110.0 :   True\n",
            "\n",
            "7 Declarations: x_index_0 x_index_1 x_index x objective constraints_index constraints\n",
            "4 Set Declarations\n",
            "    constraints_index : Size=1, Index=None, Ordered=Insertion\n",
            "        Key  : Dimen : Domain : Size : Members\n",
            "        None :     1 :    Any :   16 : {1, 2, 3, 4, 5, 6, 7, 8, 9, 10, 11, 12, 13, 14, 15, 16}\n",
            "    x_index : Size=1, Index=None, Ordered=True\n",
            "        Key  : Dimen : Domain              : Size : Members\n",
            "        None :     2 : x_index_0*x_index_1 :   64 : {(0, 0), (0, 1), (0, 2), (0, 3), (0, 4), (0, 5), (0, 6), (0, 7), (1, 0), (1, 1), (1, 2), (1, 3), (1, 4), (1, 5), (1, 6), (1, 7), (2, 0), (2, 1), (2, 2), (2, 3), (2, 4), (2, 5), (2, 6), (2, 7), (3, 0), (3, 1), (3, 2), (3, 3), (3, 4), (3, 5), (3, 6), (3, 7), (4, 0), (4, 1), (4, 2), (4, 3), (4, 4), (4, 5), (4, 6), (4, 7), (5, 0), (5, 1), (5, 2), (5, 3), (5, 4), (5, 5), (5, 6), (5, 7), (6, 0), (6, 1), (6, 2), (6, 3), (6, 4), (6, 5), (6, 6), (6, 7), (7, 0), (7, 1), (7, 2), (7, 3), (7, 4), (7, 5), (7, 6), (7, 7)}\n",
            "    x_index_0 : Size=1, Index=None, Ordered=Insertion\n",
            "        Key  : Dimen : Domain : Size : Members\n",
            "        None :     1 :    Any :    8 : {0, 1, 2, 3, 4, 5, 6, 7}\n",
            "    x_index_1 : Size=1, Index=None, Ordered=Insertion\n",
            "        Key  : Dimen : Domain : Size : Members\n",
            "        None :     1 :    Any :    8 : {0, 1, 2, 3, 4, 5, 6, 7}\n",
            "\n",
            "1 Var Declarations\n",
            "    x : Size=64, Index=x_index\n",
            "        Key    : Lower : Value : Upper : Fixed : Stale : Domain\n",
            "        (0, 0) :     0 :  None :  None : False :  True : NonNegativeReals\n",
            "        (0, 1) :     0 :  None :  None : False :  True : NonNegativeReals\n",
            "        (0, 2) :     0 :  None :  None : False :  True : NonNegativeReals\n",
            "        (0, 3) :     0 :  None :  None : False :  True : NonNegativeReals\n",
            "        (0, 4) :     0 :  None :  None : False :  True : NonNegativeReals\n",
            "        (0, 5) :     0 :  None :  None : False :  True : NonNegativeReals\n",
            "        (0, 6) :     0 :  None :  None : False :  True : NonNegativeReals\n",
            "        (0, 7) :     0 :  None :  None : False :  True : NonNegativeReals\n",
            "        (1, 0) :     0 :  None :  None : False :  True : NonNegativeReals\n",
            "        (1, 1) :     0 :  None :  None : False :  True : NonNegativeReals\n",
            "        (1, 2) :     0 :  None :  None : False :  True : NonNegativeReals\n",
            "        (1, 3) :     0 :  None :  None : False :  True : NonNegativeReals\n",
            "        (1, 4) :     0 :  None :  None : False :  True : NonNegativeReals\n",
            "        (1, 5) :     0 :  None :  None : False :  True : NonNegativeReals\n",
            "        (1, 6) :     0 :  None :  None : False :  True : NonNegativeReals\n",
            "        (1, 7) :     0 :  None :  None : False :  True : NonNegativeReals\n",
            "        (2, 0) :     0 :  None :  None : False :  True : NonNegativeReals\n",
            "        (2, 1) :     0 :  None :  None : False :  True : NonNegativeReals\n",
            "        (2, 2) :     0 :  None :  None : False :  True : NonNegativeReals\n",
            "        (2, 3) :     0 :  None :  None : False :  True : NonNegativeReals\n",
            "        (2, 4) :     0 :  None :  None : False :  True : NonNegativeReals\n",
            "        (2, 5) :     0 :  None :  None : False :  True : NonNegativeReals\n",
            "        (2, 6) :     0 :  None :  None : False :  True : NonNegativeReals\n",
            "        (2, 7) :     0 :  None :  None : False :  True : NonNegativeReals\n",
            "        (3, 0) :     0 :  None :  None : False :  True : NonNegativeReals\n",
            "        (3, 1) :     0 :  None :  None : False :  True : NonNegativeReals\n",
            "        (3, 2) :     0 :  None :  None : False :  True : NonNegativeReals\n",
            "        (3, 3) :     0 :  None :  None : False :  True : NonNegativeReals\n",
            "        (3, 4) :     0 :  None :  None : False :  True : NonNegativeReals\n",
            "        (3, 5) :     0 :  None :  None : False :  True : NonNegativeReals\n",
            "        (3, 6) :     0 :  None :  None : False :  True : NonNegativeReals\n",
            "        (3, 7) :     0 :  None :  None : False :  True : NonNegativeReals\n",
            "        (4, 0) :     0 :  None :  None : False :  True : NonNegativeReals\n",
            "        (4, 1) :     0 :  None :  None : False :  True : NonNegativeReals\n",
            "        (4, 2) :     0 :  None :  None : False :  True : NonNegativeReals\n",
            "        (4, 3) :     0 :  None :  None : False :  True : NonNegativeReals\n",
            "        (4, 4) :     0 :  None :  None : False :  True : NonNegativeReals\n",
            "        (4, 5) :     0 :  None :  None : False :  True : NonNegativeReals\n",
            "        (4, 6) :     0 :  None :  None : False :  True : NonNegativeReals\n",
            "        (4, 7) :     0 :  None :  None : False :  True : NonNegativeReals\n",
            "        (5, 0) :     0 :  None :  None : False :  True : NonNegativeReals\n",
            "        (5, 1) :     0 :  None :  None : False :  True : NonNegativeReals\n",
            "        (5, 2) :     0 :  None :  None : False :  True : NonNegativeReals\n",
            "        (5, 3) :     0 :  None :  None : False :  True : NonNegativeReals\n",
            "        (5, 4) :     0 :  None :  None : False :  True : NonNegativeReals\n",
            "        (5, 5) :     0 :  None :  None : False :  True : NonNegativeReals\n",
            "        (5, 6) :     0 :  None :  None : False :  True : NonNegativeReals\n",
            "        (5, 7) :     0 :  None :  None : False :  True : NonNegativeReals\n",
            "        (6, 0) :     0 :  None :  None : False :  True : NonNegativeReals\n",
            "        (6, 1) :     0 :  None :  None : False :  True : NonNegativeReals\n",
            "        (6, 2) :     0 :  None :  None : False :  True : NonNegativeReals\n",
            "        (6, 3) :     0 :  None :  None : False :  True : NonNegativeReals\n",
            "        (6, 4) :     0 :  None :  None : False :  True : NonNegativeReals\n",
            "        (6, 5) :     0 :  None :  None : False :  True : NonNegativeReals\n",
            "        (6, 6) :     0 :  None :  None : False :  True : NonNegativeReals\n",
            "        (6, 7) :     0 :  None :  None : False :  True : NonNegativeReals\n",
            "        (7, 0) :     0 :  None :  None : False :  True : NonNegativeReals\n",
            "        (7, 1) :     0 :  None :  None : False :  True : NonNegativeReals\n",
            "        (7, 2) :     0 :  None :  None : False :  True : NonNegativeReals\n",
            "        (7, 3) :     0 :  None :  None : False :  True : NonNegativeReals\n",
            "        (7, 4) :     0 :  None :  None : False :  True : NonNegativeReals\n",
            "        (7, 5) :     0 :  None :  None : False :  True : NonNegativeReals\n",
            "        (7, 6) :     0 :  None :  None : False :  True : NonNegativeReals\n",
            "        (7, 7) :     0 :  None :  None : False :  True : NonNegativeReals\n",
            "\n",
            "1 Objective Declarations\n",
            "    objective : Size=1, Index=None, Active=True\n",
            "        Key  : Active : Sense    : Expression\n",
            "        None :   True : minimize : 827*x[0,0] + 817*x[0,1] + 1470*x[0,2] + 2272*x[0,3] + 1615*x[0,4] + 3143*x[0,5] + 1264*x[0,6] + 4465*x[0,7] + 559*x[1,0] + 1832*x[1,1] + 751*x[1,2] + 3772*x[1,3] + 637*x[1,4] + 3773*x[1,5] + 1856*x[1,6] + 5459*x[1,7] + 1109*x[2,0] + 2443*x[2,1] + 577*x[2,2] + 3865*x[2,3] + 798*x[2,4] + 3521*x[2,5] + 1984*x[2,6] + 5303*x[2,7] + 2943*x[3,0] + 1471*x[3,1] + 4676*x[3,2] + 1337*x[3,3] + 2702*x[3,4] + 2741*x[3,5] + 2482*x[3,6] + 4148*x[3,7] + 3742*x[4,0] + 3089*x[4,1] + 2931*x[4,2] + 3199*x[4,3] + 2226*x[4,4] + 1739*x[4,5] + 1691*x[4,6] + 2128*x[4,7] + 2353*x[5,0] + 1160*x[5,1] + 3295*x[5,2] + 368*x[5,3] + 2369*x[5,4] + 2365*x[5,5] + 1293*x[5,6] + 3642*x[5,7] + 1356*x[6,0] + 1617*x[6,1] + 2045*x[6,2] + 2941*x[6,3] + 2334*x[6,4] + 4151*x[6,5] + 1937*x[6,6] + 4287*x[6,7] + 195*x[7,0] + 1862*x[7,1] + 1331*x[7,2] + 2921*x[7,3] + 402*x[7,4] + 2825*x[7,5] + 563*x[7,6] + 4441*x[7,7]\n",
            "\n",
            "1 Constraint Declarations\n",
            "    constraints : Size=16, Index=constraints_index, Active=True\n",
            "        Key : Lower : Body                                                                  : Upper : Active\n",
            "          1 :  -Inf : x[0,0] + x[0,1] + x[0,2] + x[0,3] + x[0,4] + x[0,5] + x[0,6] + x[0,7] : 350.0 :   True\n",
            "          2 :  -Inf : x[1,0] + x[1,1] + x[1,2] + x[1,3] + x[1,4] + x[1,5] + x[1,6] + x[1,7] : 185.0 :   True\n",
            "          3 :  -Inf : x[2,0] + x[2,1] + x[2,2] + x[2,3] + x[2,4] + x[2,5] + x[2,6] + x[2,7] : 305.0 :   True\n",
            "          4 :  -Inf : x[3,0] + x[3,1] + x[3,2] + x[3,3] + x[3,4] + x[3,5] + x[3,6] + x[3,7] : 180.0 :   True\n",
            "          5 :  -Inf : x[4,0] + x[4,1] + x[4,2] + x[4,3] + x[4,4] + x[4,5] + x[4,6] + x[4,7] : 205.0 :   True\n",
            "          6 :  -Inf : x[5,0] + x[5,1] + x[5,2] + x[5,3] + x[5,4] + x[5,5] + x[5,6] + x[5,7] : 175.0 :   True\n",
            "          7 :  -Inf : x[6,0] + x[6,1] + x[6,2] + x[6,3] + x[6,4] + x[6,5] + x[6,6] + x[6,7] : 325.0 :   True\n",
            "          8 :  -Inf : x[7,0] + x[7,1] + x[7,2] + x[7,3] + x[7,4] + x[7,5] + x[7,6] + x[7,7] : 370.0 :   True\n",
            "          9 : 205.0 : x[0,0] + x[1,0] + x[2,0] + x[3,0] + x[4,0] + x[5,0] + x[6,0] + x[7,0] : 205.0 :   True\n",
            "         10 : 300.0 : x[0,1] + x[1,1] + x[2,1] + x[3,1] + x[4,1] + x[5,1] + x[6,1] + x[7,1] : 300.0 :   True\n",
            "         11 : 425.0 : x[0,2] + x[1,2] + x[2,2] + x[3,2] + x[4,2] + x[5,2] + x[6,2] + x[7,2] : 425.0 :   True\n",
            "         12 : 270.0 : x[0,3] + x[1,3] + x[2,3] + x[3,3] + x[4,3] + x[5,3] + x[6,3] + x[7,3] : 270.0 :   True\n",
            "         13 : 375.0 : x[0,4] + x[1,4] + x[2,4] + x[3,4] + x[4,4] + x[5,4] + x[6,4] + x[7,4] : 375.0 :   True\n",
            "         14 : 225.0 : x[0,5] + x[1,5] + x[2,5] + x[3,5] + x[4,5] + x[5,5] + x[6,5] + x[7,5] : 225.0 :   True\n",
            "         15 : 185.0 : x[0,6] + x[1,6] + x[2,6] + x[3,6] + x[4,6] + x[5,6] + x[6,6] + x[7,6] : 185.0 :   True\n",
            "         16 : 110.0 : x[0,7] + x[1,7] + x[2,7] + x[3,7] + x[4,7] + x[5,7] + x[6,7] + x[7,7] : 110.0 :   True\n",
            "\n",
            "7 Declarations: x_index_0 x_index_1 x_index x objective constraints_index constraints\n"
          ]
        }
      ]
    },
    {
      "cell_type": "code",
      "source": [
        "!apt-get install -y -qq coinor-cbc"
      ],
      "metadata": {
        "id": "bQ5xdhk7d4Sj"
      },
      "execution_count": null,
      "outputs": []
    },
    {
      "cell_type": "code",
      "source": [
        "opt_cbc = SolverFactory('cbc')"
      ],
      "metadata": {
        "id": "jyeo3G6Ye5Cu"
      },
      "execution_count": null,
      "outputs": []
    },
    {
      "cell_type": "code",
      "source": [
        "result = opt_cbc.solve(model)\n",
        "print('Solver status:', result.solver.status)\n",
        "print('Solver termination condition:',result.solver.termination_condition)"
      ],
      "metadata": {
        "colab": {
          "base_uri": "https://localhost:8080/"
        },
        "id": "T1eWEhhqe8Rf",
        "outputId": "3bae9ccf-aa52-44b8-dcc7-092362116fca"
      },
      "execution_count": null,
      "outputs": [
        {
          "output_type": "stream",
          "name": "stdout",
          "text": [
            "Solver status: ok\n",
            "Solver termination condition: optimal\n",
            "Solver status: ok\n",
            "Solver termination condition: optimal\n"
          ]
        }
      ]
    },
    {
      "cell_type": "code",
      "source": [
        "\n",
        "print('\\nObjective = ', model.objective())\n",
        "\n",
        "print('\\nDecision Variables')\n",
        "for i in row_indices:\n",
        "  for j in col_indices:\n",
        "    print('Num EV ',data_csvfile['Warehouses'][i],' and ', data_csvfile.columns[j+1],':', model.x[i,j].value)\n",
        "\n",
        "print('\\nConstraints')\n",
        "model.constraints.display()\n",
        "for i in row_indices:\n",
        "  for j in col_indices:\n",
        "    if model.x[i,j].value!=0:\n",
        "      print('Number of truck loads of EV',data_csvfile['Warehouses'][i],'and',data_csvfile.columns[j+1],':',model.x[i,j].value)"
      ],
      "metadata": {
        "colab": {
          "base_uri": "https://localhost:8080/"
        },
        "id": "VAn8rd-IfAtE",
        "outputId": "f93586ba-a87b-4658-8c48-0f2ec956b613"
      },
      "execution_count": null,
      "outputs": [
        {
          "output_type": "stream",
          "name": "stdout",
          "text": [
            "\n",
            "Objective =  2192870.0\n",
            "\n",
            "Decision Variables\n",
            "Num EV  Ahmedabad  and  Hassan : 0.0\n",
            "Num EV  Ahmedabad  and  Jodhpur : 300.0\n",
            "Num EV  Ahmedabad  and  Trichy : 0.0\n",
            "Num EV  Ahmedabad  and  Simla : 0.0\n",
            "Num EV  Ahmedabad  and  Vijayawada : 0.0\n",
            "Num EV  Ahmedabad  and  Dibrugarh : 45.0\n",
            "Num EV  Ahmedabad  and  Raipur : 5.0\n",
            "Num EV  Ahmedabad  and  Agartala : 0.0\n",
            "Num EV  Bengaluru  and  Hassan : 0.0\n",
            "Num EV  Bengaluru  and  Jodhpur : 0.0\n",
            "Num EV  Bengaluru  and  Trichy : 120.0\n",
            "Num EV  Bengaluru  and  Simla : 0.0\n",
            "Num EV  Bengaluru  and  Vijayawada : 65.0\n",
            "Num EV  Bengaluru  and  Dibrugarh : 0.0\n",
            "Num EV  Bengaluru  and  Raipur : 0.0\n",
            "Num EV  Bengaluru  and  Agartala : 0.0\n",
            "Num EV  Chennai  and  Hassan : 0.0\n",
            "Num EV  Chennai  and  Jodhpur : 0.0\n",
            "Num EV  Chennai  and  Trichy : 305.0\n",
            "Num EV  Chennai  and  Simla : 0.0\n",
            "Num EV  Chennai  and  Vijayawada : 0.0\n",
            "Num EV  Chennai  and  Dibrugarh : 0.0\n",
            "Num EV  Chennai  and  Raipur : 0.0\n",
            "Num EV  Chennai  and  Agartala : 0.0\n",
            "Num EV  Delhi  and  Hassan : 0.0\n",
            "Num EV  Delhi  and  Jodhpur : 0.0\n",
            "Num EV  Delhi  and  Trichy : 0.0\n",
            "Num EV  Delhi  and  Simla : 95.0\n",
            "Num EV  Delhi  and  Vijayawada : 0.0\n",
            "Num EV  Delhi  and  Dibrugarh : 85.0\n",
            "Num EV  Delhi  and  Raipur : 0.0\n",
            "Num EV  Delhi  and  Agartala : 0.0\n",
            "Num EV  Kolkata  and  Hassan : 0.0\n",
            "Num EV  Kolkata  and  Jodhpur : 0.0\n",
            "Num EV  Kolkata  and  Trichy : 0.0\n",
            "Num EV  Kolkata  and  Simla : 0.0\n",
            "Num EV  Kolkata  and  Vijayawada : 0.0\n",
            "Num EV  Kolkata  and  Dibrugarh : 95.0\n",
            "Num EV  Kolkata  and  Raipur : 0.0\n",
            "Num EV  Kolkata  and  Agartala : 110.0\n",
            "Num EV  Lucknow  and  Hassan : 0.0\n",
            "Num EV  Lucknow  and  Jodhpur : 0.0\n",
            "Num EV  Lucknow  and  Trichy : 0.0\n",
            "Num EV  Lucknow  and  Simla : 175.0\n",
            "Num EV  Lucknow  and  Vijayawada : 0.0\n",
            "Num EV  Lucknow  and  Dibrugarh : 0.0\n",
            "Num EV  Lucknow  and  Raipur : 0.0\n",
            "Num EV  Lucknow  and  Agartala : 0.0\n",
            "Num EV  Mumbai  and  Hassan : 205.0\n",
            "Num EV  Mumbai  and  Jodhpur : 0.0\n",
            "Num EV  Mumbai  and  Trichy : 0.0\n",
            "Num EV  Mumbai  and  Simla : 0.0\n",
            "Num EV  Mumbai  and  Vijayawada : 0.0\n",
            "Num EV  Mumbai  and  Dibrugarh : 0.0\n",
            "Num EV  Mumbai  and  Raipur : 120.0\n",
            "Num EV  Mumbai  and  Agartala : 0.0\n",
            "Num EV  Hyderabad  and  Hassan : 0.0\n",
            "Num EV  Hyderabad  and  Jodhpur : 0.0\n",
            "Num EV  Hyderabad  and  Trichy : 0.0\n",
            "Num EV  Hyderabad  and  Simla : 0.0\n",
            "Num EV  Hyderabad  and  Vijayawada : 310.0\n",
            "Num EV  Hyderabad  and  Dibrugarh : 0.0\n",
            "Num EV  Hyderabad  and  Raipur : 60.0\n",
            "Num EV  Hyderabad  and  Agartala : 0.0\n",
            "\n",
            "Constraints\n",
            "constraints : Size=16\n",
            "    Key : Lower : Body  : Upper\n",
            "      1 :  None : 350.0 : 350.0\n",
            "      2 :  None : 185.0 : 185.0\n",
            "      3 :  None : 305.0 : 305.0\n",
            "      4 :  None : 180.0 : 180.0\n",
            "      5 :  None : 205.0 : 205.0\n",
            "      6 :  None : 175.0 : 175.0\n",
            "      7 :  None : 325.0 : 325.0\n",
            "      8 :  None : 370.0 : 370.0\n",
            "      9 : 205.0 : 205.0 : 205.0\n",
            "     10 : 300.0 : 300.0 : 300.0\n",
            "     11 : 425.0 : 425.0 : 425.0\n",
            "     12 : 270.0 : 270.0 : 270.0\n",
            "     13 : 375.0 : 375.0 : 375.0\n",
            "     14 : 225.0 : 225.0 : 225.0\n",
            "     15 : 185.0 : 185.0 : 185.0\n",
            "     16 : 110.0 : 110.0 : 110.0\n",
            "Number of truck loads of EV Ahmedabad and Jodhpur : 300.0\n",
            "Number of truck loads of EV Ahmedabad and Dibrugarh : 45.0\n",
            "Number of truck loads of EV Ahmedabad and Raipur : 5.0\n",
            "Number of truck loads of EV Bengaluru and Trichy : 120.0\n",
            "Number of truck loads of EV Bengaluru and Vijayawada : 65.0\n",
            "Number of truck loads of EV Chennai and Trichy : 305.0\n",
            "Number of truck loads of EV Delhi and Simla : 95.0\n",
            "Number of truck loads of EV Delhi and Dibrugarh : 85.0\n",
            "Number of truck loads of EV Kolkata and Dibrugarh : 95.0\n",
            "Number of truck loads of EV Kolkata and Agartala : 110.0\n",
            "Number of truck loads of EV Lucknow and Simla : 175.0\n",
            "Number of truck loads of EV Mumbai and Hassan : 205.0\n",
            "Number of truck loads of EV Mumbai and Raipur : 120.0\n",
            "Number of truck loads of EV Hyderabad and Vijayawada : 310.0\n",
            "Number of truck loads of EV Hyderabad and Raipur : 60.0\n",
            "\n",
            "Objective =  2192870.0\n",
            "\n",
            "Decision Variables\n",
            "Num EV  Ahmedabad  and  Hassan : 0.0\n",
            "Num EV  Ahmedabad  and  Jodhpur : 300.0\n",
            "Num EV  Ahmedabad  and  Trichy : 0.0\n",
            "Num EV  Ahmedabad  and  Simla : 0.0\n",
            "Num EV  Ahmedabad  and  Vijayawada : 0.0\n",
            "Num EV  Ahmedabad  and  Dibrugarh : 45.0\n",
            "Num EV  Ahmedabad  and  Raipur : 5.0\n",
            "Num EV  Ahmedabad  and  Agartala : 0.0\n",
            "Num EV  Bengaluru  and  Hassan : 0.0\n",
            "Num EV  Bengaluru  and  Jodhpur : 0.0\n",
            "Num EV  Bengaluru  and  Trichy : 120.0\n",
            "Num EV  Bengaluru  and  Simla : 0.0\n",
            "Num EV  Bengaluru  and  Vijayawada : 65.0\n",
            "Num EV  Bengaluru  and  Dibrugarh : 0.0\n",
            "Num EV  Bengaluru  and  Raipur : 0.0\n",
            "Num EV  Bengaluru  and  Agartala : 0.0\n",
            "Num EV  Chennai  and  Hassan : 0.0\n",
            "Num EV  Chennai  and  Jodhpur : 0.0\n",
            "Num EV  Chennai  and  Trichy : 305.0\n",
            "Num EV  Chennai  and  Simla : 0.0\n",
            "Num EV  Chennai  and  Vijayawada : 0.0\n",
            "Num EV  Chennai  and  Dibrugarh : 0.0\n",
            "Num EV  Chennai  and  Raipur : 0.0\n",
            "Num EV  Chennai  and  Agartala : 0.0\n",
            "Num EV  Delhi  and  Hassan : 0.0\n",
            "Num EV  Delhi  and  Jodhpur : 0.0\n",
            "Num EV  Delhi  and  Trichy : 0.0\n",
            "Num EV  Delhi  and  Simla : 95.0\n",
            "Num EV  Delhi  and  Vijayawada : 0.0\n",
            "Num EV  Delhi  and  Dibrugarh : 85.0\n",
            "Num EV  Delhi  and  Raipur : 0.0\n",
            "Num EV  Delhi  and  Agartala : 0.0\n",
            "Num EV  Kolkata  and  Hassan : 0.0\n",
            "Num EV  Kolkata  and  Jodhpur : 0.0\n",
            "Num EV  Kolkata  and  Trichy : 0.0\n",
            "Num EV  Kolkata  and  Simla : 0.0\n",
            "Num EV  Kolkata  and  Vijayawada : 0.0\n",
            "Num EV  Kolkata  and  Dibrugarh : 95.0\n",
            "Num EV  Kolkata  and  Raipur : 0.0\n",
            "Num EV  Kolkata  and  Agartala : 110.0\n",
            "Num EV  Lucknow  and  Hassan : 0.0\n",
            "Num EV  Lucknow  and  Jodhpur : 0.0\n",
            "Num EV  Lucknow  and  Trichy : 0.0\n",
            "Num EV  Lucknow  and  Simla : 175.0\n",
            "Num EV  Lucknow  and  Vijayawada : 0.0\n",
            "Num EV  Lucknow  and  Dibrugarh : 0.0\n",
            "Num EV  Lucknow  and  Raipur : 0.0\n",
            "Num EV  Lucknow  and  Agartala : 0.0\n",
            "Num EV  Mumbai  and  Hassan : 205.0\n",
            "Num EV  Mumbai  and  Jodhpur : 0.0\n",
            "Num EV  Mumbai  and  Trichy : 0.0\n",
            "Num EV  Mumbai  and  Simla : 0.0\n",
            "Num EV  Mumbai  and  Vijayawada : 0.0\n",
            "Num EV  Mumbai  and  Dibrugarh : 0.0\n",
            "Num EV  Mumbai  and  Raipur : 120.0\n",
            "Num EV  Mumbai  and  Agartala : 0.0\n",
            "Num EV  Hyderabad  and  Hassan : 0.0\n",
            "Num EV  Hyderabad  and  Jodhpur : 0.0\n",
            "Num EV  Hyderabad  and  Trichy : 0.0\n",
            "Num EV  Hyderabad  and  Simla : 0.0\n",
            "Num EV  Hyderabad  and  Vijayawada : 310.0\n",
            "Num EV  Hyderabad  and  Dibrugarh : 0.0\n",
            "Num EV  Hyderabad  and  Raipur : 60.0\n",
            "Num EV  Hyderabad  and  Agartala : 0.0\n",
            "\n",
            "Constraints\n",
            "constraints : Size=16\n",
            "    Key : Lower : Body  : Upper\n",
            "      1 :  None : 350.0 : 350.0\n",
            "      2 :  None : 185.0 : 185.0\n",
            "      3 :  None : 305.0 : 305.0\n",
            "      4 :  None : 180.0 : 180.0\n",
            "      5 :  None : 205.0 : 205.0\n",
            "      6 :  None : 175.0 : 175.0\n",
            "      7 :  None : 325.0 : 325.0\n",
            "      8 :  None : 370.0 : 370.0\n",
            "      9 : 205.0 : 205.0 : 205.0\n",
            "     10 : 300.0 : 300.0 : 300.0\n",
            "     11 : 425.0 : 425.0 : 425.0\n",
            "     12 : 270.0 : 270.0 : 270.0\n",
            "     13 : 375.0 : 375.0 : 375.0\n",
            "     14 : 225.0 : 225.0 : 225.0\n",
            "     15 : 185.0 : 185.0 : 185.0\n",
            "     16 : 110.0 : 110.0 : 110.0\n",
            "Number of truck loads of EV Ahmedabad and Jodhpur : 300.0\n",
            "Number of truck loads of EV Ahmedabad and Dibrugarh : 45.0\n",
            "Number of truck loads of EV Ahmedabad and Raipur : 5.0\n",
            "Number of truck loads of EV Bengaluru and Trichy : 120.0\n",
            "Number of truck loads of EV Bengaluru and Vijayawada : 65.0\n",
            "Number of truck loads of EV Chennai and Trichy : 305.0\n",
            "Number of truck loads of EV Delhi and Simla : 95.0\n",
            "Number of truck loads of EV Delhi and Dibrugarh : 85.0\n",
            "Number of truck loads of EV Kolkata and Dibrugarh : 95.0\n",
            "Number of truck loads of EV Kolkata and Agartala : 110.0\n",
            "Number of truck loads of EV Lucknow and Simla : 175.0\n",
            "Number of truck loads of EV Mumbai and Hassan : 205.0\n",
            "Number of truck loads of EV Mumbai and Raipur : 120.0\n",
            "Number of truck loads of EV Hyderabad and Vijayawada : 310.0\n",
            "Number of truck loads of EV Hyderabad and Raipur : 60.0\n"
          ]
        }
      ]
    },
    {
      "cell_type": "markdown",
      "source": [
        "Answer2:\n",
        "Number of truck loads of EV Ahmedabad and Jodhpur : 300.0  \\\\\n",
        "Number of truck loads of EV Ahmedabad and Dibrugarh : 45.0  \\\\\n",
        "Number of truck loads of EV Ahmedabad and Raipur : 5.0 \\\\\n",
        "Number of truck loads of EV Bengaluru and Trichy : 120.0 \\\\\n",
        "Number of truck loads of EV Bengaluru and Vijayawada : 65.0 \\\\\n",
        "Number of truck loads of EV Chennai and Trichy : 305.0 \\\\\n",
        "Number of truck loads of EV Delhi and Simla : 95.0 \\\\\n",
        "Number of truck loads of EV Delhi and Dibrugarh : 85.0 \\\\\n",
        "Number of truck loads of EV Kolkata and Dibrugarh : 95.0 \\\\\n",
        "Number of truck loads of EV Kolkata and Agartala : 110.0 \\\\\n",
        "Number of truck loads of EV Lucknow and Simla : 175.0 \\\\\n",
        "Number of truck loads of EV Mumbai and Hassan : 205.0 \\\\\n",
        "Number of truck loads of EV Mumbai and Raipur : 120.0 \\\\\n",
        "Number of truck loads of EV Hyderabad and Vijayawada : 310.0 \\\\\n",
        "Number of truck loads of EV Hyderabad and Raipur : 60.0 \n",
        "\n",
        " Cost of transportation:   2192870.0"
      ],
      "metadata": {
        "id": "e7K90GlLjewl"
      }
    },
    {
      "cell_type": "markdown",
      "source": [
        "Answer3:\n",
        "Now given that Lucknow to Shimla route is disrupted and no transportation is possible on this route so we can't transport anything on this route so to solve the optimization problem we make the cost of tranportation on route Lucknow-Shimla so larger then the cost of other routes.Since we are to minimize the total cost so if the cost of Lucknow-Shimla route is much larger than others than it will not put any effect in objective function.\n",
        "\n",
        "So we change the cost of Lucknow-Shimla route to 10000 in .csv file.\n",
        "now first we deactivate the last objective since cost value puts the effect only in objective function. And we define a new constraint."
      ],
      "metadata": {
        "id": "mQP2MLPBnCPf"
      }
    },
    {
      "cell_type": "code",
      "source": [
        "data_csvfile_1 = pd.read_csv('lab6_ex1_2.csv')"
      ],
      "metadata": {
        "id": "PDXapP1ofLqX"
      },
      "execution_count": null,
      "outputs": []
    },
    {
      "cell_type": "code",
      "source": [
        "data_csvfile_1.columns"
      ],
      "metadata": {
        "colab": {
          "base_uri": "https://localhost:8080/"
        },
        "id": "uU4tH4dSQXxN",
        "outputId": "b74d6cf8-efa0-46e8-be36-11d6b18361d1"
      },
      "execution_count": null,
      "outputs": [
        {
          "output_type": "execute_result",
          "data": {
            "text/plain": [
              "Index(['Warehouses', 'Hassan', 'Jodhpur', 'Trichy', 'Simla', 'Vijayawada',\n",
              "       'Dibrugarh', 'Raipur', 'Agartala', 'AvailStock'],\n",
              "      dtype='object')"
            ]
          },
          "metadata": {},
          "execution_count": 23
        },
        {
          "output_type": "execute_result",
          "data": {
            "text/plain": [
              "Index(['Warehouses', 'Hassan', 'Jodhpur', 'Trichy', 'Simla', 'Vijayawada',\n",
              "       'Dibrugarh', 'Raipur', 'Agartala', 'AvailStock'],\n",
              "      dtype='object')"
            ]
          },
          "metadata": {},
          "execution_count": 62
        }
      ]
    },
    {
      "cell_type": "code",
      "source": [
        "model.objective.deactivate"
      ],
      "metadata": {
        "colab": {
          "base_uri": "https://localhost:8080/"
        },
        "id": "hEB9QedTQbVo",
        "outputId": "a83b7539-9de8-4a8b-8f91-d173ebc1cde8"
      },
      "execution_count": null,
      "outputs": [
        {
          "output_type": "execute_result",
          "data": {
            "text/plain": [
              "<bound method ActiveComponentData.deactivate of <pyomo.core.base.objective.ScalarObjective object at 0x7fe055b457c0>>"
            ]
          },
          "metadata": {},
          "execution_count": 24
        },
        {
          "output_type": "execute_result",
          "data": {
            "text/plain": [
              "<bound method ActiveComponentData.deactivate of <pyomo.core.base.objective.ScalarObjective object at 0x7fe055bcd520>>"
            ]
          },
          "metadata": {},
          "execution_count": 63
        }
      ]
    },
    {
      "cell_type": "code",
      "source": [
        "model.objective =  Objective(expr=sum(data_csvfile_1.iloc[i,j+1]*model.x[i,j] for i in row_indices for j in col_indices),sense=minimize)"
      ],
      "metadata": {
        "colab": {
          "base_uri": "https://localhost:8080/"
        },
        "id": "e_NVDVh3RGni",
        "outputId": "eb48f1b0-d6a7-40d0-f9a8-a096c4920af9"
      },
      "execution_count": null,
      "outputs": [
        {
          "output_type": "stream",
          "name": "stderr",
          "text": [
            "WARNING:pyomo.core:Implicitly replacing the Component attribute objective (type=<class 'pyomo.core.base.objective.ScalarObjective'>) on block unknown with a new Component (type=<class 'pyomo.core.base.objective.ScalarObjective'>).\n",
            "This is usually indicative of a modelling error.\n",
            "To avoid this warning, use block.del_component() and block.add_component().\n",
            "WARNING:pyomo.core:Implicitly replacing the Component attribute objective (type=<class 'pyomo.core.base.objective.ScalarObjective'>) on block unknown with a new Component (type=<class 'pyomo.core.base.objective.ScalarObjective'>).\n",
            "This is usually indicative of a modelling error.\n",
            "To avoid this warning, use block.del_component() and block.add_component().\n"
          ]
        }
      ]
    },
    {
      "cell_type": "code",
      "source": [
        "model.pprint()"
      ],
      "metadata": {
        "colab": {
          "base_uri": "https://localhost:8080/"
        },
        "id": "CHz7kj-xRUen",
        "outputId": "7739c96f-179c-465b-aa03-62a084952af5"
      },
      "execution_count": null,
      "outputs": [
        {
          "output_type": "stream",
          "name": "stdout",
          "text": [
            "4 Set Declarations\n",
            "    constraints_index : Size=1, Index=None, Ordered=Insertion\n",
            "        Key  : Dimen : Domain : Size : Members\n",
            "        None :     1 :    Any :   16 : {1, 2, 3, 4, 5, 6, 7, 8, 9, 10, 11, 12, 13, 14, 15, 16}\n",
            "    x_index : Size=1, Index=None, Ordered=True\n",
            "        Key  : Dimen : Domain              : Size : Members\n",
            "        None :     2 : x_index_0*x_index_1 :   64 : {(0, 0), (0, 1), (0, 2), (0, 3), (0, 4), (0, 5), (0, 6), (0, 7), (1, 0), (1, 1), (1, 2), (1, 3), (1, 4), (1, 5), (1, 6), (1, 7), (2, 0), (2, 1), (2, 2), (2, 3), (2, 4), (2, 5), (2, 6), (2, 7), (3, 0), (3, 1), (3, 2), (3, 3), (3, 4), (3, 5), (3, 6), (3, 7), (4, 0), (4, 1), (4, 2), (4, 3), (4, 4), (4, 5), (4, 6), (4, 7), (5, 0), (5, 1), (5, 2), (5, 3), (5, 4), (5, 5), (5, 6), (5, 7), (6, 0), (6, 1), (6, 2), (6, 3), (6, 4), (6, 5), (6, 6), (6, 7), (7, 0), (7, 1), (7, 2), (7, 3), (7, 4), (7, 5), (7, 6), (7, 7)}\n",
            "    x_index_0 : Size=1, Index=None, Ordered=Insertion\n",
            "        Key  : Dimen : Domain : Size : Members\n",
            "        None :     1 :    Any :    8 : {0, 1, 2, 3, 4, 5, 6, 7}\n",
            "    x_index_1 : Size=1, Index=None, Ordered=Insertion\n",
            "        Key  : Dimen : Domain : Size : Members\n",
            "        None :     1 :    Any :    8 : {0, 1, 2, 3, 4, 5, 6, 7}\n",
            "\n",
            "1 Var Declarations\n",
            "    x : Size=64, Index=x_index\n",
            "        Key    : Lower : Value : Upper : Fixed : Stale : Domain\n",
            "        (0, 0) :     0 :   0.0 :  None : False : False : NonNegativeReals\n",
            "        (0, 1) :     0 : 300.0 :  None : False : False : NonNegativeReals\n",
            "        (0, 2) :     0 :   0.0 :  None : False : False : NonNegativeReals\n",
            "        (0, 3) :     0 :   0.0 :  None : False : False : NonNegativeReals\n",
            "        (0, 4) :     0 :   0.0 :  None : False : False : NonNegativeReals\n",
            "        (0, 5) :     0 :  45.0 :  None : False : False : NonNegativeReals\n",
            "        (0, 6) :     0 :   5.0 :  None : False : False : NonNegativeReals\n",
            "        (0, 7) :     0 :   0.0 :  None : False : False : NonNegativeReals\n",
            "        (1, 0) :     0 :   0.0 :  None : False : False : NonNegativeReals\n",
            "        (1, 1) :     0 :   0.0 :  None : False : False : NonNegativeReals\n",
            "        (1, 2) :     0 : 120.0 :  None : False : False : NonNegativeReals\n",
            "        (1, 3) :     0 :   0.0 :  None : False : False : NonNegativeReals\n",
            "        (1, 4) :     0 :  65.0 :  None : False : False : NonNegativeReals\n",
            "        (1, 5) :     0 :   0.0 :  None : False : False : NonNegativeReals\n",
            "        (1, 6) :     0 :   0.0 :  None : False : False : NonNegativeReals\n",
            "        (1, 7) :     0 :   0.0 :  None : False : False : NonNegativeReals\n",
            "        (2, 0) :     0 :   0.0 :  None : False : False : NonNegativeReals\n",
            "        (2, 1) :     0 :   0.0 :  None : False : False : NonNegativeReals\n",
            "        (2, 2) :     0 : 305.0 :  None : False : False : NonNegativeReals\n",
            "        (2, 3) :     0 :   0.0 :  None : False : False : NonNegativeReals\n",
            "        (2, 4) :     0 :   0.0 :  None : False : False : NonNegativeReals\n",
            "        (2, 5) :     0 :   0.0 :  None : False : False : NonNegativeReals\n",
            "        (2, 6) :     0 :   0.0 :  None : False : False : NonNegativeReals\n",
            "        (2, 7) :     0 :   0.0 :  None : False : False : NonNegativeReals\n",
            "        (3, 0) :     0 :   0.0 :  None : False : False : NonNegativeReals\n",
            "        (3, 1) :     0 :   0.0 :  None : False : False : NonNegativeReals\n",
            "        (3, 2) :     0 :   0.0 :  None : False : False : NonNegativeReals\n",
            "        (3, 3) :     0 :  95.0 :  None : False : False : NonNegativeReals\n",
            "        (3, 4) :     0 :   0.0 :  None : False : False : NonNegativeReals\n",
            "        (3, 5) :     0 :  85.0 :  None : False : False : NonNegativeReals\n",
            "        (3, 6) :     0 :   0.0 :  None : False : False : NonNegativeReals\n",
            "        (3, 7) :     0 :   0.0 :  None : False : False : NonNegativeReals\n",
            "        (4, 0) :     0 :   0.0 :  None : False : False : NonNegativeReals\n",
            "        (4, 1) :     0 :   0.0 :  None : False : False : NonNegativeReals\n",
            "        (4, 2) :     0 :   0.0 :  None : False : False : NonNegativeReals\n",
            "        (4, 3) :     0 :   0.0 :  None : False : False : NonNegativeReals\n",
            "        (4, 4) :     0 :   0.0 :  None : False : False : NonNegativeReals\n",
            "        (4, 5) :     0 :  95.0 :  None : False : False : NonNegativeReals\n",
            "        (4, 6) :     0 :   0.0 :  None : False : False : NonNegativeReals\n",
            "        (4, 7) :     0 : 110.0 :  None : False : False : NonNegativeReals\n",
            "        (5, 0) :     0 :   0.0 :  None : False : False : NonNegativeReals\n",
            "        (5, 1) :     0 :   0.0 :  None : False : False : NonNegativeReals\n",
            "        (5, 2) :     0 :   0.0 :  None : False : False : NonNegativeReals\n",
            "        (5, 3) :     0 : 175.0 :  None : False : False : NonNegativeReals\n",
            "        (5, 4) :     0 :   0.0 :  None : False : False : NonNegativeReals\n",
            "        (5, 5) :     0 :   0.0 :  None : False : False : NonNegativeReals\n",
            "        (5, 6) :     0 :   0.0 :  None : False : False : NonNegativeReals\n",
            "        (5, 7) :     0 :   0.0 :  None : False : False : NonNegativeReals\n",
            "        (6, 0) :     0 : 205.0 :  None : False : False : NonNegativeReals\n",
            "        (6, 1) :     0 :   0.0 :  None : False : False : NonNegativeReals\n",
            "        (6, 2) :     0 :   0.0 :  None : False : False : NonNegativeReals\n",
            "        (6, 3) :     0 :   0.0 :  None : False : False : NonNegativeReals\n",
            "        (6, 4) :     0 :   0.0 :  None : False : False : NonNegativeReals\n",
            "        (6, 5) :     0 :   0.0 :  None : False : False : NonNegativeReals\n",
            "        (6, 6) :     0 : 120.0 :  None : False : False : NonNegativeReals\n",
            "        (6, 7) :     0 :   0.0 :  None : False : False : NonNegativeReals\n",
            "        (7, 0) :     0 :   0.0 :  None : False : False : NonNegativeReals\n",
            "        (7, 1) :     0 :   0.0 :  None : False : False : NonNegativeReals\n",
            "        (7, 2) :     0 :   0.0 :  None : False : False : NonNegativeReals\n",
            "        (7, 3) :     0 :   0.0 :  None : False : False : NonNegativeReals\n",
            "        (7, 4) :     0 : 310.0 :  None : False : False : NonNegativeReals\n",
            "        (7, 5) :     0 :   0.0 :  None : False : False : NonNegativeReals\n",
            "        (7, 6) :     0 :  60.0 :  None : False : False : NonNegativeReals\n",
            "        (7, 7) :     0 :   0.0 :  None : False : False : NonNegativeReals\n",
            "\n",
            "1 Objective Declarations\n",
            "    objective : Size=1, Index=None, Active=True\n",
            "        Key  : Active : Sense    : Expression\n",
            "        None :   True : minimize : 827*x[0,0] + 817*x[0,1] + 1470*x[0,2] + 2272*x[0,3] + 1615*x[0,4] + 3143*x[0,5] + 1264*x[0,6] + 4465*x[0,7] + 559*x[1,0] + 1832*x[1,1] + 751*x[1,2] + 3772*x[1,3] + 637*x[1,4] + 3773*x[1,5] + 1856*x[1,6] + 5459*x[1,7] + 1109*x[2,0] + 2443*x[2,1] + 577*x[2,2] + 3865*x[2,3] + 798*x[2,4] + 3521*x[2,5] + 1984*x[2,6] + 5303*x[2,7] + 2943*x[3,0] + 1471*x[3,1] + 4676*x[3,2] + 1337*x[3,3] + 2702*x[3,4] + 2741*x[3,5] + 2482*x[3,6] + 4148*x[3,7] + 3742*x[4,0] + 3089*x[4,1] + 2931*x[4,2] + 3199*x[4,3] + 2226*x[4,4] + 1739*x[4,5] + 1691*x[4,6] + 2128*x[4,7] + 2353*x[5,0] + 1160*x[5,1] + 3295*x[5,2] + 100000*x[5,3] + 2369*x[5,4] + 2365*x[5,5] + 1293*x[5,6] + 3642*x[5,7] + 1356*x[6,0] + 1617*x[6,1] + 2045*x[6,2] + 2941*x[6,3] + 2334*x[6,4] + 4151*x[6,5] + 1937*x[6,6] + 4287*x[6,7] + 195*x[7,0] + 1862*x[7,1] + 1331*x[7,2] + 2921*x[7,3] + 402*x[7,4] + 2825*x[7,5] + 563*x[7,6] + 4441*x[7,7]\n",
            "\n",
            "1 Constraint Declarations\n",
            "    constraints : Size=16, Index=constraints_index, Active=True\n",
            "        Key : Lower : Body                                                                  : Upper : Active\n",
            "          1 :  -Inf : x[0,0] + x[0,1] + x[0,2] + x[0,3] + x[0,4] + x[0,5] + x[0,6] + x[0,7] : 350.0 :   True\n",
            "          2 :  -Inf : x[1,0] + x[1,1] + x[1,2] + x[1,3] + x[1,4] + x[1,5] + x[1,6] + x[1,7] : 185.0 :   True\n",
            "          3 :  -Inf : x[2,0] + x[2,1] + x[2,2] + x[2,3] + x[2,4] + x[2,5] + x[2,6] + x[2,7] : 305.0 :   True\n",
            "          4 :  -Inf : x[3,0] + x[3,1] + x[3,2] + x[3,3] + x[3,4] + x[3,5] + x[3,6] + x[3,7] : 180.0 :   True\n",
            "          5 :  -Inf : x[4,0] + x[4,1] + x[4,2] + x[4,3] + x[4,4] + x[4,5] + x[4,6] + x[4,7] : 205.0 :   True\n",
            "          6 :  -Inf : x[5,0] + x[5,1] + x[5,2] + x[5,3] + x[5,4] + x[5,5] + x[5,6] + x[5,7] : 175.0 :   True\n",
            "          7 :  -Inf : x[6,0] + x[6,1] + x[6,2] + x[6,3] + x[6,4] + x[6,5] + x[6,6] + x[6,7] : 325.0 :   True\n",
            "          8 :  -Inf : x[7,0] + x[7,1] + x[7,2] + x[7,3] + x[7,4] + x[7,5] + x[7,6] + x[7,7] : 370.0 :   True\n",
            "          9 : 205.0 : x[0,0] + x[1,0] + x[2,0] + x[3,0] + x[4,0] + x[5,0] + x[6,0] + x[7,0] : 205.0 :   True\n",
            "         10 : 300.0 : x[0,1] + x[1,1] + x[2,1] + x[3,1] + x[4,1] + x[5,1] + x[6,1] + x[7,1] : 300.0 :   True\n",
            "         11 : 425.0 : x[0,2] + x[1,2] + x[2,2] + x[3,2] + x[4,2] + x[5,2] + x[6,2] + x[7,2] : 425.0 :   True\n",
            "         12 : 270.0 : x[0,3] + x[1,3] + x[2,3] + x[3,3] + x[4,3] + x[5,3] + x[6,3] + x[7,3] : 270.0 :   True\n",
            "         13 : 375.0 : x[0,4] + x[1,4] + x[2,4] + x[3,4] + x[4,4] + x[5,4] + x[6,4] + x[7,4] : 375.0 :   True\n",
            "         14 : 225.0 : x[0,5] + x[1,5] + x[2,5] + x[3,5] + x[4,5] + x[5,5] + x[6,5] + x[7,5] : 225.0 :   True\n",
            "         15 : 185.0 : x[0,6] + x[1,6] + x[2,6] + x[3,6] + x[4,6] + x[5,6] + x[6,6] + x[7,6] : 185.0 :   True\n",
            "         16 : 110.0 : x[0,7] + x[1,7] + x[2,7] + x[3,7] + x[4,7] + x[5,7] + x[6,7] + x[7,7] : 110.0 :   True\n",
            "\n",
            "7 Declarations: x_index_0 x_index_1 x_index x constraints_index constraints objective\n",
            "4 Set Declarations\n",
            "    constraints_index : Size=1, Index=None, Ordered=Insertion\n",
            "        Key  : Dimen : Domain : Size : Members\n",
            "        None :     1 :    Any :   16 : {1, 2, 3, 4, 5, 6, 7, 8, 9, 10, 11, 12, 13, 14, 15, 16}\n",
            "    x_index : Size=1, Index=None, Ordered=True\n",
            "        Key  : Dimen : Domain              : Size : Members\n",
            "        None :     2 : x_index_0*x_index_1 :   64 : {(0, 0), (0, 1), (0, 2), (0, 3), (0, 4), (0, 5), (0, 6), (0, 7), (1, 0), (1, 1), (1, 2), (1, 3), (1, 4), (1, 5), (1, 6), (1, 7), (2, 0), (2, 1), (2, 2), (2, 3), (2, 4), (2, 5), (2, 6), (2, 7), (3, 0), (3, 1), (3, 2), (3, 3), (3, 4), (3, 5), (3, 6), (3, 7), (4, 0), (4, 1), (4, 2), (4, 3), (4, 4), (4, 5), (4, 6), (4, 7), (5, 0), (5, 1), (5, 2), (5, 3), (5, 4), (5, 5), (5, 6), (5, 7), (6, 0), (6, 1), (6, 2), (6, 3), (6, 4), (6, 5), (6, 6), (6, 7), (7, 0), (7, 1), (7, 2), (7, 3), (7, 4), (7, 5), (7, 6), (7, 7)}\n",
            "    x_index_0 : Size=1, Index=None, Ordered=Insertion\n",
            "        Key  : Dimen : Domain : Size : Members\n",
            "        None :     1 :    Any :    8 : {0, 1, 2, 3, 4, 5, 6, 7}\n",
            "    x_index_1 : Size=1, Index=None, Ordered=Insertion\n",
            "        Key  : Dimen : Domain : Size : Members\n",
            "        None :     1 :    Any :    8 : {0, 1, 2, 3, 4, 5, 6, 7}\n",
            "\n",
            "1 Var Declarations\n",
            "    x : Size=64, Index=x_index\n",
            "        Key    : Lower : Value : Upper : Fixed : Stale : Domain\n",
            "        (0, 0) :     0 :   0.0 :  None : False : False : NonNegativeReals\n",
            "        (0, 1) :     0 : 300.0 :  None : False : False : NonNegativeReals\n",
            "        (0, 2) :     0 :   0.0 :  None : False : False : NonNegativeReals\n",
            "        (0, 3) :     0 :   0.0 :  None : False : False : NonNegativeReals\n",
            "        (0, 4) :     0 :   0.0 :  None : False : False : NonNegativeReals\n",
            "        (0, 5) :     0 :  45.0 :  None : False : False : NonNegativeReals\n",
            "        (0, 6) :     0 :   5.0 :  None : False : False : NonNegativeReals\n",
            "        (0, 7) :     0 :   0.0 :  None : False : False : NonNegativeReals\n",
            "        (1, 0) :     0 :   0.0 :  None : False : False : NonNegativeReals\n",
            "        (1, 1) :     0 :   0.0 :  None : False : False : NonNegativeReals\n",
            "        (1, 2) :     0 : 120.0 :  None : False : False : NonNegativeReals\n",
            "        (1, 3) :     0 :   0.0 :  None : False : False : NonNegativeReals\n",
            "        (1, 4) :     0 :  65.0 :  None : False : False : NonNegativeReals\n",
            "        (1, 5) :     0 :   0.0 :  None : False : False : NonNegativeReals\n",
            "        (1, 6) :     0 :   0.0 :  None : False : False : NonNegativeReals\n",
            "        (1, 7) :     0 :   0.0 :  None : False : False : NonNegativeReals\n",
            "        (2, 0) :     0 :   0.0 :  None : False : False : NonNegativeReals\n",
            "        (2, 1) :     0 :   0.0 :  None : False : False : NonNegativeReals\n",
            "        (2, 2) :     0 : 305.0 :  None : False : False : NonNegativeReals\n",
            "        (2, 3) :     0 :   0.0 :  None : False : False : NonNegativeReals\n",
            "        (2, 4) :     0 :   0.0 :  None : False : False : NonNegativeReals\n",
            "        (2, 5) :     0 :   0.0 :  None : False : False : NonNegativeReals\n",
            "        (2, 6) :     0 :   0.0 :  None : False : False : NonNegativeReals\n",
            "        (2, 7) :     0 :   0.0 :  None : False : False : NonNegativeReals\n",
            "        (3, 0) :     0 :   0.0 :  None : False : False : NonNegativeReals\n",
            "        (3, 1) :     0 :   0.0 :  None : False : False : NonNegativeReals\n",
            "        (3, 2) :     0 :   0.0 :  None : False : False : NonNegativeReals\n",
            "        (3, 3) :     0 :  95.0 :  None : False : False : NonNegativeReals\n",
            "        (3, 4) :     0 :   0.0 :  None : False : False : NonNegativeReals\n",
            "        (3, 5) :     0 :  85.0 :  None : False : False : NonNegativeReals\n",
            "        (3, 6) :     0 :   0.0 :  None : False : False : NonNegativeReals\n",
            "        (3, 7) :     0 :   0.0 :  None : False : False : NonNegativeReals\n",
            "        (4, 0) :     0 :   0.0 :  None : False : False : NonNegativeReals\n",
            "        (4, 1) :     0 :   0.0 :  None : False : False : NonNegativeReals\n",
            "        (4, 2) :     0 :   0.0 :  None : False : False : NonNegativeReals\n",
            "        (4, 3) :     0 :   0.0 :  None : False : False : NonNegativeReals\n",
            "        (4, 4) :     0 :   0.0 :  None : False : False : NonNegativeReals\n",
            "        (4, 5) :     0 :  95.0 :  None : False : False : NonNegativeReals\n",
            "        (4, 6) :     0 :   0.0 :  None : False : False : NonNegativeReals\n",
            "        (4, 7) :     0 : 110.0 :  None : False : False : NonNegativeReals\n",
            "        (5, 0) :     0 :   0.0 :  None : False : False : NonNegativeReals\n",
            "        (5, 1) :     0 :   0.0 :  None : False : False : NonNegativeReals\n",
            "        (5, 2) :     0 :   0.0 :  None : False : False : NonNegativeReals\n",
            "        (5, 3) :     0 : 175.0 :  None : False : False : NonNegativeReals\n",
            "        (5, 4) :     0 :   0.0 :  None : False : False : NonNegativeReals\n",
            "        (5, 5) :     0 :   0.0 :  None : False : False : NonNegativeReals\n",
            "        (5, 6) :     0 :   0.0 :  None : False : False : NonNegativeReals\n",
            "        (5, 7) :     0 :   0.0 :  None : False : False : NonNegativeReals\n",
            "        (6, 0) :     0 : 205.0 :  None : False : False : NonNegativeReals\n",
            "        (6, 1) :     0 :   0.0 :  None : False : False : NonNegativeReals\n",
            "        (6, 2) :     0 :   0.0 :  None : False : False : NonNegativeReals\n",
            "        (6, 3) :     0 :   0.0 :  None : False : False : NonNegativeReals\n",
            "        (6, 4) :     0 :   0.0 :  None : False : False : NonNegativeReals\n",
            "        (6, 5) :     0 :   0.0 :  None : False : False : NonNegativeReals\n",
            "        (6, 6) :     0 : 120.0 :  None : False : False : NonNegativeReals\n",
            "        (6, 7) :     0 :   0.0 :  None : False : False : NonNegativeReals\n",
            "        (7, 0) :     0 :   0.0 :  None : False : False : NonNegativeReals\n",
            "        (7, 1) :     0 :   0.0 :  None : False : False : NonNegativeReals\n",
            "        (7, 2) :     0 :   0.0 :  None : False : False : NonNegativeReals\n",
            "        (7, 3) :     0 :   0.0 :  None : False : False : NonNegativeReals\n",
            "        (7, 4) :     0 : 310.0 :  None : False : False : NonNegativeReals\n",
            "        (7, 5) :     0 :   0.0 :  None : False : False : NonNegativeReals\n",
            "        (7, 6) :     0 :  60.0 :  None : False : False : NonNegativeReals\n",
            "        (7, 7) :     0 :   0.0 :  None : False : False : NonNegativeReals\n",
            "\n",
            "1 Objective Declarations\n",
            "    objective : Size=1, Index=None, Active=True\n",
            "        Key  : Active : Sense    : Expression\n",
            "        None :   True : minimize : 827*x[0,0] + 817*x[0,1] + 1470*x[0,2] + 2272*x[0,3] + 1615*x[0,4] + 3143*x[0,5] + 1264*x[0,6] + 4465*x[0,7] + 559*x[1,0] + 1832*x[1,1] + 751*x[1,2] + 3772*x[1,3] + 637*x[1,4] + 3773*x[1,5] + 1856*x[1,6] + 5459*x[1,7] + 1109*x[2,0] + 2443*x[2,1] + 577*x[2,2] + 3865*x[2,3] + 798*x[2,4] + 3521*x[2,5] + 1984*x[2,6] + 5303*x[2,7] + 2943*x[3,0] + 1471*x[3,1] + 4676*x[3,2] + 1337*x[3,3] + 2702*x[3,4] + 2741*x[3,5] + 2482*x[3,6] + 4148*x[3,7] + 3742*x[4,0] + 3089*x[4,1] + 2931*x[4,2] + 3199*x[4,3] + 2226*x[4,4] + 1739*x[4,5] + 1691*x[4,6] + 2128*x[4,7] + 2353*x[5,0] + 1160*x[5,1] + 3295*x[5,2] + 100000*x[5,3] + 2369*x[5,4] + 2365*x[5,5] + 1293*x[5,6] + 3642*x[5,7] + 1356*x[6,0] + 1617*x[6,1] + 2045*x[6,2] + 2941*x[6,3] + 2334*x[6,4] + 4151*x[6,5] + 1937*x[6,6] + 4287*x[6,7] + 195*x[7,0] + 1862*x[7,1] + 1331*x[7,2] + 2921*x[7,3] + 402*x[7,4] + 2825*x[7,5] + 563*x[7,6] + 4441*x[7,7]\n",
            "\n",
            "1 Constraint Declarations\n",
            "    constraints : Size=16, Index=constraints_index, Active=True\n",
            "        Key : Lower : Body                                                                  : Upper : Active\n",
            "          1 :  -Inf : x[0,0] + x[0,1] + x[0,2] + x[0,3] + x[0,4] + x[0,5] + x[0,6] + x[0,7] : 350.0 :   True\n",
            "          2 :  -Inf : x[1,0] + x[1,1] + x[1,2] + x[1,3] + x[1,4] + x[1,5] + x[1,6] + x[1,7] : 185.0 :   True\n",
            "          3 :  -Inf : x[2,0] + x[2,1] + x[2,2] + x[2,3] + x[2,4] + x[2,5] + x[2,6] + x[2,7] : 305.0 :   True\n",
            "          4 :  -Inf : x[3,0] + x[3,1] + x[3,2] + x[3,3] + x[3,4] + x[3,5] + x[3,6] + x[3,7] : 180.0 :   True\n",
            "          5 :  -Inf : x[4,0] + x[4,1] + x[4,2] + x[4,3] + x[4,4] + x[4,5] + x[4,6] + x[4,7] : 205.0 :   True\n",
            "          6 :  -Inf : x[5,0] + x[5,1] + x[5,2] + x[5,3] + x[5,4] + x[5,5] + x[5,6] + x[5,7] : 175.0 :   True\n",
            "          7 :  -Inf : x[6,0] + x[6,1] + x[6,2] + x[6,3] + x[6,4] + x[6,5] + x[6,6] + x[6,7] : 325.0 :   True\n",
            "          8 :  -Inf : x[7,0] + x[7,1] + x[7,2] + x[7,3] + x[7,4] + x[7,5] + x[7,6] + x[7,7] : 370.0 :   True\n",
            "          9 : 205.0 : x[0,0] + x[1,0] + x[2,0] + x[3,0] + x[4,0] + x[5,0] + x[6,0] + x[7,0] : 205.0 :   True\n",
            "         10 : 300.0 : x[0,1] + x[1,1] + x[2,1] + x[3,1] + x[4,1] + x[5,1] + x[6,1] + x[7,1] : 300.0 :   True\n",
            "         11 : 425.0 : x[0,2] + x[1,2] + x[2,2] + x[3,2] + x[4,2] + x[5,2] + x[6,2] + x[7,2] : 425.0 :   True\n",
            "         12 : 270.0 : x[0,3] + x[1,3] + x[2,3] + x[3,3] + x[4,3] + x[5,3] + x[6,3] + x[7,3] : 270.0 :   True\n",
            "         13 : 375.0 : x[0,4] + x[1,4] + x[2,4] + x[3,4] + x[4,4] + x[5,4] + x[6,4] + x[7,4] : 375.0 :   True\n",
            "         14 : 225.0 : x[0,5] + x[1,5] + x[2,5] + x[3,5] + x[4,5] + x[5,5] + x[6,5] + x[7,5] : 225.0 :   True\n",
            "         15 : 185.0 : x[0,6] + x[1,6] + x[2,6] + x[3,6] + x[4,6] + x[5,6] + x[6,6] + x[7,6] : 185.0 :   True\n",
            "         16 : 110.0 : x[0,7] + x[1,7] + x[2,7] + x[3,7] + x[4,7] + x[5,7] + x[6,7] + x[7,7] : 110.0 :   True\n",
            "\n",
            "7 Declarations: x_index_0 x_index_1 x_index x constraints_index constraints objective\n"
          ]
        }
      ]
    },
    {
      "cell_type": "code",
      "source": [
        "!apt-get install -y -qq coinor-cbc"
      ],
      "metadata": {
        "id": "s0yEGX8PRWKt"
      },
      "execution_count": null,
      "outputs": []
    },
    {
      "cell_type": "code",
      "source": [
        "opt_cbc = SolverFactory('cbc')"
      ],
      "metadata": {
        "id": "GeJA2CMoRf2q"
      },
      "execution_count": null,
      "outputs": []
    },
    {
      "cell_type": "code",
      "source": [
        "result = opt_cbc.solve(model)\n",
        "print('Solver status:', result.solver.status)\n",
        "print('Solver termination condition:',result.solver.termination_condition)"
      ],
      "metadata": {
        "colab": {
          "base_uri": "https://localhost:8080/"
        },
        "id": "GBlYOeZHRlaW",
        "outputId": "b12a8b03-f03b-407b-eba3-8b4e35b38d24"
      },
      "execution_count": null,
      "outputs": [
        {
          "output_type": "stream",
          "name": "stdout",
          "text": [
            "Solver status: ok\n",
            "Solver termination condition: optimal\n",
            "Solver status: ok\n",
            "Solver termination condition: optimal\n"
          ]
        }
      ]
    },
    {
      "cell_type": "code",
      "source": [
        "print('\\nObjective = ', model.objective())\n",
        "\n",
        "print('\\nDecision Variables')\n",
        "for i in row_indices:\n",
        "  for j in col_indices:\n",
        "    print('Num EV ',data_csvfile_1['Warehouses'][i],' and ', data_csvfile.columns[j+1],':', model.x[i,j].value)\n",
        "\n",
        "print('\\nConstraints')\n",
        "model.constraints.display()\n",
        "for i in row_indices:\n",
        "  for j in col_indices:\n",
        "    if model.x[i,j].value!=0:\n",
        "      print('Number of truck loads of EV',data_csvfile_1['Warehouses'][i],'and',data_csvfile_1.columns[j+1],':',model.x[i,j].value)"
      ],
      "metadata": {
        "colab": {
          "base_uri": "https://localhost:8080/"
        },
        "id": "EKL7eaDSRwbZ",
        "outputId": "c9d1dfe6-70b7-4f52-f8af-58b6cfbc9b8b"
      },
      "execution_count": null,
      "outputs": [
        {
          "output_type": "stream",
          "name": "stdout",
          "text": [
            "\n",
            "Objective =  2380570.0\n",
            "\n",
            "Decision Variables\n",
            "Num EV  Ahmedabad  and  Hassan : 0.0\n",
            "Num EV  Ahmedabad  and  Jodhpur : 300.0\n",
            "Num EV  Ahmedabad  and  Trichy : 0.0\n",
            "Num EV  Ahmedabad  and  Simla : 0.0\n",
            "Num EV  Ahmedabad  and  Vijayawada : 0.0\n",
            "Num EV  Ahmedabad  and  Dibrugarh : 0.0\n",
            "Num EV  Ahmedabad  and  Raipur : 50.0\n",
            "Num EV  Ahmedabad  and  Agartala : 0.0\n",
            "Num EV  Bengaluru  and  Hassan : 0.0\n",
            "Num EV  Bengaluru  and  Jodhpur : 0.0\n",
            "Num EV  Bengaluru  and  Trichy : 120.0\n",
            "Num EV  Bengaluru  and  Simla : 0.0\n",
            "Num EV  Bengaluru  and  Vijayawada : 65.0\n",
            "Num EV  Bengaluru  and  Dibrugarh : 0.0\n",
            "Num EV  Bengaluru  and  Raipur : 0.0\n",
            "Num EV  Bengaluru  and  Agartala : 0.0\n",
            "Num EV  Chennai  and  Hassan : 0.0\n",
            "Num EV  Chennai  and  Jodhpur : 0.0\n",
            "Num EV  Chennai  and  Trichy : 305.0\n",
            "Num EV  Chennai  and  Simla : 0.0\n",
            "Num EV  Chennai  and  Vijayawada : 0.0\n",
            "Num EV  Chennai  and  Dibrugarh : 0.0\n",
            "Num EV  Chennai  and  Raipur : 0.0\n",
            "Num EV  Chennai  and  Agartala : 0.0\n",
            "Num EV  Delhi  and  Hassan : 0.0\n",
            "Num EV  Delhi  and  Jodhpur : 0.0\n",
            "Num EV  Delhi  and  Trichy : 0.0\n",
            "Num EV  Delhi  and  Simla : 180.0\n",
            "Num EV  Delhi  and  Vijayawada : 0.0\n",
            "Num EV  Delhi  and  Dibrugarh : 0.0\n",
            "Num EV  Delhi  and  Raipur : 0.0\n",
            "Num EV  Delhi  and  Agartala : 0.0\n",
            "Num EV  Kolkata  and  Hassan : 0.0\n",
            "Num EV  Kolkata  and  Jodhpur : 0.0\n",
            "Num EV  Kolkata  and  Trichy : 0.0\n",
            "Num EV  Kolkata  and  Simla : 0.0\n",
            "Num EV  Kolkata  and  Vijayawada : 0.0\n",
            "Num EV  Kolkata  and  Dibrugarh : 95.0\n",
            "Num EV  Kolkata  and  Raipur : 0.0\n",
            "Num EV  Kolkata  and  Agartala : 110.0\n",
            "Num EV  Lucknow  and  Hassan : 0.0\n",
            "Num EV  Lucknow  and  Jodhpur : 0.0\n",
            "Num EV  Lucknow  and  Trichy : 0.0\n",
            "Num EV  Lucknow  and  Simla : 0.0\n",
            "Num EV  Lucknow  and  Vijayawada : 0.0\n",
            "Num EV  Lucknow  and  Dibrugarh : 130.0\n",
            "Num EV  Lucknow  and  Raipur : 45.0\n",
            "Num EV  Lucknow  and  Agartala : 0.0\n",
            "Num EV  Mumbai  and  Hassan : 205.0\n",
            "Num EV  Mumbai  and  Jodhpur : 0.0\n",
            "Num EV  Mumbai  and  Trichy : 0.0\n",
            "Num EV  Mumbai  and  Simla : 90.0\n",
            "Num EV  Mumbai  and  Vijayawada : 0.0\n",
            "Num EV  Mumbai  and  Dibrugarh : 0.0\n",
            "Num EV  Mumbai  and  Raipur : 30.0\n",
            "Num EV  Mumbai  and  Agartala : 0.0\n",
            "Num EV  Hyderabad  and  Hassan : 0.0\n",
            "Num EV  Hyderabad  and  Jodhpur : 0.0\n",
            "Num EV  Hyderabad  and  Trichy : 0.0\n",
            "Num EV  Hyderabad  and  Simla : 0.0\n",
            "Num EV  Hyderabad  and  Vijayawada : 310.0\n",
            "Num EV  Hyderabad  and  Dibrugarh : 0.0\n",
            "Num EV  Hyderabad  and  Raipur : 60.0\n",
            "Num EV  Hyderabad  and  Agartala : 0.0\n",
            "\n",
            "Constraints\n",
            "constraints : Size=16\n",
            "    Key : Lower : Body  : Upper\n",
            "      1 :  None : 350.0 : 350.0\n",
            "      2 :  None : 185.0 : 185.0\n",
            "      3 :  None : 305.0 : 305.0\n",
            "      4 :  None : 180.0 : 180.0\n",
            "      5 :  None : 205.0 : 205.0\n",
            "      6 :  None : 175.0 : 175.0\n",
            "      7 :  None : 325.0 : 325.0\n",
            "      8 :  None : 370.0 : 370.0\n",
            "      9 : 205.0 : 205.0 : 205.0\n",
            "     10 : 300.0 : 300.0 : 300.0\n",
            "     11 : 425.0 : 425.0 : 425.0\n",
            "     12 : 270.0 : 270.0 : 270.0\n",
            "     13 : 375.0 : 375.0 : 375.0\n",
            "     14 : 225.0 : 225.0 : 225.0\n",
            "     15 : 185.0 : 185.0 : 185.0\n",
            "     16 : 110.0 : 110.0 : 110.0\n",
            "Number of truck loads of EV Ahmedabad and Jodhpur : 300.0\n",
            "Number of truck loads of EV Ahmedabad and Raipur : 50.0\n",
            "Number of truck loads of EV Bengaluru and Trichy : 120.0\n",
            "Number of truck loads of EV Bengaluru and Vijayawada : 65.0\n",
            "Number of truck loads of EV Chennai and Trichy : 305.0\n",
            "Number of truck loads of EV Delhi and Simla : 180.0\n",
            "Number of truck loads of EV Kolkata and Dibrugarh : 95.0\n",
            "Number of truck loads of EV Kolkata and Agartala : 110.0\n",
            "Number of truck loads of EV Lucknow and Dibrugarh : 130.0\n",
            "Number of truck loads of EV Lucknow and Raipur : 45.0\n",
            "Number of truck loads of EV Mumbai and Hassan : 205.0\n",
            "Number of truck loads of EV Mumbai and Simla : 90.0\n",
            "Number of truck loads of EV Mumbai and Raipur : 30.0\n",
            "Number of truck loads of EV Hyderabad and Vijayawada : 310.0\n",
            "Number of truck loads of EV Hyderabad and Raipur : 60.0\n",
            "\n",
            "Objective =  2380570.0\n",
            "\n",
            "Decision Variables\n",
            "Num EV  Ahmedabad  and  Hassan : 0.0\n",
            "Num EV  Ahmedabad  and  Jodhpur : 300.0\n",
            "Num EV  Ahmedabad  and  Trichy : 0.0\n",
            "Num EV  Ahmedabad  and  Simla : 0.0\n",
            "Num EV  Ahmedabad  and  Vijayawada : 0.0\n",
            "Num EV  Ahmedabad  and  Dibrugarh : 0.0\n",
            "Num EV  Ahmedabad  and  Raipur : 50.0\n",
            "Num EV  Ahmedabad  and  Agartala : 0.0\n",
            "Num EV  Bengaluru  and  Hassan : 0.0\n",
            "Num EV  Bengaluru  and  Jodhpur : 0.0\n",
            "Num EV  Bengaluru  and  Trichy : 120.0\n",
            "Num EV  Bengaluru  and  Simla : 0.0\n",
            "Num EV  Bengaluru  and  Vijayawada : 65.0\n",
            "Num EV  Bengaluru  and  Dibrugarh : 0.0\n",
            "Num EV  Bengaluru  and  Raipur : 0.0\n",
            "Num EV  Bengaluru  and  Agartala : 0.0\n",
            "Num EV  Chennai  and  Hassan : 0.0\n",
            "Num EV  Chennai  and  Jodhpur : 0.0\n",
            "Num EV  Chennai  and  Trichy : 305.0\n",
            "Num EV  Chennai  and  Simla : 0.0\n",
            "Num EV  Chennai  and  Vijayawada : 0.0\n",
            "Num EV  Chennai  and  Dibrugarh : 0.0\n",
            "Num EV  Chennai  and  Raipur : 0.0\n",
            "Num EV  Chennai  and  Agartala : 0.0\n",
            "Num EV  Delhi  and  Hassan : 0.0\n",
            "Num EV  Delhi  and  Jodhpur : 0.0\n",
            "Num EV  Delhi  and  Trichy : 0.0\n",
            "Num EV  Delhi  and  Simla : 180.0\n",
            "Num EV  Delhi  and  Vijayawada : 0.0\n",
            "Num EV  Delhi  and  Dibrugarh : 0.0\n",
            "Num EV  Delhi  and  Raipur : 0.0\n",
            "Num EV  Delhi  and  Agartala : 0.0\n",
            "Num EV  Kolkata  and  Hassan : 0.0\n",
            "Num EV  Kolkata  and  Jodhpur : 0.0\n",
            "Num EV  Kolkata  and  Trichy : 0.0\n",
            "Num EV  Kolkata  and  Simla : 0.0\n",
            "Num EV  Kolkata  and  Vijayawada : 0.0\n",
            "Num EV  Kolkata  and  Dibrugarh : 95.0\n",
            "Num EV  Kolkata  and  Raipur : 0.0\n",
            "Num EV  Kolkata  and  Agartala : 110.0\n",
            "Num EV  Lucknow  and  Hassan : 0.0\n",
            "Num EV  Lucknow  and  Jodhpur : 0.0\n",
            "Num EV  Lucknow  and  Trichy : 0.0\n",
            "Num EV  Lucknow  and  Simla : 0.0\n",
            "Num EV  Lucknow  and  Vijayawada : 0.0\n",
            "Num EV  Lucknow  and  Dibrugarh : 130.0\n",
            "Num EV  Lucknow  and  Raipur : 45.0\n",
            "Num EV  Lucknow  and  Agartala : 0.0\n",
            "Num EV  Mumbai  and  Hassan : 205.0\n",
            "Num EV  Mumbai  and  Jodhpur : 0.0\n",
            "Num EV  Mumbai  and  Trichy : 0.0\n",
            "Num EV  Mumbai  and  Simla : 90.0\n",
            "Num EV  Mumbai  and  Vijayawada : 0.0\n",
            "Num EV  Mumbai  and  Dibrugarh : 0.0\n",
            "Num EV  Mumbai  and  Raipur : 30.0\n",
            "Num EV  Mumbai  and  Agartala : 0.0\n",
            "Num EV  Hyderabad  and  Hassan : 0.0\n",
            "Num EV  Hyderabad  and  Jodhpur : 0.0\n",
            "Num EV  Hyderabad  and  Trichy : 0.0\n",
            "Num EV  Hyderabad  and  Simla : 0.0\n",
            "Num EV  Hyderabad  and  Vijayawada : 310.0\n",
            "Num EV  Hyderabad  and  Dibrugarh : 0.0\n",
            "Num EV  Hyderabad  and  Raipur : 60.0\n",
            "Num EV  Hyderabad  and  Agartala : 0.0\n",
            "\n",
            "Constraints\n",
            "constraints : Size=16\n",
            "    Key : Lower : Body  : Upper\n",
            "      1 :  None : 350.0 : 350.0\n",
            "      2 :  None : 185.0 : 185.0\n",
            "      3 :  None : 305.0 : 305.0\n",
            "      4 :  None : 180.0 : 180.0\n",
            "      5 :  None : 205.0 : 205.0\n",
            "      6 :  None : 175.0 : 175.0\n",
            "      7 :  None : 325.0 : 325.0\n",
            "      8 :  None : 370.0 : 370.0\n",
            "      9 : 205.0 : 205.0 : 205.0\n",
            "     10 : 300.0 : 300.0 : 300.0\n",
            "     11 : 425.0 : 425.0 : 425.0\n",
            "     12 : 270.0 : 270.0 : 270.0\n",
            "     13 : 375.0 : 375.0 : 375.0\n",
            "     14 : 225.0 : 225.0 : 225.0\n",
            "     15 : 185.0 : 185.0 : 185.0\n",
            "     16 : 110.0 : 110.0 : 110.0\n",
            "Number of truck loads of EV Ahmedabad and Jodhpur : 300.0\n",
            "Number of truck loads of EV Ahmedabad and Raipur : 50.0\n",
            "Number of truck loads of EV Bengaluru and Trichy : 120.0\n",
            "Number of truck loads of EV Bengaluru and Vijayawada : 65.0\n",
            "Number of truck loads of EV Chennai and Trichy : 305.0\n",
            "Number of truck loads of EV Delhi and Simla : 180.0\n",
            "Number of truck loads of EV Kolkata and Dibrugarh : 95.0\n",
            "Number of truck loads of EV Kolkata and Agartala : 110.0\n",
            "Number of truck loads of EV Lucknow and Dibrugarh : 130.0\n",
            "Number of truck loads of EV Lucknow and Raipur : 45.0\n",
            "Number of truck loads of EV Mumbai and Hassan : 205.0\n",
            "Number of truck loads of EV Mumbai and Simla : 90.0\n",
            "Number of truck loads of EV Mumbai and Raipur : 30.0\n",
            "Number of truck loads of EV Hyderabad and Vijayawada : 310.0\n",
            "Number of truck loads of EV Hyderabad and Raipur : 60.0\n"
          ]
        }
      ]
    },
    {
      "cell_type": "markdown",
      "source": [
        "Answer4:\n",
        "Number of truck loads of EV Ahmedabad and Jodhpur : 300.0  \\\\\n",
        "Number of truck loads of EV Ahmedabad and Dibrugarh : 50.0  \\\\\n",
        "Number of truck loads of EV Bengaluru and Trichy : 120.0 \\\\\n",
        "Number of truck loads of EV Bengaluru and Vijayawada : 65.0    \n",
        "Number of truck loads of EV Chennai and Trichy : 305.0 \\\\\n",
        "Number of truck loads of EV Delhi and Simla : 180.0 \\\\\n",
        "Number of truck loads of EV Kolkata and Raipur : 95.0 \\\\\n",
        "Number of truck loads of EV Kolkata and Agartala : 110.0 \\\\\n",
        "Number of truck loads of EV Lucknow and Dibrugarh : 175.0 \\\\\n",
        "Number of truck loads of EV Mumbai and Hassan : 205.0 \\\\\n",
        "Number of truck loads of EV Mumbai and Simla : 90.0 \\\\\n",
        "Number of truck loads of EV Mumbai and Raipur : 30.0 \\\\\n",
        "Number of truck loads of EV Hyderabad and Vijayawada : 310.0 \\\\\n",
        "Number of truck loads of EV Hyderabad and Raipur : 60.0 \\\\\n",
        "  Total cost is now :   2380570.0\n",
        "\n",
        "  Part2:\n",
        "  Here we obsereve that minimum cost of transportation is increased as comparison to last time when transportation on route Lucknow-Shimla was availabe to transport.Since from Lucknow to any other market,cost of transportation is higher than cost of  Lucknow to Shimla route.Here this route is disrupted so cost of transportation will increase to transport by another route.\n"
      ],
      "metadata": {
        "id": "NhiskFlhozEt"
      }
    },
    {
      "cell_type": "markdown",
      "source": [
        "Answer10:\n",
        "Now given that routes of Lucknow-Shimla,Kolkata-dilbrugarh and Delhi-Raipur are disrupted. So transportation is not possible on these three routes.Now again we will consider the cost of transportation by these routes is much larger than others.Let's consider cost related to  these routes is 10000.We will change this in .csv file.Since this will put an effect only in objective function.SO we deactivate the last objective function and define a new objective."
      ],
      "metadata": {
        "id": "U6KhNKr10_YL"
      }
    },
    {
      "cell_type": "code",
      "source": [
        "model.objective.deactivate"
      ],
      "metadata": {
        "colab": {
          "base_uri": "https://localhost:8080/"
        },
        "id": "zx-DRGkLR4M9",
        "outputId": "cdcd793d-7a6f-45ce-914e-ae39fde67956"
      },
      "execution_count": null,
      "outputs": [
        {
          "output_type": "execute_result",
          "data": {
            "text/plain": [
              "<bound method ActiveComponentData.deactivate of <pyomo.core.base.objective.ScalarObjective object at 0x7fe055afb520>>"
            ]
          },
          "metadata": {},
          "execution_count": 31
        },
        {
          "output_type": "execute_result",
          "data": {
            "text/plain": [
              "<bound method ActiveComponentData.deactivate of <pyomo.core.base.objective.ScalarObjective object at 0x7fe0552d7d00>>"
            ]
          },
          "metadata": {},
          "execution_count": 70
        }
      ]
    },
    {
      "cell_type": "code",
      "source": [
        "data_csvfile_2 = pd.read_csv('lab6_ex1_3.csv')"
      ],
      "metadata": {
        "id": "m_MF2zfRSk8W"
      },
      "execution_count": null,
      "outputs": []
    },
    {
      "cell_type": "code",
      "source": [
        "data_csvfile_2.index"
      ],
      "metadata": {
        "colab": {
          "base_uri": "https://localhost:8080/"
        },
        "id": "JoDr_NGuS9WW",
        "outputId": "8f94e270-5f7c-4791-aa36-5d344be30264"
      },
      "execution_count": null,
      "outputs": [
        {
          "output_type": "execute_result",
          "data": {
            "text/plain": [
              "RangeIndex(start=0, stop=9, step=1)"
            ]
          },
          "metadata": {},
          "execution_count": 33
        },
        {
          "output_type": "execute_result",
          "data": {
            "text/plain": [
              "RangeIndex(start=0, stop=9, step=1)"
            ]
          },
          "metadata": {},
          "execution_count": 72
        }
      ]
    },
    {
      "cell_type": "code",
      "source": [
        "model.objective= Objective(expr=sum(data_csvfile_2.iloc[i,j+1]*model.x[i,j] for i in row_indices for j in col_indices),sense=minimize)"
      ],
      "metadata": {
        "colab": {
          "base_uri": "https://localhost:8080/"
        },
        "id": "UlS8o_ygTKfq",
        "outputId": "0be9079c-5f8c-45c8-bd9b-55c4f72c9111"
      },
      "execution_count": null,
      "outputs": [
        {
          "output_type": "stream",
          "name": "stderr",
          "text": [
            "WARNING:pyomo.core:Implicitly replacing the Component attribute objective (type=<class 'pyomo.core.base.objective.ScalarObjective'>) on block unknown with a new Component (type=<class 'pyomo.core.base.objective.ScalarObjective'>).\n",
            "This is usually indicative of a modelling error.\n",
            "To avoid this warning, use block.del_component() and block.add_component().\n",
            "WARNING:pyomo.core:Implicitly replacing the Component attribute objective (type=<class 'pyomo.core.base.objective.ScalarObjective'>) on block unknown with a new Component (type=<class 'pyomo.core.base.objective.ScalarObjective'>).\n",
            "This is usually indicative of a modelling error.\n",
            "To avoid this warning, use block.del_component() and block.add_component().\n"
          ]
        }
      ]
    },
    {
      "cell_type": "code",
      "source": [
        "model.pprint()"
      ],
      "metadata": {
        "colab": {
          "base_uri": "https://localhost:8080/"
        },
        "id": "V0rWJXBwTvdF",
        "outputId": "68b61712-87ac-49b0-e7a9-93fa6563c2f3"
      },
      "execution_count": null,
      "outputs": [
        {
          "output_type": "stream",
          "name": "stdout",
          "text": [
            "4 Set Declarations\n",
            "    constraints_index : Size=1, Index=None, Ordered=Insertion\n",
            "        Key  : Dimen : Domain : Size : Members\n",
            "        None :     1 :    Any :   16 : {1, 2, 3, 4, 5, 6, 7, 8, 9, 10, 11, 12, 13, 14, 15, 16}\n",
            "    x_index : Size=1, Index=None, Ordered=True\n",
            "        Key  : Dimen : Domain              : Size : Members\n",
            "        None :     2 : x_index_0*x_index_1 :   64 : {(0, 0), (0, 1), (0, 2), (0, 3), (0, 4), (0, 5), (0, 6), (0, 7), (1, 0), (1, 1), (1, 2), (1, 3), (1, 4), (1, 5), (1, 6), (1, 7), (2, 0), (2, 1), (2, 2), (2, 3), (2, 4), (2, 5), (2, 6), (2, 7), (3, 0), (3, 1), (3, 2), (3, 3), (3, 4), (3, 5), (3, 6), (3, 7), (4, 0), (4, 1), (4, 2), (4, 3), (4, 4), (4, 5), (4, 6), (4, 7), (5, 0), (5, 1), (5, 2), (5, 3), (5, 4), (5, 5), (5, 6), (5, 7), (6, 0), (6, 1), (6, 2), (6, 3), (6, 4), (6, 5), (6, 6), (6, 7), (7, 0), (7, 1), (7, 2), (7, 3), (7, 4), (7, 5), (7, 6), (7, 7)}\n",
            "    x_index_0 : Size=1, Index=None, Ordered=Insertion\n",
            "        Key  : Dimen : Domain : Size : Members\n",
            "        None :     1 :    Any :    8 : {0, 1, 2, 3, 4, 5, 6, 7}\n",
            "    x_index_1 : Size=1, Index=None, Ordered=Insertion\n",
            "        Key  : Dimen : Domain : Size : Members\n",
            "        None :     1 :    Any :    8 : {0, 1, 2, 3, 4, 5, 6, 7}\n",
            "\n",
            "1 Var Declarations\n",
            "    x : Size=64, Index=x_index\n",
            "        Key    : Lower : Value : Upper : Fixed : Stale : Domain\n",
            "        (0, 0) :     0 :   0.0 :  None : False : False : NonNegativeReals\n",
            "        (0, 1) :     0 : 300.0 :  None : False : False : NonNegativeReals\n",
            "        (0, 2) :     0 :   0.0 :  None : False : False : NonNegativeReals\n",
            "        (0, 3) :     0 :   0.0 :  None : False : False : NonNegativeReals\n",
            "        (0, 4) :     0 :   0.0 :  None : False : False : NonNegativeReals\n",
            "        (0, 5) :     0 :   0.0 :  None : False : False : NonNegativeReals\n",
            "        (0, 6) :     0 :  50.0 :  None : False : False : NonNegativeReals\n",
            "        (0, 7) :     0 :   0.0 :  None : False : False : NonNegativeReals\n",
            "        (1, 0) :     0 :   0.0 :  None : False : False : NonNegativeReals\n",
            "        (1, 1) :     0 :   0.0 :  None : False : False : NonNegativeReals\n",
            "        (1, 2) :     0 : 120.0 :  None : False : False : NonNegativeReals\n",
            "        (1, 3) :     0 :   0.0 :  None : False : False : NonNegativeReals\n",
            "        (1, 4) :     0 :  65.0 :  None : False : False : NonNegativeReals\n",
            "        (1, 5) :     0 :   0.0 :  None : False : False : NonNegativeReals\n",
            "        (1, 6) :     0 :   0.0 :  None : False : False : NonNegativeReals\n",
            "        (1, 7) :     0 :   0.0 :  None : False : False : NonNegativeReals\n",
            "        (2, 0) :     0 :   0.0 :  None : False : False : NonNegativeReals\n",
            "        (2, 1) :     0 :   0.0 :  None : False : False : NonNegativeReals\n",
            "        (2, 2) :     0 : 305.0 :  None : False : False : NonNegativeReals\n",
            "        (2, 3) :     0 :   0.0 :  None : False : False : NonNegativeReals\n",
            "        (2, 4) :     0 :   0.0 :  None : False : False : NonNegativeReals\n",
            "        (2, 5) :     0 :   0.0 :  None : False : False : NonNegativeReals\n",
            "        (2, 6) :     0 :   0.0 :  None : False : False : NonNegativeReals\n",
            "        (2, 7) :     0 :   0.0 :  None : False : False : NonNegativeReals\n",
            "        (3, 0) :     0 :   0.0 :  None : False : False : NonNegativeReals\n",
            "        (3, 1) :     0 :   0.0 :  None : False : False : NonNegativeReals\n",
            "        (3, 2) :     0 :   0.0 :  None : False : False : NonNegativeReals\n",
            "        (3, 3) :     0 : 180.0 :  None : False : False : NonNegativeReals\n",
            "        (3, 4) :     0 :   0.0 :  None : False : False : NonNegativeReals\n",
            "        (3, 5) :     0 :   0.0 :  None : False : False : NonNegativeReals\n",
            "        (3, 6) :     0 :   0.0 :  None : False : False : NonNegativeReals\n",
            "        (3, 7) :     0 :   0.0 :  None : False : False : NonNegativeReals\n",
            "        (4, 0) :     0 :   0.0 :  None : False : False : NonNegativeReals\n",
            "        (4, 1) :     0 :   0.0 :  None : False : False : NonNegativeReals\n",
            "        (4, 2) :     0 :   0.0 :  None : False : False : NonNegativeReals\n",
            "        (4, 3) :     0 :   0.0 :  None : False : False : NonNegativeReals\n",
            "        (4, 4) :     0 :   0.0 :  None : False : False : NonNegativeReals\n",
            "        (4, 5) :     0 :  95.0 :  None : False : False : NonNegativeReals\n",
            "        (4, 6) :     0 :   0.0 :  None : False : False : NonNegativeReals\n",
            "        (4, 7) :     0 : 110.0 :  None : False : False : NonNegativeReals\n",
            "        (5, 0) :     0 :   0.0 :  None : False : False : NonNegativeReals\n",
            "        (5, 1) :     0 :   0.0 :  None : False : False : NonNegativeReals\n",
            "        (5, 2) :     0 :   0.0 :  None : False : False : NonNegativeReals\n",
            "        (5, 3) :     0 :   0.0 :  None : False : False : NonNegativeReals\n",
            "        (5, 4) :     0 :   0.0 :  None : False : False : NonNegativeReals\n",
            "        (5, 5) :     0 : 130.0 :  None : False : False : NonNegativeReals\n",
            "        (5, 6) :     0 :  45.0 :  None : False : False : NonNegativeReals\n",
            "        (5, 7) :     0 :   0.0 :  None : False : False : NonNegativeReals\n",
            "        (6, 0) :     0 : 205.0 :  None : False : False : NonNegativeReals\n",
            "        (6, 1) :     0 :   0.0 :  None : False : False : NonNegativeReals\n",
            "        (6, 2) :     0 :   0.0 :  None : False : False : NonNegativeReals\n",
            "        (6, 3) :     0 :  90.0 :  None : False : False : NonNegativeReals\n",
            "        (6, 4) :     0 :   0.0 :  None : False : False : NonNegativeReals\n",
            "        (6, 5) :     0 :   0.0 :  None : False : False : NonNegativeReals\n",
            "        (6, 6) :     0 :  30.0 :  None : False : False : NonNegativeReals\n",
            "        (6, 7) :     0 :   0.0 :  None : False : False : NonNegativeReals\n",
            "        (7, 0) :     0 :   0.0 :  None : False : False : NonNegativeReals\n",
            "        (7, 1) :     0 :   0.0 :  None : False : False : NonNegativeReals\n",
            "        (7, 2) :     0 :   0.0 :  None : False : False : NonNegativeReals\n",
            "        (7, 3) :     0 :   0.0 :  None : False : False : NonNegativeReals\n",
            "        (7, 4) :     0 : 310.0 :  None : False : False : NonNegativeReals\n",
            "        (7, 5) :     0 :   0.0 :  None : False : False : NonNegativeReals\n",
            "        (7, 6) :     0 :  60.0 :  None : False : False : NonNegativeReals\n",
            "        (7, 7) :     0 :   0.0 :  None : False : False : NonNegativeReals\n",
            "\n",
            "1 Objective Declarations\n",
            "    objective : Size=1, Index=None, Active=True\n",
            "        Key  : Active : Sense    : Expression\n",
            "        None :   True : minimize : 827*x[0,0] + 817*x[0,1] + 1470*x[0,2] + 2272*x[0,3] + 1615*x[0,4] + 3143*x[0,5] + 1264*x[0,6] + 4465*x[0,7] + 559*x[1,0] + 1832*x[1,1] + 751*x[1,2] + 3772*x[1,3] + 637*x[1,4] + 3773*x[1,5] + 1856*x[1,6] + 5459*x[1,7] + 1109*x[2,0] + 2443*x[2,1] + 577*x[2,2] + 3865*x[2,3] + 798*x[2,4] + 3521*x[2,5] + 1984*x[2,6] + 5303*x[2,7] + 2943*x[3,0] + 1471*x[3,1] + 4676*x[3,2] + 1337*x[3,3] + 2702*x[3,4] + 2741*x[3,5] + 100000*x[3,6] + 4148*x[3,7] + 3742*x[4,0] + 3089*x[4,1] + 2931*x[4,2] + 3199*x[4,3] + 2226*x[4,4] + 100000*x[4,5] + 1691*x[4,6] + 2128*x[4,7] + 2353*x[5,0] + 1160*x[5,1] + 3295*x[5,2] + 100000*x[5,3] + 2369*x[5,4] + 2365*x[5,5] + 1293*x[5,6] + 3642*x[5,7] + 1356*x[6,0] + 1617*x[6,1] + 2045*x[6,2] + 2941*x[6,3] + 2334*x[6,4] + 4151*x[6,5] + 1937*x[6,6] + 4287*x[6,7] + 195*x[7,0] + 1862*x[7,1] + 1331*x[7,2] + 2921*x[7,3] + 402*x[7,4] + 2825*x[7,5] + 563*x[7,6] + 4441*x[7,7]\n",
            "\n",
            "1 Constraint Declarations\n",
            "    constraints : Size=16, Index=constraints_index, Active=True\n",
            "        Key : Lower : Body                                                                  : Upper : Active\n",
            "          1 :  -Inf : x[0,0] + x[0,1] + x[0,2] + x[0,3] + x[0,4] + x[0,5] + x[0,6] + x[0,7] : 350.0 :   True\n",
            "          2 :  -Inf : x[1,0] + x[1,1] + x[1,2] + x[1,3] + x[1,4] + x[1,5] + x[1,6] + x[1,7] : 185.0 :   True\n",
            "          3 :  -Inf : x[2,0] + x[2,1] + x[2,2] + x[2,3] + x[2,4] + x[2,5] + x[2,6] + x[2,7] : 305.0 :   True\n",
            "          4 :  -Inf : x[3,0] + x[3,1] + x[3,2] + x[3,3] + x[3,4] + x[3,5] + x[3,6] + x[3,7] : 180.0 :   True\n",
            "          5 :  -Inf : x[4,0] + x[4,1] + x[4,2] + x[4,3] + x[4,4] + x[4,5] + x[4,6] + x[4,7] : 205.0 :   True\n",
            "          6 :  -Inf : x[5,0] + x[5,1] + x[5,2] + x[5,3] + x[5,4] + x[5,5] + x[5,6] + x[5,7] : 175.0 :   True\n",
            "          7 :  -Inf : x[6,0] + x[6,1] + x[6,2] + x[6,3] + x[6,4] + x[6,5] + x[6,6] + x[6,7] : 325.0 :   True\n",
            "          8 :  -Inf : x[7,0] + x[7,1] + x[7,2] + x[7,3] + x[7,4] + x[7,5] + x[7,6] + x[7,7] : 370.0 :   True\n",
            "          9 : 205.0 : x[0,0] + x[1,0] + x[2,0] + x[3,0] + x[4,0] + x[5,0] + x[6,0] + x[7,0] : 205.0 :   True\n",
            "         10 : 300.0 : x[0,1] + x[1,1] + x[2,1] + x[3,1] + x[4,1] + x[5,1] + x[6,1] + x[7,1] : 300.0 :   True\n",
            "         11 : 425.0 : x[0,2] + x[1,2] + x[2,2] + x[3,2] + x[4,2] + x[5,2] + x[6,2] + x[7,2] : 425.0 :   True\n",
            "         12 : 270.0 : x[0,3] + x[1,3] + x[2,3] + x[3,3] + x[4,3] + x[5,3] + x[6,3] + x[7,3] : 270.0 :   True\n",
            "         13 : 375.0 : x[0,4] + x[1,4] + x[2,4] + x[3,4] + x[4,4] + x[5,4] + x[6,4] + x[7,4] : 375.0 :   True\n",
            "         14 : 225.0 : x[0,5] + x[1,5] + x[2,5] + x[3,5] + x[4,5] + x[5,5] + x[6,5] + x[7,5] : 225.0 :   True\n",
            "         15 : 185.0 : x[0,6] + x[1,6] + x[2,6] + x[3,6] + x[4,6] + x[5,6] + x[6,6] + x[7,6] : 185.0 :   True\n",
            "         16 : 110.0 : x[0,7] + x[1,7] + x[2,7] + x[3,7] + x[4,7] + x[5,7] + x[6,7] + x[7,7] : 110.0 :   True\n",
            "\n",
            "7 Declarations: x_index_0 x_index_1 x_index x constraints_index constraints objective\n",
            "4 Set Declarations\n",
            "    constraints_index : Size=1, Index=None, Ordered=Insertion\n",
            "        Key  : Dimen : Domain : Size : Members\n",
            "        None :     1 :    Any :   16 : {1, 2, 3, 4, 5, 6, 7, 8, 9, 10, 11, 12, 13, 14, 15, 16}\n",
            "    x_index : Size=1, Index=None, Ordered=True\n",
            "        Key  : Dimen : Domain              : Size : Members\n",
            "        None :     2 : x_index_0*x_index_1 :   64 : {(0, 0), (0, 1), (0, 2), (0, 3), (0, 4), (0, 5), (0, 6), (0, 7), (1, 0), (1, 1), (1, 2), (1, 3), (1, 4), (1, 5), (1, 6), (1, 7), (2, 0), (2, 1), (2, 2), (2, 3), (2, 4), (2, 5), (2, 6), (2, 7), (3, 0), (3, 1), (3, 2), (3, 3), (3, 4), (3, 5), (3, 6), (3, 7), (4, 0), (4, 1), (4, 2), (4, 3), (4, 4), (4, 5), (4, 6), (4, 7), (5, 0), (5, 1), (5, 2), (5, 3), (5, 4), (5, 5), (5, 6), (5, 7), (6, 0), (6, 1), (6, 2), (6, 3), (6, 4), (6, 5), (6, 6), (6, 7), (7, 0), (7, 1), (7, 2), (7, 3), (7, 4), (7, 5), (7, 6), (7, 7)}\n",
            "    x_index_0 : Size=1, Index=None, Ordered=Insertion\n",
            "        Key  : Dimen : Domain : Size : Members\n",
            "        None :     1 :    Any :    8 : {0, 1, 2, 3, 4, 5, 6, 7}\n",
            "    x_index_1 : Size=1, Index=None, Ordered=Insertion\n",
            "        Key  : Dimen : Domain : Size : Members\n",
            "        None :     1 :    Any :    8 : {0, 1, 2, 3, 4, 5, 6, 7}\n",
            "\n",
            "1 Var Declarations\n",
            "    x : Size=64, Index=x_index\n",
            "        Key    : Lower : Value : Upper : Fixed : Stale : Domain\n",
            "        (0, 0) :     0 :   0.0 :  None : False : False : NonNegativeReals\n",
            "        (0, 1) :     0 : 300.0 :  None : False : False : NonNegativeReals\n",
            "        (0, 2) :     0 :   0.0 :  None : False : False : NonNegativeReals\n",
            "        (0, 3) :     0 :   0.0 :  None : False : False : NonNegativeReals\n",
            "        (0, 4) :     0 :   0.0 :  None : False : False : NonNegativeReals\n",
            "        (0, 5) :     0 :   0.0 :  None : False : False : NonNegativeReals\n",
            "        (0, 6) :     0 :  50.0 :  None : False : False : NonNegativeReals\n",
            "        (0, 7) :     0 :   0.0 :  None : False : False : NonNegativeReals\n",
            "        (1, 0) :     0 :   0.0 :  None : False : False : NonNegativeReals\n",
            "        (1, 1) :     0 :   0.0 :  None : False : False : NonNegativeReals\n",
            "        (1, 2) :     0 : 120.0 :  None : False : False : NonNegativeReals\n",
            "        (1, 3) :     0 :   0.0 :  None : False : False : NonNegativeReals\n",
            "        (1, 4) :     0 :  65.0 :  None : False : False : NonNegativeReals\n",
            "        (1, 5) :     0 :   0.0 :  None : False : False : NonNegativeReals\n",
            "        (1, 6) :     0 :   0.0 :  None : False : False : NonNegativeReals\n",
            "        (1, 7) :     0 :   0.0 :  None : False : False : NonNegativeReals\n",
            "        (2, 0) :     0 :   0.0 :  None : False : False : NonNegativeReals\n",
            "        (2, 1) :     0 :   0.0 :  None : False : False : NonNegativeReals\n",
            "        (2, 2) :     0 : 305.0 :  None : False : False : NonNegativeReals\n",
            "        (2, 3) :     0 :   0.0 :  None : False : False : NonNegativeReals\n",
            "        (2, 4) :     0 :   0.0 :  None : False : False : NonNegativeReals\n",
            "        (2, 5) :     0 :   0.0 :  None : False : False : NonNegativeReals\n",
            "        (2, 6) :     0 :   0.0 :  None : False : False : NonNegativeReals\n",
            "        (2, 7) :     0 :   0.0 :  None : False : False : NonNegativeReals\n",
            "        (3, 0) :     0 :   0.0 :  None : False : False : NonNegativeReals\n",
            "        (3, 1) :     0 :   0.0 :  None : False : False : NonNegativeReals\n",
            "        (3, 2) :     0 :   0.0 :  None : False : False : NonNegativeReals\n",
            "        (3, 3) :     0 : 180.0 :  None : False : False : NonNegativeReals\n",
            "        (3, 4) :     0 :   0.0 :  None : False : False : NonNegativeReals\n",
            "        (3, 5) :     0 :   0.0 :  None : False : False : NonNegativeReals\n",
            "        (3, 6) :     0 :   0.0 :  None : False : False : NonNegativeReals\n",
            "        (3, 7) :     0 :   0.0 :  None : False : False : NonNegativeReals\n",
            "        (4, 0) :     0 :   0.0 :  None : False : False : NonNegativeReals\n",
            "        (4, 1) :     0 :   0.0 :  None : False : False : NonNegativeReals\n",
            "        (4, 2) :     0 :   0.0 :  None : False : False : NonNegativeReals\n",
            "        (4, 3) :     0 :   0.0 :  None : False : False : NonNegativeReals\n",
            "        (4, 4) :     0 :   0.0 :  None : False : False : NonNegativeReals\n",
            "        (4, 5) :     0 :  95.0 :  None : False : False : NonNegativeReals\n",
            "        (4, 6) :     0 :   0.0 :  None : False : False : NonNegativeReals\n",
            "        (4, 7) :     0 : 110.0 :  None : False : False : NonNegativeReals\n",
            "        (5, 0) :     0 :   0.0 :  None : False : False : NonNegativeReals\n",
            "        (5, 1) :     0 :   0.0 :  None : False : False : NonNegativeReals\n",
            "        (5, 2) :     0 :   0.0 :  None : False : False : NonNegativeReals\n",
            "        (5, 3) :     0 :   0.0 :  None : False : False : NonNegativeReals\n",
            "        (5, 4) :     0 :   0.0 :  None : False : False : NonNegativeReals\n",
            "        (5, 5) :     0 : 130.0 :  None : False : False : NonNegativeReals\n",
            "        (5, 6) :     0 :  45.0 :  None : False : False : NonNegativeReals\n",
            "        (5, 7) :     0 :   0.0 :  None : False : False : NonNegativeReals\n",
            "        (6, 0) :     0 : 205.0 :  None : False : False : NonNegativeReals\n",
            "        (6, 1) :     0 :   0.0 :  None : False : False : NonNegativeReals\n",
            "        (6, 2) :     0 :   0.0 :  None : False : False : NonNegativeReals\n",
            "        (6, 3) :     0 :  90.0 :  None : False : False : NonNegativeReals\n",
            "        (6, 4) :     0 :   0.0 :  None : False : False : NonNegativeReals\n",
            "        (6, 5) :     0 :   0.0 :  None : False : False : NonNegativeReals\n",
            "        (6, 6) :     0 :  30.0 :  None : False : False : NonNegativeReals\n",
            "        (6, 7) :     0 :   0.0 :  None : False : False : NonNegativeReals\n",
            "        (7, 0) :     0 :   0.0 :  None : False : False : NonNegativeReals\n",
            "        (7, 1) :     0 :   0.0 :  None : False : False : NonNegativeReals\n",
            "        (7, 2) :     0 :   0.0 :  None : False : False : NonNegativeReals\n",
            "        (7, 3) :     0 :   0.0 :  None : False : False : NonNegativeReals\n",
            "        (7, 4) :     0 : 310.0 :  None : False : False : NonNegativeReals\n",
            "        (7, 5) :     0 :   0.0 :  None : False : False : NonNegativeReals\n",
            "        (7, 6) :     0 :  60.0 :  None : False : False : NonNegativeReals\n",
            "        (7, 7) :     0 :   0.0 :  None : False : False : NonNegativeReals\n",
            "\n",
            "1 Objective Declarations\n",
            "    objective : Size=1, Index=None, Active=True\n",
            "        Key  : Active : Sense    : Expression\n",
            "        None :   True : minimize : 827*x[0,0] + 817*x[0,1] + 1470*x[0,2] + 2272*x[0,3] + 1615*x[0,4] + 3143*x[0,5] + 1264*x[0,6] + 4465*x[0,7] + 559*x[1,0] + 1832*x[1,1] + 751*x[1,2] + 3772*x[1,3] + 637*x[1,4] + 3773*x[1,5] + 1856*x[1,6] + 5459*x[1,7] + 1109*x[2,0] + 2443*x[2,1] + 577*x[2,2] + 3865*x[2,3] + 798*x[2,4] + 3521*x[2,5] + 1984*x[2,6] + 5303*x[2,7] + 2943*x[3,0] + 1471*x[3,1] + 4676*x[3,2] + 1337*x[3,3] + 2702*x[3,4] + 2741*x[3,5] + 100000*x[3,6] + 4148*x[3,7] + 3742*x[4,0] + 3089*x[4,1] + 2931*x[4,2] + 3199*x[4,3] + 2226*x[4,4] + 100000*x[4,5] + 1691*x[4,6] + 2128*x[4,7] + 2353*x[5,0] + 1160*x[5,1] + 3295*x[5,2] + 100000*x[5,3] + 2369*x[5,4] + 2365*x[5,5] + 1293*x[5,6] + 3642*x[5,7] + 1356*x[6,0] + 1617*x[6,1] + 2045*x[6,2] + 2941*x[6,3] + 2334*x[6,4] + 4151*x[6,5] + 1937*x[6,6] + 4287*x[6,7] + 195*x[7,0] + 1862*x[7,1] + 1331*x[7,2] + 2921*x[7,3] + 402*x[7,4] + 2825*x[7,5] + 563*x[7,6] + 4441*x[7,7]\n",
            "\n",
            "1 Constraint Declarations\n",
            "    constraints : Size=16, Index=constraints_index, Active=True\n",
            "        Key : Lower : Body                                                                  : Upper : Active\n",
            "          1 :  -Inf : x[0,0] + x[0,1] + x[0,2] + x[0,3] + x[0,4] + x[0,5] + x[0,6] + x[0,7] : 350.0 :   True\n",
            "          2 :  -Inf : x[1,0] + x[1,1] + x[1,2] + x[1,3] + x[1,4] + x[1,5] + x[1,6] + x[1,7] : 185.0 :   True\n",
            "          3 :  -Inf : x[2,0] + x[2,1] + x[2,2] + x[2,3] + x[2,4] + x[2,5] + x[2,6] + x[2,7] : 305.0 :   True\n",
            "          4 :  -Inf : x[3,0] + x[3,1] + x[3,2] + x[3,3] + x[3,4] + x[3,5] + x[3,6] + x[3,7] : 180.0 :   True\n",
            "          5 :  -Inf : x[4,0] + x[4,1] + x[4,2] + x[4,3] + x[4,4] + x[4,5] + x[4,6] + x[4,7] : 205.0 :   True\n",
            "          6 :  -Inf : x[5,0] + x[5,1] + x[5,2] + x[5,3] + x[5,4] + x[5,5] + x[5,6] + x[5,7] : 175.0 :   True\n",
            "          7 :  -Inf : x[6,0] + x[6,1] + x[6,2] + x[6,3] + x[6,4] + x[6,5] + x[6,6] + x[6,7] : 325.0 :   True\n",
            "          8 :  -Inf : x[7,0] + x[7,1] + x[7,2] + x[7,3] + x[7,4] + x[7,5] + x[7,6] + x[7,7] : 370.0 :   True\n",
            "          9 : 205.0 : x[0,0] + x[1,0] + x[2,0] + x[3,0] + x[4,0] + x[5,0] + x[6,0] + x[7,0] : 205.0 :   True\n",
            "         10 : 300.0 : x[0,1] + x[1,1] + x[2,1] + x[3,1] + x[4,1] + x[5,1] + x[6,1] + x[7,1] : 300.0 :   True\n",
            "         11 : 425.0 : x[0,2] + x[1,2] + x[2,2] + x[3,2] + x[4,2] + x[5,2] + x[6,2] + x[7,2] : 425.0 :   True\n",
            "         12 : 270.0 : x[0,3] + x[1,3] + x[2,3] + x[3,3] + x[4,3] + x[5,3] + x[6,3] + x[7,3] : 270.0 :   True\n",
            "         13 : 375.0 : x[0,4] + x[1,4] + x[2,4] + x[3,4] + x[4,4] + x[5,4] + x[6,4] + x[7,4] : 375.0 :   True\n",
            "         14 : 225.0 : x[0,5] + x[1,5] + x[2,5] + x[3,5] + x[4,5] + x[5,5] + x[6,5] + x[7,5] : 225.0 :   True\n",
            "         15 : 185.0 : x[0,6] + x[1,6] + x[2,6] + x[3,6] + x[4,6] + x[5,6] + x[6,6] + x[7,6] : 185.0 :   True\n",
            "         16 : 110.0 : x[0,7] + x[1,7] + x[2,7] + x[3,7] + x[4,7] + x[5,7] + x[6,7] + x[7,7] : 110.0 :   True\n",
            "\n",
            "7 Declarations: x_index_0 x_index_1 x_index x constraints_index constraints objective\n"
          ]
        }
      ]
    },
    {
      "cell_type": "code",
      "source": [
        "!apt-get install -y -qq coinor-cbc"
      ],
      "metadata": {
        "id": "2gCeuvOWTxEo"
      },
      "execution_count": null,
      "outputs": []
    },
    {
      "cell_type": "code",
      "source": [
        "opt_cbc = SolverFactory('cbc')"
      ],
      "metadata": {
        "id": "h10JPT2JT2vN"
      },
      "execution_count": null,
      "outputs": []
    },
    {
      "cell_type": "code",
      "source": [
        "result = opt_cbc.solve(model)\n",
        "print('Solver status:', result.solver.status)\n",
        "print('Solver termination condition:',result.solver.termination_condition)"
      ],
      "metadata": {
        "colab": {
          "base_uri": "https://localhost:8080/"
        },
        "id": "w1ye8Zi6T4zh",
        "outputId": "4a4f0460-1a1f-49a9-e74f-59b5a8de681f"
      },
      "execution_count": null,
      "outputs": [
        {
          "output_type": "stream",
          "name": "stdout",
          "text": [
            "Solver status: ok\n",
            "Solver termination condition: optimal\n",
            "Solver status: ok\n",
            "Solver termination condition: optimal\n"
          ]
        }
      ]
    },
    {
      "cell_type": "code",
      "source": [
        "print('\\nObjective = ', model.objective())\n",
        "\n",
        "print('\\nDecision Variables')\n",
        "for i in row_indices:\n",
        "  for j in col_indices:\n",
        "    print('Number of EV ',data_csvfile_2['Warehouses'][i],' and ', data_csvfile_2.columns[j+1],':', model.x[i,j].value)\n",
        "\n",
        "print('\\nConstraints')\n",
        "model.constraints.display()\n",
        "for i in row_indices:\n",
        "  for j in col_indices:\n",
        "    if model.x[i,j].value!=0:\n",
        "      print('Number of truck loads of EV',data_csvfile_2['Warehouses'][i],'and',data_csvfile_2.columns[j+1],':',model.x[i,j].value)"
      ],
      "metadata": {
        "colab": {
          "base_uri": "https://localhost:8080/"
        },
        "id": "Z--rvtBZT81p",
        "outputId": "ee6e6141-0836-40c4-f82d-01c8cf7fa1ea"
      },
      "execution_count": null,
      "outputs": [
        {
          "output_type": "stream",
          "name": "stdout",
          "text": [
            "\n",
            "Objective =  2518200.0\n",
            "\n",
            "Decision Variables\n",
            "Number of EV  Ahmedabad  and  Hassan : 0.0\n",
            "Number of EV  Ahmedabad  and  Jodhpur : 300.0\n",
            "Number of EV  Ahmedabad  and  Trichy : 0.0\n",
            "Number of EV  Ahmedabad  and  Simla : 0.0\n",
            "Number of EV  Ahmedabad  and  Vijayawada : 0.0\n",
            "Number of EV  Ahmedabad  and  Dibrugarh : 50.0\n",
            "Number of EV  Ahmedabad  and  Raipur : 0.0\n",
            "Number of EV  Ahmedabad  and  Agartala : 0.0\n",
            "Number of EV  Bengaluru  and  Hassan : 0.0\n",
            "Number of EV  Bengaluru  and  Jodhpur : 0.0\n",
            "Number of EV  Bengaluru  and  Trichy : 120.0\n",
            "Number of EV  Bengaluru  and  Simla : 0.0\n",
            "Number of EV  Bengaluru  and  Vijayawada : 65.0\n",
            "Number of EV  Bengaluru  and  Dibrugarh : 0.0\n",
            "Number of EV  Bengaluru  and  Raipur : 0.0\n",
            "Number of EV  Bengaluru  and  Agartala : 0.0\n",
            "Number of EV  Chennai  and  Hassan : 0.0\n",
            "Number of EV  Chennai  and  Jodhpur : 0.0\n",
            "Number of EV  Chennai  and  Trichy : 305.0\n",
            "Number of EV  Chennai  and  Simla : 0.0\n",
            "Number of EV  Chennai  and  Vijayawada : 0.0\n",
            "Number of EV  Chennai  and  Dibrugarh : 0.0\n",
            "Number of EV  Chennai  and  Raipur : 0.0\n",
            "Number of EV  Chennai  and  Agartala : 0.0\n",
            "Number of EV  Delhi  and  Hassan : 0.0\n",
            "Number of EV  Delhi  and  Jodhpur : 0.0\n",
            "Number of EV  Delhi  and  Trichy : 0.0\n",
            "Number of EV  Delhi  and  Simla : 180.0\n",
            "Number of EV  Delhi  and  Vijayawada : 0.0\n",
            "Number of EV  Delhi  and  Dibrugarh : 0.0\n",
            "Number of EV  Delhi  and  Raipur : 0.0\n",
            "Number of EV  Delhi  and  Agartala : 0.0\n",
            "Number of EV  Kolkata  and  Hassan : 0.0\n",
            "Number of EV  Kolkata  and  Jodhpur : 0.0\n",
            "Number of EV  Kolkata  and  Trichy : 0.0\n",
            "Number of EV  Kolkata  and  Simla : 0.0\n",
            "Number of EV  Kolkata  and  Vijayawada : 0.0\n",
            "Number of EV  Kolkata  and  Dibrugarh : 0.0\n",
            "Number of EV  Kolkata  and  Raipur : 95.0\n",
            "Number of EV  Kolkata  and  Agartala : 110.0\n",
            "Number of EV  Lucknow  and  Hassan : 0.0\n",
            "Number of EV  Lucknow  and  Jodhpur : 0.0\n",
            "Number of EV  Lucknow  and  Trichy : 0.0\n",
            "Number of EV  Lucknow  and  Simla : 0.0\n",
            "Number of EV  Lucknow  and  Vijayawada : 0.0\n",
            "Number of EV  Lucknow  and  Dibrugarh : 175.0\n",
            "Number of EV  Lucknow  and  Raipur : 0.0\n",
            "Number of EV  Lucknow  and  Agartala : 0.0\n",
            "Number of EV  Mumbai  and  Hassan : 205.0\n",
            "Number of EV  Mumbai  and  Jodhpur : 0.0\n",
            "Number of EV  Mumbai  and  Trichy : 0.0\n",
            "Number of EV  Mumbai  and  Simla : 90.0\n",
            "Number of EV  Mumbai  and  Vijayawada : 0.0\n",
            "Number of EV  Mumbai  and  Dibrugarh : 0.0\n",
            "Number of EV  Mumbai  and  Raipur : 30.0\n",
            "Number of EV  Mumbai  and  Agartala : 0.0\n",
            "Number of EV  Hyderabad  and  Hassan : 0.0\n",
            "Number of EV  Hyderabad  and  Jodhpur : 0.0\n",
            "Number of EV  Hyderabad  and  Trichy : 0.0\n",
            "Number of EV  Hyderabad  and  Simla : 0.0\n",
            "Number of EV  Hyderabad  and  Vijayawada : 310.0\n",
            "Number of EV  Hyderabad  and  Dibrugarh : 0.0\n",
            "Number of EV  Hyderabad  and  Raipur : 60.0\n",
            "Number of EV  Hyderabad  and  Agartala : 0.0\n",
            "\n",
            "Constraints\n",
            "constraints : Size=16\n",
            "    Key : Lower : Body  : Upper\n",
            "      1 :  None : 350.0 : 350.0\n",
            "      2 :  None : 185.0 : 185.0\n",
            "      3 :  None : 305.0 : 305.0\n",
            "      4 :  None : 180.0 : 180.0\n",
            "      5 :  None : 205.0 : 205.0\n",
            "      6 :  None : 175.0 : 175.0\n",
            "      7 :  None : 325.0 : 325.0\n",
            "      8 :  None : 370.0 : 370.0\n",
            "      9 : 205.0 : 205.0 : 205.0\n",
            "     10 : 300.0 : 300.0 : 300.0\n",
            "     11 : 425.0 : 425.0 : 425.0\n",
            "     12 : 270.0 : 270.0 : 270.0\n",
            "     13 : 375.0 : 375.0 : 375.0\n",
            "     14 : 225.0 : 225.0 : 225.0\n",
            "     15 : 185.0 : 185.0 : 185.0\n",
            "     16 : 110.0 : 110.0 : 110.0\n",
            "Number of truck loads of EV Ahmedabad and Jodhpur : 300.0\n",
            "Number of truck loads of EV Ahmedabad and Dibrugarh : 50.0\n",
            "Number of truck loads of EV Bengaluru and Trichy : 120.0\n",
            "Number of truck loads of EV Bengaluru and Vijayawada : 65.0\n",
            "Number of truck loads of EV Chennai and Trichy : 305.0\n",
            "Number of truck loads of EV Delhi and Simla : 180.0\n",
            "Number of truck loads of EV Kolkata and Raipur : 95.0\n",
            "Number of truck loads of EV Kolkata and Agartala : 110.0\n",
            "Number of truck loads of EV Lucknow and Dibrugarh : 175.0\n",
            "Number of truck loads of EV Mumbai and Hassan : 205.0\n",
            "Number of truck loads of EV Mumbai and Simla : 90.0\n",
            "Number of truck loads of EV Mumbai and Raipur : 30.0\n",
            "Number of truck loads of EV Hyderabad and Vijayawada : 310.0\n",
            "Number of truck loads of EV Hyderabad and Raipur : 60.0\n",
            "\n",
            "Objective =  2518200.0\n",
            "\n",
            "Decision Variables\n",
            "Number of EV  Ahmedabad  and  Hassan : 0.0\n",
            "Number of EV  Ahmedabad  and  Jodhpur : 300.0\n",
            "Number of EV  Ahmedabad  and  Trichy : 0.0\n",
            "Number of EV  Ahmedabad  and  Simla : 0.0\n",
            "Number of EV  Ahmedabad  and  Vijayawada : 0.0\n",
            "Number of EV  Ahmedabad  and  Dibrugarh : 50.0\n",
            "Number of EV  Ahmedabad  and  Raipur : 0.0\n",
            "Number of EV  Ahmedabad  and  Agartala : 0.0\n",
            "Number of EV  Bengaluru  and  Hassan : 0.0\n",
            "Number of EV  Bengaluru  and  Jodhpur : 0.0\n",
            "Number of EV  Bengaluru  and  Trichy : 120.0\n",
            "Number of EV  Bengaluru  and  Simla : 0.0\n",
            "Number of EV  Bengaluru  and  Vijayawada : 65.0\n",
            "Number of EV  Bengaluru  and  Dibrugarh : 0.0\n",
            "Number of EV  Bengaluru  and  Raipur : 0.0\n",
            "Number of EV  Bengaluru  and  Agartala : 0.0\n",
            "Number of EV  Chennai  and  Hassan : 0.0\n",
            "Number of EV  Chennai  and  Jodhpur : 0.0\n",
            "Number of EV  Chennai  and  Trichy : 305.0\n",
            "Number of EV  Chennai  and  Simla : 0.0\n",
            "Number of EV  Chennai  and  Vijayawada : 0.0\n",
            "Number of EV  Chennai  and  Dibrugarh : 0.0\n",
            "Number of EV  Chennai  and  Raipur : 0.0\n",
            "Number of EV  Chennai  and  Agartala : 0.0\n",
            "Number of EV  Delhi  and  Hassan : 0.0\n",
            "Number of EV  Delhi  and  Jodhpur : 0.0\n",
            "Number of EV  Delhi  and  Trichy : 0.0\n",
            "Number of EV  Delhi  and  Simla : 180.0\n",
            "Number of EV  Delhi  and  Vijayawada : 0.0\n",
            "Number of EV  Delhi  and  Dibrugarh : 0.0\n",
            "Number of EV  Delhi  and  Raipur : 0.0\n",
            "Number of EV  Delhi  and  Agartala : 0.0\n",
            "Number of EV  Kolkata  and  Hassan : 0.0\n",
            "Number of EV  Kolkata  and  Jodhpur : 0.0\n",
            "Number of EV  Kolkata  and  Trichy : 0.0\n",
            "Number of EV  Kolkata  and  Simla : 0.0\n",
            "Number of EV  Kolkata  and  Vijayawada : 0.0\n",
            "Number of EV  Kolkata  and  Dibrugarh : 0.0\n",
            "Number of EV  Kolkata  and  Raipur : 95.0\n",
            "Number of EV  Kolkata  and  Agartala : 110.0\n",
            "Number of EV  Lucknow  and  Hassan : 0.0\n",
            "Number of EV  Lucknow  and  Jodhpur : 0.0\n",
            "Number of EV  Lucknow  and  Trichy : 0.0\n",
            "Number of EV  Lucknow  and  Simla : 0.0\n",
            "Number of EV  Lucknow  and  Vijayawada : 0.0\n",
            "Number of EV  Lucknow  and  Dibrugarh : 175.0\n",
            "Number of EV  Lucknow  and  Raipur : 0.0\n",
            "Number of EV  Lucknow  and  Agartala : 0.0\n",
            "Number of EV  Mumbai  and  Hassan : 205.0\n",
            "Number of EV  Mumbai  and  Jodhpur : 0.0\n",
            "Number of EV  Mumbai  and  Trichy : 0.0\n",
            "Number of EV  Mumbai  and  Simla : 90.0\n",
            "Number of EV  Mumbai  and  Vijayawada : 0.0\n",
            "Number of EV  Mumbai  and  Dibrugarh : 0.0\n",
            "Number of EV  Mumbai  and  Raipur : 30.0\n",
            "Number of EV  Mumbai  and  Agartala : 0.0\n",
            "Number of EV  Hyderabad  and  Hassan : 0.0\n",
            "Number of EV  Hyderabad  and  Jodhpur : 0.0\n",
            "Number of EV  Hyderabad  and  Trichy : 0.0\n",
            "Number of EV  Hyderabad  and  Simla : 0.0\n",
            "Number of EV  Hyderabad  and  Vijayawada : 310.0\n",
            "Number of EV  Hyderabad  and  Dibrugarh : 0.0\n",
            "Number of EV  Hyderabad  and  Raipur : 60.0\n",
            "Number of EV  Hyderabad  and  Agartala : 0.0\n",
            "\n",
            "Constraints\n",
            "constraints : Size=16\n",
            "    Key : Lower : Body  : Upper\n",
            "      1 :  None : 350.0 : 350.0\n",
            "      2 :  None : 185.0 : 185.0\n",
            "      3 :  None : 305.0 : 305.0\n",
            "      4 :  None : 180.0 : 180.0\n",
            "      5 :  None : 205.0 : 205.0\n",
            "      6 :  None : 175.0 : 175.0\n",
            "      7 :  None : 325.0 : 325.0\n",
            "      8 :  None : 370.0 : 370.0\n",
            "      9 : 205.0 : 205.0 : 205.0\n",
            "     10 : 300.0 : 300.0 : 300.0\n",
            "     11 : 425.0 : 425.0 : 425.0\n",
            "     12 : 270.0 : 270.0 : 270.0\n",
            "     13 : 375.0 : 375.0 : 375.0\n",
            "     14 : 225.0 : 225.0 : 225.0\n",
            "     15 : 185.0 : 185.0 : 185.0\n",
            "     16 : 110.0 : 110.0 : 110.0\n",
            "Number of truck loads of EV Ahmedabad and Jodhpur : 300.0\n",
            "Number of truck loads of EV Ahmedabad and Dibrugarh : 50.0\n",
            "Number of truck loads of EV Bengaluru and Trichy : 120.0\n",
            "Number of truck loads of EV Bengaluru and Vijayawada : 65.0\n",
            "Number of truck loads of EV Chennai and Trichy : 305.0\n",
            "Number of truck loads of EV Delhi and Simla : 180.0\n",
            "Number of truck loads of EV Kolkata and Raipur : 95.0\n",
            "Number of truck loads of EV Kolkata and Agartala : 110.0\n",
            "Number of truck loads of EV Lucknow and Dibrugarh : 175.0\n",
            "Number of truck loads of EV Mumbai and Hassan : 205.0\n",
            "Number of truck loads of EV Mumbai and Simla : 90.0\n",
            "Number of truck loads of EV Mumbai and Raipur : 30.0\n",
            "Number of truck loads of EV Hyderabad and Vijayawada : 310.0\n",
            "Number of truck loads of EV Hyderabad and Raipur : 60.0\n"
          ]
        }
      ]
    },
    {
      "cell_type": "markdown",
      "source": [
        "Answer11:\n",
        "* Number of truck loads of EV Ahmedabad and Jodhpur:300.0 \\\\\n",
        "* Number of truck loads of EV Ahmedabad and Dibrugarh : 50.0 \\\\\n",
        "* Number of truck loads of EV Bengaluru and Trichy : 120.0 \\\\\n",
        "*Number of truck loads of EV Bengaluru and Vijayawada : 65.0 \\\\\n",
        "*Number of truck loads of EV Chennai and Trichy : 305.0 \\\\\n",
        "* Number of truck loads of EV Delhi and Simla : 180.0 \\\\\n",
        "* * Number of truck loads of EV Kolkata and Raipur : 95.0 \\\\\n",
        "* Number of truck loads of EV Kolkata and Agartala : 110.0 \\\\\n",
        "* Number of truck loads of EV Lucknow and Dibrugarh : 175.0 \\\\\n",
        "* Number of truck loads of EV Mumbai and Hassan : 205.0 \\\\\n",
        "* Number of truck loads of EV Mumbai and Simla : 90.0 \\\\\n",
        "*Number of truck loads of EV Mumbai and Raipur : 30.0 \\\\\n",
        "* Number of truck loads of EV Hyderabad and Vijayawada : 310.0 \\\\\n",
        "* Number of truck loads of EV Hyderabad and Raipur : 60.0 \\\\\n",
        "\n",
        "* minimum transportaion: 2518200.0\n",
        "* Part2:\n",
        "Here we observe that minimum transportation cost is increased in comparison of last two cases when we blocked two routes.Since the new two routes which are blocked Delhi-Raipur and Kolkata-dilbrugarh are one of these routes which have low cost than most of the routes.So Cost increases."
      ],
      "metadata": {
        "id": "9od4xZdv2GR9"
      }
    },
    {
      "cell_type": "code",
      "source": [],
      "metadata": {
        "id": "JaVAD1VPUMsF"
      },
      "execution_count": null,
      "outputs": []
    }
  ]
}