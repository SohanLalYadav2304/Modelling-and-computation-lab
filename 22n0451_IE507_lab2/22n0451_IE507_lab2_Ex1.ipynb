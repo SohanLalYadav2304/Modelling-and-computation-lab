{
  "nbformat": 4,
  "nbformat_minor": 0,
  "metadata": {
    "colab": {
      "name": "22n0451_IE507_lab2_Ex1.ipynb",
      "provenance": [],
      "collapsed_sections": []
    },
    "kernelspec": {
      "name": "python3",
      "display_name": "Python 3"
    },
    "language_info": {
      "name": "python"
    }
  },
  "cells": [
    {
      "cell_type": "code",
      "execution_count": null,
      "metadata": {
        "colab": {
          "base_uri": "https://localhost:8080/"
        },
        "id": "aKXuA1XFIBMh",
        "outputId": "a1f130f7-6edb-434d-c009-c4eec91daf7b"
      },
      "outputs": [
        {
          "output_type": "stream",
          "name": "stdout",
          "text": [
            "\u001b[K     |████████████████████████████████| 9.6 MB 8.5 MB/s \n",
            "\u001b[K     |████████████████████████████████| 49 kB 6.0 MB/s \n",
            "\u001b[?25h"
          ]
        }
      ],
      "source": [
        "!pip install -q pyomo"
      ]
    },
    {
      "cell_type": "code",
      "source": [
        "from pyomo.environ import *"
      ],
      "metadata": {
        "id": "cJ8Lez2OIJMz"
      },
      "execution_count": null,
      "outputs": []
    },
    {
      "cell_type": "code",
      "source": [
        "import numpy as np"
      ],
      "metadata": {
        "id": "gKyVHvBFIP4H"
      },
      "execution_count": null,
      "outputs": []
    },
    {
      "cell_type": "code",
      "source": [
        "# create a model\n",
        "model = ConcreteModel()"
      ],
      "metadata": {
        "id": "Xt6tLtXrIbbs"
      },
      "execution_count": null,
      "outputs": []
    },
    {
      "cell_type": "code",
      "source": [
        "N = 14"
      ],
      "metadata": {
        "id": "zrINEUc3Ifnv"
      },
      "execution_count": null,
      "outputs": []
    },
    {
      "cell_type": "code",
      "source": [
        "obj_coef_c = np.array([-4.2, 37.75, 3.5, 10.05, -8.25, 40.85, 0.05, -11.12, 0.65, 20.725, -102.65, 0.6, -9.45, -25.625])"
      ],
      "metadata": {
        "id": "AqSXJ5IbI3vV"
      },
      "execution_count": null,
      "outputs": []
    },
    {
      "cell_type": "code",
      "source": [
        "constr1_coef_p = np.array([1, 1, 1, 1, 1, 1, 1, 1, 1, 1, 1, 1, 1,1])\n",
        "constr2_coef_q = np.array([2.8, -0.6725, 3.6, 0, -2.02, 1.01, -4.305, 0, 1, -2.09, 0, -2.124, -3.402, 0])\n",
        "constr1_rhs_b1 = 343.48\n",
        "constr2_rhs_b2 = 66.2"
      ],
      "metadata": {
        "id": "jIwSbiIvKF5i"
      },
      "execution_count": null,
      "outputs": []
    },
    {
      "cell_type": "code",
      "source": [
        "lower_bound = np.array([2, -3, -np.inf, 1, 7, 3, -9, 0, 1, -25.245, -np.inf, -6, -30.5, -10.8])\n",
        "upper_bound = np.array([np.inf, 6, 2.5, 3.4, np.inf, 6, 4.1, np.inf, 30, 11, 0, 0, 95, 13.4])"
      ],
      "metadata": {
        "id": "QVVYNin-L5O1"
      },
      "execution_count": null,
      "outputs": []
    },
    {
      "cell_type": "code",
      "source": [
        "col_indices = np.arange(N)\n",
        "print(col_indices)\n"
      ],
      "metadata": {
        "colab": {
          "base_uri": "https://localhost:8080/"
        },
        "id": "dZ3oSXN5Memd",
        "outputId": "85d329ce-b81e-4490-c1f2-b0c8a3a96928"
      },
      "execution_count": null,
      "outputs": [
        {
          "output_type": "stream",
          "name": "stdout",
          "text": [
            "[ 0  1  2  3  4  5  6  7  8  9 10 11 12 13]\n"
          ]
        }
      ]
    },
    {
      "cell_type": "code",
      "source": [
        "model.x = Var(col_indices)"
      ],
      "metadata": {
        "id": "4ot5koJxMled"
      },
      "execution_count": null,
      "outputs": []
    },
    {
      "cell_type": "code",
      "source": [
        "model.constraints = ConstraintList()"
      ],
      "metadata": {
        "id": "zW7JDIwiMpsE"
      },
      "execution_count": null,
      "outputs": []
    },
    {
      "cell_type": "code",
      "source": [
        "model.constraints.add(sum(constr1_coef_p[j]*model.x[j] for j in col_indices) <= constr1_rhs_b1)"
      ],
      "metadata": {
        "colab": {
          "base_uri": "https://localhost:8080/"
        },
        "id": "WdDJsHmaMvaF",
        "outputId": "483fca1c-ffc1-42b0-afbd-4239fca8ec88"
      },
      "execution_count": null,
      "outputs": [
        {
          "output_type": "execute_result",
          "data": {
            "text/plain": [
              "<pyomo.core.base.constraint._GeneralConstraintData at 0x7fef23f41fa0>"
            ]
          },
          "metadata": {},
          "execution_count": 12
        }
      ]
    },
    {
      "cell_type": "code",
      "source": [
        "model.constraints.add(sum(constr2_coef_q[j]*model.x[j] for j in col_indices) >= constr2_rhs_b2)\n"
      ],
      "metadata": {
        "colab": {
          "base_uri": "https://localhost:8080/"
        },
        "id": "jkkpFQ3LM0GO",
        "outputId": "741ea013-606b-4f30-a4d2-ae573543dac8"
      },
      "execution_count": null,
      "outputs": [
        {
          "output_type": "execute_result",
          "data": {
            "text/plain": [
              "<pyomo.core.base.constraint._GeneralConstraintData at 0x7fef23f59590>"
            ]
          },
          "metadata": {},
          "execution_count": 13
        }
      ]
    },
    {
      "cell_type": "code",
      "source": [
        "model.constraints.add(sum(constr2_coef_q[j]*model.x[j] for j in col_indices) <= constr2_rhs_b2)\n"
      ],
      "metadata": {
        "colab": {
          "base_uri": "https://localhost:8080/"
        },
        "id": "hhjHBCidOmof",
        "outputId": "27aff97c-cc7a-4733-db31-4d5b23720bee"
      },
      "execution_count": null,
      "outputs": [
        {
          "output_type": "execute_result",
          "data": {
            "text/plain": [
              "<pyomo.core.base.constraint._GeneralConstraintData at 0x7fef23f590c0>"
            ]
          },
          "metadata": {},
          "execution_count": 14
        }
      ]
    },
    {
      "cell_type": "code",
      "source": [
        "for j in col_indices:\n",
        "  model.x[j].setlb(lower_bound[j])\n",
        "  model.x[j].setub(upper_bound[j])"
      ],
      "metadata": {
        "id": "Ao10-4EdM35q"
      },
      "execution_count": null,
      "outputs": []
    },
    {
      "cell_type": "code",
      "source": [
        "model.objective = Objective(expr = sum(obj_coef_c[j]*model.x[j] for j in col_indices), sense=minimize)"
      ],
      "metadata": {
        "id": "Wbw6bAQ8M71-"
      },
      "execution_count": null,
      "outputs": []
    },
    {
      "cell_type": "code",
      "source": [
        "model.pprint()"
      ],
      "metadata": {
        "colab": {
          "base_uri": "https://localhost:8080/"
        },
        "id": "KgOK0LuSNBYq",
        "outputId": "387f6a2e-b719-44eb-852a-1d66009c5f15"
      },
      "execution_count": null,
      "outputs": [
        {
          "output_type": "stream",
          "name": "stdout",
          "text": [
            "2 Set Declarations\n",
            "    constraints_index : Size=1, Index=None, Ordered=Insertion\n",
            "        Key  : Dimen : Domain : Size : Members\n",
            "        None :     1 :    Any :    3 : {1, 2, 3}\n",
            "    x_index : Size=1, Index=None, Ordered=False\n",
            "        Key  : Dimen : Domain : Size : Members\n",
            "        None :     1 :    Any :   14 : {0, 1, 2, 3, 4, 5, 6, 7, 8, 9, 10, 11, 12, 13}\n",
            "\n",
            "1 Var Declarations\n",
            "    x : Size=14, Index=x_index\n",
            "        Key : Lower   : Value : Upper : Fixed : Stale : Domain\n",
            "          0 :     2.0 :  None :  None : False :  True :  Reals\n",
            "          1 :    -3.0 :  None :   6.0 : False :  True :  Reals\n",
            "          2 :    None :  None :   2.5 : False :  True :  Reals\n",
            "          3 :     1.0 :  None :   3.4 : False :  True :  Reals\n",
            "          4 :     7.0 :  None :  None : False :  True :  Reals\n",
            "          5 :     3.0 :  None :   6.0 : False :  True :  Reals\n",
            "          6 :    -9.0 :  None :   4.1 : False :  True :  Reals\n",
            "          7 :     0.0 :  None :  None : False :  True :  Reals\n",
            "          8 :     1.0 :  None :  30.0 : False :  True :  Reals\n",
            "          9 : -25.245 :  None :  11.0 : False :  True :  Reals\n",
            "         10 :    None :  None :   0.0 : False :  True :  Reals\n",
            "         11 :    -6.0 :  None :   0.0 : False :  True :  Reals\n",
            "         12 :   -30.5 :  None :  95.0 : False :  True :  Reals\n",
            "         13 :   -10.8 :  None :  13.4 : False :  True :  Reals\n",
            "\n",
            "1 Objective Declarations\n",
            "    objective : Size=1, Index=None, Active=True\n",
            "        Key  : Active : Sense    : Expression\n",
            "        None :   True : minimize : -4.2*x[0] + 37.75*x[1] + 3.5*x[2] + 10.05*x[3] - 8.25*x[4] + 40.85*x[5] + 0.05*x[6] - 11.12*x[7] + 0.65*x[8] + 20.725*x[9] - 102.65*x[10] + 0.6*x[11] - 9.45*x[12] - 25.625*x[13]\n",
            "\n",
            "1 Constraint Declarations\n",
            "    constraints : Size=3, Index=constraints_index, Active=True\n",
            "        Key : Lower : Body                                                                                                                  : Upper  : Active\n",
            "          1 :  -Inf :                   x[0] + x[1] + x[2] + x[3] + x[4] + x[5] + x[6] + x[7] + x[8] + x[9] + x[10] + x[11] + x[12] + x[13] : 343.48 :   True\n",
            "          2 :  66.2 : 2.8*x[0] - 0.6725*x[1] + 3.6*x[2] - 2.02*x[4] + 1.01*x[5] - 4.305*x[6] + x[8] - 2.09*x[9] - 2.124*x[11] - 3.402*x[12] :   +Inf :   True\n",
            "          3 :  -Inf : 2.8*x[0] - 0.6725*x[1] + 3.6*x[2] - 2.02*x[4] + 1.01*x[5] - 4.305*x[6] + x[8] - 2.09*x[9] - 2.124*x[11] - 3.402*x[12] :   66.2 :   True\n",
            "\n",
            "5 Declarations: x_index x constraints_index constraints objective\n"
          ]
        }
      ]
    },
    {
      "cell_type": "code",
      "source": [
        "!apt-get install -y -qq glpk-utils"
      ],
      "metadata": {
        "colab": {
          "base_uri": "https://localhost:8080/"
        },
        "id": "Zq_MYCujNG6R",
        "outputId": "12f9e16a-f628-487e-a120-b5da9f2ee45e"
      },
      "execution_count": null,
      "outputs": [
        {
          "output_type": "stream",
          "name": "stdout",
          "text": [
            "Selecting previously unselected package libsuitesparseconfig5:amd64.\n",
            "(Reading database ... 155680 files and directories currently installed.)\n",
            "Preparing to unpack .../libsuitesparseconfig5_1%3a5.1.2-2_amd64.deb ...\n",
            "Unpacking libsuitesparseconfig5:amd64 (1:5.1.2-2) ...\n",
            "Selecting previously unselected package libamd2:amd64.\n",
            "Preparing to unpack .../libamd2_1%3a5.1.2-2_amd64.deb ...\n",
            "Unpacking libamd2:amd64 (1:5.1.2-2) ...\n",
            "Selecting previously unselected package libcolamd2:amd64.\n",
            "Preparing to unpack .../libcolamd2_1%3a5.1.2-2_amd64.deb ...\n",
            "Unpacking libcolamd2:amd64 (1:5.1.2-2) ...\n",
            "Selecting previously unselected package libglpk40:amd64.\n",
            "Preparing to unpack .../libglpk40_4.65-1_amd64.deb ...\n",
            "Unpacking libglpk40:amd64 (4.65-1) ...\n",
            "Selecting previously unselected package glpk-utils.\n",
            "Preparing to unpack .../glpk-utils_4.65-1_amd64.deb ...\n",
            "Unpacking glpk-utils (4.65-1) ...\n",
            "Setting up libsuitesparseconfig5:amd64 (1:5.1.2-2) ...\n",
            "Setting up libcolamd2:amd64 (1:5.1.2-2) ...\n",
            "Setting up libamd2:amd64 (1:5.1.2-2) ...\n",
            "Setting up libglpk40:amd64 (4.65-1) ...\n",
            "Setting up glpk-utils (4.65-1) ...\n",
            "Processing triggers for libc-bin (2.27-3ubuntu1.5) ...\n",
            "Processing triggers for man-db (2.8.3-2ubuntu0.1) ...\n"
          ]
        }
      ]
    },
    {
      "cell_type": "code",
      "source": [
        "SolverFactory('glpk', executable='/usr/bin/glpsol').solve(model).write()"
      ],
      "metadata": {
        "colab": {
          "base_uri": "https://localhost:8080/"
        },
        "id": "buIEapy2NPJL",
        "outputId": "67618f1b-dd92-4b41-d44e-eb1dfaa0453a"
      },
      "execution_count": null,
      "outputs": [
        {
          "output_type": "stream",
          "name": "stdout",
          "text": [
            "# ==========================================================\n",
            "# = Solver Results                                         =\n",
            "# ==========================================================\n",
            "# ----------------------------------------------------------\n",
            "#   Problem Information\n",
            "# ----------------------------------------------------------\n",
            "Problem: \n",
            "- Name: unknown\n",
            "  Lower bound: -14246.25704375\n",
            "  Upper bound: -14246.25704375\n",
            "  Number of objectives: 1\n",
            "  Number of constraints: 4\n",
            "  Number of variables: 15\n",
            "  Number of nonzeros: 35\n",
            "  Sense: minimize\n",
            "# ----------------------------------------------------------\n",
            "#   Solver Information\n",
            "# ----------------------------------------------------------\n",
            "Solver: \n",
            "- Status: ok\n",
            "  Termination condition: optimal\n",
            "  Statistics: \n",
            "    Branch and bound: \n",
            "      Number of bounded subproblems: 0\n",
            "      Number of created subproblems: 0\n",
            "  Error rc: 0\n",
            "  Time: 0.008849859237670898\n",
            "# ----------------------------------------------------------\n",
            "#   Solution Information\n",
            "# ----------------------------------------------------------\n",
            "Solution: \n",
            "- number of solutions: 0\n",
            "  number of solutions displayed: 0\n"
          ]
        }
      ]
    },
    {
      "cell_type": "code",
      "source": [
        "# display solution\n",
        "print('\\nObjective = ', model.objective())\n",
        "\n",
        "print('\\nDecision Variables')\n",
        "for i in col_indices:\n",
        "  print('x[',i,'] = ', model.x[i].value)\n",
        "\n",
        "print('\\nConstraints')\n",
        "model.constraints.display()"
      ],
      "metadata": {
        "colab": {
          "base_uri": "https://localhost:8080/"
        },
        "id": "Z4-h045iNc1y",
        "outputId": "0f36fb86-0a99-4129-ae97-96e746fc5794"
      },
      "execution_count": null,
      "outputs": [
        {
          "output_type": "stream",
          "name": "stdout",
          "text": [
            "\n",
            "Objective =  -14246.257043750004\n",
            "\n",
            "Decision Variables\n",
            "x[ 0 ] =  2039.2619375\n",
            "x[ 1 ] =  -3.0\n",
            "x[ 2 ] =  -1623.2369375\n",
            "x[ 3 ] =  1.0\n",
            "x[ 4 ] =  7.0\n",
            "x[ 5 ] =  3.0\n",
            "x[ 6 ] =  -9.0\n",
            "x[ 7 ] =  0.0\n",
            "x[ 8 ] =  1.0\n",
            "x[ 9 ] =  -25.245\n",
            "x[ 10 ] =  0.0\n",
            "x[ 11 ] =  -6.0\n",
            "x[ 12 ] =  -30.5\n",
            "x[ 13 ] =  -10.8\n",
            "\n",
            "Constraints\n",
            "constraints : Size=3\n",
            "    Key : Lower : Body               : Upper\n",
            "      1 :  None : 343.47999999999985 : 343.48\n",
            "      2 :  66.2 :  66.19999999999925 :   None\n",
            "      3 :  None :  66.19999999999925 :   66.2\n"
          ]
        }
      ]
    },
    {
      "cell_type": "markdown",
      "source": [
        "Answer:\n",
        "\n",
        "1.Optimal values of decision variables:=\n",
        "$x_0 =  2039.2619375 \\\\\n",
        "x_1 =  -3.0 \\\\\n",
        "x_2 =  -1623.2369375 \\\\\n",
        "x_3 =  1.0 \\\\\n",
        "x_4=  7.0 \\\\ \n",
        "x_5 =  3.0 \\\\ \n",
        "x_6 =  -9.0 \\\\ \n",
        "x_7 =  0.0 \\\\\n",
        "x_8 =  1.0 \\\\\n",
        "x_9 =  -25.245 \\\\\n",
        "x_10 =  0.0 \\\\\n",
        "x_11 =  -6.0 \\\\\n",
        "x_12 =  -30.5 \\\\\n",
        "x_13 =  -10.8  \\\\ $\n",
        "\n",
        "2.Optimal value of the objective function:=-14246.257043750004\n",
        " \n",
        "\n",
        " \n",
        "\n"
      ],
      "metadata": {
        "id": "zZ-1W-AX6KKV"
      }
    }
  ]
}