{
  "nbformat": 4,
  "nbformat_minor": 0,
  "metadata": {
    "colab": {
      "name": "22n0451_IE507_lab2_ex3.ipynb",
      "provenance": [],
      "collapsed_sections": []
    },
    "kernelspec": {
      "name": "python3",
      "display_name": "Python 3"
    },
    "language_info": {
      "name": "python"
    }
  },
  "cells": [
    {
      "cell_type": "code",
      "execution_count": 2,
      "metadata": {
        "id": "Li8Gwah6L7at",
        "colab": {
          "base_uri": "https://localhost:8080/"
        },
        "outputId": "c78747b3-6807-4ecf-d228-98750c4ed7d2"
      },
      "outputs": [
        {
          "output_type": "stream",
          "name": "stdout",
          "text": [
            "\u001b[K     |████████████████████████████████| 9.6 MB 5.3 MB/s \n",
            "\u001b[K     |████████████████████████████████| 49 kB 5.0 MB/s \n",
            "\u001b[?25h"
          ]
        }
      ],
      "source": [
        "! pip install -q pyomo\n"
      ]
    },
    {
      "cell_type": "code",
      "source": [
        "from pyomo.environ import *"
      ],
      "metadata": {
        "id": "8m56lOBKqFvN"
      },
      "execution_count": 3,
      "outputs": []
    },
    {
      "cell_type": "code",
      "source": [
        "import numpy as np"
      ],
      "metadata": {
        "id": "v-J5WaGpqQqP"
      },
      "execution_count": 4,
      "outputs": []
    },
    {
      "cell_type": "code",
      "source": [
        "# create a model\n",
        "model = ConcreteModel()"
      ],
      "metadata": {
        "id": "rqJP4eqvqX0G"
      },
      "execution_count": 5,
      "outputs": []
    },
    {
      "cell_type": "code",
      "source": [
        "N = 20\n",
        "M = 4"
      ],
      "metadata": {
        "id": "eRAclTjBqbVN"
      },
      "execution_count": 6,
      "outputs": []
    },
    {
      "cell_type": "code",
      "source": [
        "obj_coef_c = np.array([45, 48, 55, 65, 54, 37.5, 35, 52.5, 47, 28,82, 102, 150, 105, 95, 84, 88, 125, 70, 64])"
      ],
      "metadata": {
        "id": "8pwA_1TrqmKK"
      },
      "execution_count": 7,
      "outputs": []
    },
    {
      "cell_type": "code",
      "source": [
        "constr_coef_A = ([[1,1,1,1,1,1,1,1,1,1,1,1,1,1,1,1,1,1,1,1],\n",
        "                  [0.20, 0.25, 0.10, 0.30, 0.125, 0.35, 0.475, 0.10,0.20,0.50,0.20, 0.25, 0.10, 0.30, 0.125, 0.35, 0.475, 0.10,0.20,0.50 ],\n",
        "                  [0.75, 0.65, 0.70, 0.60, 0.85, 0.525, 0.425, 0.40, 0.35, 0.40,0.75, 0.65, 0.70, 0.60, 0.85, 0.525, 0.425, 0.40, 0.35, 0.40],\n",
        "                  [0.05, 0.10, 0.20, 0.10, 0.025, 0.125, 0.10, 0.50, 0.45, 0.10,0.05, 0.10, 0.20, 0.10, 0.025, 0.125, 0.10, 0.50, 0.45, 0.10]])\n",
        "constr_rhs_b = ([425,116.875,244.375,63.75])"
      ],
      "metadata": {
        "id": "uXVs6Ee7q1Zl"
      },
      "execution_count": 8,
      "outputs": []
    },
    {
      "cell_type": "code",
      "source": [
        "lower_bound = np.array([0,0,0,0,0,0,0,0,0,0,0,0,0,0,0,0,0,0,0,0])\n",
        "upper_bound = np.array([15, 16, 9, 17.5, 12, 18.5, 2.5, 0.5, 9.5, 8,np.inf,np.inf,np.inf,np.inf,np.inf,np.inf,np.inf,np.inf,np.inf,np.inf])"
      ],
      "metadata": {
        "id": "cCylMzu1s5bf"
      },
      "execution_count": 9,
      "outputs": []
    },
    {
      "cell_type": "code",
      "source": [
        "col_indices = np.arange(N)\n",
        "row_indices = np.arange(M)\n",
        "print(col_indices)\n",
        "print(row_indices)"
      ],
      "metadata": {
        "colab": {
          "base_uri": "https://localhost:8080/"
        },
        "id": "wgvtWwS1tQz8",
        "outputId": "7ee1f269-e349-419d-f299-0d00e72959f3"
      },
      "execution_count": 10,
      "outputs": [
        {
          "output_type": "stream",
          "name": "stdout",
          "text": [
            "[ 0  1  2  3  4  5  6  7  8  9 10 11 12 13 14 15 16 17 18 19]\n",
            "[0 1 2 3]\n"
          ]
        }
      ]
    },
    {
      "cell_type": "code",
      "source": [
        "model.x = Var(col_indices)"
      ],
      "metadata": {
        "id": "bY2q2N6ftjAc"
      },
      "execution_count": 11,
      "outputs": []
    },
    {
      "cell_type": "code",
      "source": [
        "model.constraints = ConstraintList()"
      ],
      "metadata": {
        "id": "AoJ4i2HctnFp"
      },
      "execution_count": 12,
      "outputs": []
    },
    {
      "cell_type": "code",
      "source": [
        "for i in row_indices:\n",
        "  model.constraints.add(sum(constr_coef_A[i][j]*model.x[j] for j in col_indices) >= constr_rhs_b[i])"
      ],
      "metadata": {
        "id": "R6mHh1GYtwWA"
      },
      "execution_count": 13,
      "outputs": []
    },
    {
      "cell_type": "code",
      "source": [
        "for j in col_indices:\n",
        "  model.x[j].setlb(lower_bound[j])\n",
        "  model.x[j].setub(upper_bound[j])"
      ],
      "metadata": {
        "id": "yyKhCrWit3gW"
      },
      "execution_count": 14,
      "outputs": []
    },
    {
      "cell_type": "code",
      "source": [
        "model.objective = Objective(expr = sum(obj_coef_c[j]*model.x[j] for j in col_indices), sense=minimize)"
      ],
      "metadata": {
        "id": "03zlCLHqt81z"
      },
      "execution_count": 15,
      "outputs": []
    },
    {
      "cell_type": "code",
      "source": [
        "model.pprint()"
      ],
      "metadata": {
        "colab": {
          "base_uri": "https://localhost:8080/"
        },
        "id": "RVOq3o1GuAaf",
        "outputId": "917ed462-0bbb-4ae5-d955-67bd83bb8f2f"
      },
      "execution_count": 16,
      "outputs": [
        {
          "output_type": "stream",
          "name": "stdout",
          "text": [
            "2 Set Declarations\n",
            "    constraints_index : Size=1, Index=None, Ordered=Insertion\n",
            "        Key  : Dimen : Domain : Size : Members\n",
            "        None :     1 :    Any :    4 : {1, 2, 3, 4}\n",
            "    x_index : Size=1, Index=None, Ordered=False\n",
            "        Key  : Dimen : Domain : Size : Members\n",
            "        None :     1 :    Any :   20 : {0, 1, 2, 3, 4, 5, 6, 7, 8, 9, 10, 11, 12, 13, 14, 15, 16, 17, 18, 19}\n",
            "\n",
            "1 Var Declarations\n",
            "    x : Size=20, Index=x_index\n",
            "        Key : Lower : Value : Upper : Fixed : Stale : Domain\n",
            "          0 :     0 :  None :  15.0 : False :  True :  Reals\n",
            "          1 :     0 :  None :  16.0 : False :  True :  Reals\n",
            "          2 :     0 :  None :   9.0 : False :  True :  Reals\n",
            "          3 :     0 :  None :  17.5 : False :  True :  Reals\n",
            "          4 :     0 :  None :  12.0 : False :  True :  Reals\n",
            "          5 :     0 :  None :  18.5 : False :  True :  Reals\n",
            "          6 :     0 :  None :   2.5 : False :  True :  Reals\n",
            "          7 :     0 :  None :   0.5 : False :  True :  Reals\n",
            "          8 :     0 :  None :   9.5 : False :  True :  Reals\n",
            "          9 :     0 :  None :   8.0 : False :  True :  Reals\n",
            "         10 :     0 :  None :  None : False :  True :  Reals\n",
            "         11 :     0 :  None :  None : False :  True :  Reals\n",
            "         12 :     0 :  None :  None : False :  True :  Reals\n",
            "         13 :     0 :  None :  None : False :  True :  Reals\n",
            "         14 :     0 :  None :  None : False :  True :  Reals\n",
            "         15 :     0 :  None :  None : False :  True :  Reals\n",
            "         16 :     0 :  None :  None : False :  True :  Reals\n",
            "         17 :     0 :  None :  None : False :  True :  Reals\n",
            "         18 :     0 :  None :  None : False :  True :  Reals\n",
            "         19 :     0 :  None :  None : False :  True :  Reals\n",
            "\n",
            "1 Objective Declarations\n",
            "    objective : Size=1, Index=None, Active=True\n",
            "        Key  : Active : Sense    : Expression\n",
            "        None :   True : minimize : 45.0*x[0] + 48.0*x[1] + 55.0*x[2] + 65.0*x[3] + 54.0*x[4] + 37.5*x[5] + 35.0*x[6] + 52.5*x[7] + 47.0*x[8] + 28.0*x[9] + 82.0*x[10] + 102.0*x[11] + 150.0*x[12] + 105.0*x[13] + 95.0*x[14] + 84.0*x[15] + 88.0*x[16] + 125.0*x[17] + 70.0*x[18] + 64.0*x[19]\n",
            "\n",
            "1 Constraint Declarations\n",
            "    constraints : Size=4, Index=constraints_index, Active=True\n",
            "        Key : Lower   : Body                                                                                                                                                                                                                                                : Upper : Active\n",
            "          1 :   425.0 :                                                                                                 x[0] + x[1] + x[2] + x[3] + x[4] + x[5] + x[6] + x[7] + x[8] + x[9] + x[10] + x[11] + x[12] + x[13] + x[14] + x[15] + x[16] + x[17] + x[18] + x[19] :  +Inf :   True\n",
            "          2 : 116.875 :     0.2*x[0] + 0.25*x[1] + 0.1*x[2] + 0.3*x[3] + 0.125*x[4] + 0.35*x[5] + 0.475*x[6] + 0.1*x[7] + 0.2*x[8] + 0.5*x[9] + 0.2*x[10] + 0.25*x[11] + 0.1*x[12] + 0.3*x[13] + 0.125*x[14] + 0.35*x[15] + 0.475*x[16] + 0.1*x[17] + 0.2*x[18] + 0.5*x[19] :  +Inf :   True\n",
            "          3 : 244.375 : 0.75*x[0] + 0.65*x[1] + 0.7*x[2] + 0.6*x[3] + 0.85*x[4] + 0.525*x[5] + 0.425*x[6] + 0.4*x[7] + 0.35*x[8] + 0.4*x[9] + 0.75*x[10] + 0.65*x[11] + 0.7*x[12] + 0.6*x[13] + 0.85*x[14] + 0.525*x[15] + 0.425*x[16] + 0.4*x[17] + 0.35*x[18] + 0.4*x[19] :  +Inf :   True\n",
            "          4 :   63.75 :     0.05*x[0] + 0.1*x[1] + 0.2*x[2] + 0.1*x[3] + 0.025*x[4] + 0.125*x[5] + 0.1*x[6] + 0.5*x[7] + 0.45*x[8] + 0.1*x[9] + 0.05*x[10] + 0.1*x[11] + 0.2*x[12] + 0.1*x[13] + 0.025*x[14] + 0.125*x[15] + 0.1*x[16] + 0.5*x[17] + 0.45*x[18] + 0.1*x[19] :  +Inf :   True\n",
            "\n",
            "5 Declarations: x_index x constraints_index constraints objective\n"
          ]
        }
      ]
    },
    {
      "cell_type": "code",
      "source": [
        "!apt-get install -y -qq glpk-utils"
      ],
      "metadata": {
        "id": "Favu7ZGauKr1",
        "colab": {
          "base_uri": "https://localhost:8080/"
        },
        "outputId": "ebf4bb2c-8d34-41a4-a4e2-25a521dd71a9"
      },
      "execution_count": 17,
      "outputs": [
        {
          "output_type": "stream",
          "name": "stdout",
          "text": [
            "Selecting previously unselected package libsuitesparseconfig5:amd64.\n",
            "(Reading database ... 155680 files and directories currently installed.)\n",
            "Preparing to unpack .../libsuitesparseconfig5_1%3a5.1.2-2_amd64.deb ...\n",
            "Unpacking libsuitesparseconfig5:amd64 (1:5.1.2-2) ...\n",
            "Selecting previously unselected package libamd2:amd64.\n",
            "Preparing to unpack .../libamd2_1%3a5.1.2-2_amd64.deb ...\n",
            "Unpacking libamd2:amd64 (1:5.1.2-2) ...\n",
            "Selecting previously unselected package libcolamd2:amd64.\n",
            "Preparing to unpack .../libcolamd2_1%3a5.1.2-2_amd64.deb ...\n",
            "Unpacking libcolamd2:amd64 (1:5.1.2-2) ...\n",
            "Selecting previously unselected package libglpk40:amd64.\n",
            "Preparing to unpack .../libglpk40_4.65-1_amd64.deb ...\n",
            "Unpacking libglpk40:amd64 (4.65-1) ...\n",
            "Selecting previously unselected package glpk-utils.\n",
            "Preparing to unpack .../glpk-utils_4.65-1_amd64.deb ...\n",
            "Unpacking glpk-utils (4.65-1) ...\n",
            "Setting up libsuitesparseconfig5:amd64 (1:5.1.2-2) ...\n",
            "Setting up libcolamd2:amd64 (1:5.1.2-2) ...\n",
            "Setting up libamd2:amd64 (1:5.1.2-2) ...\n",
            "Setting up libglpk40:amd64 (4.65-1) ...\n",
            "Setting up glpk-utils (4.65-1) ...\n",
            "Processing triggers for libc-bin (2.27-3ubuntu1.5) ...\n",
            "Processing triggers for man-db (2.8.3-2ubuntu0.1) ...\n"
          ]
        }
      ]
    },
    {
      "cell_type": "code",
      "source": [
        "SolverFactory('glpk', executable='/usr/bin/glpsol').solve(model).write()"
      ],
      "metadata": {
        "colab": {
          "base_uri": "https://localhost:8080/"
        },
        "id": "SiXlP9FiuO4i",
        "outputId": "34fa0ea0-a786-4728-c55f-86d155e36a0c"
      },
      "execution_count": 18,
      "outputs": [
        {
          "output_type": "stream",
          "name": "stdout",
          "text": [
            "# ==========================================================\n",
            "# = Solver Results                                         =\n",
            "# ==========================================================\n",
            "# ----------------------------------------------------------\n",
            "#   Problem Information\n",
            "# ----------------------------------------------------------\n",
            "Problem: \n",
            "- Name: unknown\n",
            "  Lower bound: 28747.1875\n",
            "  Upper bound: 28747.1875\n",
            "  Number of objectives: 1\n",
            "  Number of constraints: 5\n",
            "  Number of variables: 21\n",
            "  Number of nonzeros: 81\n",
            "  Sense: minimize\n",
            "# ----------------------------------------------------------\n",
            "#   Solver Information\n",
            "# ----------------------------------------------------------\n",
            "Solver: \n",
            "- Status: ok\n",
            "  Termination condition: optimal\n",
            "  Statistics: \n",
            "    Branch and bound: \n",
            "      Number of bounded subproblems: 0\n",
            "      Number of created subproblems: 0\n",
            "  Error rc: 0\n",
            "  Time: 0.01233983039855957\n",
            "# ----------------------------------------------------------\n",
            "#   Solution Information\n",
            "# ----------------------------------------------------------\n",
            "Solution: \n",
            "- number of solutions: 0\n",
            "  number of solutions displayed: 0\n"
          ]
        }
      ]
    },
    {
      "cell_type": "code",
      "source": [
        "# display solution\n",
        "print('\\nObjective = ', model.objective())\n",
        "\n",
        "print('\\nDecision Variables')\n",
        "for i in col_indices:\n",
        "  print('x[',i,'] = ', model.x[i].value)\n",
        "\n",
        "print('\\nConstraints')\n",
        "model.constraints.display()"
      ],
      "metadata": {
        "colab": {
          "base_uri": "https://localhost:8080/"
        },
        "id": "MjeMytpnuUTx",
        "outputId": "60a6494d-f4ff-43ef-e1e0-00d86221be4a"
      },
      "execution_count": 19,
      "outputs": [
        {
          "output_type": "stream",
          "name": "stdout",
          "text": [
            "\n",
            "Objective =  28747.187499999993\n",
            "\n",
            "Decision Variables\n",
            "x[ 0 ] =  15.0\n",
            "x[ 1 ] =  16.0\n",
            "x[ 2 ] =  9.0\n",
            "x[ 3 ] =  17.5\n",
            "x[ 4 ] =  12.0\n",
            "x[ 5 ] =  18.5\n",
            "x[ 6 ] =  2.5\n",
            "x[ 7 ] =  0.5\n",
            "x[ 8 ] =  9.5\n",
            "x[ 9 ] =  8.0\n",
            "x[ 10 ] =  158.078125\n",
            "x[ 11 ] =  0.0\n",
            "x[ 12 ] =  0.0\n",
            "x[ 13 ] =  0.0\n",
            "x[ 14 ] =  0.0\n",
            "x[ 15 ] =  0.0\n",
            "x[ 16 ] =  0.0\n",
            "x[ 17 ] =  0.0\n",
            "x[ 18 ] =  74.046875\n",
            "x[ 19 ] =  84.3749999999999\n",
            "\n",
            "Constraints\n",
            "constraints : Size=4\n",
            "    Key : Lower   : Body               : Upper\n",
            "      1 :   425.0 :  424.9999999999999 :  None\n",
            "      2 : 116.875 : 116.87499999999994 :  None\n",
            "      3 : 244.375 : 244.37499999999997 :  None\n",
            "      4 :   63.75 :  63.74999999999999 :  None\n"
          ]
        }
      ]
    },
    {
      "cell_type": "markdown",
      "source": [
        "Answer: \n",
        "\n",
        "LP model:=For production of 425 tons of metallic alloy product, Let Manil Metal Co. uses x[0],x[1],$\\cdots$ x[9] tons of  alloys A-1,A-2 $\\cdots $ A-10 from in-house stock and uses x[10],x[11],$\\cdots$ x[19] tons of alloys A-1,A-2,$ \\cdots  $ A-10 which they buy from market.now according to question if they use both the alloys then the cost function and constraints are following:  \n",
        "\n",
        "Cost function =minimize  $45.0*x[0] + 48.0*x[1] + 55.0*x[2] + 65.0*x[3] + 54.0*x[4] + 37.5*x[5] + 35.0*x[6] + 52.5*x[7] + 47.0*x[8] + 28.0*x[9] + 82.0*x[10] + 102.0*x[11] + 150.0*x[12] + 105.0*x[13] + 95.0*x[14] + 84.0*x[15] + 88.0*x[16] + 125.0*x[17] + 70.0*x[18] + 64.0*x[19]$\n",
        "\n",
        "Constraints:= \n",
        "\n",
        "$ \\sum_{i=0}^{19} x_i \\geq 425 \\\\  0.2*x[0] + 0.25*x[1] + 0.1*x[2] + 0.3*x[3] + 0.125*x[4] + 0.35*x[5] + 0.475*x[6] + 0.1*x[7] + 0.2*x[8] + 0.5*x[9] + 0.2*x[10] + 0.25*x[11] + 0.1*x[12] + 0.3*x[13] + 0.125*x[14] + 0.35*x[15] + 0.475*x[16] + 0.1*x[17] + 0.2*x[18] + 0.5*x[19] \\geq 116.875\\\\  0.75*x[0] + 0.65*x[1] + 0.7*x[2] + 0.6*x[3] + 0.85*x[4] + 0.525*x[5] + 0.425*x[6] + 0.4*x[7] + 0.35*x[8] + 0.4*x[9] + 0.75*x[10] + 0.65*x[11] + 0.7*x[12] + 0.6*x[13] + 0.85*x[14] + 0.525*x[15] + 0.425*x[16] + 0.4*x[17] + 0.35*x[18] + 0.4*x[19] \\geq 244.375 \\\\  0.05*x[0] + 0.1*x[1] + 0.2*x[2] + 0.1*x[3] + 0.025*x[4] + 0.125*x[5] + 0.1*x[6] + 0.5*x[7] + 0.45*x[8] + 0.1*x[9] + 0.05*x[10] + 0.1*x[11] + 0.2*x[12] + 0.1*x[13] + 0.025*x[14] + 0.125*x[15] + 0.1*x[16] + 0.5*x[17] + 0.45*x[18] + 0.1*x[19] \\geq 63.75 $\n",
        "\n"
      ],
      "metadata": {
        "id": "OWSvHAFa50cU"
      }
    },
    {
      "cell_type": "markdown",
      "source": [
        "Answer2:\n",
        " \n",
        " Now we get optimal cost:28747.187499999993\n",
        "\n",
        "\n",
        "optimal quantaties of alloys:\n",
        "x[ 0 ] =  15.0 \\\\\n",
        "x[ 1 ] =  16.0 \\\\\n",
        "x[ 2 ] =  9.0 \\\\\n",
        "x[ 3 ] =  17.5 \\\\\n",
        "x[ 4 ] =  12.0 \\\\\n",
        "x[ 5 ] =  18.5 \\\\\n",
        "x[ 6 ] =  2.5 \\\\\n",
        "x[ 7 ] =  0.5 \\\\\n",
        "x[ 8 ] =  9.5 \\\\\n",
        "x[ 9 ] =  8.0 \\\\\n",
        "x[ 10 ] =  158.078125 \\\\\n",
        "x[ 11 ] =  0.0 \\\\\n",
        "x[ 12 ] =  0.0 \\\\\n",
        "x[ 13 ] =  0.0 \\\\\n",
        "x[ 14 ] =  0.0 \\\\\n",
        "x[ 15 ] =  0.0 \\\\\n",
        "x[ 16 ] =  0.0 \\\\\n",
        "x[ 17 ] =  0.0 \\\\\n",
        "x[ 18 ] =  74.046875 \\\\\n",
        "x[ 19 ] =  84.3749999999999"
      ],
      "metadata": {
        "id": "Bd0yIMuCd244"
      }
    },
    {
      "cell_type": "markdown",
      "source": [
        "Answer3:\n",
        "\n",
        "According to solution ,we get that alloy A-1 ,A-9 and A-10 is needed to buy.\n",
        "And alloy A-1,A-9 and A-10 are three alloys which are high ranked to be bought(158.078125,74.046875,84.3749999999999 respectively).And A-2,A-3,A-4 are three alloys which are low ranked to be bought since according to answer there is no need to buy them from market.their in-house stock is sufficient to produce the 425 product."
      ],
      "metadata": {
        "id": "4qvxxXdky6JB"
      }
    },
    {
      "cell_type": "markdown",
      "source": [
        "Answer4:\n",
        "\n",
        "According to solution,all the alloys are utilized.since all in-house stock of each alloy is used to produce the product."
      ],
      "metadata": {
        "id": "S4lyzmI60Kyj"
      }
    },
    {
      "cell_type": "markdown",
      "source": [
        "Answer5:\n",
        "\n",
        "According to solution , yes,there are some alloys which need not be aquired to market.as A-2,A-3,A-4,A-5,A-6,A-7,A-8 are these alloys not to be required to buy from market."
      ],
      "metadata": {
        "id": "u4adypQZ1PTh"
      }
    },
    {
      "cell_type": "code",
      "source": [
        ""
      ],
      "metadata": {
        "id": "5GSlwh9k1xMs"
      },
      "execution_count": null,
      "outputs": []
    }
  ]
}