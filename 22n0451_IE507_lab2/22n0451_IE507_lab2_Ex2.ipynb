{
  "cells": [
    {
      "cell_type": "code",
      "execution_count": null,
      "metadata": {
        "id": "58MJCA-cOM2V"
      },
      "outputs": [],
      "source": [
        "! pip install -q pyomo"
      ]
    },
    {
      "cell_type": "code",
      "execution_count": null,
      "metadata": {
        "id": "j4opCPZrSak0"
      },
      "outputs": [],
      "source": [
        "from pyomo.environ import *"
      ]
    },
    {
      "cell_type": "markdown",
      "metadata": {
        "id": "Exp56t5XLI3Z"
      },
      "source": [
        ""
      ]
    },
    {
      "cell_type": "code",
      "execution_count": null,
      "metadata": {
        "id": "VjTSjXa9Px7z"
      },
      "outputs": [],
      "source": [
        "import numpy as np"
      ]
    },
    {
      "cell_type": "code",
      "execution_count": null,
      "metadata": {
        "id": "Lw8B0ga_P2_Q"
      },
      "outputs": [],
      "source": [
        "# create a model\n",
        "model = ConcreteModel()"
      ]
    },
    {
      "cell_type": "code",
      "execution_count": null,
      "metadata": {
        "id": "yscXQbN1QUlZ"
      },
      "outputs": [],
      "source": [
        "N = 12 # number of decision variables\n",
        "M = 5 # number of constraints"
      ]
    },
    {
      "cell_type": "code",
      "execution_count": null,
      "metadata": {
        "id": "YpciHs_oQbsR"
      },
      "outputs": [],
      "source": [
        "obj_coef_c = np.array([0.56, 1.721, -9.6, -2.85, 41.5, 33.05, -0.75, 20.5, -0.35, -31.02, 50.65, 6.125])"
      ]
    },
    {
      "cell_type": "code",
      "execution_count": null,
      "metadata": {
        "id": "gLFAcqtQSfea"
      },
      "outputs": [],
      "source": [
        "constr_coef_A = ([[1, -1, 0, 0, 2, -2, 1, 0, 0, -1, 1, -2],\n",
        "                 [1, 0, 0, -1, 0, -2, 0, -1, 1, 0, 0, -1],\n",
        "                 [-1, 0, 0, 1, -1, 2.5, -3.5, 0, 2, -1, 1, 0],\n",
        "                 [0, 1, -0.45, 0, -2.78, 0, -3.4, 0, -1, 1, -1, 0.25],\n",
        "                 [0, -1, 1, 0, 1, 0, 1, 3, -2, 0, 1, 0]])\n",
        "constr1_rhs_b = ([88.5, 35.4, 47.9, 41.43, 22.7])"
      ]
    },
    {
      "cell_type": "code",
      "execution_count": null,
      "metadata": {
        "id": "2rkJ2NVwVzF2"
      },
      "outputs": [],
      "source": [
        "lower_bound = np.array([0, 0, -np.inf, -np.inf, -34, 0, -67, 0, -23, -5, 6, 1])\n",
        "upper_bound = np.array([12, 503, 4, np.inf, np.inf, 2, 20, 55, 23, 15, np.inf, np.inf])"
      ]
    },
    {
      "cell_type": "code",
      "execution_count": null,
      "metadata": {
        "colab": {
          "base_uri": "https://localhost:8080/"
        },
        "id": "3bJugac2W8Hk",
        "outputId": "051eb314-7e61-4a61-a993-51e22382c360"
      },
      "outputs": [
        {
          "output_type": "stream",
          "name": "stdout",
          "text": [
            "[ 0  1  2  3  4  5  6  7  8  9 10 11]\n"
          ]
        }
      ],
      "source": [
        "col_indices = np.arange(N)\n",
        "row_indices = np.arange(M)\n",
        "print(col_indices)\n"
      ]
    },
    {
      "cell_type": "code",
      "execution_count": null,
      "metadata": {
        "id": "FbUbmY3wXAyJ"
      },
      "outputs": [],
      "source": [
        "model.x = Var(col_indices)"
      ]
    },
    {
      "cell_type": "code",
      "execution_count": null,
      "metadata": {
        "id": "lFNH00RGeVyc"
      },
      "outputs": [],
      "source": [
        "model.constraints = ConstraintList()"
      ]
    },
    {
      "cell_type": "code",
      "execution_count": null,
      "metadata": {
        "id": "GFn2579xbuAK"
      },
      "outputs": [],
      "source": [
        "for i in row_indices:\n",
        "  model.constraints.add(sum(constr_coef_A[i][j]*model.x[j] for j in col_indices) <= constr1_rhs_b[i])"
      ]
    },
    {
      "cell_type": "code",
      "execution_count": null,
      "metadata": {
        "id": "db9TenAcd0_Q"
      },
      "outputs": [],
      "source": [
        "for j in col_indices:\n",
        "  model.x[j].setlb(lower_bound[j])\n",
        "  model.x[j].setub(upper_bound[j])"
      ]
    },
    {
      "cell_type": "code",
      "execution_count": null,
      "metadata": {
        "id": "pEgG8KB1LNqk"
      },
      "outputs": [],
      "source": [
        "model.objective = Objective(expr = sum(obj_coef_c[j]*model.x[j] for j in col_indices), sense=minimize)"
      ]
    },
    {
      "cell_type": "code",
      "execution_count": null,
      "metadata": {
        "colab": {
          "base_uri": "https://localhost:8080/"
        },
        "id": "9anVIncELTGE",
        "outputId": "10bcc7d6-154d-4271-9ce7-e08597f92a40"
      },
      "outputs": [
        {
          "output_type": "stream",
          "name": "stdout",
          "text": [
            "2 Set Declarations\n",
            "    constraints_index : Size=1, Index=None, Ordered=Insertion\n",
            "        Key  : Dimen : Domain : Size : Members\n",
            "        None :     1 :    Any :    5 : {1, 2, 3, 4, 5}\n",
            "    x_index : Size=1, Index=None, Ordered=False\n",
            "        Key  : Dimen : Domain : Size : Members\n",
            "        None :     1 :    Any :   12 : {0, 1, 2, 3, 4, 5, 6, 7, 8, 9, 10, 11}\n",
            "\n",
            "1 Var Declarations\n",
            "    x : Size=12, Index=x_index\n",
            "        Key : Lower : Value : Upper : Fixed : Stale : Domain\n",
            "          0 :   0.0 :  None :  12.0 : False :  True :  Reals\n",
            "          1 :   0.0 :  None : 503.0 : False :  True :  Reals\n",
            "          2 :  None :  None :   4.0 : False :  True :  Reals\n",
            "          3 :  None :  None :  None : False :  True :  Reals\n",
            "          4 : -34.0 :  None :  None : False :  True :  Reals\n",
            "          5 :   0.0 :  None :   2.0 : False :  True :  Reals\n",
            "          6 : -67.0 :  None :  20.0 : False :  True :  Reals\n",
            "          7 :   0.0 :  None :  55.0 : False :  True :  Reals\n",
            "          8 : -23.0 :  None :  23.0 : False :  True :  Reals\n",
            "          9 :  -5.0 :  None :  15.0 : False :  True :  Reals\n",
            "         10 :   6.0 :  None :  None : False :  True :  Reals\n",
            "         11 :   1.0 :  None :  None : False :  True :  Reals\n",
            "\n",
            "1 Objective Declarations\n",
            "    objective : Size=1, Index=None, Active=True\n",
            "        Key  : Active : Sense    : Expression\n",
            "        None :   True : minimize : 0.56*x[0] + 1.721*x[1] - 9.6*x[2] - 2.85*x[3] + 41.5*x[4] + 33.05*x[5] - 0.75*x[6] + 20.5*x[7] - 0.35*x[8] - 31.02*x[9] + 50.65*x[10] + 6.125*x[11]\n",
            "\n",
            "1 Constraint Declarations\n",
            "    constraints : Size=5, Index=constraints_index, Active=True\n",
            "        Key : Lower : Body                                                                       : Upper : Active\n",
            "          1 :  -Inf :              x[0] - x[1] + 2*x[4] - 2*x[5] + x[6] - x[9] + x[10] - 2*x[11] :  88.5 :   True\n",
            "          2 :  -Inf :                                 x[0] - x[3] - 2*x[5] - x[7] + x[8] - x[11] :  35.4 :   True\n",
            "          3 :  -Inf :         - x[0] + x[3] - x[4] + 2.5*x[5] - 3.5*x[6] + 2*x[8] - x[9] + x[10] :  47.9 :   True\n",
            "          4 :  -Inf : x[1] - 0.45*x[2] - 2.78*x[4] - 3.4*x[6] - x[8] + x[9] - x[10] + 0.25*x[11] : 41.43 :   True\n",
            "          5 :  -Inf :                      - x[1] + x[2] + x[4] + x[6] + 3*x[7] - 2*x[8] + x[10] :  22.7 :   True\n",
            "\n",
            "5 Declarations: x_index x constraints_index constraints objective\n"
          ]
        }
      ],
      "source": [
        "model.pprint()"
      ]
    },
    {
      "cell_type": "code",
      "execution_count": null,
      "metadata": {
        "id": "v41ayX3SLbhh"
      },
      "outputs": [],
      "source": [
        "!apt-get install -y -qq glpk-utils"
      ]
    },
    {
      "cell_type": "code",
      "execution_count": null,
      "metadata": {
        "colab": {
          "base_uri": "https://localhost:8080/"
        },
        "id": "pEcYbqhNLh_y",
        "outputId": "fe8bd9f9-a4ad-43db-99d1-50c914e56073"
      },
      "outputs": [
        {
          "output_type": "stream",
          "name": "stdout",
          "text": [
            "# ==========================================================\n",
            "# = Solver Results                                         =\n",
            "# ==========================================================\n",
            "# ----------------------------------------------------------\n",
            "#   Problem Information\n",
            "# ----------------------------------------------------------\n",
            "Problem: \n",
            "- Name: unknown\n",
            "  Lower bound: -1951.831\n",
            "  Upper bound: -1951.831\n",
            "  Number of objectives: 1\n",
            "  Number of constraints: 6\n",
            "  Number of variables: 13\n",
            "  Number of nonzeros: 38\n",
            "  Sense: minimize\n",
            "# ----------------------------------------------------------\n",
            "#   Solver Information\n",
            "# ----------------------------------------------------------\n",
            "Solver: \n",
            "- Status: ok\n",
            "  Termination condition: optimal\n",
            "  Statistics: \n",
            "    Branch and bound: \n",
            "      Number of bounded subproblems: 0\n",
            "      Number of created subproblems: 0\n",
            "  Error rc: 0\n",
            "  Time: 0.012552022933959961\n",
            "# ----------------------------------------------------------\n",
            "#   Solution Information\n",
            "# ----------------------------------------------------------\n",
            "Solution: \n",
            "- number of solutions: 0\n",
            "  number of solutions displayed: 0\n"
          ]
        }
      ],
      "source": [
        "SolverFactory('glpk', executable='/usr/bin/glpsol').solve(model).write()"
      ]
    },
    {
      "cell_type": "code",
      "execution_count": null,
      "metadata": {
        "colab": {
          "base_uri": "https://localhost:8080/"
        },
        "id": "ncrVY7piLnT1",
        "outputId": "543b190d-856a-4780-fef1-3b0db2af1642"
      },
      "outputs": [
        {
          "output_type": "stream",
          "name": "stdout",
          "text": [
            "\n",
            "Objective =  -1951.8309999999997\n",
            "\n",
            "Decision Variables\n",
            "x[ 0 ] =  12.0\n",
            "x[ 1 ] =  0.0\n",
            "x[ 2 ] =  4.0\n",
            "x[ 3 ] =  119.82\n",
            "x[ 4 ] =  -34.0\n",
            "x[ 5 ] =  0.0\n",
            "x[ 6 ] =  20.0\n",
            "x[ 7 ] =  0.0\n",
            "x[ 8 ] =  -7.46000000000002\n",
            "x[ 9 ] =  15.0\n",
            "x[ 10 ] =  6.0\n",
            "x[ 11 ] =  1.0\n",
            "\n",
            "Constraints\n",
            "constraints : Size=5\n",
            "    Key : Lower : Body                : Upper\n",
            "      1 :  None :               -47.0 :  88.5\n",
            "      2 :  None : -116.28000000000002 :  35.4\n",
            "      3 :  None :   47.89999999999995 :  47.9\n",
            "      4 :  None :   41.43000000000002 : 41.43\n",
            "      5 :  None :   10.92000000000004 :  22.7\n"
          ]
        }
      ],
      "source": [
        "# display solution\n",
        "print('\\nObjective = ', model.objective())\n",
        "\n",
        "print('\\nDecision Variables')\n",
        "for i in col_indices:\n",
        "  print('x[',i,'] = ', model.x[i].value)\n",
        "\n",
        "print('\\nConstraints')\n",
        "model.constraints.display()"
      ]
    },
    {
      "cell_type": "markdown",
      "source": [
        "Answer:\n",
        "\n",
        "1. Optimal values of decision variables:=\n",
        "$ \\\\ x_0 =  12.0 \\\\\n",
        "x_1 =  0.0 \\\\\n",
        "x_2 =  4.0 \\\\\n",
        "x_3=  119.82 \\\\\n",
        "x_4 =  -34.0 \\\\\n",
        "x_5 =  0.0 \\\\\n",
        "x_6 =  20.0 \\\\\n",
        "x_7 =  0.0 \\\\\n",
        "x_8 =  -7.46000000000002 \\\\\n",
        "x_9 =  15.0 \\\\\n",
        "x_{10} =  6.0 \\\\\n",
        "x_{11} =  1.0\n",
        " $ \n",
        "2.Optimal cost:  -1951.8309999999997 $ \\\\ $\n",
        "3.Activeness of Constraints: $ \\\\ $\n",
        "\n",
        "(a) constraint 1st is not active since LHS =   -47.0 which is not equal to RHS. $ \\\\  $\n",
        "\n",
        "(b)constraint 2nd is also not active since LHS = -116.28000000000002 which is less than RHS. \n",
        "\n",
        "(c) constraint 3rd is active constraint since LHS = 47.89999999999995 which is approximately equal to RHS.\n",
        "\n",
        "(d) constraint 4th is active constraint since LHS =  41.43000000000002 which is equal to RHS.\n",
        "\n",
        "(e) constraint 5th is not active constraint since LHS = 10.92000000000004 which is not equal to RHS."
      ],
      "metadata": {
        "id": "-7vGpCzq8r7O"
      }
    },
    {
      "cell_type": "code",
      "source": [
        ""
      ],
      "metadata": {
        "id": "VVIi2cdw_7iG"
      },
      "execution_count": null,
      "outputs": []
    }
  ],
  "metadata": {
    "colab": {
      "collapsed_sections": [],
      "name": "22n0451_IE507_lab2_Ex2.ipynb",
      "provenance": []
    },
    "kernelspec": {
      "display_name": "Python 3",
      "name": "python3"
    },
    "language_info": {
      "name": "python"
    }
  },
  "nbformat": 4,
  "nbformat_minor": 0
}