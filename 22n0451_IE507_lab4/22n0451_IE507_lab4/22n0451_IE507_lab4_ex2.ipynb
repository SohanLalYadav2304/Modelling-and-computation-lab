{
  "nbformat": 4,
  "nbformat_minor": 0,
  "metadata": {
    "colab": {
      "name": "22n0451_IE507_lab4.ex2.ipynb",
      "provenance": [],
      "collapsed_sections": []
    },
    "kernelspec": {
      "name": "python3",
      "display_name": "Python 3"
    },
    "language_info": {
      "name": "python"
    }
  },
  "cells": [
    {
      "cell_type": "code",
      "execution_count": null,
      "metadata": {
        "id": "h3SN-h8PUPH3",
        "colab": {
          "base_uri": "https://localhost:8080/"
        },
        "outputId": "f8745c3b-fb98-40d8-d342-77b3d2172a66"
      },
      "outputs": [
        {
          "output_type": "stream",
          "name": "stdout",
          "text": [
            "\u001b[K     |████████████████████████████████| 9.7 MB 5.5 MB/s \n",
            "\u001b[K     |████████████████████████████████| 49 kB 5.6 MB/s \n",
            "\u001b[?25h"
          ]
        }
      ],
      "source": [
        "!pip install -q pyomo"
      ]
    },
    {
      "cell_type": "code",
      "source": [
        "from pyomo.environ import * "
      ],
      "metadata": {
        "id": "BM6bnkTvURdQ"
      },
      "execution_count": null,
      "outputs": []
    },
    {
      "cell_type": "code",
      "source": [
        "import numpy as np"
      ],
      "metadata": {
        "id": "6jctLHHNUVeh"
      },
      "execution_count": null,
      "outputs": []
    },
    {
      "cell_type": "markdown",
      "source": [
        "ANSWER2:(a)Let Indian Air Force decides to purchage $x_1 ,x_2,x_3,x_4,x_5 $ number of drones of models Shrey,Dharan,Satva,Adhya,Pravat respectfully.Accornding to question:\n",
        "\n",
        "  \n",
        "Obj: max $ 11x_1+13x_2+9x_3+15x_4+12x_5 \\\\\n",
        " 6.5x_1+8x_2+10.5x_3+11.75x_4+14.5x_5 \\leq 78 \\\\\n",
        " 5.75x_1+4.5x_2+3.75x_3+4.85x_4+3.45x_5 \\leq 84 \\\\ $ \n",
        "\n",
        " Here all variables   $x_1 ,x_2,x_3,x_4,x_5 $  must be integers since all denote the number of drones of any specific model."
      ],
      "metadata": {
        "id": "H9i_RdhnkX8R"
      }
    },
    {
      "cell_type": "code",
      "source": [
        "import pandas as pd"
      ],
      "metadata": {
        "id": "UimCuRlmUXY0"
      },
      "execution_count": null,
      "outputs": []
    },
    {
      "cell_type": "code",
      "source": [
        "data_csvfile = pd.read_csv('lab4_ex3.csv')"
      ],
      "metadata": {
        "id": "kIQrNYoIUZrX"
      },
      "execution_count": null,
      "outputs": []
    },
    {
      "cell_type": "code",
      "source": [
        "print (type(data_csvfile))"
      ],
      "metadata": {
        "colab": {
          "base_uri": "https://localhost:8080/"
        },
        "id": "HVMIiu3eUxcB",
        "outputId": "d9573fa3-4177-43c3-b06f-d82d728252b6"
      },
      "execution_count": null,
      "outputs": [
        {
          "output_type": "stream",
          "name": "stdout",
          "text": [
            "<class 'pandas.core.frame.DataFrame'>\n"
          ]
        }
      ]
    },
    {
      "cell_type": "code",
      "source": [
        "data_csvfile.columns"
      ],
      "metadata": {
        "colab": {
          "base_uri": "https://localhost:8080/"
        },
        "id": "N1OVSWtYVj-k",
        "outputId": "2e524976-9d00-4809-946e-ffffa1982a43"
      },
      "execution_count": null,
      "outputs": [
        {
          "output_type": "execute_result",
          "data": {
            "text/plain": [
              "Index(['Drone model', 'Carrying capacity (kgs)', 'Cost (in crores of rupees)',\n",
              "       'Parking space (sq.m.)'],\n",
              "      dtype='object')"
            ]
          },
          "metadata": {},
          "execution_count": 7
        }
      ]
    },
    {
      "cell_type": "code",
      "source": [
        "data_csvfile['Drone model']"
      ],
      "metadata": {
        "colab": {
          "base_uri": "https://localhost:8080/"
        },
        "id": "_1UYft9OVogi",
        "outputId": "0bc25a8a-b4b5-4321-dca3-bec825052802"
      },
      "execution_count": null,
      "outputs": [
        {
          "output_type": "execute_result",
          "data": {
            "text/plain": [
              "0     Shrey\n",
              "1    Dharan\n",
              "2     Satva\n",
              "3     Adhya\n",
              "4    Pravat\n",
              "Name: Drone model, dtype: object"
            ]
          },
          "metadata": {},
          "execution_count": 8
        }
      ]
    },
    {
      "cell_type": "code",
      "source": [
        "data_csvfile['Carrying capacity (kgs)']"
      ],
      "metadata": {
        "colab": {
          "base_uri": "https://localhost:8080/"
        },
        "id": "yED3L660V3vj",
        "outputId": "788dfdd4-2dce-4589-bf91-881555f2c0af"
      },
      "execution_count": null,
      "outputs": [
        {
          "output_type": "execute_result",
          "data": {
            "text/plain": [
              "0    11\n",
              "1    13\n",
              "2     9\n",
              "3    15\n",
              "4    12\n",
              "Name: Carrying capacity (kgs), dtype: int64"
            ]
          },
          "metadata": {},
          "execution_count": 9
        }
      ]
    },
    {
      "cell_type": "code",
      "source": [
        "data_csvfile['Cost (in crores of rupees)']"
      ],
      "metadata": {
        "colab": {
          "base_uri": "https://localhost:8080/"
        },
        "id": "XyrjAFCRV91t",
        "outputId": "f990691f-5ae5-47bc-a570-bf39600e929e"
      },
      "execution_count": null,
      "outputs": [
        {
          "output_type": "execute_result",
          "data": {
            "text/plain": [
              "0     6.50\n",
              "1     8.00\n",
              "2    10.50\n",
              "3    11.75\n",
              "4    14.50\n",
              "Name: Cost (in crores of rupees), dtype: float64"
            ]
          },
          "metadata": {},
          "execution_count": 10
        }
      ]
    },
    {
      "cell_type": "code",
      "source": [
        "data_csvfile['Parking space (sq.m.)']"
      ],
      "metadata": {
        "colab": {
          "base_uri": "https://localhost:8080/"
        },
        "id": "anq3QEy1WHcD",
        "outputId": "952d109e-f625-4e4d-8482-69ff6871fe6f"
      },
      "execution_count": null,
      "outputs": [
        {
          "output_type": "execute_result",
          "data": {
            "text/plain": [
              "0    5.75\n",
              "1    4.50\n",
              "2    3.75\n",
              "3    4.85\n",
              "4    3.45\n",
              "Name: Parking space (sq.m.), dtype: float64"
            ]
          },
          "metadata": {},
          "execution_count": 11
        }
      ]
    },
    {
      "cell_type": "code",
      "source": [
        "data_csvfile.index"
      ],
      "metadata": {
        "colab": {
          "base_uri": "https://localhost:8080/"
        },
        "id": "HsmZuwqtWrCb",
        "outputId": "c1936376-6bd9-493c-8dd3-8d06f088fb79"
      },
      "execution_count": null,
      "outputs": [
        {
          "output_type": "execute_result",
          "data": {
            "text/plain": [
              "RangeIndex(start=0, stop=5, step=1)"
            ]
          },
          "metadata": {},
          "execution_count": 12
        }
      ]
    },
    {
      "cell_type": "code",
      "source": [
        "len(data_csvfile.index)"
      ],
      "metadata": {
        "colab": {
          "base_uri": "https://localhost:8080/"
        },
        "id": "pg-L4AnBWvON",
        "outputId": "ef09935a-0aef-415b-8d0f-d505ce3a73a9"
      },
      "execution_count": null,
      "outputs": [
        {
          "output_type": "execute_result",
          "data": {
            "text/plain": [
              "5"
            ]
          },
          "metadata": {},
          "execution_count": 13
        }
      ]
    },
    {
      "cell_type": "code",
      "source": [
        "# create a model\n",
        "model = ConcreteModel()"
      ],
      "metadata": {
        "id": "ka-0E95CWx4w"
      },
      "execution_count": null,
      "outputs": []
    },
    {
      "cell_type": "code",
      "source": [
        "N = len(data_csvfile.index)"
      ],
      "metadata": {
        "id": "Df6vllv9W546"
      },
      "execution_count": null,
      "outputs": []
    },
    {
      "cell_type": "code",
      "source": [
        "M = 5"
      ],
      "metadata": {
        "id": "Wr1gnYtHW_CC"
      },
      "execution_count": null,
      "outputs": []
    },
    {
      "cell_type": "code",
      "source": [
        "col_indices = range(N)"
      ],
      "metadata": {
        "id": "TZOytskLXDOa"
      },
      "execution_count": null,
      "outputs": []
    },
    {
      "cell_type": "code",
      "source": [
        "model.x = Var(col_indices,domain=NonNegativeIntegers)"
      ],
      "metadata": {
        "id": "FbCw70D-XKZp"
      },
      "execution_count": null,
      "outputs": []
    },
    {
      "cell_type": "code",
      "source": [
        "model.objective = Objective(expr=summation(data_csvfile['Carrying capacity (kgs)'], model.x),sense=maximize)"
      ],
      "metadata": {
        "id": "7e3Y-PHpXOoL"
      },
      "execution_count": null,
      "outputs": []
    },
    {
      "cell_type": "code",
      "source": [
        "model.constraints = ConstraintList()"
      ],
      "metadata": {
        "id": "IiSJKkj0Xfl0"
      },
      "execution_count": null,
      "outputs": []
    },
    {
      "cell_type": "code",
      "source": [
        "model.constraints.add(summation(data_csvfile['Cost (in crores of rupees)'], model.x) <= 78)\n",
        "model.constraints.add(summation(data_csvfile['Parking space (sq.m.)'], model.x) <= 84)"
      ],
      "metadata": {
        "colab": {
          "base_uri": "https://localhost:8080/"
        },
        "id": "IeZRPR1MXjdH",
        "outputId": "284086bf-2f31-4284-a734-43fac79059e3"
      },
      "execution_count": null,
      "outputs": [
        {
          "output_type": "execute_result",
          "data": {
            "text/plain": [
              "<pyomo.core.base.constraint._GeneralConstraintData at 0x7f3b951d70c0>"
            ]
          },
          "metadata": {},
          "execution_count": 21
        }
      ]
    },
    {
      "cell_type": "code",
      "source": [
        "lower_bound = 0\n",
        "upper_bound = np.inf"
      ],
      "metadata": {
        "id": "rA8OcI3IX-Gq"
      },
      "execution_count": null,
      "outputs": []
    },
    {
      "cell_type": "code",
      "source": [
        "for j in col_indices:\n",
        "  model.x[j].setlb(lower_bound)\n",
        "  model.x[j].setub(upper_bound)"
      ],
      "metadata": {
        "id": "3H0pfPNMYEIq"
      },
      "execution_count": null,
      "outputs": []
    },
    {
      "cell_type": "code",
      "source": [
        "model.pprint()"
      ],
      "metadata": {
        "colab": {
          "base_uri": "https://localhost:8080/"
        },
        "id": "zicgSBuIYJqO",
        "outputId": "d60f1aa8-0daf-42aa-8fee-10e9e5cb1182"
      },
      "execution_count": null,
      "outputs": [
        {
          "output_type": "stream",
          "name": "stdout",
          "text": [
            "2 Set Declarations\n",
            "    constraints_index : Size=1, Index=None, Ordered=Insertion\n",
            "        Key  : Dimen : Domain : Size : Members\n",
            "        None :     1 :    Any :    2 : {1, 2}\n",
            "    x_index : Size=1, Index=None, Ordered=Insertion\n",
            "        Key  : Dimen : Domain : Size : Members\n",
            "        None :     1 :    Any :    5 : {0, 1, 2, 3, 4}\n",
            "\n",
            "1 Var Declarations\n",
            "    x : Size=5, Index=x_index\n",
            "        Key : Lower : Value : Upper : Fixed : Stale : Domain\n",
            "          0 :     0 :  None :  None : False :  True : NonNegativeIntegers\n",
            "          1 :     0 :  None :  None : False :  True : NonNegativeIntegers\n",
            "          2 :     0 :  None :  None : False :  True : NonNegativeIntegers\n",
            "          3 :     0 :  None :  None : False :  True : NonNegativeIntegers\n",
            "          4 :     0 :  None :  None : False :  True : NonNegativeIntegers\n",
            "\n",
            "1 Objective Declarations\n",
            "    objective : Size=1, Index=None, Active=True\n",
            "        Key  : Active : Sense    : Expression\n",
            "        None :   True : maximize : 11*x[0] + 13*x[1] + 9*x[2] + 15*x[3] + 12*x[4]\n",
            "\n",
            "1 Constraint Declarations\n",
            "    constraints : Size=2, Index=constraints_index, Active=True\n",
            "        Key : Lower : Body                                                     : Upper : Active\n",
            "          1 :  -Inf : 6.5*x[0] + 8.0*x[1] + 10.5*x[2] + 11.75*x[3] + 14.5*x[4] :  78.0 :   True\n",
            "          2 :  -Inf : 5.75*x[0] + 4.5*x[1] + 3.75*x[2] + 4.85*x[3] + 3.45*x[4] :  84.0 :   True\n",
            "\n",
            "5 Declarations: x_index x objective constraints_index constraints\n"
          ]
        }
      ]
    },
    {
      "cell_type": "code",
      "source": [
        "!apt-get install -y -qq coinor-cbc"
      ],
      "metadata": {
        "id": "41t2EYZoYoAC",
        "colab": {
          "base_uri": "https://localhost:8080/"
        },
        "outputId": "b5f2ff03-8c8b-43c0-b337-be90c1b9497a"
      },
      "execution_count": null,
      "outputs": [
        {
          "output_type": "stream",
          "name": "stdout",
          "text": [
            "Selecting previously unselected package coinor-libcoinutils3v5.\n",
            "(Reading database ... 155676 files and directories currently installed.)\n",
            "Preparing to unpack .../0-coinor-libcoinutils3v5_2.10.14+repack1-1_amd64.deb ...\n",
            "Unpacking coinor-libcoinutils3v5 (2.10.14+repack1-1) ...\n",
            "Selecting previously unselected package coinor-libosi1v5.\n",
            "Preparing to unpack .../1-coinor-libosi1v5_0.107.9+repack1-1_amd64.deb ...\n",
            "Unpacking coinor-libosi1v5 (0.107.9+repack1-1) ...\n",
            "Selecting previously unselected package coinor-libclp1.\n",
            "Preparing to unpack .../2-coinor-libclp1_1.16.11+repack1-1_amd64.deb ...\n",
            "Unpacking coinor-libclp1 (1.16.11+repack1-1) ...\n",
            "Selecting previously unselected package coinor-libcgl1.\n",
            "Preparing to unpack .../3-coinor-libcgl1_0.59.10+repack1-1_amd64.deb ...\n",
            "Unpacking coinor-libcgl1 (0.59.10+repack1-1) ...\n",
            "Selecting previously unselected package coinor-libcbc3.\n",
            "Preparing to unpack .../4-coinor-libcbc3_2.9.9+repack1-1_amd64.deb ...\n",
            "Unpacking coinor-libcbc3 (2.9.9+repack1-1) ...\n",
            "Selecting previously unselected package coinor-cbc.\n",
            "Preparing to unpack .../5-coinor-cbc_2.9.9+repack1-1_amd64.deb ...\n",
            "Unpacking coinor-cbc (2.9.9+repack1-1) ...\n",
            "Setting up coinor-libcoinutils3v5 (2.10.14+repack1-1) ...\n",
            "Setting up coinor-libosi1v5 (0.107.9+repack1-1) ...\n",
            "Setting up coinor-libclp1 (1.16.11+repack1-1) ...\n",
            "Setting up coinor-libcgl1 (0.59.10+repack1-1) ...\n",
            "Setting up coinor-libcbc3 (2.9.9+repack1-1) ...\n",
            "Setting up coinor-cbc (2.9.9+repack1-1) ...\n",
            "Processing triggers for man-db (2.8.3-2ubuntu0.1) ...\n",
            "Processing triggers for libc-bin (2.27-3ubuntu1.5) ...\n"
          ]
        }
      ]
    },
    {
      "cell_type": "code",
      "source": [
        "opt_cbc = SolverFactory('cbc')"
      ],
      "metadata": {
        "id": "-BV9431CYuHN"
      },
      "execution_count": null,
      "outputs": []
    },
    {
      "cell_type": "code",
      "source": [
        "result = opt_cbc.solve(model)\n",
        "print('Solver status:', result.solver.status)\n",
        "print('Solver termination condition:',result.solver.termination_condition)"
      ],
      "metadata": {
        "colab": {
          "base_uri": "https://localhost:8080/"
        },
        "id": "HwnlxhD2YzPp",
        "outputId": "d8aaf4e0-8fec-424b-d3d8-289725bf8055"
      },
      "execution_count": null,
      "outputs": [
        {
          "output_type": "stream",
          "name": "stdout",
          "text": [
            "Solver status: ok\n",
            "Solver termination condition: optimal\n"
          ]
        }
      ]
    },
    {
      "cell_type": "code",
      "source": [
        "# display solution\n",
        "print('\\nObjective = ', model.objective())\n",
        "\n",
        "print('\\nDecision Variables')\n",
        "for i in col_indices:\n",
        "  print('Num slots for Drone model ',data_csvfile['Drone model'][i], model.x[i].value)\n",
        "\n",
        "print('\\nConstraints')\n",
        "model.constraints.display()"
      ],
      "metadata": {
        "colab": {
          "base_uri": "https://localhost:8080/"
        },
        "id": "utXXvhF9Y34z",
        "outputId": "526c4aaf-2fa0-4a73-9d47-1f1cc443771b"
      },
      "execution_count": null,
      "outputs": [
        {
          "output_type": "stream",
          "name": "stdout",
          "text": [
            "\n",
            "Objective =  132.0\n",
            "\n",
            "Decision Variables\n",
            "Num slots for Drone model  Shrey 12.0\n",
            "Num slots for Drone model  Dharan 0.0\n",
            "Num slots for Drone model  Satva 0.0\n",
            "Num slots for Drone model  Adhya 0.0\n",
            "Num slots for Drone model  Pravat 0.0\n",
            "\n",
            "Constraints\n",
            "constraints : Size=2\n",
            "    Key : Lower : Body : Upper\n",
            "      1 :  None : 78.0 :  78.0\n",
            "      2 :  None : 69.0 :  84.0\n"
          ]
        }
      ]
    },
    {
      "cell_type": "markdown",
      "source": [
        "Answer2:(b) $\\\\ $ The optimal solution is 132.0 = Maximum carrying capacity $ \\\\  $\n",
        "\n",
        " model  Shrey 12.0;\n",
        " \n",
        " model  Dharan 0.0;\n",
        " \n",
        " model Satva 0.0; \n",
        " \n",
        " model Adhya 0.0;\n",
        " \n",
        " model Pravat 0.0; $ \\\\ $ \n",
        "\n",
        "\n"
      ],
      "metadata": {
        "id": "B4dz3YLbnUGZ"
      }
    },
    {
      "cell_type": "markdown",
      "source": [
        "Answerr2(c): We are to compare this obtained MILP solution with LP solution.For this we channge the domain of variables from Nonnegativeintegers to nonnegativereals.So:="
      ],
      "metadata": {
        "id": "7ORG9R5is3sw"
      }
    },
    {
      "cell_type": "code",
      "source": [
        "model.x.domain = NonNegativeReals"
      ],
      "metadata": {
        "id": "QL_pAON2Y_79"
      },
      "execution_count": null,
      "outputs": []
    },
    {
      "cell_type": "code",
      "source": [
        "model.pprint()"
      ],
      "metadata": {
        "colab": {
          "base_uri": "https://localhost:8080/"
        },
        "id": "FAv4uu-EawY9",
        "outputId": "c5442386-5a3d-45d3-db48-702f0f81374d"
      },
      "execution_count": null,
      "outputs": [
        {
          "output_type": "stream",
          "name": "stdout",
          "text": [
            "2 Set Declarations\n",
            "    constraints_index : Size=1, Index=None, Ordered=Insertion\n",
            "        Key  : Dimen : Domain : Size : Members\n",
            "        None :     1 :    Any :    2 : {1, 2}\n",
            "    x_index : Size=1, Index=None, Ordered=Insertion\n",
            "        Key  : Dimen : Domain : Size : Members\n",
            "        None :     1 :    Any :    5 : {0, 1, 2, 3, 4}\n",
            "\n",
            "1 Var Declarations\n",
            "    x : Size=5, Index=x_index\n",
            "        Key : Lower : Value : Upper : Fixed : Stale : Domain\n",
            "          0 :     0 :  12.0 :  None : False : False : NonNegativeReals\n",
            "          1 :     0 :   0.0 :  None : False : False : NonNegativeReals\n",
            "          2 :     0 :   0.0 :  None : False : False : NonNegativeReals\n",
            "          3 :     0 :   0.0 :  None : False : False : NonNegativeReals\n",
            "          4 :     0 :   0.0 :  None : False : False : NonNegativeReals\n",
            "\n",
            "1 Objective Declarations\n",
            "    objective : Size=1, Index=None, Active=True\n",
            "        Key  : Active : Sense    : Expression\n",
            "        None :   True : maximize : 11*x[0] + 13*x[1] + 9*x[2] + 15*x[3] + 12*x[4]\n",
            "\n",
            "1 Constraint Declarations\n",
            "    constraints : Size=2, Index=constraints_index, Active=True\n",
            "        Key : Lower : Body                                                     : Upper : Active\n",
            "          1 :  -Inf : 6.5*x[0] + 8.0*x[1] + 10.5*x[2] + 11.75*x[3] + 14.5*x[4] :  78.0 :   True\n",
            "          2 :  -Inf : 5.75*x[0] + 4.5*x[1] + 3.75*x[2] + 4.85*x[3] + 3.45*x[4] :  84.0 :   True\n",
            "\n",
            "5 Declarations: x_index x objective constraints_index constraints\n"
          ]
        }
      ]
    },
    {
      "cell_type": "code",
      "source": [
        "!apt-get install -y -qq coinor-cbc"
      ],
      "metadata": {
        "id": "2kBe4mW5cMwn"
      },
      "execution_count": null,
      "outputs": []
    },
    {
      "cell_type": "code",
      "source": [
        "opt_cbc = SolverFactory('cbc')"
      ],
      "metadata": {
        "id": "7QNFUyB9cRLF"
      },
      "execution_count": null,
      "outputs": []
    },
    {
      "cell_type": "code",
      "source": [
        "result = opt_cbc.solve(model)\n",
        "print('Solver status:', result.solver.status)\n",
        "print('Solver termination condition:',result.solver.termination_condition)"
      ],
      "metadata": {
        "colab": {
          "base_uri": "https://localhost:8080/"
        },
        "id": "h_SxRKiCcT1_",
        "outputId": "18ffb58e-c3ac-466e-832d-c21a5116d6fe"
      },
      "execution_count": null,
      "outputs": [
        {
          "output_type": "stream",
          "name": "stdout",
          "text": [
            "Solver status: ok\n",
            "Solver termination condition: optimal\n"
          ]
        }
      ]
    },
    {
      "cell_type": "code",
      "source": [
        "# display solution\n",
        "print('\\nObjective = ', model.objective())\n",
        "\n",
        "print('\\nDecision Variables')\n",
        "for i in col_indices:\n",
        "  print('Num slots for Drone model ',data_csvfile['Drone model'][i], model.x[i].value)\n",
        "\n",
        "print('\\nConstraints')\n",
        "model.constraints.display()"
      ],
      "metadata": {
        "colab": {
          "base_uri": "https://localhost:8080/"
        },
        "id": "yJ5nw4ygcY6N",
        "outputId": "3f1dc140-faa6-4ae4-eb68-4c1ea192d8e2"
      },
      "execution_count": null,
      "outputs": [
        {
          "output_type": "stream",
          "name": "stdout",
          "text": [
            "\n",
            "Objective =  132.0\n",
            "\n",
            "Decision Variables\n",
            "Num slots for Drone model  Shrey 12.0\n",
            "Num slots for Drone model  Dharan 0.0\n",
            "Num slots for Drone model  Satva 0.0\n",
            "Num slots for Drone model  Adhya 0.0\n",
            "Num slots for Drone model  Pravat 0.0\n",
            "\n",
            "Constraints\n",
            "constraints : Size=2\n",
            "    Key : Lower : Body : Upper\n",
            "      1 :  None : 78.0 :  78.0\n",
            "      2 :  None : 69.0 :  84.0\n"
          ]
        }
      ]
    },
    {
      "cell_type": "markdown",
      "source": [
        "Solution: Maximum carrying capacity = Objective =  132.0\n",
        "\n",
        " model  Shrey 12.0;\n",
        " \n",
        " model  Dharan 0.0;\n",
        " \n",
        " model Satva 0.0; \n",
        " \n",
        " model Adhya 0.0;\n",
        " \n",
        " model Pravat 0.0;"
      ],
      "metadata": {
        "id": "Btd980HItN8W"
      }
    },
    {
      "cell_type": "markdown",
      "source": [
        "Since now we again get same solution in LP as we get solution in MILP.It matches here but we can't say that it will be same in every condition like when we decrease value of limit of budget and increase value of parking space we find that optimal solution in LP and MILP are different."
      ],
      "metadata": {
        "id": "G_VRM0rhuCZ5"
      }
    },
    {
      "cell_type": "markdown",
      "source": [
        "Answer2(d): Now given that limit of budget is decreased s decreased to 76 crores of\n",
        "rupees and the parking space is increased to 87 units. so now upper bounds of constraints are changed."
      ],
      "metadata": {
        "id": "MuB4daNNuflj"
      }
    },
    {
      "cell_type": "code",
      "source": [
        "model.constraints[1].deactivate()\n",
        "model.constraints[2].deactivate()"
      ],
      "metadata": {
        "id": "eGhA_ij2cdnO"
      },
      "execution_count": null,
      "outputs": []
    },
    {
      "cell_type": "code",
      "source": [
        "model.constraints.add(summation(data_csvfile['Cost (in crores of rupees)'], model.x) <= 76)\n",
        "model.constraints.add(summation(data_csvfile['Parking space (sq.m.)'], model.x) <= 87)"
      ],
      "metadata": {
        "colab": {
          "base_uri": "https://localhost:8080/"
        },
        "id": "L870mbHxd6k0",
        "outputId": "ef108ab4-0b50-4c6b-bb1c-512ce5c7b4e3"
      },
      "execution_count": null,
      "outputs": [
        {
          "output_type": "execute_result",
          "data": {
            "text/plain": [
              "<pyomo.core.base.constraint._GeneralConstraintData at 0x7f3b951c9910>"
            ]
          },
          "metadata": {},
          "execution_count": 36
        }
      ]
    },
    {
      "cell_type": "code",
      "source": [
        "model.x.domain = NonNegativeReals"
      ],
      "metadata": {
        "id": "3ywFVl6heP6p"
      },
      "execution_count": null,
      "outputs": []
    },
    {
      "cell_type": "code",
      "source": [
        "model.pprint()"
      ],
      "metadata": {
        "colab": {
          "base_uri": "https://localhost:8080/"
        },
        "id": "1coDvWIbeXuc",
        "outputId": "4fde0efe-468f-4b2d-f91f-143b78c199e6"
      },
      "execution_count": null,
      "outputs": [
        {
          "output_type": "stream",
          "name": "stdout",
          "text": [
            "2 Set Declarations\n",
            "    constraints_index : Size=1, Index=None, Ordered=Insertion\n",
            "        Key  : Dimen : Domain : Size : Members\n",
            "        None :     1 :    Any :    4 : {1, 2, 3, 4}\n",
            "    x_index : Size=1, Index=None, Ordered=Insertion\n",
            "        Key  : Dimen : Domain : Size : Members\n",
            "        None :     1 :    Any :    5 : {0, 1, 2, 3, 4}\n",
            "\n",
            "1 Var Declarations\n",
            "    x : Size=5, Index=x_index\n",
            "        Key : Lower : Value : Upper : Fixed : Stale : Domain\n",
            "          0 :     0 :  12.0 :  None : False : False : NonNegativeReals\n",
            "          1 :     0 :   0.0 :  None : False : False : NonNegativeReals\n",
            "          2 :     0 :   0.0 :  None : False : False : NonNegativeReals\n",
            "          3 :     0 :   0.0 :  None : False : False : NonNegativeReals\n",
            "          4 :     0 :   0.0 :  None : False : False : NonNegativeReals\n",
            "\n",
            "1 Objective Declarations\n",
            "    objective : Size=1, Index=None, Active=True\n",
            "        Key  : Active : Sense    : Expression\n",
            "        None :   True : maximize : 11*x[0] + 13*x[1] + 9*x[2] + 15*x[3] + 12*x[4]\n",
            "\n",
            "1 Constraint Declarations\n",
            "    constraints : Size=4, Index=constraints_index, Active=True\n",
            "        Key : Lower : Body                                                     : Upper : Active\n",
            "          1 :  -Inf : 6.5*x[0] + 8.0*x[1] + 10.5*x[2] + 11.75*x[3] + 14.5*x[4] :  78.0 :  False\n",
            "          2 :  -Inf : 5.75*x[0] + 4.5*x[1] + 3.75*x[2] + 4.85*x[3] + 3.45*x[4] :  84.0 :  False\n",
            "          3 :  -Inf : 6.5*x[0] + 8.0*x[1] + 10.5*x[2] + 11.75*x[3] + 14.5*x[4] :  76.0 :   True\n",
            "          4 :  -Inf : 5.75*x[0] + 4.5*x[1] + 3.75*x[2] + 4.85*x[3] + 3.45*x[4] :  87.0 :   True\n",
            "\n",
            "5 Declarations: x_index x objective constraints_index constraints\n"
          ]
        }
      ]
    },
    {
      "cell_type": "code",
      "source": [
        "!apt-get install -y -qq coinor-cbc"
      ],
      "metadata": {
        "id": "Gx6n6Rr6eZ0B"
      },
      "execution_count": null,
      "outputs": []
    },
    {
      "cell_type": "code",
      "source": [
        "opt_cbc = SolverFactory('cbc')"
      ],
      "metadata": {
        "id": "4mRc7nKzehMm"
      },
      "execution_count": null,
      "outputs": []
    },
    {
      "cell_type": "code",
      "source": [
        "result = opt_cbc.solve(model)\n",
        "print('Solver status:', result.solver.status)\n",
        "print('Solver termination condition:',result.solver.termination_condition)"
      ],
      "metadata": {
        "colab": {
          "base_uri": "https://localhost:8080/"
        },
        "id": "rdwzGal0ej9j",
        "outputId": "f5d75d26-144a-4481-c673-872015d24506"
      },
      "execution_count": null,
      "outputs": [
        {
          "output_type": "stream",
          "name": "stdout",
          "text": [
            "Solver status: ok\n",
            "Solver termination condition: optimal\n"
          ]
        }
      ]
    },
    {
      "cell_type": "code",
      "source": [
        "# display solution\n",
        "print('\\nObjective = ', model.objective())\n",
        "\n",
        "print('\\nDecision Variables')\n",
        "for i in col_indices:\n",
        "  print('Num slots for Drone model ',data_csvfile['Drone model'][i], model.x[i].value)\n",
        "\n",
        "print('\\nConstraints')\n",
        "model.constraints.display()"
      ],
      "metadata": {
        "colab": {
          "base_uri": "https://localhost:8080/"
        },
        "id": "1W6xPGeSemxN",
        "outputId": "f369a0ca-dc9f-4146-cf83-8f6cf2089a40"
      },
      "execution_count": null,
      "outputs": [
        {
          "output_type": "stream",
          "name": "stdout",
          "text": [
            "\n",
            "Objective =  128.615388\n",
            "\n",
            "Decision Variables\n",
            "Num slots for Drone model  Shrey 11.692308\n",
            "Num slots for Drone model  Dharan 0.0\n",
            "Num slots for Drone model  Satva 0.0\n",
            "Num slots for Drone model  Adhya 0.0\n",
            "Num slots for Drone model  Pravat 0.0\n",
            "\n",
            "Constraints\n",
            "constraints : Size=4\n",
            "    Key : Lower : Body              : Upper\n",
            "      3 :  None : 76.00000200000001 :  76.0\n",
            "      4 :  None :         67.230771 :  87.0\n"
          ]
        }
      ]
    },
    {
      "cell_type": "markdown",
      "source": [
        "Since as the limit of budget is decreased and the parking space is increased then value of objective function i.e maximum carrying capacity is decreased from 132 to 128.615388 kgs. and the value of variables also changed i.e number of drones of model shrey is decreased and number of other drones remains same (0)."
      ],
      "metadata": {
        "id": "Ir0hFUdju7Vz"
      }
    },
    {
      "cell_type": "markdown",
      "source": [
        "Now we are to compare this solution to the MILP solution.So:="
      ],
      "metadata": {
        "id": "fA5f_waJvtNH"
      }
    },
    {
      "cell_type": "code",
      "source": [
        "model.x.domain = NonNegativeIntegers"
      ],
      "metadata": {
        "id": "51fz9Vhseqzw"
      },
      "execution_count": null,
      "outputs": []
    },
    {
      "cell_type": "code",
      "source": [
        "model.pprint()"
      ],
      "metadata": {
        "colab": {
          "base_uri": "https://localhost:8080/"
        },
        "id": "FCCby02qe0Ip",
        "outputId": "57abe100-aebc-4268-eb56-62aa8c7dbd46"
      },
      "execution_count": null,
      "outputs": [
        {
          "output_type": "stream",
          "name": "stdout",
          "text": [
            "2 Set Declarations\n",
            "    constraints_index : Size=1, Index=None, Ordered=Insertion\n",
            "        Key  : Dimen : Domain : Size : Members\n",
            "        None :     1 :    Any :    4 : {1, 2, 3, 4}\n",
            "    x_index : Size=1, Index=None, Ordered=Insertion\n",
            "        Key  : Dimen : Domain : Size : Members\n",
            "        None :     1 :    Any :    5 : {0, 1, 2, 3, 4}\n",
            "\n",
            "1 Var Declarations\n",
            "    x : Size=5, Index=x_index\n",
            "        Key : Lower : Value     : Upper : Fixed : Stale : Domain\n",
            "          0 :     0 : 11.692308 :  None : False : False : NonNegativeIntegers\n",
            "          1 :     0 :       0.0 :  None : False : False : NonNegativeIntegers\n",
            "          2 :     0 :       0.0 :  None : False : False : NonNegativeIntegers\n",
            "          3 :     0 :       0.0 :  None : False : False : NonNegativeIntegers\n",
            "          4 :     0 :       0.0 :  None : False : False : NonNegativeIntegers\n",
            "\n",
            "1 Objective Declarations\n",
            "    objective : Size=1, Index=None, Active=True\n",
            "        Key  : Active : Sense    : Expression\n",
            "        None :   True : maximize : 11*x[0] + 13*x[1] + 9*x[2] + 15*x[3] + 12*x[4]\n",
            "\n",
            "1 Constraint Declarations\n",
            "    constraints : Size=4, Index=constraints_index, Active=True\n",
            "        Key : Lower : Body                                                     : Upper : Active\n",
            "          1 :  -Inf : 6.5*x[0] + 8.0*x[1] + 10.5*x[2] + 11.75*x[3] + 14.5*x[4] :  78.0 :  False\n",
            "          2 :  -Inf : 5.75*x[0] + 4.5*x[1] + 3.75*x[2] + 4.85*x[3] + 3.45*x[4] :  84.0 :  False\n",
            "          3 :  -Inf : 6.5*x[0] + 8.0*x[1] + 10.5*x[2] + 11.75*x[3] + 14.5*x[4] :  76.0 :   True\n",
            "          4 :  -Inf : 5.75*x[0] + 4.5*x[1] + 3.75*x[2] + 4.85*x[3] + 3.45*x[4] :  87.0 :   True\n",
            "\n",
            "5 Declarations: x_index x objective constraints_index constraints\n"
          ]
        }
      ]
    },
    {
      "cell_type": "code",
      "source": [
        "!apt-get install -y -qq coinor-cbc"
      ],
      "metadata": {
        "id": "xzWylpFOe3V6"
      },
      "execution_count": null,
      "outputs": []
    },
    {
      "cell_type": "code",
      "source": [
        "opt_cbc = SolverFactory('cbc')"
      ],
      "metadata": {
        "id": "90_DLdjLfAhK"
      },
      "execution_count": null,
      "outputs": []
    },
    {
      "cell_type": "code",
      "source": [
        "result = opt_cbc.solve(model)\n",
        "print('Solver status:', result.solver.status)\n",
        "print('Solver termination condition:',result.solver.termination_condition)"
      ],
      "metadata": {
        "colab": {
          "base_uri": "https://localhost:8080/"
        },
        "id": "61f8zOusfEql",
        "outputId": "38ae3d6a-3a32-4cce-c081-f7e2a692e582"
      },
      "execution_count": null,
      "outputs": [
        {
          "output_type": "stream",
          "name": "stdout",
          "text": [
            "Solver status: ok\n",
            "Solver termination condition: optimal\n"
          ]
        }
      ]
    },
    {
      "cell_type": "code",
      "source": [
        "# display solution\n",
        "print('\\nObjective = ', model.objective())\n",
        "\n",
        "print('\\nDecision Variables')\n",
        "for i in col_indices:\n",
        "  print('Num slots for Drone model ',data_csvfile['Drone model'][i], model.x[i].value)\n",
        "\n",
        "print('\\nConstraints')\n",
        "model.constraints.display()"
      ],
      "metadata": {
        "colab": {
          "base_uri": "https://localhost:8080/"
        },
        "id": "G5vghUkLfHiv",
        "outputId": "1ede6e39-5928-4b72-8d76-a01560bb1d22"
      },
      "execution_count": null,
      "outputs": [
        {
          "output_type": "stream",
          "name": "stdout",
          "text": [
            "\n",
            "Objective =  127.0\n",
            "\n",
            "Decision Variables\n",
            "Num slots for Drone model  Shrey 8.0\n",
            "Num slots for Drone model  Dharan 3.0\n",
            "Num slots for Drone model  Satva 0.0\n",
            "Num slots for Drone model  Adhya 0.0\n",
            "Num slots for Drone model  Pravat 0.0\n",
            "\n",
            "Constraints\n",
            "constraints : Size=4\n",
            "    Key : Lower : Body : Upper\n",
            "      3 :  None : 76.0 :  76.0\n",
            "      4 :  None : 59.5 :  87.0\n"
          ]
        }
      ]
    },
    {
      "cell_type": "markdown",
      "source": [
        "So we can see that as we put a restriction on domain of variables of integers then we see that maximum carrying capacity decreases to 127 from  128.615388.And also number of drones of model shrey also decreases to 8 from  11.692308 and number of drones of model Dharan increases to 3 from 0.and other ramains same."
      ],
      "metadata": {
        "id": "vtCo0M9vv30j"
      }
    },
    {
      "cell_type": "markdown",
      "source": [
        "Answer2(e): Now we are to decrease limit of budget from 76 crores to 74, 72, 70 and 68 crores of rupees and increase parking sapce e to 88, 89, 90 and 91 units respectively."
      ],
      "metadata": {
        "id": "2sMd5ZuSwzGv"
      }
    },
    {
      "cell_type": "markdown",
      "source": [
        "Case1: limit of budget = 74; parking space = 88\n",
        "\n"
      ],
      "metadata": {
        "id": "mKdTEYe3xUp7"
      }
    },
    {
      "cell_type": "code",
      "source": [
        "model.constraints[3].deactivate()\n",
        "model.constraints[4].deactivate()"
      ],
      "metadata": {
        "id": "4WpmuoPcfKj1"
      },
      "execution_count": null,
      "outputs": []
    },
    {
      "cell_type": "code",
      "source": [
        "model.constraints.add(summation(data_csvfile['Cost (in crores of rupees)'], model.x) <= 74)\n",
        "model.constraints.add(summation(data_csvfile['Parking space (sq.m.)'], model.x) <= 88)"
      ],
      "metadata": {
        "colab": {
          "base_uri": "https://localhost:8080/"
        },
        "id": "bJp3WpKXfejl",
        "outputId": "6b42c269-0ea9-42f5-9c0b-e4b7ea1b98ed"
      },
      "execution_count": null,
      "outputs": [
        {
          "output_type": "execute_result",
          "data": {
            "text/plain": [
              "<pyomo.core.base.constraint._GeneralConstraintData at 0x7f3b9513f0c0>"
            ]
          },
          "metadata": {},
          "execution_count": 50
        }
      ]
    },
    {
      "cell_type": "code",
      "source": [
        "model.x.domain = NonNegativeReals"
      ],
      "metadata": {
        "id": "r0Zf-zcsfl5t"
      },
      "execution_count": null,
      "outputs": []
    },
    {
      "cell_type": "code",
      "source": [
        "model.pprint()"
      ],
      "metadata": {
        "colab": {
          "base_uri": "https://localhost:8080/"
        },
        "id": "kF9KSCjvfsGN",
        "outputId": "2cab0f74-ec1b-4b8a-85d3-3222124e8a95"
      },
      "execution_count": null,
      "outputs": [
        {
          "output_type": "stream",
          "name": "stdout",
          "text": [
            "2 Set Declarations\n",
            "    constraints_index : Size=1, Index=None, Ordered=Insertion\n",
            "        Key  : Dimen : Domain : Size : Members\n",
            "        None :     1 :    Any :    6 : {1, 2, 3, 4, 5, 6}\n",
            "    x_index : Size=1, Index=None, Ordered=Insertion\n",
            "        Key  : Dimen : Domain : Size : Members\n",
            "        None :     1 :    Any :    5 : {0, 1, 2, 3, 4}\n",
            "\n",
            "1 Var Declarations\n",
            "    x : Size=5, Index=x_index\n",
            "        Key : Lower : Value : Upper : Fixed : Stale : Domain\n",
            "          0 :     0 :   8.0 :  None : False : False : NonNegativeReals\n",
            "          1 :     0 :   3.0 :  None : False : False : NonNegativeReals\n",
            "          2 :     0 :   0.0 :  None : False : False : NonNegativeReals\n",
            "          3 :     0 :   0.0 :  None : False : False : NonNegativeReals\n",
            "          4 :     0 :   0.0 :  None : False : False : NonNegativeReals\n",
            "\n",
            "1 Objective Declarations\n",
            "    objective : Size=1, Index=None, Active=True\n",
            "        Key  : Active : Sense    : Expression\n",
            "        None :   True : maximize : 11*x[0] + 13*x[1] + 9*x[2] + 15*x[3] + 12*x[4]\n",
            "\n",
            "1 Constraint Declarations\n",
            "    constraints : Size=6, Index=constraints_index, Active=True\n",
            "        Key : Lower : Body                                                     : Upper : Active\n",
            "          1 :  -Inf : 6.5*x[0] + 8.0*x[1] + 10.5*x[2] + 11.75*x[3] + 14.5*x[4] :  78.0 :  False\n",
            "          2 :  -Inf : 5.75*x[0] + 4.5*x[1] + 3.75*x[2] + 4.85*x[3] + 3.45*x[4] :  84.0 :  False\n",
            "          3 :  -Inf : 6.5*x[0] + 8.0*x[1] + 10.5*x[2] + 11.75*x[3] + 14.5*x[4] :  76.0 :  False\n",
            "          4 :  -Inf : 5.75*x[0] + 4.5*x[1] + 3.75*x[2] + 4.85*x[3] + 3.45*x[4] :  87.0 :  False\n",
            "          5 :  -Inf : 6.5*x[0] + 8.0*x[1] + 10.5*x[2] + 11.75*x[3] + 14.5*x[4] :  74.0 :   True\n",
            "          6 :  -Inf : 5.75*x[0] + 4.5*x[1] + 3.75*x[2] + 4.85*x[3] + 3.45*x[4] :  88.0 :   True\n",
            "\n",
            "5 Declarations: x_index x objective constraints_index constraints\n"
          ]
        }
      ]
    },
    {
      "cell_type": "code",
      "source": [
        "!apt-get install -y -qq coinor-cbc"
      ],
      "metadata": {
        "id": "k1Ukfpxqfvwm"
      },
      "execution_count": null,
      "outputs": []
    },
    {
      "cell_type": "code",
      "source": [
        "opt_cbc = SolverFactory('cbc')\n"
      ],
      "metadata": {
        "id": "3H-fqjHfgmsz"
      },
      "execution_count": null,
      "outputs": []
    },
    {
      "cell_type": "code",
      "source": [
        "result = opt_cbc.solve(model)\n",
        "print('Solver status:', result.solver.status)\n",
        "print('Solver termination condition:',result.solver.termination_condition)"
      ],
      "metadata": {
        "colab": {
          "base_uri": "https://localhost:8080/"
        },
        "id": "EccLUBB8gpnU",
        "outputId": "960e193e-c462-4d4b-b3e2-cf53441133eb"
      },
      "execution_count": null,
      "outputs": [
        {
          "output_type": "stream",
          "name": "stdout",
          "text": [
            "Solver status: ok\n",
            "Solver termination condition: optimal\n"
          ]
        }
      ]
    },
    {
      "cell_type": "code",
      "source": [
        "# display solution\n",
        "print('\\nObjective = ', model.objective())\n",
        "\n",
        "print('\\nDecision Variables')\n",
        "for i in col_indices:\n",
        "  print('Num slots for Drone model ',data_csvfile['Drone model'][i], model.x[i].value)\n",
        "\n",
        "print('\\nConstraints')\n",
        "model.constraints.display()"
      ],
      "metadata": {
        "colab": {
          "base_uri": "https://localhost:8080/"
        },
        "id": "Z_PDfSZXgtEI",
        "outputId": "cf0c0678-7bc3-458e-ae1a-c0eb5c4f9b1f"
      },
      "execution_count": null,
      "outputs": [
        {
          "output_type": "stream",
          "name": "stdout",
          "text": [
            "\n",
            "Objective =  125.230765\n",
            "\n",
            "Decision Variables\n",
            "Num slots for Drone model  Shrey 11.384615\n",
            "Num slots for Drone model  Dharan 0.0\n",
            "Num slots for Drone model  Satva 0.0\n",
            "Num slots for Drone model  Adhya 0.0\n",
            "Num slots for Drone model  Pravat 0.0\n",
            "\n",
            "Constraints\n",
            "constraints : Size=6\n",
            "    Key : Lower : Body        : Upper\n",
            "      5 :  None :  73.9999975 :  74.0\n",
            "      6 :  None : 65.46153625 :  88.0\n"
          ]
        }
      ]
    },
    {
      "cell_type": "markdown",
      "source": [
        "As LP we get solution 125.230765."
      ],
      "metadata": {
        "id": "ZzbdqYPqxkcR"
      }
    },
    {
      "cell_type": "code",
      "source": [
        "model.x.domain = NonNegativeIntegers"
      ],
      "metadata": {
        "id": "jzQvglLxgxUH"
      },
      "execution_count": null,
      "outputs": []
    },
    {
      "cell_type": "code",
      "source": [
        "model.pprint()"
      ],
      "metadata": {
        "colab": {
          "base_uri": "https://localhost:8080/"
        },
        "id": "USZYLImHg5Oh",
        "outputId": "43811e92-3c3e-41a3-d9bb-4a6bc1803b4d"
      },
      "execution_count": null,
      "outputs": [
        {
          "output_type": "stream",
          "name": "stdout",
          "text": [
            "2 Set Declarations\n",
            "    constraints_index : Size=1, Index=None, Ordered=Insertion\n",
            "        Key  : Dimen : Domain : Size : Members\n",
            "        None :     1 :    Any :    6 : {1, 2, 3, 4, 5, 6}\n",
            "    x_index : Size=1, Index=None, Ordered=Insertion\n",
            "        Key  : Dimen : Domain : Size : Members\n",
            "        None :     1 :    Any :    5 : {0, 1, 2, 3, 4}\n",
            "\n",
            "1 Var Declarations\n",
            "    x : Size=5, Index=x_index\n",
            "        Key : Lower : Value     : Upper : Fixed : Stale : Domain\n",
            "          0 :     0 : 11.384615 :  None : False : False : NonNegativeIntegers\n",
            "          1 :     0 :       0.0 :  None : False : False : NonNegativeIntegers\n",
            "          2 :     0 :       0.0 :  None : False : False : NonNegativeIntegers\n",
            "          3 :     0 :       0.0 :  None : False : False : NonNegativeIntegers\n",
            "          4 :     0 :       0.0 :  None : False : False : NonNegativeIntegers\n",
            "\n",
            "1 Objective Declarations\n",
            "    objective : Size=1, Index=None, Active=True\n",
            "        Key  : Active : Sense    : Expression\n",
            "        None :   True : maximize : 11*x[0] + 13*x[1] + 9*x[2] + 15*x[3] + 12*x[4]\n",
            "\n",
            "1 Constraint Declarations\n",
            "    constraints : Size=6, Index=constraints_index, Active=True\n",
            "        Key : Lower : Body                                                     : Upper : Active\n",
            "          1 :  -Inf : 6.5*x[0] + 8.0*x[1] + 10.5*x[2] + 11.75*x[3] + 14.5*x[4] :  78.0 :  False\n",
            "          2 :  -Inf : 5.75*x[0] + 4.5*x[1] + 3.75*x[2] + 4.85*x[3] + 3.45*x[4] :  84.0 :  False\n",
            "          3 :  -Inf : 6.5*x[0] + 8.0*x[1] + 10.5*x[2] + 11.75*x[3] + 14.5*x[4] :  76.0 :  False\n",
            "          4 :  -Inf : 5.75*x[0] + 4.5*x[1] + 3.75*x[2] + 4.85*x[3] + 3.45*x[4] :  87.0 :  False\n",
            "          5 :  -Inf : 6.5*x[0] + 8.0*x[1] + 10.5*x[2] + 11.75*x[3] + 14.5*x[4] :  74.0 :   True\n",
            "          6 :  -Inf : 5.75*x[0] + 4.5*x[1] + 3.75*x[2] + 4.85*x[3] + 3.45*x[4] :  88.0 :   True\n",
            "\n",
            "5 Declarations: x_index x objective constraints_index constraints\n"
          ]
        }
      ]
    },
    {
      "cell_type": "code",
      "source": [
        "!apt-get install -y -qq coinor-cbc"
      ],
      "metadata": {
        "id": "BmF-M-sng8my"
      },
      "execution_count": null,
      "outputs": []
    },
    {
      "cell_type": "code",
      "source": [
        "opt_cbc = SolverFactory('cbc')"
      ],
      "metadata": {
        "id": "GYyxhSITg_Ka"
      },
      "execution_count": null,
      "outputs": []
    },
    {
      "cell_type": "code",
      "source": [
        "result = opt_cbc.solve(model)\n",
        "print('Solver status:', result.solver.status)\n",
        "print('Solver termination condition:',result.solver.termination_condition)"
      ],
      "metadata": {
        "colab": {
          "base_uri": "https://localhost:8080/"
        },
        "id": "-Tg3H0P9hCP6",
        "outputId": "634d581e-c1ef-4995-dbc5-1205586c2324"
      },
      "execution_count": null,
      "outputs": [
        {
          "output_type": "stream",
          "name": "stdout",
          "text": [
            "Solver status: ok\n",
            "Solver termination condition: optimal\n"
          ]
        }
      ]
    },
    {
      "cell_type": "code",
      "source": [
        "# display solution\n",
        "print('\\nObjective = ', model.objective())\n",
        "\n",
        "print('\\nDecision Variables')\n",
        "for i in col_indices:\n",
        "  print('Num slots for Drone model ',data_csvfile['Drone model'][i], model.x[i].value)\n",
        "\n",
        "print('\\nConstraints')\n",
        "model.constraints.display()"
      ],
      "metadata": {
        "colab": {
          "base_uri": "https://localhost:8080/"
        },
        "id": "3WOfgBlrhFey",
        "outputId": "c47029d9-bd06-4395-aefd-b7dc8135abe9"
      },
      "execution_count": null,
      "outputs": [
        {
          "output_type": "stream",
          "name": "stdout",
          "text": [
            "\n",
            "Objective =  123.0\n",
            "\n",
            "Decision Variables\n",
            "Num slots for Drone model  Shrey 10.0\n",
            "Num slots for Drone model  Dharan 1.0\n",
            "Num slots for Drone model  Satva 0.0\n",
            "Num slots for Drone model  Adhya 0.0\n",
            "Num slots for Drone model  Pravat 0.0\n",
            "\n",
            "Constraints\n",
            "constraints : Size=6\n",
            "    Key : Lower : Body : Upper\n",
            "      5 :  None : 73.0 :  74.0\n",
            "      6 :  None : 62.0 :  88.0\n"
          ]
        }
      ]
    },
    {
      "cell_type": "markdown",
      "source": [
        "As MILP we get maximum carrying capacity 123kgs"
      ],
      "metadata": {
        "id": "HeYERnJTxtAd"
      }
    },
    {
      "cell_type": "markdown",
      "source": [
        "Case 2: limit of budget = 72; parking space = 89"
      ],
      "metadata": {
        "id": "DBJ5JPOJx3AR"
      }
    },
    {
      "cell_type": "code",
      "source": [
        "model.constraints[5].deactivate()\n",
        "model.constraints[6].deactivate()"
      ],
      "metadata": {
        "id": "CvjFfuwMhH6p"
      },
      "execution_count": null,
      "outputs": []
    },
    {
      "cell_type": "code",
      "source": [
        "model.constraints.add(summation(data_csvfile['Cost (in crores of rupees)'], model.x) <= 72)\n",
        "model.constraints.add(summation(data_csvfile['Parking space (sq.m.)'], model.x) <= 89)"
      ],
      "metadata": {
        "colab": {
          "base_uri": "https://localhost:8080/"
        },
        "id": "_hW3HDljhN8k",
        "outputId": "304732f5-2965-4bc6-9422-cd47729f22ba"
      },
      "execution_count": null,
      "outputs": [
        {
          "output_type": "execute_result",
          "data": {
            "text/plain": [
              "<pyomo.core.base.constraint._GeneralConstraintData at 0x7f3b948d2590>"
            ]
          },
          "metadata": {},
          "execution_count": 64
        }
      ]
    },
    {
      "cell_type": "code",
      "source": [
        "model.x.domain = NonNegativeReals"
      ],
      "metadata": {
        "id": "6v0hrR-nhWQM"
      },
      "execution_count": null,
      "outputs": []
    },
    {
      "cell_type": "code",
      "source": [
        "model.pprint()"
      ],
      "metadata": {
        "colab": {
          "base_uri": "https://localhost:8080/"
        },
        "id": "-3H3EkdKhc0A",
        "outputId": "f0c3322e-ad88-405c-8434-1b1f6185bab9"
      },
      "execution_count": null,
      "outputs": [
        {
          "output_type": "stream",
          "name": "stdout",
          "text": [
            "2 Set Declarations\n",
            "    constraints_index : Size=1, Index=None, Ordered=Insertion\n",
            "        Key  : Dimen : Domain : Size : Members\n",
            "        None :     1 :    Any :    8 : {1, 2, 3, 4, 5, 6, 7, 8}\n",
            "    x_index : Size=1, Index=None, Ordered=Insertion\n",
            "        Key  : Dimen : Domain : Size : Members\n",
            "        None :     1 :    Any :    5 : {0, 1, 2, 3, 4}\n",
            "\n",
            "1 Var Declarations\n",
            "    x : Size=5, Index=x_index\n",
            "        Key : Lower : Value : Upper : Fixed : Stale : Domain\n",
            "          0 :     0 :  10.0 :  None : False : False : NonNegativeReals\n",
            "          1 :     0 :   1.0 :  None : False : False : NonNegativeReals\n",
            "          2 :     0 :   0.0 :  None : False : False : NonNegativeReals\n",
            "          3 :     0 :   0.0 :  None : False : False : NonNegativeReals\n",
            "          4 :     0 :   0.0 :  None : False : False : NonNegativeReals\n",
            "\n",
            "1 Objective Declarations\n",
            "    objective : Size=1, Index=None, Active=True\n",
            "        Key  : Active : Sense    : Expression\n",
            "        None :   True : maximize : 11*x[0] + 13*x[1] + 9*x[2] + 15*x[3] + 12*x[4]\n",
            "\n",
            "1 Constraint Declarations\n",
            "    constraints : Size=8, Index=constraints_index, Active=True\n",
            "        Key : Lower : Body                                                     : Upper : Active\n",
            "          1 :  -Inf : 6.5*x[0] + 8.0*x[1] + 10.5*x[2] + 11.75*x[3] + 14.5*x[4] :  78.0 :  False\n",
            "          2 :  -Inf : 5.75*x[0] + 4.5*x[1] + 3.75*x[2] + 4.85*x[3] + 3.45*x[4] :  84.0 :  False\n",
            "          3 :  -Inf : 6.5*x[0] + 8.0*x[1] + 10.5*x[2] + 11.75*x[3] + 14.5*x[4] :  76.0 :  False\n",
            "          4 :  -Inf : 5.75*x[0] + 4.5*x[1] + 3.75*x[2] + 4.85*x[3] + 3.45*x[4] :  87.0 :  False\n",
            "          5 :  -Inf : 6.5*x[0] + 8.0*x[1] + 10.5*x[2] + 11.75*x[3] + 14.5*x[4] :  74.0 :  False\n",
            "          6 :  -Inf : 5.75*x[0] + 4.5*x[1] + 3.75*x[2] + 4.85*x[3] + 3.45*x[4] :  88.0 :  False\n",
            "          7 :  -Inf : 6.5*x[0] + 8.0*x[1] + 10.5*x[2] + 11.75*x[3] + 14.5*x[4] :  72.0 :   True\n",
            "          8 :  -Inf : 5.75*x[0] + 4.5*x[1] + 3.75*x[2] + 4.85*x[3] + 3.45*x[4] :  89.0 :   True\n",
            "\n",
            "5 Declarations: x_index x objective constraints_index constraints\n"
          ]
        }
      ]
    },
    {
      "cell_type": "code",
      "source": [
        "!apt-get install -y -qq coinor-cbc"
      ],
      "metadata": {
        "id": "6MBk5HRKheK6"
      },
      "execution_count": null,
      "outputs": []
    },
    {
      "cell_type": "code",
      "source": [
        "opt_cbc = SolverFactory('cbc')"
      ],
      "metadata": {
        "id": "zrqjFGffhg1Y"
      },
      "execution_count": null,
      "outputs": []
    },
    {
      "cell_type": "code",
      "source": [
        "result = opt_cbc.solve(model)\n",
        "print('Solver status:', result.solver.status)\n",
        "print('Solver termination condition:',result.solver.termination_condition)"
      ],
      "metadata": {
        "colab": {
          "base_uri": "https://localhost:8080/"
        },
        "id": "LPQBOlqDhlDo",
        "outputId": "d5b3b816-f402-4a10-887d-cd62a8f1bb16"
      },
      "execution_count": null,
      "outputs": [
        {
          "output_type": "stream",
          "name": "stdout",
          "text": [
            "Solver status: ok\n",
            "Solver termination condition: optimal\n"
          ]
        }
      ]
    },
    {
      "cell_type": "code",
      "source": [
        "# display solution\n",
        "print('\\nObjective = ', model.objective())\n",
        "\n",
        "print('\\nDecision Variables')\n",
        "for i in col_indices:\n",
        "  print('Num slots for Drone model ',data_csvfile['Drone model'][i], model.x[i].value)\n",
        "\n",
        "print('\\nConstraints')\n",
        "model.constraints.display()"
      ],
      "metadata": {
        "colab": {
          "base_uri": "https://localhost:8080/"
        },
        "id": "sdNwWbW3hzZw",
        "outputId": "dcafb664-cc06-4c64-f807-2a9774ccd08d"
      },
      "execution_count": null,
      "outputs": [
        {
          "output_type": "stream",
          "name": "stdout",
          "text": [
            "\n",
            "Objective =  121.84615300000002\n",
            "\n",
            "Decision Variables\n",
            "Num slots for Drone model  Shrey 11.076923\n",
            "Num slots for Drone model  Dharan 0.0\n",
            "Num slots for Drone model  Satva 0.0\n",
            "Num slots for Drone model  Adhya 0.0\n",
            "Num slots for Drone model  Pravat 0.0\n",
            "\n",
            "Constraints\n",
            "constraints : Size=8\n",
            "    Key : Lower : Body               : Upper\n",
            "      7 :  None :         71.9999995 :  72.0\n",
            "      8 :  None : 63.692307250000006 :  89.0\n"
          ]
        }
      ]
    },
    {
      "cell_type": "markdown",
      "source": [
        "We get maximum carrying capacity = 121.846153"
      ],
      "metadata": {
        "id": "1isI15hcyIZ9"
      }
    },
    {
      "cell_type": "code",
      "source": [
        "model.x.domain = NonNegativeIntegers"
      ],
      "metadata": {
        "id": "Gvgac8DUh2bw"
      },
      "execution_count": null,
      "outputs": []
    },
    {
      "cell_type": "code",
      "source": [
        "model.pprint()"
      ],
      "metadata": {
        "colab": {
          "base_uri": "https://localhost:8080/"
        },
        "id": "ssO-Fa2Vh7BV",
        "outputId": "842e0ee1-2d03-4a2d-e819-26179e969cc5"
      },
      "execution_count": null,
      "outputs": [
        {
          "output_type": "stream",
          "name": "stdout",
          "text": [
            "2 Set Declarations\n",
            "    constraints_index : Size=1, Index=None, Ordered=Insertion\n",
            "        Key  : Dimen : Domain : Size : Members\n",
            "        None :     1 :    Any :    8 : {1, 2, 3, 4, 5, 6, 7, 8}\n",
            "    x_index : Size=1, Index=None, Ordered=Insertion\n",
            "        Key  : Dimen : Domain : Size : Members\n",
            "        None :     1 :    Any :    5 : {0, 1, 2, 3, 4}\n",
            "\n",
            "1 Var Declarations\n",
            "    x : Size=5, Index=x_index\n",
            "        Key : Lower : Value     : Upper : Fixed : Stale : Domain\n",
            "          0 :     0 : 11.076923 :  None : False : False : NonNegativeIntegers\n",
            "          1 :     0 :       0.0 :  None : False : False : NonNegativeIntegers\n",
            "          2 :     0 :       0.0 :  None : False : False : NonNegativeIntegers\n",
            "          3 :     0 :       0.0 :  None : False : False : NonNegativeIntegers\n",
            "          4 :     0 :       0.0 :  None : False : False : NonNegativeIntegers\n",
            "\n",
            "1 Objective Declarations\n",
            "    objective : Size=1, Index=None, Active=True\n",
            "        Key  : Active : Sense    : Expression\n",
            "        None :   True : maximize : 11*x[0] + 13*x[1] + 9*x[2] + 15*x[3] + 12*x[4]\n",
            "\n",
            "1 Constraint Declarations\n",
            "    constraints : Size=8, Index=constraints_index, Active=True\n",
            "        Key : Lower : Body                                                     : Upper : Active\n",
            "          1 :  -Inf : 6.5*x[0] + 8.0*x[1] + 10.5*x[2] + 11.75*x[3] + 14.5*x[4] :  78.0 :  False\n",
            "          2 :  -Inf : 5.75*x[0] + 4.5*x[1] + 3.75*x[2] + 4.85*x[3] + 3.45*x[4] :  84.0 :  False\n",
            "          3 :  -Inf : 6.5*x[0] + 8.0*x[1] + 10.5*x[2] + 11.75*x[3] + 14.5*x[4] :  76.0 :  False\n",
            "          4 :  -Inf : 5.75*x[0] + 4.5*x[1] + 3.75*x[2] + 4.85*x[3] + 3.45*x[4] :  87.0 :  False\n",
            "          5 :  -Inf : 6.5*x[0] + 8.0*x[1] + 10.5*x[2] + 11.75*x[3] + 14.5*x[4] :  74.0 :  False\n",
            "          6 :  -Inf : 5.75*x[0] + 4.5*x[1] + 3.75*x[2] + 4.85*x[3] + 3.45*x[4] :  88.0 :  False\n",
            "          7 :  -Inf : 6.5*x[0] + 8.0*x[1] + 10.5*x[2] + 11.75*x[3] + 14.5*x[4] :  72.0 :   True\n",
            "          8 :  -Inf : 5.75*x[0] + 4.5*x[1] + 3.75*x[2] + 4.85*x[3] + 3.45*x[4] :  89.0 :   True\n",
            "\n",
            "5 Declarations: x_index x objective constraints_index constraints\n"
          ]
        }
      ]
    },
    {
      "cell_type": "code",
      "source": [
        "!apt-get install -y -qq coinor-cbc"
      ],
      "metadata": {
        "id": "l4B5dOzQh-CD"
      },
      "execution_count": null,
      "outputs": []
    },
    {
      "cell_type": "code",
      "source": [
        "opt_cbc = SolverFactory('cbc')"
      ],
      "metadata": {
        "id": "zaiFgp7IiBPZ"
      },
      "execution_count": null,
      "outputs": []
    },
    {
      "cell_type": "code",
      "source": [
        "result = opt_cbc.solve(model)\n",
        "print('Solver status:', result.solver.status)\n",
        "print('Solver termination condition:',result.solver.termination_condition)"
      ],
      "metadata": {
        "colab": {
          "base_uri": "https://localhost:8080/"
        },
        "id": "VKZ6fRobiDab",
        "outputId": "62a1a189-e506-47ad-e6ff-2802ee81bfa0"
      },
      "execution_count": null,
      "outputs": [
        {
          "output_type": "stream",
          "name": "stdout",
          "text": [
            "Solver status: ok\n",
            "Solver termination condition: optimal\n"
          ]
        }
      ]
    },
    {
      "cell_type": "code",
      "source": [
        "# display solution\n",
        "print('\\nObjective = ', model.objective())\n",
        "\n",
        "print('\\nDecision Variables')\n",
        "for i in col_indices:\n",
        "  print('Num slots for Drone model ',data_csvfile['Drone model'][i], model.x[i].value)\n",
        "\n",
        "print('\\nConstraints')\n",
        "model.constraints.display()"
      ],
      "metadata": {
        "colab": {
          "base_uri": "https://localhost:8080/"
        },
        "id": "kkMUMu0AiGjj",
        "outputId": "8e7d3525-9557-44d9-d1aa-5d6a35d11f53"
      },
      "execution_count": null,
      "outputs": [
        {
          "output_type": "stream",
          "name": "stdout",
          "text": [
            "\n",
            "Objective =  121.0\n",
            "\n",
            "Decision Variables\n",
            "Num slots for Drone model  Shrey 11.0\n",
            "Num slots for Drone model  Dharan 0.0\n",
            "Num slots for Drone model  Satva 0.0\n",
            "Num slots for Drone model  Adhya 0.0\n",
            "Num slots for Drone model  Pravat 0.0\n",
            "\n",
            "Constraints\n",
            "constraints : Size=8\n",
            "    Key : Lower : Body  : Upper\n",
            "      7 :  None :  71.5 :  72.0\n",
            "      8 :  None : 63.25 :  89.0\n"
          ]
        }
      ]
    },
    {
      "cell_type": "markdown",
      "source": [
        "So as MILP we get  that maximum carrying capacity = 121"
      ],
      "metadata": {
        "id": "dVkBMDSDyUzN"
      }
    },
    {
      "cell_type": "markdown",
      "source": [
        "Case3:  limit of budget = 70; parking space = 90"
      ],
      "metadata": {
        "id": "Bz8SvQGryao5"
      }
    },
    {
      "cell_type": "code",
      "source": [
        "model.constraints[7].deactivate()\n",
        "model.constraints[8].deactivate()"
      ],
      "metadata": {
        "id": "Z0DcrOrZiJvG"
      },
      "execution_count": null,
      "outputs": []
    },
    {
      "cell_type": "code",
      "source": [
        "model.constraints.add(summation(data_csvfile['Cost (in crores of rupees)'], model.x) <= 70)\n",
        "model.constraints.add(summation(data_csvfile['Parking space (sq.m.)'], model.x) <= 90)"
      ],
      "metadata": {
        "colab": {
          "base_uri": "https://localhost:8080/"
        },
        "id": "7Rp7ncvZiQBZ",
        "outputId": "4dc433c3-ac37-4baa-a6a6-bcbb464217f1"
      },
      "execution_count": null,
      "outputs": [
        {
          "output_type": "execute_result",
          "data": {
            "text/plain": [
              "<pyomo.core.base.constraint._GeneralConstraintData at 0x7f3b948acfa0>"
            ]
          },
          "metadata": {},
          "execution_count": 78
        }
      ]
    },
    {
      "cell_type": "code",
      "source": [
        "model.x.domain = NonNegativeReals"
      ],
      "metadata": {
        "id": "ck4ae-hviWpE"
      },
      "execution_count": null,
      "outputs": []
    },
    {
      "cell_type": "code",
      "source": [
        "model.pprint()"
      ],
      "metadata": {
        "colab": {
          "base_uri": "https://localhost:8080/"
        },
        "id": "dRuaHOiKic8A",
        "outputId": "803076ef-e7b6-4142-d0a8-e17eb092b879"
      },
      "execution_count": null,
      "outputs": [
        {
          "output_type": "stream",
          "name": "stdout",
          "text": [
            "2 Set Declarations\n",
            "    constraints_index : Size=1, Index=None, Ordered=Insertion\n",
            "        Key  : Dimen : Domain : Size : Members\n",
            "        None :     1 :    Any :   10 : {1, 2, 3, 4, 5, 6, 7, 8, 9, 10}\n",
            "    x_index : Size=1, Index=None, Ordered=Insertion\n",
            "        Key  : Dimen : Domain : Size : Members\n",
            "        None :     1 :    Any :    5 : {0, 1, 2, 3, 4}\n",
            "\n",
            "1 Var Declarations\n",
            "    x : Size=5, Index=x_index\n",
            "        Key : Lower : Value : Upper : Fixed : Stale : Domain\n",
            "          0 :     0 :  11.0 :  None : False : False : NonNegativeReals\n",
            "          1 :     0 :   0.0 :  None : False : False : NonNegativeReals\n",
            "          2 :     0 :   0.0 :  None : False : False : NonNegativeReals\n",
            "          3 :     0 :   0.0 :  None : False : False : NonNegativeReals\n",
            "          4 :     0 :   0.0 :  None : False : False : NonNegativeReals\n",
            "\n",
            "1 Objective Declarations\n",
            "    objective : Size=1, Index=None, Active=True\n",
            "        Key  : Active : Sense    : Expression\n",
            "        None :   True : maximize : 11*x[0] + 13*x[1] + 9*x[2] + 15*x[3] + 12*x[4]\n",
            "\n",
            "1 Constraint Declarations\n",
            "    constraints : Size=10, Index=constraints_index, Active=True\n",
            "        Key : Lower : Body                                                     : Upper : Active\n",
            "          1 :  -Inf : 6.5*x[0] + 8.0*x[1] + 10.5*x[2] + 11.75*x[3] + 14.5*x[4] :  78.0 :  False\n",
            "          2 :  -Inf : 5.75*x[0] + 4.5*x[1] + 3.75*x[2] + 4.85*x[3] + 3.45*x[4] :  84.0 :  False\n",
            "          3 :  -Inf : 6.5*x[0] + 8.0*x[1] + 10.5*x[2] + 11.75*x[3] + 14.5*x[4] :  76.0 :  False\n",
            "          4 :  -Inf : 5.75*x[0] + 4.5*x[1] + 3.75*x[2] + 4.85*x[3] + 3.45*x[4] :  87.0 :  False\n",
            "          5 :  -Inf : 6.5*x[0] + 8.0*x[1] + 10.5*x[2] + 11.75*x[3] + 14.5*x[4] :  74.0 :  False\n",
            "          6 :  -Inf : 5.75*x[0] + 4.5*x[1] + 3.75*x[2] + 4.85*x[3] + 3.45*x[4] :  88.0 :  False\n",
            "          7 :  -Inf : 6.5*x[0] + 8.0*x[1] + 10.5*x[2] + 11.75*x[3] + 14.5*x[4] :  72.0 :  False\n",
            "          8 :  -Inf : 5.75*x[0] + 4.5*x[1] + 3.75*x[2] + 4.85*x[3] + 3.45*x[4] :  89.0 :  False\n",
            "          9 :  -Inf : 6.5*x[0] + 8.0*x[1] + 10.5*x[2] + 11.75*x[3] + 14.5*x[4] :  70.0 :   True\n",
            "         10 :  -Inf : 5.75*x[0] + 4.5*x[1] + 3.75*x[2] + 4.85*x[3] + 3.45*x[4] :  90.0 :   True\n",
            "\n",
            "5 Declarations: x_index x objective constraints_index constraints\n"
          ]
        }
      ]
    },
    {
      "cell_type": "code",
      "source": [
        "!apt-get install -y -qq coinor-cbc"
      ],
      "metadata": {
        "id": "ah3eIn8oigYi"
      },
      "execution_count": null,
      "outputs": []
    },
    {
      "cell_type": "code",
      "source": [
        "opt_cbc = SolverFactory('cbc')"
      ],
      "metadata": {
        "id": "6uXjhvmcikav"
      },
      "execution_count": null,
      "outputs": []
    },
    {
      "cell_type": "code",
      "source": [
        "result = opt_cbc.solve(model)\n",
        "print('Solver status:', result.solver.status)\n",
        "print('Solver termination condition:',result.solver.termination_condition)"
      ],
      "metadata": {
        "colab": {
          "base_uri": "https://localhost:8080/"
        },
        "id": "NlxiTJYAindJ",
        "outputId": "1bd33f9a-b5c8-4296-bc31-bc74786dee42"
      },
      "execution_count": null,
      "outputs": [
        {
          "output_type": "stream",
          "name": "stdout",
          "text": [
            "Solver status: ok\n",
            "Solver termination condition: optimal\n"
          ]
        }
      ]
    },
    {
      "cell_type": "code",
      "source": [
        "# display solution\n",
        "print('\\nObjective = ', model.objective())\n",
        "\n",
        "print('\\nDecision Variables')\n",
        "for i in col_indices:\n",
        "  print('Num slots for Drone model ',data_csvfile['Drone model'][i], model.x[i].value)\n",
        "\n",
        "print('\\nConstraints')\n",
        "model.constraints.display()"
      ],
      "metadata": {
        "colab": {
          "base_uri": "https://localhost:8080/"
        },
        "id": "19FjPQ6AirlW",
        "outputId": "f68bbe00-e910-4ba5-c057-22d709d1cb01"
      },
      "execution_count": null,
      "outputs": [
        {
          "output_type": "stream",
          "name": "stdout",
          "text": [
            "\n",
            "Objective =  118.461541\n",
            "\n",
            "Decision Variables\n",
            "Num slots for Drone model  Shrey 10.769231\n",
            "Num slots for Drone model  Dharan 0.0\n",
            "Num slots for Drone model  Satva 0.0\n",
            "Num slots for Drone model  Adhya 0.0\n",
            "Num slots for Drone model  Pravat 0.0\n",
            "\n",
            "Constraints\n",
            "constraints : Size=10\n",
            "    Key : Lower : Body               : Upper\n",
            "      9 :  None :         70.0000015 :  70.0\n",
            "     10 :  None : 61.923078249999996 :  90.0\n"
          ]
        }
      ]
    },
    {
      "cell_type": "markdown",
      "source": [
        "As LP we get maximum carrying capacity = 118.461541"
      ],
      "metadata": {
        "id": "Ne_GLDQwym0f"
      }
    },
    {
      "cell_type": "code",
      "source": [
        "model.x.domain = NonNegativeIntegers"
      ],
      "metadata": {
        "id": "R0e0yd-JiuOK"
      },
      "execution_count": null,
      "outputs": []
    },
    {
      "cell_type": "code",
      "source": [
        "model.pprint()"
      ],
      "metadata": {
        "colab": {
          "base_uri": "https://localhost:8080/"
        },
        "id": "5dIm4TiziyMQ",
        "outputId": "d3bb80b7-449b-4328-f76d-570ef1decc45"
      },
      "execution_count": null,
      "outputs": [
        {
          "output_type": "stream",
          "name": "stdout",
          "text": [
            "2 Set Declarations\n",
            "    constraints_index : Size=1, Index=None, Ordered=Insertion\n",
            "        Key  : Dimen : Domain : Size : Members\n",
            "        None :     1 :    Any :   10 : {1, 2, 3, 4, 5, 6, 7, 8, 9, 10}\n",
            "    x_index : Size=1, Index=None, Ordered=Insertion\n",
            "        Key  : Dimen : Domain : Size : Members\n",
            "        None :     1 :    Any :    5 : {0, 1, 2, 3, 4}\n",
            "\n",
            "1 Var Declarations\n",
            "    x : Size=5, Index=x_index\n",
            "        Key : Lower : Value     : Upper : Fixed : Stale : Domain\n",
            "          0 :     0 : 10.769231 :  None : False : False : NonNegativeIntegers\n",
            "          1 :     0 :       0.0 :  None : False : False : NonNegativeIntegers\n",
            "          2 :     0 :       0.0 :  None : False : False : NonNegativeIntegers\n",
            "          3 :     0 :       0.0 :  None : False : False : NonNegativeIntegers\n",
            "          4 :     0 :       0.0 :  None : False : False : NonNegativeIntegers\n",
            "\n",
            "1 Objective Declarations\n",
            "    objective : Size=1, Index=None, Active=True\n",
            "        Key  : Active : Sense    : Expression\n",
            "        None :   True : maximize : 11*x[0] + 13*x[1] + 9*x[2] + 15*x[3] + 12*x[4]\n",
            "\n",
            "1 Constraint Declarations\n",
            "    constraints : Size=10, Index=constraints_index, Active=True\n",
            "        Key : Lower : Body                                                     : Upper : Active\n",
            "          1 :  -Inf : 6.5*x[0] + 8.0*x[1] + 10.5*x[2] + 11.75*x[3] + 14.5*x[4] :  78.0 :  False\n",
            "          2 :  -Inf : 5.75*x[0] + 4.5*x[1] + 3.75*x[2] + 4.85*x[3] + 3.45*x[4] :  84.0 :  False\n",
            "          3 :  -Inf : 6.5*x[0] + 8.0*x[1] + 10.5*x[2] + 11.75*x[3] + 14.5*x[4] :  76.0 :  False\n",
            "          4 :  -Inf : 5.75*x[0] + 4.5*x[1] + 3.75*x[2] + 4.85*x[3] + 3.45*x[4] :  87.0 :  False\n",
            "          5 :  -Inf : 6.5*x[0] + 8.0*x[1] + 10.5*x[2] + 11.75*x[3] + 14.5*x[4] :  74.0 :  False\n",
            "          6 :  -Inf : 5.75*x[0] + 4.5*x[1] + 3.75*x[2] + 4.85*x[3] + 3.45*x[4] :  88.0 :  False\n",
            "          7 :  -Inf : 6.5*x[0] + 8.0*x[1] + 10.5*x[2] + 11.75*x[3] + 14.5*x[4] :  72.0 :  False\n",
            "          8 :  -Inf : 5.75*x[0] + 4.5*x[1] + 3.75*x[2] + 4.85*x[3] + 3.45*x[4] :  89.0 :  False\n",
            "          9 :  -Inf : 6.5*x[0] + 8.0*x[1] + 10.5*x[2] + 11.75*x[3] + 14.5*x[4] :  70.0 :   True\n",
            "         10 :  -Inf : 5.75*x[0] + 4.5*x[1] + 3.75*x[2] + 4.85*x[3] + 3.45*x[4] :  90.0 :   True\n",
            "\n",
            "5 Declarations: x_index x objective constraints_index constraints\n"
          ]
        }
      ]
    },
    {
      "cell_type": "code",
      "source": [
        "!apt-get install -y -qq coinor-cbc"
      ],
      "metadata": {
        "id": "6pTl4axFi2TV"
      },
      "execution_count": null,
      "outputs": []
    },
    {
      "cell_type": "code",
      "source": [
        "opt_cbc = SolverFactory('cbc')"
      ],
      "metadata": {
        "id": "fzLfeCoBi5ht"
      },
      "execution_count": null,
      "outputs": []
    },
    {
      "cell_type": "code",
      "source": [
        "result = opt_cbc.solve(model)\n",
        "print('Solver status:', result.solver.status)\n",
        "print('Solver termination condition:',result.solver.termination_condition)"
      ],
      "metadata": {
        "colab": {
          "base_uri": "https://localhost:8080/"
        },
        "id": "LJW-5Dcli7lt",
        "outputId": "49d39fcd-007e-49e3-de81-dd149ca0b8bd"
      },
      "execution_count": null,
      "outputs": [
        {
          "output_type": "stream",
          "name": "stdout",
          "text": [
            "Solver status: ok\n",
            "Solver termination condition: optimal\n"
          ]
        }
      ]
    },
    {
      "cell_type": "code",
      "source": [
        "# display solution\n",
        "print('\\nObjective = ', model.objective())\n",
        "\n",
        "print('\\nDecision Variables')\n",
        "for i in col_indices:\n",
        "  print('Num slots for Drone model ',data_csvfile['Drone model'][i], model.x[i].value)\n",
        "\n",
        "print('\\nConstraints')\n",
        "model.constraints.display()"
      ],
      "metadata": {
        "colab": {
          "base_uri": "https://localhost:8080/"
        },
        "id": "9JZfuU-Ji99B",
        "outputId": "ada1cc9b-0641-42e7-c56a-32af3fa3395b"
      },
      "execution_count": null,
      "outputs": [
        {
          "output_type": "stream",
          "name": "stdout",
          "text": [
            "\n",
            "Objective =  116.0\n",
            "\n",
            "Decision Variables\n",
            "Num slots for Drone model  Shrey 7.0\n",
            "Num slots for Drone model  Dharan 3.0\n",
            "Num slots for Drone model  Satva 0.0\n",
            "Num slots for Drone model  Adhya 0.0\n",
            "Num slots for Drone model  Pravat 0.0\n",
            "\n",
            "Constraints\n",
            "constraints : Size=10\n",
            "    Key : Lower : Body  : Upper\n",
            "      9 :  None :  69.5 :  70.0\n",
            "     10 :  None : 53.75 :  90.0\n"
          ]
        }
      ]
    },
    {
      "cell_type": "markdown",
      "source": [
        "As MILP we get maximum carrying capacity = 116 kgs"
      ],
      "metadata": {
        "id": "elotFEN5yxao"
      }
    },
    {
      "cell_type": "markdown",
      "source": [
        " Case4:limit of budget = 68; parking space = 91"
      ],
      "metadata": {
        "id": "7rzuWshny2a0"
      }
    },
    {
      "cell_type": "code",
      "source": [
        "model.constraints[9].deactivate()\n",
        "model.constraints[10].deactivate()"
      ],
      "metadata": {
        "id": "XFPM9dtsjAQv"
      },
      "execution_count": null,
      "outputs": []
    },
    {
      "cell_type": "code",
      "source": [
        "model.constraints.add(summation(data_csvfile['Cost (in crores of rupees)'], model.x) <= 68)\n",
        "model.constraints.add(summation(data_csvfile['Parking space (sq.m.)'], model.x) <= 91)"
      ],
      "metadata": {
        "colab": {
          "base_uri": "https://localhost:8080/"
        },
        "id": "bMOGg6dbjHQg",
        "outputId": "6b310683-e2d6-4b6d-c830-92821bcd8a7c"
      },
      "execution_count": null,
      "outputs": [
        {
          "output_type": "execute_result",
          "data": {
            "text/plain": [
              "<pyomo.core.base.constraint._GeneralConstraintData at 0x7f3b9484e520>"
            ]
          },
          "metadata": {},
          "execution_count": 92
        }
      ]
    },
    {
      "cell_type": "code",
      "source": [
        "model.x.domain = NonNegativeReals"
      ],
      "metadata": {
        "id": "HO1kjGJwjMjn"
      },
      "execution_count": null,
      "outputs": []
    },
    {
      "cell_type": "code",
      "source": [
        "model.pprint()"
      ],
      "metadata": {
        "colab": {
          "base_uri": "https://localhost:8080/"
        },
        "id": "cYY5bhlljQtk",
        "outputId": "ce20f678-6352-4846-93aa-acfc8b2483c1"
      },
      "execution_count": null,
      "outputs": [
        {
          "output_type": "stream",
          "name": "stdout",
          "text": [
            "2 Set Declarations\n",
            "    constraints_index : Size=1, Index=None, Ordered=Insertion\n",
            "        Key  : Dimen : Domain : Size : Members\n",
            "        None :     1 :    Any :   12 : {1, 2, 3, 4, 5, 6, 7, 8, 9, 10, 11, 12}\n",
            "    x_index : Size=1, Index=None, Ordered=Insertion\n",
            "        Key  : Dimen : Domain : Size : Members\n",
            "        None :     1 :    Any :    5 : {0, 1, 2, 3, 4}\n",
            "\n",
            "1 Var Declarations\n",
            "    x : Size=5, Index=x_index\n",
            "        Key : Lower : Value : Upper : Fixed : Stale : Domain\n",
            "          0 :     0 :   7.0 :  None : False : False : NonNegativeReals\n",
            "          1 :     0 :   3.0 :  None : False : False : NonNegativeReals\n",
            "          2 :     0 :   0.0 :  None : False : False : NonNegativeReals\n",
            "          3 :     0 :   0.0 :  None : False : False : NonNegativeReals\n",
            "          4 :     0 :   0.0 :  None : False : False : NonNegativeReals\n",
            "\n",
            "1 Objective Declarations\n",
            "    objective : Size=1, Index=None, Active=True\n",
            "        Key  : Active : Sense    : Expression\n",
            "        None :   True : maximize : 11*x[0] + 13*x[1] + 9*x[2] + 15*x[3] + 12*x[4]\n",
            "\n",
            "1 Constraint Declarations\n",
            "    constraints : Size=12, Index=constraints_index, Active=True\n",
            "        Key : Lower : Body                                                     : Upper : Active\n",
            "          1 :  -Inf : 6.5*x[0] + 8.0*x[1] + 10.5*x[2] + 11.75*x[3] + 14.5*x[4] :  78.0 :  False\n",
            "          2 :  -Inf : 5.75*x[0] + 4.5*x[1] + 3.75*x[2] + 4.85*x[3] + 3.45*x[4] :  84.0 :  False\n",
            "          3 :  -Inf : 6.5*x[0] + 8.0*x[1] + 10.5*x[2] + 11.75*x[3] + 14.5*x[4] :  76.0 :  False\n",
            "          4 :  -Inf : 5.75*x[0] + 4.5*x[1] + 3.75*x[2] + 4.85*x[3] + 3.45*x[4] :  87.0 :  False\n",
            "          5 :  -Inf : 6.5*x[0] + 8.0*x[1] + 10.5*x[2] + 11.75*x[3] + 14.5*x[4] :  74.0 :  False\n",
            "          6 :  -Inf : 5.75*x[0] + 4.5*x[1] + 3.75*x[2] + 4.85*x[3] + 3.45*x[4] :  88.0 :  False\n",
            "          7 :  -Inf : 6.5*x[0] + 8.0*x[1] + 10.5*x[2] + 11.75*x[3] + 14.5*x[4] :  72.0 :  False\n",
            "          8 :  -Inf : 5.75*x[0] + 4.5*x[1] + 3.75*x[2] + 4.85*x[3] + 3.45*x[4] :  89.0 :  False\n",
            "          9 :  -Inf : 6.5*x[0] + 8.0*x[1] + 10.5*x[2] + 11.75*x[3] + 14.5*x[4] :  70.0 :  False\n",
            "         10 :  -Inf : 5.75*x[0] + 4.5*x[1] + 3.75*x[2] + 4.85*x[3] + 3.45*x[4] :  90.0 :  False\n",
            "         11 :  -Inf : 6.5*x[0] + 8.0*x[1] + 10.5*x[2] + 11.75*x[3] + 14.5*x[4] :  68.0 :   True\n",
            "         12 :  -Inf : 5.75*x[0] + 4.5*x[1] + 3.75*x[2] + 4.85*x[3] + 3.45*x[4] :  91.0 :   True\n",
            "\n",
            "5 Declarations: x_index x objective constraints_index constraints\n"
          ]
        }
      ]
    },
    {
      "cell_type": "code",
      "source": [
        "!apt-get install -y -qq coinor-cbc"
      ],
      "metadata": {
        "id": "AcOL4mH4jUSh"
      },
      "execution_count": null,
      "outputs": []
    },
    {
      "cell_type": "code",
      "source": [
        "opt_cbc = SolverFactory('cbc')"
      ],
      "metadata": {
        "id": "gqmmDBgojWWd"
      },
      "execution_count": null,
      "outputs": []
    },
    {
      "cell_type": "code",
      "source": [
        "result = opt_cbc.solve(model)\n",
        "print('Solver status:', result.solver.status)\n",
        "print('Solver termination condition:',result.solver.termination_condition)"
      ],
      "metadata": {
        "colab": {
          "base_uri": "https://localhost:8080/"
        },
        "id": "E2zesYcgjYtG",
        "outputId": "dfddf0a9-287b-4613-f8b8-13606c520b0c"
      },
      "execution_count": null,
      "outputs": [
        {
          "output_type": "stream",
          "name": "stdout",
          "text": [
            "Solver status: ok\n",
            "Solver termination condition: optimal\n"
          ]
        }
      ]
    },
    {
      "cell_type": "code",
      "source": [
        "# display solution\n",
        "print('\\nObjective = ', model.objective())\n",
        "\n",
        "print('\\nDecision Variables')\n",
        "for i in col_indices:\n",
        "  print('Num slots for Drone model ',data_csvfile['Drone model'][i], model.x[i].value)\n",
        "\n",
        "print('\\nConstraints')\n",
        "model.constraints.display()"
      ],
      "metadata": {
        "colab": {
          "base_uri": "https://localhost:8080/"
        },
        "id": "UKWRu6WkjbBz",
        "outputId": "c15b8b7d-4b51-4c37-dbd0-032f9fe848c6"
      },
      "execution_count": null,
      "outputs": [
        {
          "output_type": "stream",
          "name": "stdout",
          "text": [
            "\n",
            "Objective =  115.07691799999999\n",
            "\n",
            "Decision Variables\n",
            "Num slots for Drone model  Shrey 10.461538\n",
            "Num slots for Drone model  Dharan 0.0\n",
            "Num slots for Drone model  Satva 0.0\n",
            "Num slots for Drone model  Adhya 0.0\n",
            "Num slots for Drone model  Pravat 0.0\n",
            "\n",
            "Constraints\n",
            "constraints : Size=12\n",
            "    Key : Lower : Body               : Upper\n",
            "     11 :  None :          67.999997 :  68.0\n",
            "     12 :  None : 60.153843499999994 :  91.0\n"
          ]
        }
      ]
    },
    {
      "cell_type": "markdown",
      "source": [
        "As LP we get maximum carrying capacity = 115.07691799999"
      ],
      "metadata": {
        "id": "Oaj-Lac2zBdp"
      }
    },
    {
      "cell_type": "code",
      "source": [
        "model.x.domain = NonNegativeIntegers"
      ],
      "metadata": {
        "id": "1lXYiyEcjd1k"
      },
      "execution_count": null,
      "outputs": []
    },
    {
      "cell_type": "code",
      "source": [
        "model.pprint()"
      ],
      "metadata": {
        "colab": {
          "base_uri": "https://localhost:8080/"
        },
        "id": "tGmnvNsujhKG",
        "outputId": "297e4922-b0d4-4deb-f15f-fdecef685101"
      },
      "execution_count": null,
      "outputs": [
        {
          "output_type": "stream",
          "name": "stdout",
          "text": [
            "2 Set Declarations\n",
            "    constraints_index : Size=1, Index=None, Ordered=Insertion\n",
            "        Key  : Dimen : Domain : Size : Members\n",
            "        None :     1 :    Any :   12 : {1, 2, 3, 4, 5, 6, 7, 8, 9, 10, 11, 12}\n",
            "    x_index : Size=1, Index=None, Ordered=Insertion\n",
            "        Key  : Dimen : Domain : Size : Members\n",
            "        None :     1 :    Any :    5 : {0, 1, 2, 3, 4}\n",
            "\n",
            "1 Var Declarations\n",
            "    x : Size=5, Index=x_index\n",
            "        Key : Lower : Value     : Upper : Fixed : Stale : Domain\n",
            "          0 :     0 : 10.461538 :  None : False : False : NonNegativeIntegers\n",
            "          1 :     0 :       0.0 :  None : False : False : NonNegativeIntegers\n",
            "          2 :     0 :       0.0 :  None : False : False : NonNegativeIntegers\n",
            "          3 :     0 :       0.0 :  None : False : False : NonNegativeIntegers\n",
            "          4 :     0 :       0.0 :  None : False : False : NonNegativeIntegers\n",
            "\n",
            "1 Objective Declarations\n",
            "    objective : Size=1, Index=None, Active=True\n",
            "        Key  : Active : Sense    : Expression\n",
            "        None :   True : maximize : 11*x[0] + 13*x[1] + 9*x[2] + 15*x[3] + 12*x[4]\n",
            "\n",
            "1 Constraint Declarations\n",
            "    constraints : Size=12, Index=constraints_index, Active=True\n",
            "        Key : Lower : Body                                                     : Upper : Active\n",
            "          1 :  -Inf : 6.5*x[0] + 8.0*x[1] + 10.5*x[2] + 11.75*x[3] + 14.5*x[4] :  78.0 :  False\n",
            "          2 :  -Inf : 5.75*x[0] + 4.5*x[1] + 3.75*x[2] + 4.85*x[3] + 3.45*x[4] :  84.0 :  False\n",
            "          3 :  -Inf : 6.5*x[0] + 8.0*x[1] + 10.5*x[2] + 11.75*x[3] + 14.5*x[4] :  76.0 :  False\n",
            "          4 :  -Inf : 5.75*x[0] + 4.5*x[1] + 3.75*x[2] + 4.85*x[3] + 3.45*x[4] :  87.0 :  False\n",
            "          5 :  -Inf : 6.5*x[0] + 8.0*x[1] + 10.5*x[2] + 11.75*x[3] + 14.5*x[4] :  74.0 :  False\n",
            "          6 :  -Inf : 5.75*x[0] + 4.5*x[1] + 3.75*x[2] + 4.85*x[3] + 3.45*x[4] :  88.0 :  False\n",
            "          7 :  -Inf : 6.5*x[0] + 8.0*x[1] + 10.5*x[2] + 11.75*x[3] + 14.5*x[4] :  72.0 :  False\n",
            "          8 :  -Inf : 5.75*x[0] + 4.5*x[1] + 3.75*x[2] + 4.85*x[3] + 3.45*x[4] :  89.0 :  False\n",
            "          9 :  -Inf : 6.5*x[0] + 8.0*x[1] + 10.5*x[2] + 11.75*x[3] + 14.5*x[4] :  70.0 :  False\n",
            "         10 :  -Inf : 5.75*x[0] + 4.5*x[1] + 3.75*x[2] + 4.85*x[3] + 3.45*x[4] :  90.0 :  False\n",
            "         11 :  -Inf : 6.5*x[0] + 8.0*x[1] + 10.5*x[2] + 11.75*x[3] + 14.5*x[4] :  68.0 :   True\n",
            "         12 :  -Inf : 5.75*x[0] + 4.5*x[1] + 3.75*x[2] + 4.85*x[3] + 3.45*x[4] :  91.0 :   True\n",
            "\n",
            "5 Declarations: x_index x objective constraints_index constraints\n"
          ]
        }
      ]
    },
    {
      "cell_type": "code",
      "source": [
        "!apt-get install -y -qq coinor-cbc"
      ],
      "metadata": {
        "id": "g9I2pUbSji-X"
      },
      "execution_count": null,
      "outputs": []
    },
    {
      "cell_type": "code",
      "source": [
        "opt_cbc = SolverFactory('cbc')"
      ],
      "metadata": {
        "id": "U8u7GQBpjncR"
      },
      "execution_count": null,
      "outputs": []
    },
    {
      "cell_type": "code",
      "source": [
        "result = opt_cbc.solve(model)\n",
        "print('Solver status:', result.solver.status)\n",
        "print('Solver termination condition:',result.solver.termination_condition)"
      ],
      "metadata": {
        "colab": {
          "base_uri": "https://localhost:8080/"
        },
        "id": "ma38viipjpj0",
        "outputId": "65ad251b-b7d4-4573-c9ff-e51380d5164a"
      },
      "execution_count": null,
      "outputs": [
        {
          "output_type": "stream",
          "name": "stdout",
          "text": [
            "Solver status: ok\n",
            "Solver termination condition: optimal\n"
          ]
        }
      ]
    },
    {
      "cell_type": "code",
      "source": [
        "# display solution\n",
        "print('\\nObjective = ', model.objective())\n",
        "\n",
        "print('\\nDecision Variables')\n",
        "for i in col_indices:\n",
        "  print('Num slots for Drone model ',data_csvfile['Drone model'][i], model.x[i].value)\n",
        "\n",
        "print('\\nConstraints')\n",
        "model.constraints.display()"
      ],
      "metadata": {
        "colab": {
          "base_uri": "https://localhost:8080/"
        },
        "id": "p9eyICZEjspP",
        "outputId": "929dd0dd-10e2-4c14-d80d-82109bd2dd5d"
      },
      "execution_count": null,
      "outputs": [
        {
          "output_type": "stream",
          "name": "stdout",
          "text": [
            "\n",
            "Objective =  114.0\n",
            "\n",
            "Decision Variables\n",
            "Num slots for Drone model  Shrey 8.0\n",
            "Num slots for Drone model  Dharan 2.0\n",
            "Num slots for Drone model  Satva 0.0\n",
            "Num slots for Drone model  Adhya 0.0\n",
            "Num slots for Drone model  Pravat 0.0\n",
            "\n",
            "Constraints\n",
            "constraints : Size=12\n",
            "    Key : Lower : Body : Upper\n",
            "     11 :  None : 68.0 :  68.0\n",
            "     12 :  None : 55.0 :  91.0\n"
          ]
        }
      ]
    },
    {
      "cell_type": "markdown",
      "source": [
        "As MILP we get maximum carrying capacity = 114 kgs"
      ],
      "metadata": {
        "id": "TZzAAnVSzMn5"
      }
    },
    {
      "cell_type": "markdown",
      "source": [
        "(As MILP):maximum carrying capacity  = 123kgs,121kgs,116kgs,114kgs when limit of budget = 74,72,70,68 and parking space = 88,89,90,91 respectively.\n",
        "\n",
        "(As LP):maximum carrying capacity  = 125.230765\n",
        "kgs,121.84615300000002kgs,118.461541kgs,115.07691799999kgs when limit of budget = 74,72,70,68 and parking space = 88,89,90,91 respectively\n",
        "\n",
        "\n",
        "By above obtained data we can conclude that as limit of budget decreases and parking space increases then carrying capacity decreases.\n",
        " \n"
      ],
      "metadata": {
        "id": "jL-OWHXIzqLB"
      }
    },
    {
      "cell_type": "markdown",
      "source": [
        "My observation on obtained solution is that if limit of budget is decreased and parking space is increased then only limit of budget puts effect in decreasing optimal solution since all the times constraint related to parking space is not active but constraint related to limit of budget is always active constraint.that is reason behind getting such kind of solution."
      ],
      "metadata": {
        "id": "VppaNvdb2YGU"
      }
    },
    {
      "cell_type": "code",
      "source": [],
      "metadata": {
        "id": "VKKrwbxijv59"
      },
      "execution_count": null,
      "outputs": []
    }
  ]
}