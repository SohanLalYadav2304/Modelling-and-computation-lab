{
  "nbformat": 4,
  "nbformat_minor": 0,
  "metadata": {
    "colab": {
      "name": "22n0451_IE507_lab4_ex1.ipynb",
      "provenance": [],
      "collapsed_sections": []
    },
    "kernelspec": {
      "name": "python3",
      "display_name": "Python 3"
    },
    "language_info": {
      "name": "python"
    }
  },
  "cells": [
    {
      "cell_type": "code",
      "execution_count": 3,
      "metadata": {
        "colab": {
          "base_uri": "https://localhost:8080/"
        },
        "id": "sTqpq5cjB4C-",
        "outputId": "cdbed5da-7551-4684-887a-fec7bf3b8fab"
      },
      "outputs": [
        {
          "output_type": "stream",
          "name": "stdout",
          "text": [
            "\u001b[K     |████████████████████████████████| 9.7 MB 25.7 MB/s \n",
            "\u001b[K     |████████████████████████████████| 49 kB 6.9 MB/s \n",
            "\u001b[?25h"
          ]
        }
      ],
      "source": [
        "!pip install -q pyomo"
      ]
    },
    {
      "cell_type": "code",
      "source": [
        "from pyomo.environ import * "
      ],
      "metadata": {
        "id": "zWi3-kHfB4wW"
      },
      "execution_count": 4,
      "outputs": []
    },
    {
      "cell_type": "code",
      "source": [
        "import numpy as np"
      ],
      "metadata": {
        "id": "1s-kpxN5CDZG"
      },
      "execution_count": 5,
      "outputs": []
    },
    {
      "cell_type": "code",
      "source": [
        "coef = np.loadtxt('lab4_ex1_coef.txt', delimiter=',')"
      ],
      "metadata": {
        "id": "tTZrmNZpCFvg"
      },
      "execution_count": 6,
      "outputs": []
    },
    {
      "cell_type": "code",
      "source": [
        "print(coef.shape)\n",
        "print('Num rows:',coef.shape[0])\n",
        "print('Num cols:',coef.shape[1])\n"
      ],
      "metadata": {
        "colab": {
          "base_uri": "https://localhost:8080/"
        },
        "id": "StlplWmzDJOV",
        "outputId": "09ad6cc7-5900-4881-85e8-404dff4fb054"
      },
      "execution_count": 7,
      "outputs": [
        {
          "output_type": "stream",
          "name": "stdout",
          "text": [
            "(6, 7)\n",
            "Num rows: 6\n",
            "Num cols: 7\n"
          ]
        }
      ]
    },
    {
      "cell_type": "code",
      "source": [
        "print(coef)"
      ],
      "metadata": {
        "colab": {
          "base_uri": "https://localhost:8080/"
        },
        "id": "KO5ZXS96DxTg",
        "outputId": "999ab3c6-309f-4360-a7f8-4fb12025e187"
      },
      "execution_count": 8,
      "outputs": [
        {
          "output_type": "stream",
          "name": "stdout",
          "text": [
            "[[  0.65   0.75  -5.85  -8.35 -12.38  30.     0.  ]\n",
            " [ -0.5    0.    -3.8   -0.9    0.9    0.    24.8 ]\n",
            " [  1.     0.     0.    -1.     0.    -1.     0.8 ]\n",
            " [  0.    -2.9   -1.9    0.     0.    -0.9  -71.4 ]\n",
            " [  0.     0.     0.     4.7    8.02   6.15  95.  ]\n",
            " [ -0.7   -1.4    7.9   -2.9    0.9    0.   -47.  ]]\n"
          ]
        }
      ]
    },
    {
      "cell_type": "code",
      "source": [
        "model = ConcreteModel()"
      ],
      "metadata": {
        "id": "yxlf6wP5GbTc"
      },
      "execution_count": 9,
      "outputs": []
    },
    {
      "cell_type": "code",
      "source": [
        "N = coef.shape[1]-1"
      ],
      "metadata": {
        "id": "VhiA260VGgvH"
      },
      "execution_count": 10,
      "outputs": []
    },
    {
      "cell_type": "code",
      "source": [
        "M = coef.shape[0]-1"
      ],
      "metadata": {
        "id": "1_X083juGn7e"
      },
      "execution_count": 11,
      "outputs": []
    },
    {
      "cell_type": "code",
      "source": [
        "obj_coef = coef[0,:-1]\n",
        "print(obj_coef.shape)\n",
        "print(obj_coef)\n"
      ],
      "metadata": {
        "colab": {
          "base_uri": "https://localhost:8080/"
        },
        "id": "xrHCZ8ecGu_T",
        "outputId": "eca67464-955a-45ef-e837-37bdcb50f770"
      },
      "execution_count": 12,
      "outputs": [
        {
          "output_type": "stream",
          "name": "stdout",
          "text": [
            "(6,)\n",
            "[  0.65   0.75  -5.85  -8.35 -12.38  30.  ]\n"
          ]
        }
      ]
    },
    {
      "cell_type": "code",
      "source": [
        "constr_coef = coef[1:,:-1]\n",
        "print(constr_coef.shape)\n",
        "print(constr_coef)"
      ],
      "metadata": {
        "colab": {
          "base_uri": "https://localhost:8080/"
        },
        "id": "kUHeTvT7G0iF",
        "outputId": "d00363d7-6b55-4a06-ca63-bb40f9ce1217"
      },
      "execution_count": 13,
      "outputs": [
        {
          "output_type": "stream",
          "name": "stdout",
          "text": [
            "(5, 6)\n",
            "[[-0.5   0.   -3.8  -0.9   0.9   0.  ]\n",
            " [ 1.    0.    0.   -1.    0.   -1.  ]\n",
            " [ 0.   -2.9  -1.9   0.    0.   -0.9 ]\n",
            " [ 0.    0.    0.    4.7   8.02  6.15]\n",
            " [-0.7  -1.4   7.9  -2.9   0.9   0.  ]]\n"
          ]
        }
      ]
    },
    {
      "cell_type": "code",
      "source": [
        "constr_rhs = coef[1:,-1]\n",
        "print(constr_rhs.shape)\n",
        "print(constr_rhs)"
      ],
      "metadata": {
        "colab": {
          "base_uri": "https://localhost:8080/"
        },
        "id": "M-Oub3E9G5Tl",
        "outputId": "ea9418ab-ad28-4178-f679-9f338c71dcb6"
      },
      "execution_count": 14,
      "outputs": [
        {
          "output_type": "stream",
          "name": "stdout",
          "text": [
            "(5,)\n",
            "[ 24.8   0.8 -71.4  95.  -47. ]\n"
          ]
        }
      ]
    },
    {
      "cell_type": "code",
      "source": [
        "lower_bound = 0\n",
        "upper_bound = np.inf"
      ],
      "metadata": {
        "id": "LxMmqtr4G9aG"
      },
      "execution_count": 15,
      "outputs": []
    },
    {
      "cell_type": "code",
      "source": [
        "col_indices = np.arange(N)\n",
        "print(col_indices)"
      ],
      "metadata": {
        "colab": {
          "base_uri": "https://localhost:8080/"
        },
        "id": "_HxTZO4WHBTb",
        "outputId": "0c395ead-b6ed-4ee2-dcde-0aee619e7a9d"
      },
      "execution_count": 16,
      "outputs": [
        {
          "output_type": "stream",
          "name": "stdout",
          "text": [
            "[0 1 2 3 4 5]\n"
          ]
        }
      ]
    },
    {
      "cell_type": "code",
      "source": [
        "model.x = Var(col_indices)"
      ],
      "metadata": {
        "id": "MLWVvUJpHFhb"
      },
      "execution_count": 17,
      "outputs": []
    },
    {
      "cell_type": "code",
      "source": [
        "row_indices = np.arange(M)\n",
        "print(row_indices)"
      ],
      "metadata": {
        "colab": {
          "base_uri": "https://localhost:8080/"
        },
        "id": "Z9MdQBfEHKFr",
        "outputId": "08a1717f-02ec-4df8-c7e7-78a1574a474d"
      },
      "execution_count": 18,
      "outputs": [
        {
          "output_type": "stream",
          "name": "stdout",
          "text": [
            "[0 1 2 3 4]\n"
          ]
        }
      ]
    },
    {
      "cell_type": "code",
      "source": [
        "model.constraints = ConstraintList()\n"
      ],
      "metadata": {
        "id": "O6NmUgHKHPRg"
      },
      "execution_count": 19,
      "outputs": []
    },
    {
      "cell_type": "code",
      "source": [
        "for i in row_indices:\n",
        "  model.constraints.add(summation(constr_coef[i],model.x) <= constr_rhs[i])"
      ],
      "metadata": {
        "id": "Tpk6zInlHUv5"
      },
      "execution_count": 20,
      "outputs": []
    },
    {
      "cell_type": "code",
      "source": [
        "for j in col_indices:\n",
        "  model.x[j].setlb(lower_bound)\n",
        "  model.x[j].setub(upper_bound)"
      ],
      "metadata": {
        "id": "QqX0-Pr3IRJn"
      },
      "execution_count": 21,
      "outputs": []
    },
    {
      "cell_type": "code",
      "source": [
        "model.objective = Objective(expr = summation(obj_coef,model.x), sense=maximize)"
      ],
      "metadata": {
        "id": "ZRmKr8yhIcEJ"
      },
      "execution_count": 22,
      "outputs": []
    },
    {
      "cell_type": "code",
      "source": [
        "model.pprint()"
      ],
      "metadata": {
        "colab": {
          "base_uri": "https://localhost:8080/"
        },
        "id": "N8pEIOZtJqoK",
        "outputId": "9ef5353d-d3b0-4251-8337-05d09dfb2ae8"
      },
      "execution_count": 23,
      "outputs": [
        {
          "output_type": "stream",
          "name": "stdout",
          "text": [
            "2 Set Declarations\n",
            "    constraints_index : Size=1, Index=None, Ordered=Insertion\n",
            "        Key  : Dimen : Domain : Size : Members\n",
            "        None :     1 :    Any :    5 : {1, 2, 3, 4, 5}\n",
            "    x_index : Size=1, Index=None, Ordered=False\n",
            "        Key  : Dimen : Domain : Size : Members\n",
            "        None :     1 :    Any :    6 : {0, 1, 2, 3, 4, 5}\n",
            "\n",
            "1 Var Declarations\n",
            "    x : Size=6, Index=x_index\n",
            "        Key : Lower : Value : Upper : Fixed : Stale : Domain\n",
            "          0 :     0 :  None :  None : False :  True :  Reals\n",
            "          1 :     0 :  None :  None : False :  True :  Reals\n",
            "          2 :     0 :  None :  None : False :  True :  Reals\n",
            "          3 :     0 :  None :  None : False :  True :  Reals\n",
            "          4 :     0 :  None :  None : False :  True :  Reals\n",
            "          5 :     0 :  None :  None : False :  True :  Reals\n",
            "\n",
            "1 Objective Declarations\n",
            "    objective : Size=1, Index=None, Active=True\n",
            "        Key  : Active : Sense    : Expression\n",
            "        None :   True : maximize : 0.65*x[0] + 0.75*x[1] - 5.85*x[2] - 8.35*x[3] - 12.38*x[4] + 30.0*x[5]\n",
            "\n",
            "1 Constraint Declarations\n",
            "    constraints : Size=5, Index=constraints_index, Active=True\n",
            "        Key : Lower : Body                                                  : Upper : Active\n",
            "          1 :  -Inf :            -0.5*x[0] - 3.8*x[2] - 0.9*x[3] + 0.9*x[4] :  24.8 :   True\n",
            "          2 :  -Inf :                                    x[0] - x[3] - x[5] :   0.8 :   True\n",
            "          3 :  -Inf :                       -2.9*x[1] - 1.9*x[2] - 0.9*x[5] : -71.4 :   True\n",
            "          4 :  -Inf :                      4.7*x[3] + 8.02*x[4] + 6.15*x[5] :  95.0 :   True\n",
            "          5 :  -Inf : -0.7*x[0] - 1.4*x[1] + 7.9*x[2] - 2.9*x[3] + 0.9*x[4] : -47.0 :   True\n",
            "\n",
            "5 Declarations: x_index x constraints_index constraints objective\n"
          ]
        }
      ]
    },
    {
      "cell_type": "code",
      "source": [
        "!apt-get install -y -qq coinor-cbc"
      ],
      "metadata": {
        "id": "E_MGDYV9J0ST",
        "colab": {
          "base_uri": "https://localhost:8080/"
        },
        "outputId": "2d9b0e47-b73b-4995-d347-8f739f770a97"
      },
      "execution_count": 24,
      "outputs": [
        {
          "output_type": "stream",
          "name": "stdout",
          "text": [
            "Selecting previously unselected package coinor-libcoinutils3v5.\n",
            "(Reading database ... 155676 files and directories currently installed.)\n",
            "Preparing to unpack .../0-coinor-libcoinutils3v5_2.10.14+repack1-1_amd64.deb ...\n",
            "Unpacking coinor-libcoinutils3v5 (2.10.14+repack1-1) ...\n",
            "Selecting previously unselected package coinor-libosi1v5.\n",
            "Preparing to unpack .../1-coinor-libosi1v5_0.107.9+repack1-1_amd64.deb ...\n",
            "Unpacking coinor-libosi1v5 (0.107.9+repack1-1) ...\n",
            "Selecting previously unselected package coinor-libclp1.\n",
            "Preparing to unpack .../2-coinor-libclp1_1.16.11+repack1-1_amd64.deb ...\n",
            "Unpacking coinor-libclp1 (1.16.11+repack1-1) ...\n",
            "Selecting previously unselected package coinor-libcgl1.\n",
            "Preparing to unpack .../3-coinor-libcgl1_0.59.10+repack1-1_amd64.deb ...\n",
            "Unpacking coinor-libcgl1 (0.59.10+repack1-1) ...\n",
            "Selecting previously unselected package coinor-libcbc3.\n",
            "Preparing to unpack .../4-coinor-libcbc3_2.9.9+repack1-1_amd64.deb ...\n",
            "Unpacking coinor-libcbc3 (2.9.9+repack1-1) ...\n",
            "Selecting previously unselected package coinor-cbc.\n",
            "Preparing to unpack .../5-coinor-cbc_2.9.9+repack1-1_amd64.deb ...\n",
            "Unpacking coinor-cbc (2.9.9+repack1-1) ...\n",
            "Setting up coinor-libcoinutils3v5 (2.10.14+repack1-1) ...\n",
            "Setting up coinor-libosi1v5 (0.107.9+repack1-1) ...\n",
            "Setting up coinor-libclp1 (1.16.11+repack1-1) ...\n",
            "Setting up coinor-libcgl1 (0.59.10+repack1-1) ...\n",
            "Setting up coinor-libcbc3 (2.9.9+repack1-1) ...\n",
            "Setting up coinor-cbc (2.9.9+repack1-1) ...\n",
            "Processing triggers for man-db (2.8.3-2ubuntu0.1) ...\n",
            "Processing triggers for libc-bin (2.27-3ubuntu1.5) ...\n"
          ]
        }
      ]
    },
    {
      "cell_type": "code",
      "source": [
        "opt_cbc = SolverFactory('cbc')"
      ],
      "metadata": {
        "id": "_w0HyxXwJ4XS"
      },
      "execution_count": 25,
      "outputs": []
    },
    {
      "cell_type": "code",
      "source": [
        "result = opt_cbc.solve(model)\n",
        "print('Solver status:', result.solver.status)\n",
        "print('Solver termination condition:',result.solver.termination_condition)"
      ],
      "metadata": {
        "colab": {
          "base_uri": "https://localhost:8080/"
        },
        "id": "HcfIYRdjJ6e_",
        "outputId": "720d844c-cf61-4872-e995-9e1bd0ad7139"
      },
      "execution_count": 26,
      "outputs": [
        {
          "output_type": "stream",
          "name": "stderr",
          "text": [
            "WARNING:pyomo.core:Loading a SolverResults object with a warning status into model.name=\"unknown\";\n",
            "  - termination condition: unbounded\n",
            "  - message from solver: <undefined>\n"
          ]
        },
        {
          "output_type": "stream",
          "name": "stdout",
          "text": [
            "Solver status: warning\n",
            "Solver termination condition: unbounded\n"
          ]
        }
      ]
    },
    {
      "cell_type": "code",
      "source": [
        "model.objective.set_sense(minimize)"
      ],
      "metadata": {
        "id": "eCYp5s7_KAmw"
      },
      "execution_count": 27,
      "outputs": []
    },
    {
      "cell_type": "code",
      "source": [
        "model.pprint()"
      ],
      "metadata": {
        "colab": {
          "base_uri": "https://localhost:8080/"
        },
        "id": "rxc3gzT0MFQf",
        "outputId": "e22994f6-37f7-4887-d2a1-e6fc242a7b7d"
      },
      "execution_count": 28,
      "outputs": [
        {
          "output_type": "stream",
          "name": "stdout",
          "text": [
            "2 Set Declarations\n",
            "    constraints_index : Size=1, Index=None, Ordered=Insertion\n",
            "        Key  : Dimen : Domain : Size : Members\n",
            "        None :     1 :    Any :    5 : {1, 2, 3, 4, 5}\n",
            "    x_index : Size=1, Index=None, Ordered=False\n",
            "        Key  : Dimen : Domain : Size : Members\n",
            "        None :     1 :    Any :    6 : {0, 1, 2, 3, 4, 5}\n",
            "\n",
            "1 Var Declarations\n",
            "    x : Size=6, Index=x_index\n",
            "        Key : Lower : Value : Upper : Fixed : Stale : Domain\n",
            "          0 :     0 :  None :  None : False :  True :  Reals\n",
            "          1 :     0 :  None :  None : False :  True :  Reals\n",
            "          2 :     0 :  None :  None : False :  True :  Reals\n",
            "          3 :     0 :  None :  None : False :  True :  Reals\n",
            "          4 :     0 :  None :  None : False :  True :  Reals\n",
            "          5 :     0 :  None :  None : False :  True :  Reals\n",
            "\n",
            "1 Objective Declarations\n",
            "    objective : Size=1, Index=None, Active=True\n",
            "        Key  : Active : Sense    : Expression\n",
            "        None :   True : minimize : 0.65*x[0] + 0.75*x[1] - 5.85*x[2] - 8.35*x[3] - 12.38*x[4] + 30.0*x[5]\n",
            "\n",
            "1 Constraint Declarations\n",
            "    constraints : Size=5, Index=constraints_index, Active=True\n",
            "        Key : Lower : Body                                                  : Upper : Active\n",
            "          1 :  -Inf :            -0.5*x[0] - 3.8*x[2] - 0.9*x[3] + 0.9*x[4] :  24.8 :   True\n",
            "          2 :  -Inf :                                    x[0] - x[3] - x[5] :   0.8 :   True\n",
            "          3 :  -Inf :                       -2.9*x[1] - 1.9*x[2] - 0.9*x[5] : -71.4 :   True\n",
            "          4 :  -Inf :                      4.7*x[3] + 8.02*x[4] + 6.15*x[5] :  95.0 :   True\n",
            "          5 :  -Inf : -0.7*x[0] - 1.4*x[1] + 7.9*x[2] - 2.9*x[3] + 0.9*x[4] : -47.0 :   True\n",
            "\n",
            "5 Declarations: x_index x constraints_index constraints objective\n"
          ]
        }
      ]
    },
    {
      "cell_type": "code",
      "source": [
        "result = opt_cbc.solve(model)\n",
        "print('Solver status:', result.solver.status)\n",
        "print('Solver termination condition:',result.solver.termination_condition)"
      ],
      "metadata": {
        "colab": {
          "base_uri": "https://localhost:8080/"
        },
        "id": "1MA5m9hHMIu9",
        "outputId": "afd08a4f-7663-40b3-ac42-c101731e75b3"
      },
      "execution_count": 29,
      "outputs": [
        {
          "output_type": "stream",
          "name": "stderr",
          "text": [
            "WARNING:pyomo.core:Loading a SolverResults object with a warning status into model.name=\"unknown\";\n",
            "  - termination condition: unbounded\n",
            "  - message from solver: <undefined>\n"
          ]
        },
        {
          "output_type": "stream",
          "name": "stdout",
          "text": [
            "Solver status: warning\n",
            "Solver termination condition: unbounded\n"
          ]
        }
      ]
    },
    {
      "cell_type": "markdown",
      "source": [
        "Answer1(a):\n",
        "\n",
        " $ \\\\ $ Since in above both cases when the sense of  objective function was maximum and minimum respectively then the solver termination condtion is unbounded.Reason behind getting such kind of solver termination condition is variables are not bounded here.Bacause of this reason value of objective function will be unbounded here.\n",
        " Since constraint 3 has negative coefficients and it is unbounded below.And variables are bounded below and unbounded above. To make constraint bounded above,value of variable must be low in value so that variables must be bounded above.\n",
        "  So now to obtain an optimal solution we bound the variables.Let all the variables are bounded below by 0 and and bounded above by 25."
      ],
      "metadata": {
        "id": "kVAgpCOtAFUx"
      }
    },
    {
      "cell_type": "code",
      "source": [
        "model.objective.set_sense(maximize)"
      ],
      "metadata": {
        "id": "hsqt6G0CWEH4"
      },
      "execution_count": 45,
      "outputs": []
    },
    {
      "cell_type": "code",
      "source": [
        "lower_bound_1 = 0\n",
        "upper_bound_1 = 25"
      ],
      "metadata": {
        "id": "-Y5a-iUjMP9W"
      },
      "execution_count": 46,
      "outputs": []
    },
    {
      "cell_type": "code",
      "source": [
        "for j in col_indices:\n",
        "  model.x[j].setlb(lower_bound_1)\n",
        "  model.x[j].setub(upper_bound_1)"
      ],
      "metadata": {
        "id": "2ktTQ5iZ8ox7"
      },
      "execution_count": 47,
      "outputs": []
    },
    {
      "cell_type": "code",
      "source": [
        "model.pprint()"
      ],
      "metadata": {
        "colab": {
          "base_uri": "https://localhost:8080/"
        },
        "id": "AWILrQvf9DMr",
        "outputId": "4f6bc5ed-069a-47f5-b9eb-1e9a6ff7a62f"
      },
      "execution_count": 48,
      "outputs": [
        {
          "output_type": "stream",
          "name": "stdout",
          "text": [
            "2 Set Declarations\n",
            "    constraints_index : Size=1, Index=None, Ordered=Insertion\n",
            "        Key  : Dimen : Domain : Size : Members\n",
            "        None :     1 :    Any :    5 : {1, 2, 3, 4, 5}\n",
            "    x_index : Size=1, Index=None, Ordered=False\n",
            "        Key  : Dimen : Domain : Size : Members\n",
            "        None :     1 :    Any :    6 : {0, 1, 2, 3, 4, 5}\n",
            "\n",
            "1 Var Declarations\n",
            "    x : Size=6, Index=x_index\n",
            "        Key : Lower : Value     : Upper : Fixed : Stale : Domain\n",
            "          0 :     0 :       0.0 :    25 : False : False :  Reals\n",
            "          1 :     0 :      25.0 :    25 : False : False :  Reals\n",
            "          2 :     0 : 5.9008888 :    25 : False : False :  Reals\n",
            "          3 :     0 : 20.212766 :    25 : False : False :  Reals\n",
            "          4 :     0 :       0.0 :    25 : False : False :  Reals\n",
            "          5 :     0 :       0.0 :    25 : False : False :  Reals\n",
            "\n",
            "1 Objective Declarations\n",
            "    objective : Size=1, Index=None, Active=True\n",
            "        Key  : Active : Sense    : Expression\n",
            "        None :   True : maximize : 0.65*x[0] + 0.75*x[1] - 5.85*x[2] - 8.35*x[3] - 12.38*x[4] + 30.0*x[5]\n",
            "\n",
            "1 Constraint Declarations\n",
            "    constraints : Size=5, Index=constraints_index, Active=True\n",
            "        Key : Lower : Body                                                  : Upper : Active\n",
            "          1 :  -Inf :            -0.5*x[0] - 3.8*x[2] - 0.9*x[3] + 0.9*x[4] :  24.8 :   True\n",
            "          2 :  -Inf :                                    x[0] - x[3] - x[5] :   0.8 :   True\n",
            "          3 :  -Inf :                       -2.9*x[1] - 1.9*x[2] - 0.9*x[5] : -71.4 :   True\n",
            "          4 :  -Inf :                      4.7*x[3] + 8.02*x[4] + 6.15*x[5] :  95.0 :   True\n",
            "          5 :  -Inf : -0.7*x[0] - 1.4*x[1] + 7.9*x[2] - 2.9*x[3] + 0.9*x[4] : -47.0 :   True\n",
            "\n",
            "5 Declarations: x_index x constraints_index constraints objective\n"
          ]
        }
      ]
    },
    {
      "cell_type": "code",
      "source": [
        "!apt-get install -y -qq coinor-cbc"
      ],
      "metadata": {
        "id": "hJymEBiB9IAA"
      },
      "execution_count": 49,
      "outputs": []
    },
    {
      "cell_type": "code",
      "source": [
        "opt_cbc = SolverFactory('cbc')"
      ],
      "metadata": {
        "id": "cj2KKP2O9OZw"
      },
      "execution_count": 50,
      "outputs": []
    },
    {
      "cell_type": "code",
      "source": [
        "result = opt_cbc.solve(model)\n",
        "print('Solver status:', result.solver.status)\n",
        "print('Solver termination condition:',result.solver.termination_condition)"
      ],
      "metadata": {
        "colab": {
          "base_uri": "https://localhost:8080/"
        },
        "id": "-vUUVwV29SDx",
        "outputId": "84472178-2db4-4020-f4f9-5c4baac10e6c"
      },
      "execution_count": 51,
      "outputs": [
        {
          "output_type": "stream",
          "name": "stdout",
          "text": [
            "Solver status: ok\n",
            "Solver termination condition: optimal\n"
          ]
        }
      ]
    },
    {
      "cell_type": "code",
      "source": [
        "# display solution\n",
        "print('\\nObjective = ', model.objective())\n",
        "\n",
        "print('\\nDecision Variables')\n",
        "for i in col_indices:\n",
        "  print('x[',i,'] = ', model.x[i].value)\n",
        "\n",
        "print('\\nConstraints')\n",
        "model.constraints.display()"
      ],
      "metadata": {
        "colab": {
          "base_uri": "https://localhost:8080/"
        },
        "id": "RjsvFbmd-GP7",
        "outputId": "c24de09e-6e20-4193-d051-6f8bdc40c275"
      },
      "execution_count": 52,
      "outputs": [
        {
          "output_type": "stream",
          "name": "stdout",
          "text": [
            "\n",
            "Objective =  486.3585647945\n",
            "\n",
            "Decision Variables\n",
            "x[ 0 ] =  16.295385\n",
            "x[ 1 ] =  25.0\n",
            "x[ 2 ] =  0.0\n",
            "x[ 3 ] =  0.20456233\n",
            "x[ 4 ] =  0.0\n",
            "x[ 5 ] =  15.290822\n",
            "\n",
            "Constraints\n",
            "constraints : Size=5\n",
            "    Key : Lower : Body                : Upper\n",
            "      1 :  None :        -8.331798597 :  24.8\n",
            "      2 :  None :  0.8000006699999975 :   0.8\n",
            "      3 :  None :         -86.2617398 : -71.4\n",
            "      4 :  None :   94.99999825100001 :  95.0\n",
            "      5 :  None : -47.000000256999996 : -47.0\n"
          ]
        }
      ]
    },
    {
      "cell_type": "markdown",
      "source": [
        "Answer:\n",
        "Hence when we bounded variables by 0 and 25 then we get an optimal solution.And to obtain this we also changed the sense minimize."
      ],
      "metadata": {
        "id": "GHCqNIrCB_3P"
      }
    },
    {
      "cell_type": "markdown",
      "source": [
        "Objective =  -320.7335045\n",
        "\n",
        "Decision Variables\n",
        "$ x_1 =  0.0,\n",
        "x_2 =  500.0,\n",
        "x_3 =  90.078104,\n",
        "x_4 =  20.212766,\n",
        "x_5 =  0.0,\n",
        "x_6 =  0.0 $\n",
        "\n",
        "Constraint 1 is not active since LHS = -360.4882846$ \\neq RHS \\\\  $\n",
        "\n",
        "Constraint 2 is not active since LHS =  -20.212766 $\\neq RHS \\\\  $\n",
        "\n",
        "Constraint 3 is not active since LHS =  -1621.1483976$ \\neq RHS \\\\  $\n",
        "\n",
        "Constraint 4 is active since LHS =  95.0000002$ \\approx RHS \\\\  $\n",
        "\n",
        "Constraint 5 is active since LHS = -46.99999979999995 $ \\approx RHS  $\n",
        "\n",
        "\n",
        "\n"
      ],
      "metadata": {
        "id": "sp_Yg_R1o2X9"
      }
    },
    {
      "cell_type": "code",
      "source": [],
      "metadata": {
        "id": "fjK3VR5XrMrV"
      },
      "execution_count": null,
      "outputs": []
    }
  ]
}