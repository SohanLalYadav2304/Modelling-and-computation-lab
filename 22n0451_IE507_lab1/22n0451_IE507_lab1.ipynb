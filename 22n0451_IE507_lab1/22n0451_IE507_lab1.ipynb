{
  "nbformat": 4,
  "nbformat_minor": 0,
  "metadata": {
    "colab": {
      "name": " 22n0451_IE507_lab1.ipynb",
      "provenance": [],
      "collapsed_sections": []
    },
    "kernelspec": {
      "name": "python3",
      "display_name": "Python 3"
    }
  },
  "cells": [
    {
      "cell_type": "code",
      "metadata": {
        "id": "G4Db7vbbSQaX",
        "colab": {
          "base_uri": "https://localhost:8080/"
        },
        "outputId": "9306f857-ef63-490f-f5a0-8c2e7961615d"
      },
      "source": [
        "print('Hello IE 507')"
      ],
      "execution_count": null,
      "outputs": [
        {
          "output_type": "stream",
          "name": "stdout",
          "text": [
            "Hello IE 507\n"
          ]
        }
      ]
    },
    {
      "cell_type": "code",
      "metadata": {
        "id": "1r_yYUofSTFB"
      },
      "source": [
        "!pip install -q pyomo"
      ],
      "execution_count": null,
      "outputs": []
    },
    {
      "cell_type": "markdown",
      "metadata": {
        "id": "Qh8fhB0oUPWA"
      },
      "source": [
        "problem 1\n",
        "\n",
        "$\\min \\ -3x_1-2x_2+8x_3-7x_4+0.19x_5+11x_6+20.2x_7 \\\\ \\text{ s.t. }  \\sum_{1}^{7}-x_i \\geq -256 \\\\  \\sum_{1}^{7}x_i \\geq 256 \\\\ -x_2+x_3 \\geq 10 \\\\ 3x1-x_5+12x_6 \\geq -105 \\\\ 18.5x_2+30.5x_4-x_7 \\geq 28 \\\\ -x_3-4x_5+x_7 \\geq 31 \\\\ x_1 \\geq -5,x_2 \\geq0,x_3 \\geq 5,x_4 \\geq -3,x_5 \\geq -4, \\\\x_6 \\geq 0,x_7 \\geq 10 $.  \n",
        "---\n",
        "\n"
      ]
    },
    {
      "cell_type": "code",
      "metadata": {
        "id": "j4opCPZrSak0"
      },
      "source": [
        "from pyomo.environ import *"
      ],
      "execution_count": null,
      "outputs": []
    },
    {
      "cell_type": "code",
      "metadata": {
        "id": "HYj3zpsvSih4"
      },
      "source": [
        "# create a model\n",
        "model = ConcreteModel()"
      ],
      "execution_count": null,
      "outputs": []
    },
    {
      "cell_type": "code",
      "metadata": {
        "id": "XvRZqCV8d_-e"
      },
      "source": [
        "# declare decision variables\n",
        "model.x1 = Var(domain=Reals)\n",
        "model.x2 = Var(domain=Reals)\n",
        "model.x3 = Var(domain=Reals)\n",
        "model.x4 = Var(domain=Reals)\n",
        "model.x5 = Var(domain=Reals)\n",
        "model.x6 = Var(domain=Reals)\n",
        "model.x7 = Var(domain=Reals)\n",
        "\n"
      ],
      "execution_count": null,
      "outputs": []
    },
    {
      "cell_type": "code",
      "metadata": {
        "id": "sN7eq44-eCfY"
      },
      "source": [
        "# declare objective\n",
        "model.cost = Objective(expr = -3*model.x1-2*model.x2+8*model.x3-7*model.x4+0.19*model.x5+11*model.x6+20.2*model.x7,sense=minimize)"
      ],
      "execution_count": null,
      "outputs": []
    },
    {
      "cell_type": "code",
      "metadata": {
        "id": "T1CaFM_DeFly"
      },
      "source": [
        "# declare constraints\n",
        "model.constr1 = Constraint(expr = -model.x1-model.x2-model.x3-model.x4-model.x5-model.x6-model.x7>=-256)\n",
        "model.constr2 = Constraint(expr = model.x1+model.x2+model.x3+model.x4+model.x5+model.x6+model.x7>=256)\n",
        "model.constr3 = Constraint(expr = -model.x2+model.x3>=10)\n",
        "model.constr4 = Constraint(expr = 3*model.x1-model.x5+12*model.x6>=-105)\n",
        "model.constr5 = Constraint(expr = 18.5*model.x2+30.5*model.x4-model.x7>=28)\n",
        "model.constr6 = Constraint(expr = -1*model.x3-4*model.x5+model.x7>=31)\n",
        "model.constr7 = Constraint(expr = model.x1>=-5)\n",
        "model.constr8 = Constraint(expr = model.x2>=0)\n",
        "model.constr9 = Constraint(expr =model.x3>=5)\n",
        "model.constr10 = Constraint(expr =model.x4>=-3)\n",
        "model.constr11 = Constraint(expr =model.x5>=-4)\n",
        "model.constr12 = Constraint(expr =model.x6>=0)\n",
        "model.constr13 = Constraint(expr =model.x7>=10)\n"
      ],
      "execution_count": null,
      "outputs": []
    },
    {
      "cell_type": "code",
      "metadata": {
        "id": "hLjlmRD8eG_X",
        "colab": {
          "base_uri": "https://localhost:8080/"
        },
        "outputId": "9bd0687d-8ab3-41c8-9d73-e81a84daf97d"
      },
      "source": [
        "model.pprint()"
      ],
      "execution_count": null,
      "outputs": [
        {
          "output_type": "stream",
          "name": "stdout",
          "text": [
            "7 Var Declarations\n",
            "    x1 : Size=1, Index=None\n",
            "        Key  : Lower : Value : Upper : Fixed : Stale : Domain\n",
            "        None :  None :  -5.0 :  None : False : False :  Reals\n",
            "    x2 : Size=1, Index=None\n",
            "        Key  : Lower : Value : Upper : Fixed : Stale : Domain\n",
            "        None :  None :   0.0 :  None : False : False :  Reals\n",
            "    x3 : Size=1, Index=None\n",
            "        Key  : Lower : Value : Upper : Fixed : Stale : Domain\n",
            "        None :  None :  10.0 :  None : False : False :  Reals\n",
            "    x4 : Size=1, Index=None\n",
            "        Key  : Lower : Value : Upper : Fixed : Stale : Domain\n",
            "        None :  None : 230.0 :  None : False : False :  Reals\n",
            "    x5 : Size=1, Index=None\n",
            "        Key  : Lower : Value : Upper : Fixed : Stale : Domain\n",
            "        None :  None :  -4.0 :  None : False : False :  Reals\n",
            "    x6 : Size=1, Index=None\n",
            "        Key  : Lower : Value : Upper : Fixed : Stale : Domain\n",
            "        None :  None :   0.0 :  None : False : False :  Reals\n",
            "    x7 : Size=1, Index=None\n",
            "        Key  : Lower : Value            : Upper : Fixed : Stale : Domain\n",
            "        None :  None : 24.9999999999999 :  None : False : False :  Reals\n",
            "\n",
            "1 Objective Declarations\n",
            "    cost : Size=1, Index=None, Active=True\n",
            "        Key  : Active : Sense    : Expression\n",
            "        None :   True : minimize : -3*x1 - 2*x2 + 8*x3 - 7*x4 + 0.19*x5 + 11*x6 + 20.2*x7\n",
            "\n",
            "13 Constraint Declarations\n",
            "    constr1 : Size=1, Index=None, Active=True\n",
            "        Key  : Lower  : Body                               : Upper : Active\n",
            "        None : -256.0 : - x1 - x2 - x3 - x4 - x5 - x6 - x7 :  +Inf :   True\n",
            "    constr10 : Size=1, Index=None, Active=True\n",
            "        Key  : Lower : Body : Upper : Active\n",
            "        None :  -3.0 :   x4 :  +Inf :   True\n",
            "    constr11 : Size=1, Index=None, Active=True\n",
            "        Key  : Lower : Body : Upper : Active\n",
            "        None :  -4.0 :   x5 :  +Inf :   True\n",
            "    constr12 : Size=1, Index=None, Active=True\n",
            "        Key  : Lower : Body : Upper : Active\n",
            "        None :   0.0 :   x6 :  +Inf :   True\n",
            "    constr13 : Size=1, Index=None, Active=True\n",
            "        Key  : Lower : Body : Upper : Active\n",
            "        None :  10.0 :   x7 :  +Inf :   True\n",
            "    constr2 : Size=1, Index=None, Active=True\n",
            "        Key  : Lower : Body                             : Upper : Active\n",
            "        None : 256.0 : x1 + x2 + x3 + x4 + x5 + x6 + x7 :  +Inf :   True\n",
            "    constr3 : Size=1, Index=None, Active=True\n",
            "        Key  : Lower : Body      : Upper : Active\n",
            "        None :  10.0 : - x2 + x3 :  +Inf :   True\n",
            "    constr4 : Size=1, Index=None, Active=True\n",
            "        Key  : Lower  : Body              : Upper : Active\n",
            "        None : -105.0 : 3*x1 - x5 + 12*x6 :  +Inf :   True\n",
            "    constr5 : Size=1, Index=None, Active=True\n",
            "        Key  : Lower : Body                   : Upper : Active\n",
            "        None :  28.0 : 18.5*x2 + 30.5*x4 - x7 :  +Inf :   True\n",
            "    constr6 : Size=1, Index=None, Active=True\n",
            "        Key  : Lower : Body             : Upper : Active\n",
            "        None :  31.0 : - x3 - 4*x5 + x7 :  +Inf :   True\n",
            "    constr7 : Size=1, Index=None, Active=True\n",
            "        Key  : Lower : Body : Upper : Active\n",
            "        None :  -5.0 :   x1 :  +Inf :   True\n",
            "    constr8 : Size=1, Index=None, Active=True\n",
            "        Key  : Lower : Body : Upper : Active\n",
            "        None :   0.0 :   x2 :  +Inf :   True\n",
            "    constr9 : Size=1, Index=None, Active=True\n",
            "        Key  : Lower : Body : Upper : Active\n",
            "        None :   5.0 :   x3 :  +Inf :   True\n",
            "\n",
            "21 Declarations: x1 x2 x3 x4 x5 x6 x7 cost constr1 constr2 constr3 constr4 constr5 constr6 constr7 constr8 constr9 constr10 constr11 constr12 constr13\n"
          ]
        }
      ]
    },
    {
      "cell_type": "code",
      "metadata": {
        "id": "rhSG6IRMfclR"
      },
      "source": [
        "!apt-get install -y -qq glpk-utils"
      ],
      "execution_count": null,
      "outputs": []
    },
    {
      "cell_type": "code",
      "metadata": {
        "id": "Sq3CpPcCeIBC",
        "colab": {
          "base_uri": "https://localhost:8080/"
        },
        "outputId": "456bbdf5-fc3e-4154-da97-20a494110100"
      },
      "source": [
        "SolverFactory('glpk', executable='/usr/bin/glpsol').solve(model).write()"
      ],
      "execution_count": null,
      "outputs": [
        {
          "output_type": "stream",
          "name": "stdout",
          "text": [
            "# ==========================================================\n",
            "# = Solver Results                                         =\n",
            "# ==========================================================\n",
            "# ----------------------------------------------------------\n",
            "#   Problem Information\n",
            "# ----------------------------------------------------------\n",
            "Problem: \n",
            "- Name: unknown\n",
            "  Lower bound: -1010.76\n",
            "  Upper bound: -1010.76\n",
            "  Number of objectives: 1\n",
            "  Number of constraints: 14\n",
            "  Number of variables: 8\n",
            "  Number of nonzeros: 33\n",
            "  Sense: minimize\n",
            "# ----------------------------------------------------------\n",
            "#   Solver Information\n",
            "# ----------------------------------------------------------\n",
            "Solver: \n",
            "- Status: ok\n",
            "  Termination condition: optimal\n",
            "  Statistics: \n",
            "    Branch and bound: \n",
            "      Number of bounded subproblems: 0\n",
            "      Number of created subproblems: 0\n",
            "  Error rc: 0\n",
            "  Time: 0.012926101684570312\n",
            "# ----------------------------------------------------------\n",
            "#   Solution Information\n",
            "# ----------------------------------------------------------\n",
            "Solution: \n",
            "- number of solutions: 0\n",
            "  number of solutions displayed: 0\n"
          ]
        }
      ]
    },
    {
      "cell_type": "markdown",
      "source": [
        ""
      ],
      "metadata": {
        "id": "wM2B_V33GRCn"
      }
    },
    {
      "cell_type": "code",
      "metadata": {
        "id": "WQZHDR3afKj5",
        "colab": {
          "base_uri": "https://localhost:8080/"
        },
        "outputId": "6f959fe9-1ba0-402d-bceb-c4c77ae94714"
      },
      "source": [
        "# display solution\n",
        "print('\\nCost = ', model.cost())\n",
        "\n",
        "print('\\nDecision Variables')\n",
        "print('x1 = ', model.x1())\n",
        "print('x2 = ', model.x2())\n",
        "print('x3 = ', model.x3())\n",
        "print('x4 = ', model.x4())\n",
        "print('x5 = ', model.x5())\n",
        "print('x6 = ', model.x6())\n",
        "print('x7 = ', model.x7())\n",
        "\n",
        "print('\\nConstraints')\n",
        "print('Constraint 1  = ', model.constr1())\n",
        "print('Constraint 2  = ', model.constr2())\n",
        "print('Constraint 3  = ', model.constr3())\n",
        "print('Constraint 4  = ', model.constr4())\n",
        "print('Constraint 5  = ', model.constr5())\n",
        "print('Constraint 6  = ', model.constr6())\n",
        "print('Constraint 7  = ', model.constr7())\n",
        "print('Constraint 8  = ', model.constr8())\n",
        "print('Constraint 9  = ', model.constr9())\n",
        "print('Constraint 10  = ', model.constr10())\n",
        "print('Constraint 11  = ', model.constr11())\n",
        "print('Constraint 12  = ', model.constr12())\n",
        "print('Constraint 13  = ', model.constr13())\n"
      ],
      "execution_count": null,
      "outputs": [
        {
          "output_type": "stream",
          "name": "stdout",
          "text": [
            "\n",
            "Cost =  -1010.760000000002\n",
            "\n",
            "Decision Variables\n",
            "x1 =  -5.0\n",
            "x2 =  0.0\n",
            "x3 =  10.0\n",
            "x4 =  230.0\n",
            "x5 =  -4.0\n",
            "x6 =  0.0\n",
            "x7 =  24.9999999999999\n",
            "\n",
            "Constraints\n",
            "Constraint 1  =  -255.9999999999999\n",
            "Constraint 2  =  255.9999999999999\n",
            "Constraint 3  =  10.0\n",
            "Constraint 4  =  -11.0\n",
            "Constraint 5  =  6990.0\n",
            "Constraint 6  =  30.9999999999999\n",
            "Constraint 7  =  -5.0\n",
            "Constraint 8  =  0.0\n",
            "Constraint 9  =  10.0\n",
            "Constraint 10  =  230.0\n",
            "Constraint 11  =  -4.0\n",
            "Constraint 12  =  0.0\n",
            "Constraint 13  =  24.9999999999999\n"
          ]
        }
      ]
    },
    {
      "cell_type": "markdown",
      "source": [
        "Answer:\n",
        "Objective function value=-1010.760000000002 \\\\\n",
        "the value decision variables at optimal point is as following: \\\\\n",
        "x1 =  -5.0, \\\\\n",
        "x2 =  0.0, \\\\\n",
        "x3 =  10.0, \\\\\n",
        "x4 =  230.0, \\\\\n",
        "x5 =  -4.0, \\\\\n",
        "x6 =  0.0, \\\\\n",
        "x7 =  24.9999999999999 \\\\\n",
        "Constraints activities: \\\\\n",
        "1. constraint 1 is active since LHS = $ \\sum_{i=1}^{7}x_i= -255.9999999999999 = RHS $ \\\\  \n",
        "2. constraint 2 is active since LHS = $ \\sum_{i=1}^{7}x_i= 255.9999999999999 = RHS $ \\\\\n",
        "3. constraint 3 is active since LHS = $ -x_2+x_3 = 10 = RHS $ \\\\\n",
        "4. constraint 4 is not active since LHS = $ \n",
        " "
      ],
      "metadata": {
        "id": "PJLDYx3HJBZq"
      }
    },
    {
      "cell_type": "markdown",
      "source": [
        ""
      ],
      "metadata": {
        "id": "xrsLH_evKUVF"
      }
    },
    {
      "cell_type": "code",
      "metadata": {
        "id": "pyXaxU0aGBjj",
        "colab": {
          "base_uri": "https://localhost:8080/"
        },
        "outputId": "3206e9e1-0d76-40c6-9899-c7d0addb5db5"
      },
      "source": [
        "! pip install -q pyomo"
      ],
      "execution_count": null,
      "outputs": [
        {
          "output_type": "stream",
          "name": "stdout",
          "text": [
            "\u001b[K     |████████████████████████████████| 9.6 MB 17.1 MB/s \n",
            "\u001b[K     |████████████████████████████████| 49 kB 5.9 MB/s \n",
            "\u001b[?25h"
          ]
        }
      ]
    },
    {
      "cell_type": "markdown",
      "source": [
        "Problem 2 \\\\\n",
        "$\\max \\ 0.082x_1+0.036x_2+0.0156x_3+0.033x_4+0.054x_5+0.0125y \\\\ \\text{s.t.} \\ 3x_1-3x_2+5x_3-x_4+x_5-y \\leq 80 \\\\ x_3+2x_4+4y \\geq 30 \\\\ \\frac{3x_1-1.5x_3+2x_4+1.8x_5+6x_6}{-x_2-x_4+x_5} \\leq 3.6 \\\\\n",
        "\\frac{x_1-2x_2+3x_3+4x_4+5x_5}{-x_1+x_3+x_6-2y}\\leq 6 \\\\ x_1,x_2,x_3,x_4,x_5,x_6 \\geq 0 \\\\ y\\in [-0.2,5.5] \\\\  $"
      ],
      "metadata": {
        "id": "goCKPL3yQUKA"
      }
    },
    {
      "cell_type": "markdown",
      "source": [
        "$\\huge{Assumption 1} \\\\ -x_2-x_4+x_5 \\geq 0 , \\\\ \\text{and} -x_1+x_3+x_6-2y \\geq 0 $  \n",
        "so now constraints are as following: \\\\\n",
        "$ 3x_1-3x_2+5x_3-x_4+x_5-y \\leq 80  \\\\ \n",
        " x_3+2x_4+4y \\geq 30$ \\\\\n",
        " $ 3x_1+3.6x_2-1.5x_3+5.6x_4-1.8x_5+6x_6 \\leq 0 \\\\ 7x_1-2x_2-3x_3+4x_4+5x_5-6x_6+12y \\leq 0 \\\\  x_1,x_2,x_3,x_4,x_5,x_6 \\geq 0 \\\\ y\\in [-0.2,5.5] \\\\   \\\\ -x_2-x_4+x_5 \\geq 0 , \\\\ \\text{and} -x_1+x_3+x_6-2y \\geq 0 $  \n"
      ],
      "metadata": {
        "id": "Cvfg4U7LIaL1"
      }
    },
    {
      "cell_type": "code",
      "source": [
        "from pyomo.environ import *"
      ],
      "metadata": {
        "id": "T4oEVrhfvTz2"
      },
      "execution_count": null,
      "outputs": []
    },
    {
      "cell_type": "code",
      "source": [
        "# create a model\n",
        "model21 = ConcreteModel()"
      ],
      "metadata": {
        "id": "SHg0FNOTOyH5"
      },
      "execution_count": null,
      "outputs": []
    },
    {
      "cell_type": "code",
      "source": [
        "# declare decision variables\n",
        "model21.x1 = Var(domain=Reals)\n",
        "model21.x2 = Var(domain=Reals)\n",
        "model21.x3 = Var(domain=Reals)\n",
        "model21.x4 = Var(domain=Reals)\n",
        "model21.x5 = Var(domain=Reals)\n",
        "model21.x6 = Var(domain=Reals)\n",
        "model21.y = Var(domain=Reals)\n",
        "\n"
      ],
      "metadata": {
        "id": "sgAV3K-3O9OF"
      },
      "execution_count": null,
      "outputs": []
    },
    {
      "cell_type": "code",
      "source": [
        "# declare objective\n",
        "model21.cost = Objective(expr = 0.082*model21.x1+0.036*model21.x2+0.0156*model21.x3+0.033*model21.x4+0.054*model21.x5+0.0125*model21.y,sense=maximize)"
      ],
      "metadata": {
        "id": "rc6yOEyjPM3L"
      },
      "execution_count": null,
      "outputs": []
    },
    {
      "cell_type": "code",
      "source": [
        "#  declare constraints\n",
        "model21.constr1 = Constraint(expr = 3*model21.x1-3*model21.x2+5*model21.x3-model21.x4+model21.x5-model21.y <=80)\n",
        "model21.constr2 = Constraint(expr = model21.x3 +2*model21.x4+4*model21.y>= 30)\n",
        "model21.constr3 = Constraint(expr = 3*model21.x1 -1.5*model21.x3+2*model21.x4 +1.8*model21.x5+6*model21.x6 +3.6*model21.x2+3.6*model21.x4-3.6*model21.x5 <=0 )\n",
        "model21.constr4 = Constraint(expr = model21.x1 -2*model21.x2 +3*model21.x3+ 4*model21.x4+5*model21.x5+6*model21.x1-6*model21.x3-6*model21.x6+12*model21.y <=0)\n",
        "model21.constr6 = Constraint(expr = model21.x1>= 0)\n",
        "model21.constr7 = Constraint(expr = model21.x2>=0)\n",
        "model21.constr8 = Constraint(expr = model21.x3>= 0)\n",
        "model21.constr9= Constraint(expr = model21.x4>= 0)\n",
        "model21.constr10 = Constraint(expr = model21.x5>= 0)\n",
        "model21.constr11= Constraint(expr = model21.y>= -0.2)\n",
        "model21.constr12= Constraint(expr = model21.y<=5.5)\n",
        "model21.constr13 = Constraint(expr = model21.x6>= 0)"
      ],
      "metadata": {
        "id": "0kgfANGTREnB",
        "colab": {
          "base_uri": "https://localhost:8080/"
        },
        "outputId": "5234eb21-87ad-4769-ac99-8b9f4ab06402"
      },
      "execution_count": null,
      "outputs": [
        {
          "output_type": "stream",
          "name": "stderr",
          "text": [
            "WARNING:pyomo.core:Implicitly replacing the Component attribute constr1 (type=<class 'pyomo.core.base.constraint.ScalarConstraint'>) on block unknown with a new Component (type=<class 'pyomo.core.base.constraint.AbstractScalarConstraint'>).\n",
            "This is usually indicative of a modelling error.\n",
            "To avoid this warning, use block.del_component() and block.add_component().\n",
            "WARNING:pyomo.core:Implicitly replacing the Component attribute constr2 (type=<class 'pyomo.core.base.constraint.ScalarConstraint'>) on block unknown with a new Component (type=<class 'pyomo.core.base.constraint.AbstractScalarConstraint'>).\n",
            "This is usually indicative of a modelling error.\n",
            "To avoid this warning, use block.del_component() and block.add_component().\n",
            "WARNING:pyomo.core:Implicitly replacing the Component attribute constr3 (type=<class 'pyomo.core.base.constraint.ScalarConstraint'>) on block unknown with a new Component (type=<class 'pyomo.core.base.constraint.AbstractScalarConstraint'>).\n",
            "This is usually indicative of a modelling error.\n",
            "To avoid this warning, use block.del_component() and block.add_component().\n",
            "WARNING:pyomo.core:Implicitly replacing the Component attribute constr4 (type=<class 'pyomo.core.base.constraint.ScalarConstraint'>) on block unknown with a new Component (type=<class 'pyomo.core.base.constraint.AbstractScalarConstraint'>).\n",
            "This is usually indicative of a modelling error.\n",
            "To avoid this warning, use block.del_component() and block.add_component().\n",
            "WARNING:pyomo.core:Implicitly replacing the Component attribute constr6 (type=<class 'pyomo.core.base.constraint.ScalarConstraint'>) on block unknown with a new Component (type=<class 'pyomo.core.base.constraint.AbstractScalarConstraint'>).\n",
            "This is usually indicative of a modelling error.\n",
            "To avoid this warning, use block.del_component() and block.add_component().\n",
            "WARNING:pyomo.core:Implicitly replacing the Component attribute constr7 (type=<class 'pyomo.core.base.constraint.ScalarConstraint'>) on block unknown with a new Component (type=<class 'pyomo.core.base.constraint.AbstractScalarConstraint'>).\n",
            "This is usually indicative of a modelling error.\n",
            "To avoid this warning, use block.del_component() and block.add_component().\n",
            "WARNING:pyomo.core:Implicitly replacing the Component attribute constr8 (type=<class 'pyomo.core.base.constraint.ScalarConstraint'>) on block unknown with a new Component (type=<class 'pyomo.core.base.constraint.AbstractScalarConstraint'>).\n",
            "This is usually indicative of a modelling error.\n",
            "To avoid this warning, use block.del_component() and block.add_component().\n",
            "WARNING:pyomo.core:Implicitly replacing the Component attribute constr9 (type=<class 'pyomo.core.base.constraint.ScalarConstraint'>) on block unknown with a new Component (type=<class 'pyomo.core.base.constraint.AbstractScalarConstraint'>).\n",
            "This is usually indicative of a modelling error.\n",
            "To avoid this warning, use block.del_component() and block.add_component().\n",
            "WARNING:pyomo.core:Implicitly replacing the Component attribute constr10 (type=<class 'pyomo.core.base.constraint.ScalarConstraint'>) on block unknown with a new Component (type=<class 'pyomo.core.base.constraint.AbstractScalarConstraint'>).\n",
            "This is usually indicative of a modelling error.\n",
            "To avoid this warning, use block.del_component() and block.add_component().\n",
            "WARNING:pyomo.core:Implicitly replacing the Component attribute constr11 (type=<class 'pyomo.core.base.constraint.ScalarConstraint'>) on block unknown with a new Component (type=<class 'pyomo.core.base.constraint.AbstractScalarConstraint'>).\n",
            "This is usually indicative of a modelling error.\n",
            "To avoid this warning, use block.del_component() and block.add_component().\n",
            "WARNING:pyomo.core:Implicitly replacing the Component attribute constr12 (type=<class 'pyomo.core.base.constraint.ScalarConstraint'>) on block unknown with a new Component (type=<class 'pyomo.core.base.constraint.AbstractScalarConstraint'>).\n",
            "This is usually indicative of a modelling error.\n",
            "To avoid this warning, use block.del_component() and block.add_component().\n",
            "WARNING:pyomo.core:Implicitly replacing the Component attribute constr13 (type=<class 'pyomo.core.base.constraint.ScalarConstraint'>) on block unknown with a new Component (type=<class 'pyomo.core.base.constraint.AbstractScalarConstraint'>).\n",
            "This is usually indicative of a modelling error.\n",
            "To avoid this warning, use block.del_component() and block.add_component().\n"
          ]
        }
      ]
    },
    {
      "cell_type": "code",
      "source": [
        "model21.pprint()"
      ],
      "metadata": {
        "colab": {
          "base_uri": "https://localhost:8080/"
        },
        "id": "s2Xk4qkZTm1r",
        "outputId": "fa03b3fa-87ea-4136-f6ca-6d8b0886583b"
      },
      "execution_count": null,
      "outputs": [
        {
          "output_type": "stream",
          "name": "stdout",
          "text": [
            "7 Var Declarations\n",
            "    x1 : Size=1, Index=None\n",
            "        Key  : Lower : Value : Upper : Fixed : Stale : Domain\n",
            "        None :  None :   0.0 :  None : False : False :  Reals\n",
            "    x2 : Size=1, Index=None\n",
            "        Key  : Lower : Value            : Upper : Fixed : Stale : Domain\n",
            "        None :  None : 18.0059553349874 :  None : False : False :  Reals\n",
            "    x3 : Size=1, Index=None\n",
            "        Key  : Lower : Value            : Upper : Fixed : Stale : Domain\n",
            "        None :  None : 23.5593052109181 :  None : False : False :  Reals\n",
            "    x4 : Size=1, Index=None\n",
            "        Key  : Lower : Value            : Upper : Fixed : Stale : Domain\n",
            "        None :  None : 3.22034739454106 :  None : False : False :  Reals\n",
            "    x5 : Size=1, Index=None\n",
            "        Key  : Lower : Value           : Upper : Fixed : Stale : Domain\n",
            "        None :  None : 19.241687344913 :  None : False : False :  Reals\n",
            "    x6 : Size=1, Index=None\n",
            "        Key  : Lower : Value : Upper : Fixed : Stale : Domain\n",
            "        None :  None :   0.0 :  None : False : False :  Reals\n",
            "    y : Size=1, Index=None\n",
            "        Key  : Lower : Value : Upper : Fixed : Stale : Domain\n",
            "        None :  None :  -0.2 :  None : False : False :  Reals\n",
            "\n",
            "1 Objective Declarations\n",
            "    cost : Size=1, Index=None, Active=True\n",
            "        Key  : Active : Sense    : Expression\n",
            "        None :   True : maximize : 0.082*x1 + 0.036*x2 + 0.0156*x3 + 0.033*x4 + 0.054*x5 + 0.0125*y\n",
            "\n",
            "12 Constraint Declarations\n",
            "    constr1 : Size=1, Index=None, Active=True\n",
            "        Key  : Lower : Body                             : Upper : Active\n",
            "        None :  -Inf : 3*x1 - 3*x2 + 5*x3 - x4 + x5 - y :  80.0 :   True\n",
            "    constr10 : Size=1, Index=None, Active=True\n",
            "        Key  : Lower : Body : Upper : Active\n",
            "        None :   0.0 :   x5 :  +Inf :   True\n",
            "    constr11 : Size=1, Index=None, Active=True\n",
            "        Key  : Lower : Body : Upper : Active\n",
            "        None :  -0.2 :    y :  +Inf :   True\n",
            "    constr12 : Size=1, Index=None, Active=True\n",
            "        Key  : Lower : Body : Upper : Active\n",
            "        None :  -Inf :    y :   5.5 :   True\n",
            "    constr13 : Size=1, Index=None, Active=True\n",
            "        Key  : Lower : Body : Upper : Active\n",
            "        None :   0.0 :   x6 :  +Inf :   True\n",
            "    constr2 : Size=1, Index=None, Active=True\n",
            "        Key  : Lower : Body            : Upper : Active\n",
            "        None :  30.0 : x3 + 2*x4 + 4*y :  +Inf :   True\n",
            "    constr3 : Size=1, Index=None, Active=True\n",
            "        Key  : Lower : Body                                                            : Upper : Active\n",
            "        None :  -Inf : 3*x1 - 1.5*x3 + 2*x4 + 1.8*x5 + 6*x6 + 3.6*x2 + 3.6*x4 - 3.6*x5 :   0.0 :   True\n",
            "    constr4 : Size=1, Index=None, Active=True\n",
            "        Key  : Lower : Body                                                       : Upper : Active\n",
            "        None :  -Inf : x1 - 2*x2 + 3*x3 + 4*x4 + 5*x5 + 6*x1 - 6*x3 - 6*x6 + 12*y :   0.0 :   True\n",
            "    constr6 : Size=1, Index=None, Active=True\n",
            "        Key  : Lower : Body : Upper : Active\n",
            "        None :   0.0 :   x1 :  +Inf :   True\n",
            "    constr7 : Size=1, Index=None, Active=True\n",
            "        Key  : Lower : Body : Upper : Active\n",
            "        None :   0.0 :   x2 :  +Inf :   True\n",
            "    constr8 : Size=1, Index=None, Active=True\n",
            "        Key  : Lower : Body : Upper : Active\n",
            "        None :   0.0 :   x3 :  +Inf :   True\n",
            "    constr9 : Size=1, Index=None, Active=True\n",
            "        Key  : Lower : Body : Upper : Active\n",
            "        None :   0.0 :   x4 :  +Inf :   True\n",
            "\n",
            "20 Declarations: x1 x2 x3 x4 x5 x6 y cost constr1 constr2 constr3 constr4 constr6 constr7 constr8 constr9 constr10 constr11 constr12 constr13\n"
          ]
        }
      ]
    },
    {
      "cell_type": "code",
      "source": [
        "!apt-get install -y -qq glpk-utils"
      ],
      "metadata": {
        "id": "rb11aGJATxSp"
      },
      "execution_count": null,
      "outputs": []
    },
    {
      "cell_type": "code",
      "source": [
        "SolverFactory('glpk', executable='/usr/bin/glpsol').solve(model21).write()"
      ],
      "metadata": {
        "colab": {
          "base_uri": "https://localhost:8080/"
        },
        "id": "43De4GOST85Q",
        "outputId": "c18c6ecc-3198-4716-a157-930a1602d8cf"
      },
      "execution_count": null,
      "outputs": [
        {
          "output_type": "stream",
          "name": "stdout",
          "text": [
            "# ==========================================================\n",
            "# = Solver Results                                         =\n",
            "# ==========================================================\n",
            "# ----------------------------------------------------------\n",
            "#   Problem Information\n",
            "# ----------------------------------------------------------\n",
            "Problem: \n",
            "- Name: unknown\n",
            "  Lower bound: 2.12102483443709\n",
            "  Upper bound: 2.12102483443709\n",
            "  Number of objectives: 1\n",
            "  Number of constraints: 13\n",
            "  Number of variables: 8\n",
            "  Number of nonzeros: 31\n",
            "  Sense: maximize\n",
            "# ----------------------------------------------------------\n",
            "#   Solver Information\n",
            "# ----------------------------------------------------------\n",
            "Solver: \n",
            "- Status: ok\n",
            "  Termination condition: optimal\n",
            "  Statistics: \n",
            "    Branch and bound: \n",
            "      Number of bounded subproblems: 0\n",
            "      Number of created subproblems: 0\n",
            "  Error rc: 0\n",
            "  Time: 0.011226892471313477\n",
            "# ----------------------------------------------------------\n",
            "#   Solution Information\n",
            "# ----------------------------------------------------------\n",
            "Solution: \n",
            "- number of solutions: 0\n",
            "  number of solutions displayed: 0\n"
          ]
        }
      ]
    },
    {
      "cell_type": "code",
      "source": [
        "# display solution\n",
        "print('\\nCost = ', model21.cost())\n",
        "\n",
        "print('\\nDecision Variables')\n",
        "print('x1 = ', model21.x1())\n",
        "print('x2 = ', model21.x2())\n",
        "print('x3 = ', model21.x3())\n",
        "print('x4 = ', model21.x4())\n",
        "print('x5 = ', model21.x5())\n",
        "print('x6 = ', model21.x6())\n",
        "print('x7 = ', model21.y())\n",
        "\n",
        "print('\\nConstraints')\n",
        "print('Constraint 1  = ', model21.constr1())\n",
        "print('Constraint 2  = ', model21.constr2())\n",
        "print('Constraint 3  = ', model21.constr3())\n",
        "print('Constraint 4  = ', model21.constr4())\n",
        "print('Constraint 6  = ', model21.constr6())\n",
        "print('Constraint 7  = ', model21.constr7())\n",
        "print('Constraint 8  = ', model21.constr8())\n",
        "print('Constraint 9  = ', model21.constr9())\n",
        "print('Constraint 10  = ', model21.constr10())\n",
        "print('Constraint 11  = ', model21.constr11())\n",
        "print('Constraint 12  = ', model21.constr12())\n",
        "print('Constraint 13  = ', model21.constr13())"
      ],
      "metadata": {
        "colab": {
          "base_uri": "https://localhost:8080/"
        },
        "id": "2XGGRNBxUIiW",
        "outputId": "d07975b8-6e80-4847-fa05-54a71c1c97ed"
      },
      "execution_count": null,
      "outputs": [
        {
          "output_type": "stream",
          "name": "stdout",
          "text": [
            "\n",
            "Cost =  2.1210248344370837\n",
            "\n",
            "Decision Variables\n",
            "x1 =  0.0\n",
            "x2 =  19.5529801324503\n",
            "x3 =  24.2384105960265\n",
            "x4 =  0.0\n",
            "x5 =  18.9072847682119\n",
            "x6 =  0.0\n",
            "x7 =  1.44039735099338\n",
            "\n",
            "Constraints\n",
            "Constraint 1  =  80.00000000000011\n",
            "Constraint 2  =  30.00000000000002\n",
            "Constraint 3  =  -9.947598300641403e-14\n",
            "Constraint 4  =  -4.618527782440651e-14\n",
            "Constraint 6  =  0.0\n",
            "Constraint 7  =  19.5529801324503\n",
            "Constraint 8  =  24.2384105960265\n",
            "Constraint 9  =  0.0\n",
            "Constraint 10  =  18.9072847682119\n",
            "Constraint 11  =  1.44039735099338\n",
            "Constraint 12  =  1.44039735099338\n",
            "Constraint 13  =  0.0\n"
          ]
        }
      ]
    },
    {
      "cell_type": "markdown",
      "source": [
        "ANSWER  \n",
        "Hence while taking both the restrictions \\\\\n",
        " $ -x_2-x_4+x_5 \\geq 0 , \\\\ \\text{and} -x_1+x_3+x_6-2y \\geq 0 $  \n",
        " our Linear programming problem is as follows:\n",
        " $ 3x_1-3x_2+5x_3-x_4+x_5-y \\leq 80  \\\\ \n",
        " x_3+2x_4+4y \\geq 30$ \\\\\n",
        " $ 3x_1+3.6x_2-1.5x_3+5.6x_4-1.8x_5+6x_6 \\leq 0 \\\\ 7x_1-2x_2-3x_3+4x_4+5x_5-6x_6+12y \\leq 0 \\\\  x_1,x_2,x_3,x_4,x_5,x_6 \\geq 0 \\\\ y\\in [-0.2,5.5] \\\\   \\\\ -x_2-x_4+x_5 \\geq 0 , \\\\ \\text{and} -x_1+x_3+x_6-2y \\geq 0 $  \n",
        "\n",
        "we get the optimal solution as the cost of  2.1210248344370837\n",
        "and value of decision variables as following:\n",
        "x1 =  0.0 \\\\\n",
        "x2 =  19.5529801324503 \\\\\n",
        "x3 =  24.2384105960265 \\\\\n",
        "x4 =  0.0 \\\\\n",
        "x5 =  18.9072847682119 \\\\\n",
        "x6 =  0.0 \\\\\n",
        "x7 =  1.44039735099338"
      ],
      "metadata": {
        "id": "kH001pvdRyG2"
      }
    },
    {
      "cell_type": "code",
      "source": [
        "! pip install -q pyomo"
      ],
      "metadata": {
        "id": "H4dFacnBLCmC",
        "colab": {
          "base_uri": "https://localhost:8080/"
        },
        "outputId": "1d6309d6-8746-4a1d-db34-2e5beff87b63"
      },
      "execution_count": null,
      "outputs": [
        {
          "output_type": "stream",
          "name": "stdout",
          "text": [
            "\u001b[K     |████████████████████████████████| 9.6 MB 4.2 MB/s \n",
            "\u001b[K     |████████████████████████████████| 49 kB 5.4 MB/s \n",
            "\u001b[?25h"
          ]
        }
      ]
    },
    {
      "cell_type": "markdown",
      "source": [
        "Problem 3  \n",
        "let jen industries produces  x kg quantity of product P and y  kg quantity of product Q now according the question \n",
        "\n",
        "$\\min \\ 1200x+2580y \\ \\\\ \\text{s.t.} \\ x+y \\geq 145 \\\\ 2.18x+\\frac{13}{12}y \\leq 980, \\ x \\geq 105 , \\ y \\geq 125 $"
      ],
      "metadata": {
        "id": "TSlv875uWTp9"
      }
    },
    {
      "cell_type": "code",
      "source": [
        "from pyomo.environ import *"
      ],
      "metadata": {
        "id": "uaT-gMFiXm3b"
      },
      "execution_count": null,
      "outputs": []
    },
    {
      "cell_type": "code",
      "source": [
        "# create a model\n",
        "model3 = ConcreteModel()"
      ],
      "metadata": {
        "id": "boZKHfnwXuXk"
      },
      "execution_count": null,
      "outputs": []
    },
    {
      "cell_type": "code",
      "source": [
        "# declare decision variables\n",
        "model3.x = Var(domain=Reals)\n",
        "model3.y = Var(domain=Reals)"
      ],
      "metadata": {
        "id": "3iAfQSFcX3b0"
      },
      "execution_count": null,
      "outputs": []
    },
    {
      "cell_type": "code",
      "source": [
        "# declare objective\n",
        "model3.cost = Objective(expr = 1200*model3.x+2580*model3.y,sense=minimize)"
      ],
      "metadata": {
        "id": "bNK7kF6BYv41"
      },
      "execution_count": null,
      "outputs": []
    },
    {
      "cell_type": "code",
      "source": [
        "# declare constraints\n",
        "model3.constr1 = Constraint(expr = model3.x+model3.y>=145) \n",
        "model3.constr2 = Constraint(expr = 26.16*model3.x + 13*model3.y <= 11760 )\n",
        "model3.constr3 = Constraint(expr = model3.x >= 105)\n",
        "model3.constr4 = Constraint(expr = model3.y >=125)"
      ],
      "metadata": {
        "colab": {
          "base_uri": "https://localhost:8080/"
        },
        "id": "pXYp0nXuY67L",
        "outputId": "5fc51d93-e1eb-4b21-a121-358a0e1ca138"
      },
      "execution_count": null,
      "outputs": [
        {
          "output_type": "stream",
          "name": "stdout",
          "text": [
            "WARNING: Implicitly replacing the Component attribute constr1 (type=<class\n",
            "    'pyomo.core.base.constraint.ScalarConstraint'>) on block unknown with a\n",
            "    new Component (type=<class\n",
            "    'pyomo.core.base.constraint.AbstractScalarConstraint'>). This is usually\n",
            "    indicative of a modelling error. To avoid this warning, use\n",
            "    block.del_component() and block.add_component().\n",
            "WARNING: Implicitly replacing the Component attribute constr2 (type=<class\n",
            "    'pyomo.core.base.constraint.ScalarConstraint'>) on block unknown with a\n",
            "    new Component (type=<class\n",
            "    'pyomo.core.base.constraint.AbstractScalarConstraint'>). This is usually\n",
            "    indicative of a modelling error. To avoid this warning, use\n",
            "    block.del_component() and block.add_component().\n",
            "WARNING: Implicitly replacing the Component attribute constr3 (type=<class\n",
            "    'pyomo.core.base.constraint.ScalarConstraint'>) on block unknown with a\n",
            "    new Component (type=<class\n",
            "    'pyomo.core.base.constraint.AbstractScalarConstraint'>). This is usually\n",
            "    indicative of a modelling error. To avoid this warning, use\n",
            "    block.del_component() and block.add_component().\n",
            "WARNING: Implicitly replacing the Component attribute constr4 (type=<class\n",
            "    'pyomo.core.base.constraint.ScalarConstraint'>) on block unknown with a\n",
            "    new Component (type=<class\n",
            "    'pyomo.core.base.constraint.AbstractScalarConstraint'>). This is usually\n",
            "    indicative of a modelling error. To avoid this warning, use\n",
            "    block.del_component() and block.add_component().\n"
          ]
        }
      ]
    },
    {
      "cell_type": "code",
      "source": [
        "model3.pprint()"
      ],
      "metadata": {
        "colab": {
          "base_uri": "https://localhost:8080/"
        },
        "id": "Ipkzf_oUas-3",
        "outputId": "7c138634-f74f-4538-9eec-045812215668"
      },
      "execution_count": null,
      "outputs": [
        {
          "output_type": "stream",
          "name": "stdout",
          "text": [
            "2 Var Declarations\n",
            "    x : Size=1, Index=None\n",
            "        Key  : Lower : Value : Upper : Fixed : Stale : Domain\n",
            "        None :  None :  None :  None : False :  True :  Reals\n",
            "    y : Size=1, Index=None\n",
            "        Key  : Lower : Value : Upper : Fixed : Stale : Domain\n",
            "        None :  None :  None :  None : False :  True :  Reals\n",
            "\n",
            "1 Objective Declarations\n",
            "    cost : Size=1, Index=None, Active=True\n",
            "        Key  : Active : Sense    : Expression\n",
            "        None :   True : minimize : 1200*x + 2580*y\n",
            "\n",
            "4 Constraint Declarations\n",
            "    constr1 : Size=1, Index=None, Active=True\n",
            "        Key  : Lower : Body  : Upper : Active\n",
            "        None : 145.0 : x + y :  +Inf :   True\n",
            "    constr2 : Size=1, Index=None, Active=True\n",
            "        Key  : Lower : Body           : Upper   : Active\n",
            "        None :  -Inf : 26.16*x + 13*y : 11760.0 :   True\n",
            "    constr3 : Size=1, Index=None, Active=True\n",
            "        Key  : Lower : Body : Upper : Active\n",
            "        None : 105.0 :    x :  +Inf :   True\n",
            "    constr4 : Size=1, Index=None, Active=True\n",
            "        Key  : Lower : Body : Upper : Active\n",
            "        None : 125.0 :    y :  +Inf :   True\n",
            "\n",
            "7 Declarations: x y cost constr1 constr2 constr3 constr4\n"
          ]
        }
      ]
    },
    {
      "cell_type": "code",
      "source": [
        "!apt-get install -y -qq glpk-utils"
      ],
      "metadata": {
        "id": "zY6jgn7YbIWM"
      },
      "execution_count": null,
      "outputs": []
    },
    {
      "cell_type": "code",
      "source": [
        "SolverFactory('glpk', executable='/usr/bin/glpsol').solve(model3).write()"
      ],
      "metadata": {
        "colab": {
          "base_uri": "https://localhost:8080/"
        },
        "id": "GWbOLvrWbRM2",
        "outputId": "6681361f-f3c7-4b99-b069-5c64cc2328c1"
      },
      "execution_count": null,
      "outputs": [
        {
          "output_type": "stream",
          "name": "stdout",
          "text": [
            "# ==========================================================\n",
            "# = Solver Results                                         =\n",
            "# ==========================================================\n",
            "# ----------------------------------------------------------\n",
            "#   Problem Information\n",
            "# ----------------------------------------------------------\n",
            "Problem: \n",
            "- Name: unknown\n",
            "  Lower bound: 448500.0\n",
            "  Upper bound: 448500.0\n",
            "  Number of objectives: 1\n",
            "  Number of constraints: 5\n",
            "  Number of variables: 3\n",
            "  Number of nonzeros: 7\n",
            "  Sense: minimize\n",
            "# ----------------------------------------------------------\n",
            "#   Solver Information\n",
            "# ----------------------------------------------------------\n",
            "Solver: \n",
            "- Status: ok\n",
            "  Termination condition: optimal\n",
            "  Statistics: \n",
            "    Branch and bound: \n",
            "      Number of bounded subproblems: 0\n",
            "      Number of created subproblems: 0\n",
            "  Error rc: 0\n",
            "  Time: 0.01113748550415039\n",
            "# ----------------------------------------------------------\n",
            "#   Solution Information\n",
            "# ----------------------------------------------------------\n",
            "Solution: \n",
            "- number of solutions: 0\n",
            "  number of solutions displayed: 0\n"
          ]
        }
      ]
    },
    {
      "cell_type": "code",
      "source": [
        "# display solution\n",
        "print('\\nCost = ', model3.cost())\n",
        "\n",
        "print('\\nDecision Variables')\n",
        "print('x = ', model3.x())\n",
        "print('y = ', model3.y())\n",
        "print('\\nConstraints')\n",
        "print('Constraint 1  = ', model3.constr1())\n",
        "print('Constraint 2  = ', model3.constr2())\n",
        "print('Constraint 3  = ', model3.constr3())\n",
        "print('Constraint 4  = ', model3.constr4())"
      ],
      "metadata": {
        "colab": {
          "base_uri": "https://localhost:8080/"
        },
        "id": "_ltKgGCSbZJq",
        "outputId": "12e98941-7ab4-4868-9f48-e43582f395e9"
      },
      "execution_count": null,
      "outputs": [
        {
          "output_type": "stream",
          "name": "stdout",
          "text": [
            "\n",
            "Cost =  448500.0\n",
            "\n",
            "Decision Variables\n",
            "x =  105.0\n",
            "y =  125.0\n",
            "\n",
            "Constraints\n",
            "Constraint 1  =  230.0\n",
            "Constraint 2  =  4371.8\n",
            "Constraint 3  =  105.0\n",
            "Constraint 4  =  125.0\n"
          ]
        }
      ]
    },
    {
      "cell_type": "markdown",
      "source": [
        "Answer: \\\\\n",
        "1. let  Jen Industries produces x kgs of product P, \\\\\n",
        "   and produces y kgs of product Q, \\\\\n",
        "   now according to question, since minimum combined production of both products P and Q is 145 kgs so \"$ x+y \\geq 145 $\" \\\\\n",
        "   now since  major customer has placed an order for 105\n",
        "Kgs of product P and 125 Kgs of product Q so industries has to produce minimum 105 kgs of product P and 125 kgs of product Q so \\\\\n",
        "$ \"x \\geq 105\" , \\ \"y \\geq 125\" $ \\\\\n",
        "since Product P requires 2.18 hours of manufacturing\n",
        "time per Kg and product Q requires 65 minutes of manufacturing time per Kg\n",
        "and given that 980 hours are availabe for manufacturing so \\\\\n",
        "$ 2.18x+(13/12)y \\leq 980 \\\\ 26.16x+13y \\leq 11760 $ \\\\\n",
        "2. optimal cost: 448500.0 \\\\\n",
        "   value of decision variable:\n",
        "   x =  105.0,\n",
        "y =  125.0 \\\\\n",
        "   Activeness of constraints: \\\\\n",
        "   constraint 1 is not active since LHS= x+y = 105+125 =230 which is not equal to RHS. \\\\\n",
        "   Constraint 2 is not active since LHS = 4371 which is not equal to RHS \\\\\n",
        "   constraint 3 is active since LHS = 105 which is equal to RHS \\\\\n",
        "   constraint 4 is active since LHS = 125 which is equal to RHS \\\\\n"
      ],
      "metadata": {
        "id": "8-j0Vjs2oJ0L"
      }
    },
    {
      "cell_type": "markdown",
      "source": [
        "Answer 3:  \n",
        "Since customer has placed order of 42 kgs of pruduct P and 97 kgs of pruduct Q.so now for insdusries it is required to pruduce minimum 147kgs of pruduct P and  222 kgs of pruduct Q. so now Constraint 3, constraint 4 of previous Linear Programming problem are changed to following:\n",
        "$ \"x \\geq 147 \", \"x \\geq 222\"$\n",
        "now the new changed Linear programming problem is as follows:\n",
        "$\\min \\ 1200x+2580y \\\\ \\text{s.t.} \\ x+y \\geq 145 \\\\ 2.18x+\\frac{13}{12}y \\leq 980, \\ x \\geq 147 , \\ y \\geq 222 $"
      ],
      "metadata": {
        "id": "4GmhJCTswulI"
      }
    },
    {
      "cell_type": "code",
      "source": [
        "! pip install -q pyomo\n"
      ],
      "metadata": {
        "id": "UGeWVcZ5dRz0"
      },
      "execution_count": null,
      "outputs": []
    },
    {
      "cell_type": "code",
      "source": [
        "from pyomo.environ import *"
      ],
      "metadata": {
        "id": "YeWIelbSzTmO"
      },
      "execution_count": null,
      "outputs": []
    },
    {
      "cell_type": "code",
      "source": [
        "# create a model\n",
        "model4 = ConcreteModel()"
      ],
      "metadata": {
        "id": "JvCSTbopzkqm"
      },
      "execution_count": null,
      "outputs": []
    },
    {
      "cell_type": "code",
      "source": [
        "# declare decision variables\n",
        "model4.x = Var(domain=Reals)\n",
        "model4.y = Var(domain=Reals)"
      ],
      "metadata": {
        "id": "uB73cglFzXfp"
      },
      "execution_count": null,
      "outputs": []
    },
    {
      "cell_type": "code",
      "source": [
        "# declare objective\n",
        "model4.cost = Objective(expr = 1200*model4.x+2580*model4.y,sense=minimize)"
      ],
      "metadata": {
        "colab": {
          "base_uri": "https://localhost:8080/"
        },
        "id": "22HKfZG2zeMV",
        "outputId": "a522c126-9ef5-4593-9618-c39349208627"
      },
      "execution_count": null,
      "outputs": [
        {
          "output_type": "stream",
          "name": "stdout",
          "text": [
            "WARNING: Implicitly replacing the Component attribute cost (type=<class\n",
            "    'pyomo.core.base.objective.ScalarObjective'>) on block unknown with a new\n",
            "    Component (type=<class 'pyomo.core.base.objective.ScalarObjective'>). This\n",
            "    is usually indicative of a modelling error. To avoid this warning, use\n",
            "    block.del_component() and block.add_component().\n"
          ]
        }
      ]
    },
    {
      "cell_type": "code",
      "source": [
        "# declare constraints\n",
        "model4.constr1 = Constraint(expr = model4.x+model4.y>=145) \n",
        "model4.constr2 = Constraint(expr = 26.16*model4.x + 13*model4.y <= 11760 )\n",
        "model4.constr3 = Constraint(expr = model4.x >= 147)\n",
        "model4.constr4 = Constraint(expr = model4.y >=222)"
      ],
      "metadata": {
        "colab": {
          "base_uri": "https://localhost:8080/"
        },
        "id": "18J2TGY3zyDN",
        "outputId": "78961775-12ff-4d41-b51e-41cd611b9c76"
      },
      "execution_count": null,
      "outputs": [
        {
          "output_type": "stream",
          "name": "stdout",
          "text": [
            "WARNING: Implicitly replacing the Component attribute constr1 (type=<class\n",
            "    'pyomo.core.base.constraint.ScalarConstraint'>) on block unknown with a\n",
            "    new Component (type=<class\n",
            "    'pyomo.core.base.constraint.AbstractScalarConstraint'>). This is usually\n",
            "    indicative of a modelling error. To avoid this warning, use\n",
            "    block.del_component() and block.add_component().\n",
            "WARNING: Implicitly replacing the Component attribute constr2 (type=<class\n",
            "    'pyomo.core.base.constraint.ScalarConstraint'>) on block unknown with a\n",
            "    new Component (type=<class\n",
            "    'pyomo.core.base.constraint.AbstractScalarConstraint'>). This is usually\n",
            "    indicative of a modelling error. To avoid this warning, use\n",
            "    block.del_component() and block.add_component().\n",
            "WARNING: Implicitly replacing the Component attribute constr3 (type=<class\n",
            "    'pyomo.core.base.constraint.ScalarConstraint'>) on block unknown with a\n",
            "    new Component (type=<class\n",
            "    'pyomo.core.base.constraint.AbstractScalarConstraint'>). This is usually\n",
            "    indicative of a modelling error. To avoid this warning, use\n",
            "    block.del_component() and block.add_component().\n",
            "WARNING: Implicitly replacing the Component attribute constr4 (type=<class\n",
            "    'pyomo.core.base.constraint.ScalarConstraint'>) on block unknown with a\n",
            "    new Component (type=<class\n",
            "    'pyomo.core.base.constraint.AbstractScalarConstraint'>). This is usually\n",
            "    indicative of a modelling error. To avoid this warning, use\n",
            "    block.del_component() and block.add_component().\n"
          ]
        }
      ]
    },
    {
      "cell_type": "code",
      "source": [
        "model4.pprint()"
      ],
      "metadata": {
        "colab": {
          "base_uri": "https://localhost:8080/"
        },
        "id": "3gTNFEz-0C_o",
        "outputId": "2efbe6e2-9db7-4e07-81f8-ff9f8c44bc1e"
      },
      "execution_count": null,
      "outputs": [
        {
          "output_type": "stream",
          "name": "stdout",
          "text": [
            "2 Var Declarations\n",
            "    x : Size=1, Index=None\n",
            "        Key  : Lower : Value : Upper : Fixed : Stale : Domain\n",
            "        None :  None :  None :  None : False :  True :  Reals\n",
            "    y : Size=1, Index=None\n",
            "        Key  : Lower : Value : Upper : Fixed : Stale : Domain\n",
            "        None :  None :  None :  None : False :  True :  Reals\n",
            "\n",
            "1 Objective Declarations\n",
            "    cost : Size=1, Index=None, Active=True\n",
            "        Key  : Active : Sense    : Expression\n",
            "        None :   True : minimize : 1200*x + 2580*y\n",
            "\n",
            "4 Constraint Declarations\n",
            "    constr1 : Size=1, Index=None, Active=True\n",
            "        Key  : Lower : Body  : Upper : Active\n",
            "        None : 145.0 : x + y :  +Inf :   True\n",
            "    constr2 : Size=1, Index=None, Active=True\n",
            "        Key  : Lower : Body           : Upper   : Active\n",
            "        None :  -Inf : 26.16*x + 13*y : 11760.0 :   True\n",
            "    constr3 : Size=1, Index=None, Active=True\n",
            "        Key  : Lower : Body : Upper : Active\n",
            "        None : 147.0 :    x :  +Inf :   True\n",
            "    constr4 : Size=1, Index=None, Active=True\n",
            "        Key  : Lower : Body : Upper : Active\n",
            "        None : 222.0 :    y :  +Inf :   True\n",
            "\n",
            "7 Declarations: x y cost constr1 constr2 constr3 constr4\n"
          ]
        }
      ]
    },
    {
      "cell_type": "code",
      "source": [
        "!apt-get install -y -qq glpk-utils"
      ],
      "metadata": {
        "id": "BCJELrsa0Y4d"
      },
      "execution_count": null,
      "outputs": []
    },
    {
      "cell_type": "code",
      "source": [
        "SolverFactory('glpk', executable='/usr/bin/glpsol').solve(model4).write()"
      ],
      "metadata": {
        "colab": {
          "base_uri": "https://localhost:8080/"
        },
        "id": "AZl_d2N70h--",
        "outputId": "9d045101-288d-40e3-c0f4-09f757586533"
      },
      "execution_count": null,
      "outputs": [
        {
          "output_type": "stream",
          "name": "stdout",
          "text": [
            "# ==========================================================\n",
            "# = Solver Results                                         =\n",
            "# ==========================================================\n",
            "# ----------------------------------------------------------\n",
            "#   Problem Information\n",
            "# ----------------------------------------------------------\n",
            "Problem: \n",
            "- Name: unknown\n",
            "  Lower bound: 749160.0\n",
            "  Upper bound: 749160.0\n",
            "  Number of objectives: 1\n",
            "  Number of constraints: 5\n",
            "  Number of variables: 3\n",
            "  Number of nonzeros: 7\n",
            "  Sense: minimize\n",
            "# ----------------------------------------------------------\n",
            "#   Solver Information\n",
            "# ----------------------------------------------------------\n",
            "Solver: \n",
            "- Status: ok\n",
            "  Termination condition: optimal\n",
            "  Statistics: \n",
            "    Branch and bound: \n",
            "      Number of bounded subproblems: 0\n",
            "      Number of created subproblems: 0\n",
            "  Error rc: 0\n",
            "  Time: 0.01419830322265625\n",
            "# ----------------------------------------------------------\n",
            "#   Solution Information\n",
            "# ----------------------------------------------------------\n",
            "Solution: \n",
            "- number of solutions: 0\n",
            "  number of solutions displayed: 0\n"
          ]
        }
      ]
    },
    {
      "cell_type": "code",
      "source": [
        "# display solution\n",
        "print('\\nCost = ', model4.cost())\n",
        "\n",
        "print('\\nDecision Variables')\n",
        "print('x = ', model4.x())\n",
        "print('y = ', model4.y())\n",
        "print('\\nConstraints')\n",
        "print('Constraint 1  = ', model4.constr1())\n",
        "print('Constraint 2  = ', model4.constr2())\n",
        "print('Constraint 3  = ', model4.constr3())\n",
        "print('Constraint 4  = ', model4.constr4())"
      ],
      "metadata": {
        "colab": {
          "base_uri": "https://localhost:8080/"
        },
        "id": "Uc1RspRc0kZn",
        "outputId": "a5e2e5a2-5e68-4d47-9630-5b5cdcc2a93a"
      },
      "execution_count": null,
      "outputs": [
        {
          "output_type": "stream",
          "name": "stdout",
          "text": [
            "\n",
            "Cost =  749160.0\n",
            "\n",
            "Decision Variables\n",
            "x =  147.0\n",
            "y =  222.0\n",
            "\n",
            "Constraints\n",
            "Constraint 1  =  369.0\n",
            "Constraint 2  =  6731.52\n",
            "Constraint 3  =  147.0\n",
            "Constraint 4  =  222.0\n"
          ]
        }
      ]
    },
    {
      "cell_type": "markdown",
      "source": [
        " Answer 4: \n",
        " optimal cost: 749160.0\n",
        " \\\\\n",
        "   value of decision variable:\n",
        "   x =  147.0,\n",
        "y =  222.0 \\\\\n",
        "   Activeness of constraints: \\\\\n",
        "   constraint 1 is not active since LHS= x+y = 147+222 =369 which is not equal to RHS. \\\\\n",
        "   Constraint 2 is not active since LHS = 6731.52 which is not equal to RHS \\\\\n",
        "   constraint 3 is active since LHS = 147 which is equal to RHS \\\\\n",
        "   constraint 4 is active since LHS = 222 which is equal to RHS \\\\\n",
        "   after the order, jen industries has to increase there productity of both product P and Q.\n",
        "   for optimal cost , Insdustries has to produce 147 kgs of pruduct P and 222 kgs of product Q.\n",
        "\n"
      ],
      "metadata": {
        "id": "GdBCUyjG03Vq"
      }
    },
    {
      "cell_type": "code",
      "source": [
        ""
      ],
      "metadata": {
        "id": "kJyApjj32PDd"
      },
      "execution_count": null,
      "outputs": []
    }
  ]
}