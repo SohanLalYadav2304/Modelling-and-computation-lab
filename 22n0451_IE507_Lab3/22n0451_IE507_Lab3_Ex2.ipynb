{
  "nbformat": 4,
  "nbformat_minor": 0,
  "metadata": {
    "colab": {
      "name": "22n0451_IE507_Lab3.ipynb",
      "provenance": [],
      "collapsed_sections": []
    },
    "kernelspec": {
      "name": "python3",
      "display_name": "Python 3"
    },
    "language_info": {
      "name": "python"
    }
  },
  "cells": [
    {
      "cell_type": "code",
      "execution_count": 1,
      "metadata": {
        "id": "o06AEiR2UG_n"
      },
      "outputs": [],
      "source": [
        "!pip install -q pyomo"
      ]
    },
    {
      "cell_type": "code",
      "source": [
        "from pyomo.environ import*"
      ],
      "metadata": {
        "id": "pIjX8IUoUTt1"
      },
      "execution_count": 2,
      "outputs": []
    },
    {
      "cell_type": "code",
      "source": [
        "import numpy as np"
      ],
      "metadata": {
        "id": "2_c3JhRvUd_p"
      },
      "execution_count": 3,
      "outputs": []
    },
    {
      "cell_type": "markdown",
      "source": [
        "EX2: \n",
        "Answer: \n",
        "let $ x_0,x_2,x_3,\\cdots x_9  $ \\{are binary variables which defines \n",
        " that course is being taken or not.if course is taken then value of variable is 1 otherwise value of variable is 0. $\n",
        " \n",
        " As $x_i$ is \"1\" then it means that course $C_i$ is taken and if $x_i$ is \"0\" then it means that course $C_i$ is not taken \\}\n",
        "\n",
        "Now according to question,we get\n",
        "\n",
        "mathematical formulation : \\\\\n",
        " max $ 4x_0+3x_1+6x_2+5x_3+2x_4+6x_5+4x_6+8x_7+8x_8+6x_9 \\\\ \\sum_{i=0}^{9} x_i \\geq 4,\\ \\sum_{i=0}^{9} x_i \\leq 8 \\\\ x_2+x_7\\leq 1, \\ x_1+x_9 \\leq 1, \\ x_2+x_8 \\leq 1, \\ x_9-x_4 =0, \\ \\\\ x_0+x_1+x_2+x_3 \\geq 1 , \\\\  x_0+x_1+x_2+x_3 \\leq 2 \\\\ x_5+x_9 \\leq 1, \\ x_6+x_8+x_9 \\leq 2 \\\\ 4x_0+3x_1+6x_2+5x_3+2x_4+6x_5+4x_6+8x_7+8x_8+6x_9 \\geq 26 \\\\ x_i \\in \\{ 0,1 \\} \\ \\forall i = 1,2,3, \\cdots 9 $\n",
        " Here are variables are integers as $ x_i \\in \\mathbf{Z} $\n",
        " "
      ],
      "metadata": {
        "id": "fu-uTqA4VqVA"
      }
    },
    {
      "cell_type": "code",
      "source": [
        "model = ConcreteModel()"
      ],
      "metadata": {
        "id": "jJluhTaVUko_"
      },
      "execution_count": 4,
      "outputs": []
    },
    {
      "cell_type": "code",
      "source": [
        "N = 10 \n",
        "col_indices = np.arange(N)\n",
        "model.x= Var(col_indices,domain=Binary)"
      ],
      "metadata": {
        "id": "x3RVgnOCUoSy"
      },
      "execution_count": 5,
      "outputs": []
    },
    {
      "cell_type": "code",
      "source": [
        "M= 11\n",
        "row_indices = np.arange(M)"
      ],
      "metadata": {
        "id": "S0s8_J_LdyBa"
      },
      "execution_count": 6,
      "outputs": []
    },
    {
      "cell_type": "code",
      "source": [
        "obj_coef_c = np.array([4,3,6,5,2,6,4,8,8,6])\n",
        "constr_coef_A = np.array([[-1,-1,-1,-1,-1,-1,-1,-1,-1,-1],\n",
        "                          [1,1,1,1,1,1,1,1,1,1],\n",
        "                          [0,0,1,0,0,0,0,1,0,0],\n",
        "                          [0,1,0,0,0,0,0,0,0,1],\n",
        "                          [0,0,1,0,0,0,0,0,1,0],\n",
        "                          [0,0,0,0,-1,0,0,0,0,1],\n",
        "                          [-1,-1,-1,-1,0,0,0,0,0,0],\n",
        "                          [1,1,1,1,0,0,0,0,0,0],\n",
        "                          [0,0,0,0,0,1,0,0,0,1],\n",
        "                         [0,0,0,0,0,0,1,0,1,1],\n",
        "                         [-4,-3,-6,-5,-2,-6,-4,-8,-8,-6]])\n",
        "constr_rhs_b = np.array([-4,8,1,1,1,0,-1,2,1,2,-26])"
      ],
      "metadata": {
        "id": "gI_G56Vld5g6"
      },
      "execution_count": 7,
      "outputs": []
    },
    {
      "cell_type": "code",
      "source": [
        "model.constraints = ConstraintList()"
      ],
      "metadata": {
        "id": "AxYFVSAKB_Kt"
      },
      "execution_count": 8,
      "outputs": []
    },
    {
      "cell_type": "code",
      "source": [
        "for i in row_indices:\n",
        "  model.constraints.add(sum(constr_coef_A[i][j]*model.x[j] for j in col_indices) <= constr_rhs_b[i])"
      ],
      "metadata": {
        "id": "hYd8pW7VAfOA"
      },
      "execution_count": 9,
      "outputs": []
    },
    {
      "cell_type": "code",
      "source": [
        "model.objective = Objective(expr =summation(obj_coef_c,model.x), sense=maximize)\n",
        "model.pprint() "
      ],
      "metadata": {
        "colab": {
          "base_uri": "https://localhost:8080/"
        },
        "id": "1hPqcWfKCGdb",
        "outputId": "b9763426-2b0c-4216-f30c-6d515580ff09"
      },
      "execution_count": 10,
      "outputs": [
        {
          "output_type": "stream",
          "name": "stdout",
          "text": [
            "2 Set Declarations\n",
            "    constraints_index : Size=1, Index=None, Ordered=Insertion\n",
            "        Key  : Dimen : Domain : Size : Members\n",
            "        None :     1 :    Any :   11 : {1, 2, 3, 4, 5, 6, 7, 8, 9, 10, 11}\n",
            "    x_index : Size=1, Index=None, Ordered=False\n",
            "        Key  : Dimen : Domain : Size : Members\n",
            "        None :     1 :    Any :   10 : {0, 1, 2, 3, 4, 5, 6, 7, 8, 9}\n",
            "\n",
            "1 Var Declarations\n",
            "    x : Size=10, Index=x_index\n",
            "        Key : Lower : Value : Upper : Fixed : Stale : Domain\n",
            "          0 :     0 :  None :     1 : False :  True : Binary\n",
            "          1 :     0 :  None :     1 : False :  True : Binary\n",
            "          2 :     0 :  None :     1 : False :  True : Binary\n",
            "          3 :     0 :  None :     1 : False :  True : Binary\n",
            "          4 :     0 :  None :     1 : False :  True : Binary\n",
            "          5 :     0 :  None :     1 : False :  True : Binary\n",
            "          6 :     0 :  None :     1 : False :  True : Binary\n",
            "          7 :     0 :  None :     1 : False :  True : Binary\n",
            "          8 :     0 :  None :     1 : False :  True : Binary\n",
            "          9 :     0 :  None :     1 : False :  True : Binary\n",
            "\n",
            "1 Objective Declarations\n",
            "    objective : Size=1, Index=None, Active=True\n",
            "        Key  : Active : Sense    : Expression\n",
            "        None :   True : maximize : 4*x[0] + 3*x[1] + 6*x[2] + 5*x[3] + 2*x[4] + 6*x[5] + 4*x[6] + 8*x[7] + 8*x[8] + 6*x[9]\n",
            "\n",
            "1 Constraint Declarations\n",
            "    constraints : Size=11, Index=constraints_index, Active=True\n",
            "        Key : Lower : Body                                                                                     : Upper : Active\n",
            "          1 :  -Inf :                    - x[0] - x[1] - x[2] - x[3] - x[4] - x[5] - x[6] - x[7] - x[8] - x[9] :  -4.0 :   True\n",
            "          2 :  -Inf :                      x[0] + x[1] + x[2] + x[3] + x[4] + x[5] + x[6] + x[7] + x[8] + x[9] :   8.0 :   True\n",
            "          3 :  -Inf :                                                                              x[2] + x[7] :   1.0 :   True\n",
            "          4 :  -Inf :                                                                              x[1] + x[9] :   1.0 :   True\n",
            "          5 :  -Inf :                                                                              x[2] + x[8] :   1.0 :   True\n",
            "          6 :  -Inf :                                                                            - x[4] + x[9] :   0.0 :   True\n",
            "          7 :  -Inf :                                                              - x[0] - x[1] - x[2] - x[3] :  -1.0 :   True\n",
            "          8 :  -Inf :                                                                x[0] + x[1] + x[2] + x[3] :   2.0 :   True\n",
            "          9 :  -Inf :                                                                              x[5] + x[9] :   1.0 :   True\n",
            "         10 :  -Inf :                                                                       x[6] + x[8] + x[9] :   2.0 :   True\n",
            "         11 :  -Inf : -4*x[0] - 3*x[1] - 6*x[2] - 5*x[3] - 2*x[4] - 6*x[5] - 4*x[6] - 8*x[7] - 8*x[8] - 6*x[9] : -26.0 :   True\n",
            "\n",
            "5 Declarations: x_index x constraints_index constraints objective\n"
          ]
        }
      ]
    },
    {
      "cell_type": "code",
      "source": [
        "!apt-get install -y -qq coinor-cbc"
      ],
      "metadata": {
        "id": "zosZLV4MCSCI"
      },
      "execution_count": 11,
      "outputs": []
    },
    {
      "cell_type": "code",
      "source": [
        "opt_cbc = SolverFactory('cbc')"
      ],
      "metadata": {
        "id": "q6uNFFoMCjr0"
      },
      "execution_count": 12,
      "outputs": []
    },
    {
      "cell_type": "code",
      "source": [
        "result = opt_cbc.solve(model)\n",
        "print(result)\n",
        "\n",
        "print('Solver status:', result.solver.status)\n",
        "print('Solver termination condition:',result.solver.termination_condition)\n",
        "print('Solver time:',result.solver.time)\n"
      ],
      "metadata": {
        "colab": {
          "base_uri": "https://localhost:8080/"
        },
        "id": "gKNCuEAUCtN-",
        "outputId": "212186fe-569d-4e56-850d-f4ab678b545c"
      },
      "execution_count": 13,
      "outputs": [
        {
          "output_type": "stream",
          "name": "stdout",
          "text": [
            "\n",
            "Problem: \n",
            "- Name: unknown\n",
            "  Lower bound: 37.0\n",
            "  Upper bound: 37.0\n",
            "  Number of objectives: 1\n",
            "  Number of constraints: 11\n",
            "  Number of variables: 10\n",
            "  Number of binary variables: 10\n",
            "  Number of integer variables: 10\n",
            "  Number of nonzeros: 10\n",
            "  Sense: maximize\n",
            "Solver: \n",
            "- Status: ok\n",
            "  User time: -1.0\n",
            "  System time: 0.0\n",
            "  Wallclock time: 0.0\n",
            "  Termination condition: optimal\n",
            "  Termination message: Model was solved to optimality (subject to tolerances), and an optimal solution is available.\n",
            "  Statistics: \n",
            "    Branch and bound: \n",
            "      Number of bounded subproblems: 0\n",
            "      Number of created subproblems: 0\n",
            "    Black box: \n",
            "      Number of iterations: 0\n",
            "  Error rc: 0\n",
            "  Time: 0.03740549087524414\n",
            "Solution: \n",
            "- number of solutions: 0\n",
            "  number of solutions displayed: 0\n",
            "\n",
            "Solver status: ok\n",
            "Solver termination condition: optimal\n",
            "Solver time: 0.03740549087524414\n"
          ]
        }
      ]
    },
    {
      "cell_type": "code",
      "source": [
        "# display solution\n",
        "print('\\nObjective = ', model.objective())\n",
        "\n",
        "print('\\nDecision Variables')\n",
        "for i in col_indices:\n",
        "  print('x[',i,'] = ', model.x[i].value)\n",
        "print('\\nConstraints')\n",
        "model.constraints.display()"
      ],
      "metadata": {
        "colab": {
          "base_uri": "https://localhost:8080/"
        },
        "id": "0XVK6c0bxeI8",
        "outputId": "578f6453-e276-4e18-f49f-e489bdb488ba"
      },
      "execution_count": 14,
      "outputs": [
        {
          "output_type": "stream",
          "name": "stdout",
          "text": [
            "\n",
            "Objective =  37.0\n",
            "\n",
            "Decision Variables\n",
            "x[ 0 ] =  1.0\n",
            "x[ 1 ] =  0.0\n",
            "x[ 2 ] =  0.0\n",
            "x[ 3 ] =  1.0\n",
            "x[ 4 ] =  1.0\n",
            "x[ 5 ] =  1.0\n",
            "x[ 6 ] =  1.0\n",
            "x[ 7 ] =  1.0\n",
            "x[ 8 ] =  1.0\n",
            "x[ 9 ] =  0.0\n",
            "\n",
            "Constraints\n",
            "constraints : Size=11\n",
            "    Key : Lower : Body  : Upper\n",
            "      1 :  None :  -7.0 :  -4.0\n",
            "      2 :  None :   7.0 :   8.0\n",
            "      3 :  None :   1.0 :   1.0\n",
            "      4 :  None :   0.0 :   1.0\n",
            "      5 :  None :   1.0 :   1.0\n",
            "      6 :  None :  -1.0 :   0.0\n",
            "      7 :  None :  -2.0 :  -1.0\n",
            "      8 :  None :   2.0 :   2.0\n",
            "      9 :  None :   1.0 :   1.0\n",
            "     10 :  None :   2.0 :   2.0\n",
            "     11 :  None : -37.0 : -26.0\n"
          ]
        }
      ]
    },
    {
      "cell_type": "markdown",
      "source": [
        "Answer (3) : By using solver \"cbc\" we get the following solution:\n",
        "Objective =  37.0\n",
        "\n",
        "Decision Variables \\\\ \n",
        "$ x_0 =  1.0,\n",
        "x_1 =  0.0,\n",
        "x_2 =  0.0,\n",
        "x_3 =  1.0,\n",
        "x_4 =  1.0,\n",
        "x_5 =  1.0,\n",
        "x_6 =  1.0,\n",
        "x_7 =  1.0,\n",
        "x_8 _=  1.0,\n",
        "x_9 =  0.0 $"
      ],
      "metadata": {
        "id": "Ey8pwH28xXYM"
      }
    },
    {
      "cell_type": "markdown",
      "source": [
        "Answer 4 :    Comparison of this solutin to the solution of linear problem. Here we will define $ y_i \\ \\text{at place of} \\ x_i $ for all i = 0,1,2,3 $ \\cdots $ ,9"
      ],
      "metadata": {
        "id": "fsUYV2Uh6zBC"
      }
    },
    {
      "cell_type": "code",
      "source": [
        "model_1 = ConcreteModel()"
      ],
      "metadata": {
        "id": "PbHrPt481gvJ"
      },
      "execution_count": 15,
      "outputs": []
    },
    {
      "cell_type": "code",
      "source": [
        "lb = np.array([0,0,0,0,0,0,0,0,0,0])\n",
        "ub = np.array([1,1,1,1,1,1,1,1,1,1])"
      ],
      "metadata": {
        "id": "C9Zb_WMs3SBr"
      },
      "execution_count": 16,
      "outputs": []
    },
    {
      "cell_type": "code",
      "source": [
        "model_1.y= Var(col_indices,domain=Reals)"
      ],
      "metadata": {
        "id": "IfjDS5XXCvnq"
      },
      "execution_count": 17,
      "outputs": []
    },
    {
      "cell_type": "code",
      "source": [
        "for i in col_indices:\n",
        "  model_1.y[i].setlb(lb[i])\n",
        "  model_1.y[i].setub(ub[i])"
      ],
      "metadata": {
        "id": "_k8x3fFS3pIk"
      },
      "execution_count": 18,
      "outputs": []
    },
    {
      "cell_type": "code",
      "source": [
        "model_1.constraints = ConstraintList()"
      ],
      "metadata": {
        "id": "lBTMWxmIzHxZ"
      },
      "execution_count": 19,
      "outputs": []
    },
    {
      "cell_type": "code",
      "source": [
        "for i in row_indices:\n",
        "  model_1.constraints.add(sum(constr_coef_A[i][j]*model_1.y[j] for j in col_indices) <= constr_rhs_b[i])"
      ],
      "metadata": {
        "id": "NZ4653Vr0BH0"
      },
      "execution_count": 20,
      "outputs": []
    },
    {
      "cell_type": "code",
      "source": [
        "model_1.objective = Objective(expr =summation(obj_coef_c,model_1.y), sense=maximize)\n",
        "model_1.pprint() "
      ],
      "metadata": {
        "colab": {
          "base_uri": "https://localhost:8080/"
        },
        "id": "Ky6yeeDl0KaR",
        "outputId": "9f555272-62dd-422c-b8be-c80fdda80a7c"
      },
      "execution_count": 21,
      "outputs": [
        {
          "output_type": "stream",
          "name": "stdout",
          "text": [
            "2 Set Declarations\n",
            "    constraints_index : Size=1, Index=None, Ordered=Insertion\n",
            "        Key  : Dimen : Domain : Size : Members\n",
            "        None :     1 :    Any :   11 : {1, 2, 3, 4, 5, 6, 7, 8, 9, 10, 11}\n",
            "    y_index : Size=1, Index=None, Ordered=False\n",
            "        Key  : Dimen : Domain : Size : Members\n",
            "        None :     1 :    Any :   10 : {0, 1, 2, 3, 4, 5, 6, 7, 8, 9}\n",
            "\n",
            "1 Var Declarations\n",
            "    y : Size=10, Index=y_index\n",
            "        Key : Lower : Value : Upper : Fixed : Stale : Domain\n",
            "          0 :     0 :  None :     1 : False :  True :  Reals\n",
            "          1 :     0 :  None :     1 : False :  True :  Reals\n",
            "          2 :     0 :  None :     1 : False :  True :  Reals\n",
            "          3 :     0 :  None :     1 : False :  True :  Reals\n",
            "          4 :     0 :  None :     1 : False :  True :  Reals\n",
            "          5 :     0 :  None :     1 : False :  True :  Reals\n",
            "          6 :     0 :  None :     1 : False :  True :  Reals\n",
            "          7 :     0 :  None :     1 : False :  True :  Reals\n",
            "          8 :     0 :  None :     1 : False :  True :  Reals\n",
            "          9 :     0 :  None :     1 : False :  True :  Reals\n",
            "\n",
            "1 Objective Declarations\n",
            "    objective : Size=1, Index=None, Active=True\n",
            "        Key  : Active : Sense    : Expression\n",
            "        None :   True : maximize : 4*y[0] + 3*y[1] + 6*y[2] + 5*y[3] + 2*y[4] + 6*y[5] + 4*y[6] + 8*y[7] + 8*y[8] + 6*y[9]\n",
            "\n",
            "1 Constraint Declarations\n",
            "    constraints : Size=11, Index=constraints_index, Active=True\n",
            "        Key : Lower : Body                                                                                     : Upper : Active\n",
            "          1 :  -Inf :                    - y[0] - y[1] - y[2] - y[3] - y[4] - y[5] - y[6] - y[7] - y[8] - y[9] :  -4.0 :   True\n",
            "          2 :  -Inf :                      y[0] + y[1] + y[2] + y[3] + y[4] + y[5] + y[6] + y[7] + y[8] + y[9] :   8.0 :   True\n",
            "          3 :  -Inf :                                                                              y[2] + y[7] :   1.0 :   True\n",
            "          4 :  -Inf :                                                                              y[1] + y[9] :   1.0 :   True\n",
            "          5 :  -Inf :                                                                              y[2] + y[8] :   1.0 :   True\n",
            "          6 :  -Inf :                                                                            - y[4] + y[9] :   0.0 :   True\n",
            "          7 :  -Inf :                                                              - y[0] - y[1] - y[2] - y[3] :  -1.0 :   True\n",
            "          8 :  -Inf :                                                                y[0] + y[1] + y[2] + y[3] :   2.0 :   True\n",
            "          9 :  -Inf :                                                                              y[5] + y[9] :   1.0 :   True\n",
            "         10 :  -Inf :                                                                       y[6] + y[8] + y[9] :   2.0 :   True\n",
            "         11 :  -Inf : -4*y[0] - 3*y[1] - 6*y[2] - 5*y[3] - 2*y[4] - 6*y[5] - 4*y[6] - 8*y[7] - 8*y[8] - 6*y[9] : -26.0 :   True\n",
            "\n",
            "5 Declarations: y_index y constraints_index constraints objective\n"
          ]
        }
      ]
    },
    {
      "cell_type": "code",
      "source": [
        "!apt-get install -y -qq coinor-cbc"
      ],
      "metadata": {
        "id": "Jkl_g_LP0S9Z"
      },
      "execution_count": 22,
      "outputs": []
    },
    {
      "cell_type": "code",
      "source": [
        "opt_cbc = SolverFactory('cbc')"
      ],
      "metadata": {
        "id": "DL-uNlfh0c0p"
      },
      "execution_count": 23,
      "outputs": []
    },
    {
      "cell_type": "code",
      "source": [
        "result = opt_cbc.solve(model_1)\n",
        "print(result)\n",
        "\n",
        "print('Solver status:', result.solver.status)\n",
        "print('Solver termination condition:',result.solver.termination_condition)\n",
        "print('Solver time:',result.solver.time)\n"
      ],
      "metadata": {
        "colab": {
          "base_uri": "https://localhost:8080/"
        },
        "id": "pCoc625i0kNF",
        "outputId": "45d07b88-333c-4816-c045-85cdc12e1735"
      },
      "execution_count": 24,
      "outputs": [
        {
          "output_type": "stream",
          "name": "stdout",
          "text": [
            "\n",
            "Problem: \n",
            "- Name: unknown\n",
            "  Lower bound: 37.0\n",
            "  Upper bound: 37.0\n",
            "  Number of objectives: 1\n",
            "  Number of constraints: 12\n",
            "  Number of variables: 11\n",
            "  Number of nonzeros: 10\n",
            "  Sense: maximize\n",
            "Solver: \n",
            "- Status: ok\n",
            "  User time: -1.0\n",
            "  System time: 0.0\n",
            "  Wallclock time: 0.0\n",
            "  Termination condition: optimal\n",
            "  Termination message: Model was solved to optimality (subject to tolerances), and an optimal solution is available.\n",
            "  Statistics: \n",
            "    Branch and bound: \n",
            "      Number of bounded subproblems: None\n",
            "      Number of created subproblems: None\n",
            "    Black box: \n",
            "      Number of iterations: 3\n",
            "  Error rc: 0\n",
            "  Time: 0.026639461517333984\n",
            "Solution: \n",
            "- number of solutions: 0\n",
            "  number of solutions displayed: 0\n",
            "\n",
            "Solver status: ok\n",
            "Solver termination condition: optimal\n",
            "Solver time: 0.026639461517333984\n"
          ]
        }
      ]
    },
    {
      "cell_type": "code",
      "source": [
        "# display solution\n",
        "print('\\nObjective = ', model_1.objective())\n",
        "\n",
        "print('\\nDecision Variables')\n",
        "for i in col_indices:\n",
        "  print('y[',i,'] = ', model_1.y[i].value)\n",
        "print('\\nConstraints')\n",
        "model_1.constraints.display()"
      ],
      "metadata": {
        "colab": {
          "base_uri": "https://localhost:8080/"
        },
        "id": "9ZXsLQXB0tDm",
        "outputId": "2ff89e38-c8b2-40b2-b7b4-9bca6f9c800c"
      },
      "execution_count": 25,
      "outputs": [
        {
          "output_type": "stream",
          "name": "stdout",
          "text": [
            "\n",
            "Objective =  37.0\n",
            "\n",
            "Decision Variables\n",
            "y[ 0 ] =  1.0\n",
            "y[ 1 ] =  0.0\n",
            "y[ 2 ] =  0.0\n",
            "y[ 3 ] =  1.0\n",
            "y[ 4 ] =  1.0\n",
            "y[ 5 ] =  1.0\n",
            "y[ 6 ] =  1.0\n",
            "y[ 7 ] =  1.0\n",
            "y[ 8 ] =  1.0\n",
            "y[ 9 ] =  0.0\n",
            "\n",
            "Constraints\n",
            "constraints : Size=11\n",
            "    Key : Lower : Body  : Upper\n",
            "      1 :  None :  -7.0 :  -4.0\n",
            "      2 :  None :   7.0 :   8.0\n",
            "      3 :  None :   1.0 :   1.0\n",
            "      4 :  None :   0.0 :   1.0\n",
            "      5 :  None :   1.0 :   1.0\n",
            "      6 :  None :  -1.0 :   0.0\n",
            "      7 :  None :  -2.0 :  -1.0\n",
            "      8 :  None :   2.0 :   2.0\n",
            "      9 :  None :   1.0 :   1.0\n",
            "     10 :  None :   2.0 :   2.0\n",
            "     11 :  None : -37.0 : -26.0\n"
          ]
        }
      ]
    },
    {
      "cell_type": "markdown",
      "source": [
        "Comparison of this MILP with linear problem shows  that there is no change in value of  objective function i.e. maximum credits and value of decision variables. As we get the following solution:\n",
        "Objective =  37.0\n",
        "\n",
        "Decision Variables\n",
        "y[ 0 ] =  1.0, \\\\\n",
        "y[ 1 ] =  0.0, \\\\\n",
        "y[ 2 ] =  0.0, \\\\\n",
        "y[ 3 ] =  1.0, \\\\\n",
        "y[ 4 ] =  1.0, \\\\\n",
        "y[ 5 ] =  1.0, \\\\\n",
        "y[ 6 ] =  1.0, \\\\\n",
        "y[ 7 ] =  1.0, \\\\\n",
        "y[ 8 ] =  1.0, \\\\\n",
        "y[ 9 ] =  0.0\n"
      ],
      "metadata": {
        "id": "X1t_1I156wq_"
      }
    },
    {
      "cell_type": "markdown",
      "source": [
        "Answer(5):\n",
        "\n",
        "Since we know that Binary variable take only two values \"0\" and \"1\" and max{0,1} = 1 and if we take real variables which are bounded by \"0\" and \"1\" then maximum value that can be taken by variable is also \"1\".So when we solve the problem as PILP and as LP ,in both time we get the same optimal solution.it is because we are maximising the problem and maximum values of variables are also same in both conditions."
      ],
      "metadata": {
        "id": "fHcWVf848-5h"
      }
    },
    {
      "cell_type": "markdown",
      "source": [
        "Answer(6): Let a new course $C_{10} $ is added and variable $x_{10} $ denote that either course is taken or not. Value of $ x_{10}  $  is 0 if course is not taken and 1 if course is taken.\n",
        "formulation according to question,the course timing for C10\n",
        "overlaps with the course timings of C5, C6 so we get a new constraint as :    \n",
        " \n",
        "$ x_5+x_6+x_{10} \\leq 1 \n",
        "$ now new mathematical formulation is as follows:\n",
        " max $ 4x_0+3x_1+6x_2+5x_3+2x_4+6x_5+4x_6+8x_7+8x_8+6x_9+12x_{10} \\\\ \\sum_{i=0}^{10} x_i \\geq 4,\\ \\sum_{i=0}^{10} x_i \\leq 8 \\\\ x_2+x_7\\leq 1, \\ x_1+x_9 \\leq 1, \\ x_2+x_8 \\leq 1, \\ x_9-x_4 =0, \\ \\\\ x_0+x_1+x_2+x_3 \\geq 1 , \\\\  x_0+x_1+x_2+x_3 \\leq 2 \\\\ x_5+x_9 \\leq 1, \\ x_6+x_8+x_9 \\leq 2 \\\\ 4x_0+3x_1+6x_2+5x_3+2x_4+6x_5+4x_6+8x_7+8x_8+6x_9+12x_{10}\\geq 26 \\\\ x_5+x_6+x_{10} \\leq 1  \\\\ x_i \\in \\{ 0,1 \\} \\ \\forall i = 1,2,3, \\cdots 10 $\n",
        " Here are variables are integers as $ x_i \\in \\mathbf{Z} $\n",
        " "
      ],
      "metadata": {
        "id": "ho5RthjH-Btb"
      }
    },
    {
      "cell_type": "code",
      "source": [
        ""
      ],
      "metadata": {
        "id": "LDvyVlwPHl1y"
      },
      "execution_count": 25,
      "outputs": []
    },
    {
      "cell_type": "code",
      "source": [
        ""
      ],
      "metadata": {
        "id": "MDe8QI83Hlyh"
      },
      "execution_count": 25,
      "outputs": []
    },
    {
      "cell_type": "code",
      "source": [
        "model_2 = ConcreteModel()"
      ],
      "metadata": {
        "id": "fkT-DhpD8qKo"
      },
      "execution_count": 26,
      "outputs": []
    },
    {
      "cell_type": "code",
      "source": [
        "K = 11\n",
        "col_indices_1 = np.arange(K)\n",
        "model_2.z= Var(col_indices_1,domain=Binary)"
      ],
      "metadata": {
        "id": "8s_0t7L2BT10"
      },
      "execution_count": 27,
      "outputs": []
    },
    {
      "cell_type": "code",
      "source": [
        "L= 12\n",
        "row_indices_1 = np.arange(L)"
      ],
      "metadata": {
        "id": "0ZAGAR1gCnct"
      },
      "execution_count": 28,
      "outputs": []
    },
    {
      "cell_type": "code",
      "source": [
        "obj_coef_d = np.array([4,3,6,5,2,6,4,8,8,6,12])\n",
        "constr_coef_B = np.array([[-1,-1,-1,-1,-1,-1,-1,-1,-1,-1,-1],\n",
        "                          [1,1,1,1,1,1,1,1,1,1,1],\n",
        "                          [0,0,1,0,0,0,0,1,0,0,0],\n",
        "                          [0,1,0,0,0,0,0,0,0,1,0],\n",
        "                          [0,0,1,0,0,0,0,0,1,0,0],\n",
        "                          [0,0,0,0,-1,0,0,0,0,1,0],\n",
        "                          [-1,-1,-1,-1,0,0,0,0,0,0,0],\n",
        "                          [1,1,1,1,0,0,0,0,0,0,0],\n",
        "                          [0,0,0,0,0,1,0,0,0,1,0],\n",
        "                         [0,0,0,0,0,0,1,0,1,1,0],\n",
        "                         [-4,-3,-6,-5,-2,-6,-4,-8,-8,-6,-12],\n",
        "                          [0,0,0,0,0,1,1,0,0,0,1]])\n",
        "constr_rhs_b1 = np.array([-4,8,1,1,1,0,-1,2,1,2,-26,1])"
      ],
      "metadata": {
        "id": "3a5fvt3sDygM"
      },
      "execution_count": 29,
      "outputs": []
    },
    {
      "cell_type": "code",
      "source": [
        "model_2.constraints = ConstraintList()"
      ],
      "metadata": {
        "id": "aOoH8R-3EbRb"
      },
      "execution_count": 30,
      "outputs": []
    },
    {
      "cell_type": "code",
      "source": [
        "for i in row_indices_1:\n",
        "  model_2.constraints.add(sum(constr_coef_B[i][j]*model_2.z[j] for j in col_indices_1) <= constr_rhs_b1[i])"
      ],
      "metadata": {
        "id": "CYanBlFXEngG"
      },
      "execution_count": 31,
      "outputs": []
    },
    {
      "cell_type": "code",
      "source": [
        "model_2.objective = Objective(expr =summation(obj_coef_d,model_2.z), sense=maximize)\n",
        "model_2.pprint() "
      ],
      "metadata": {
        "colab": {
          "base_uri": "https://localhost:8080/"
        },
        "id": "8X3SvfBfF4XN",
        "outputId": "ba1d7f45-947b-4a7d-be46-bf5f4026cce1"
      },
      "execution_count": 32,
      "outputs": [
        {
          "output_type": "stream",
          "name": "stdout",
          "text": [
            "2 Set Declarations\n",
            "    constraints_index : Size=1, Index=None, Ordered=Insertion\n",
            "        Key  : Dimen : Domain : Size : Members\n",
            "        None :     1 :    Any :   12 : {1, 2, 3, 4, 5, 6, 7, 8, 9, 10, 11, 12}\n",
            "    z_index : Size=1, Index=None, Ordered=False\n",
            "        Key  : Dimen : Domain : Size : Members\n",
            "        None :     1 :    Any :   11 : {0, 1, 2, 3, 4, 5, 6, 7, 8, 9, 10}\n",
            "\n",
            "1 Var Declarations\n",
            "    z : Size=11, Index=z_index\n",
            "        Key : Lower : Value : Upper : Fixed : Stale : Domain\n",
            "          0 :     0 :  None :     1 : False :  True : Binary\n",
            "          1 :     0 :  None :     1 : False :  True : Binary\n",
            "          2 :     0 :  None :     1 : False :  True : Binary\n",
            "          3 :     0 :  None :     1 : False :  True : Binary\n",
            "          4 :     0 :  None :     1 : False :  True : Binary\n",
            "          5 :     0 :  None :     1 : False :  True : Binary\n",
            "          6 :     0 :  None :     1 : False :  True : Binary\n",
            "          7 :     0 :  None :     1 : False :  True : Binary\n",
            "          8 :     0 :  None :     1 : False :  True : Binary\n",
            "          9 :     0 :  None :     1 : False :  True : Binary\n",
            "         10 :     0 :  None :     1 : False :  True : Binary\n",
            "\n",
            "1 Objective Declarations\n",
            "    objective : Size=1, Index=None, Active=True\n",
            "        Key  : Active : Sense    : Expression\n",
            "        None :   True : maximize : 4*z[0] + 3*z[1] + 6*z[2] + 5*z[3] + 2*z[4] + 6*z[5] + 4*z[6] + 8*z[7] + 8*z[8] + 6*z[9] + 12*z[10]\n",
            "\n",
            "1 Constraint Declarations\n",
            "    constraints : Size=12, Index=constraints_index, Active=True\n",
            "        Key : Lower : Body                                                                                                : Upper : Active\n",
            "          1 :  -Inf :                       - z[0] - z[1] - z[2] - z[3] - z[4] - z[5] - z[6] - z[7] - z[8] - z[9] - z[10] :  -4.0 :   True\n",
            "          2 :  -Inf :                         z[0] + z[1] + z[2] + z[3] + z[4] + z[5] + z[6] + z[7] + z[8] + z[9] + z[10] :   8.0 :   True\n",
            "          3 :  -Inf :                                                                                         z[2] + z[7] :   1.0 :   True\n",
            "          4 :  -Inf :                                                                                         z[1] + z[9] :   1.0 :   True\n",
            "          5 :  -Inf :                                                                                         z[2] + z[8] :   1.0 :   True\n",
            "          6 :  -Inf :                                                                                       - z[4] + z[9] :   0.0 :   True\n",
            "          7 :  -Inf :                                                                         - z[0] - z[1] - z[2] - z[3] :  -1.0 :   True\n",
            "          8 :  -Inf :                                                                           z[0] + z[1] + z[2] + z[3] :   2.0 :   True\n",
            "          9 :  -Inf :                                                                                         z[5] + z[9] :   1.0 :   True\n",
            "         10 :  -Inf :                                                                                  z[6] + z[8] + z[9] :   2.0 :   True\n",
            "         11 :  -Inf : -4*z[0] - 3*z[1] - 6*z[2] - 5*z[3] - 2*z[4] - 6*z[5] - 4*z[6] - 8*z[7] - 8*z[8] - 6*z[9] - 12*z[10] : -26.0 :   True\n",
            "         12 :  -Inf :                                                                                 z[5] + z[6] + z[10] :   1.0 :   True\n",
            "\n",
            "5 Declarations: z_index z constraints_index constraints objective\n"
          ]
        }
      ]
    },
    {
      "cell_type": "code",
      "source": [
        "!apt-get install -y -qq coinor-cbc"
      ],
      "metadata": {
        "id": "GuY7ksFPF_ny"
      },
      "execution_count": 33,
      "outputs": []
    },
    {
      "cell_type": "code",
      "source": [
        "opt_cbc = SolverFactory('cbc')"
      ],
      "metadata": {
        "id": "ympJNtYGGI-A"
      },
      "execution_count": 34,
      "outputs": []
    },
    {
      "cell_type": "code",
      "source": [
        "result = opt_cbc.solve(model_2)\n",
        "print(result)\n",
        "\n",
        "print('Solver status:', result.solver.status)\n",
        "print('Solver termination condition:',result.solver.termination_condition)\n",
        "print('Solver time:',result.solver.time)\n"
      ],
      "metadata": {
        "colab": {
          "base_uri": "https://localhost:8080/"
        },
        "id": "yFhsbXAYGMvH",
        "outputId": "14923d8d-c019-4e13-fc64-0275d92c4396"
      },
      "execution_count": 35,
      "outputs": [
        {
          "output_type": "stream",
          "name": "stdout",
          "text": [
            "\n",
            "Problem: \n",
            "- Name: unknown\n",
            "  Lower bound: 45.0\n",
            "  Upper bound: 45.0\n",
            "  Number of objectives: 1\n",
            "  Number of constraints: 12\n",
            "  Number of variables: 11\n",
            "  Number of binary variables: 11\n",
            "  Number of integer variables: 11\n",
            "  Number of nonzeros: 11\n",
            "  Sense: maximize\n",
            "Solver: \n",
            "- Status: ok\n",
            "  User time: -1.0\n",
            "  System time: 0.0\n",
            "  Wallclock time: 0.0\n",
            "  Termination condition: optimal\n",
            "  Termination message: Model was solved to optimality (subject to tolerances), and an optimal solution is available.\n",
            "  Statistics: \n",
            "    Branch and bound: \n",
            "      Number of bounded subproblems: 0\n",
            "      Number of created subproblems: 0\n",
            "    Black box: \n",
            "      Number of iterations: 0\n",
            "  Error rc: 0\n",
            "  Time: 0.021800994873046875\n",
            "Solution: \n",
            "- number of solutions: 0\n",
            "  number of solutions displayed: 0\n",
            "\n",
            "Solver status: ok\n",
            "Solver termination condition: optimal\n",
            "Solver time: 0.021800994873046875\n"
          ]
        }
      ]
    },
    {
      "cell_type": "code",
      "source": [
        "# display solution\n",
        "print('\\nObjective = ', model_2.objective())\n",
        "\n",
        "print('\\nDecision Variables')\n",
        "for i in col_indices_1:\n",
        "  print('z[',i,'] = ', model_2.z[i].value)\n",
        "print('\\nConstraints')\n",
        "model_2.constraints.display()"
      ],
      "metadata": {
        "colab": {
          "base_uri": "https://localhost:8080/"
        },
        "id": "yGJ5v9InGSLV",
        "outputId": "f8d24139-d395-4c3c-8d3a-e04fe2316f49"
      },
      "execution_count": 47,
      "outputs": [
        {
          "output_type": "stream",
          "name": "stdout",
          "text": [
            "\n",
            "Objective =  45.0\n",
            "\n",
            "Decision Variables\n",
            "z[ 0 ] =  1.0\n",
            "z[ 1 ] =  0.0\n",
            "z[ 2 ] =  0.0\n",
            "z[ 3 ] =  1.0\n",
            "z[ 4 ] =  1.0\n",
            "z[ 5 ] =  0.0\n",
            "z[ 6 ] =  0.0\n",
            "z[ 7 ] =  1.0\n",
            "z[ 8 ] =  1.0\n",
            "z[ 9 ] =  1.0\n",
            "z[ 10 ] =  1.0\n",
            "\n",
            "Constraints\n",
            "constraints : Size=12\n",
            "    Key : Lower : Body  : Upper\n",
            "      1 :  None :  -7.0 :  -4.0\n",
            "      2 :  None :   7.0 :   8.0\n",
            "      3 :  None :   1.0 :   1.0\n",
            "      4 :  None :   1.0 :   1.0\n",
            "      5 :  None :   1.0 :   1.0\n",
            "      6 :  None :   0.0 :   0.0\n",
            "      7 :  None :  -2.0 :  -1.0\n",
            "      8 :  None :   2.0 :   2.0\n",
            "      9 :  None :   1.0 :   1.0\n",
            "     10 :  None :   2.0 :   2.0\n",
            "     11 :  None : -45.0 : -26.0\n",
            "     12 :  None :   1.0 :   1.0\n"
          ]
        }
      ]
    },
    {
      "cell_type": "markdown",
      "source": [
        "Answer7 :   optimal solution is as follows:\n",
        "Objective =  45.0\n",
        "\n",
        "Decision Variables\n",
        "z[ 0 ] =  1.0,\n",
        "z[ 1 ] =  0.0,\n",
        "z[ 2 ] =  0.0,\n",
        "z[ 3 ] =  1.0,\n",
        "z[ 4 ] =  1.0,\n",
        "z[ 5 ] =  0.0,\n",
        "z[ 6 ] =  0.0,\n",
        "z[ 7 ] =  1.0,\n",
        "z[ 8 ] =  1.0,\n",
        "z[ 9 ] =  1.0,\n",
        "z[ 10 ] =  1.0"
      ],
      "metadata": {
        "id": "dPi3kN3cK5kO"
      }
    },
    {
      "cell_type": "code",
      "source": [
        "model_3 = ConcreteModel()"
      ],
      "metadata": {
        "id": "-4BGtoWGIfo0"
      },
      "execution_count": 37,
      "outputs": []
    },
    {
      "cell_type": "code",
      "source": [
        "lb = np.array([0,0,0,0,0,0,0,0,0,0,0])\n",
        "ub = np.array([1,1,1,1,1,1,1,1,1,1,1])"
      ],
      "metadata": {
        "id": "WVKLx6soI3HK"
      },
      "execution_count": 38,
      "outputs": []
    },
    {
      "cell_type": "code",
      "source": [
        "model_3.u= Var(col_indices_1,domain=Reals)"
      ],
      "metadata": {
        "id": "8r6LzVW8I9oE"
      },
      "execution_count": 39,
      "outputs": []
    },
    {
      "cell_type": "code",
      "source": [
        "for i in col_indices_1:\n",
        "  model_3.u[i].setlb(lb[i])\n",
        "  model_3.u[i].setub(ub[i])"
      ],
      "metadata": {
        "id": "xHY1FtZBJJMm"
      },
      "execution_count": 40,
      "outputs": []
    },
    {
      "cell_type": "code",
      "source": [
        "model_3.constraints = ConstraintList()"
      ],
      "metadata": {
        "id": "UH7YLImFJVno"
      },
      "execution_count": 41,
      "outputs": []
    },
    {
      "cell_type": "code",
      "source": [
        "for i in row_indices_1:\n",
        "  model_3.constraints.add(sum(constr_coef_B[i][j]*model_3.u[j] for j in col_indices_1) <= constr_rhs_b1[i])"
      ],
      "metadata": {
        "id": "WqxoGd5BJiQR"
      },
      "execution_count": 42,
      "outputs": []
    },
    {
      "cell_type": "code",
      "source": [
        "model_3.objective = Objective(expr =summation(obj_coef_d,model_3.u), sense=maximize)\n",
        "model_3.pprint() "
      ],
      "metadata": {
        "colab": {
          "base_uri": "https://localhost:8080/"
        },
        "id": "swvGSyW9JyVZ",
        "outputId": "6bab9f39-014b-4623-fac6-2eedd4ae7d9e"
      },
      "execution_count": 43,
      "outputs": [
        {
          "output_type": "stream",
          "name": "stdout",
          "text": [
            "2 Set Declarations\n",
            "    constraints_index : Size=1, Index=None, Ordered=Insertion\n",
            "        Key  : Dimen : Domain : Size : Members\n",
            "        None :     1 :    Any :   12 : {1, 2, 3, 4, 5, 6, 7, 8, 9, 10, 11, 12}\n",
            "    u_index : Size=1, Index=None, Ordered=False\n",
            "        Key  : Dimen : Domain : Size : Members\n",
            "        None :     1 :    Any :   11 : {0, 1, 2, 3, 4, 5, 6, 7, 8, 9, 10}\n",
            "\n",
            "1 Var Declarations\n",
            "    u : Size=11, Index=u_index\n",
            "        Key : Lower : Value : Upper : Fixed : Stale : Domain\n",
            "          0 :     0 :  None :     1 : False :  True :  Reals\n",
            "          1 :     0 :  None :     1 : False :  True :  Reals\n",
            "          2 :     0 :  None :     1 : False :  True :  Reals\n",
            "          3 :     0 :  None :     1 : False :  True :  Reals\n",
            "          4 :     0 :  None :     1 : False :  True :  Reals\n",
            "          5 :     0 :  None :     1 : False :  True :  Reals\n",
            "          6 :     0 :  None :     1 : False :  True :  Reals\n",
            "          7 :     0 :  None :     1 : False :  True :  Reals\n",
            "          8 :     0 :  None :     1 : False :  True :  Reals\n",
            "          9 :     0 :  None :     1 : False :  True :  Reals\n",
            "         10 :     0 :  None :     1 : False :  True :  Reals\n",
            "\n",
            "1 Objective Declarations\n",
            "    objective : Size=1, Index=None, Active=True\n",
            "        Key  : Active : Sense    : Expression\n",
            "        None :   True : maximize : 4*u[0] + 3*u[1] + 6*u[2] + 5*u[3] + 2*u[4] + 6*u[5] + 4*u[6] + 8*u[7] + 8*u[8] + 6*u[9] + 12*u[10]\n",
            "\n",
            "1 Constraint Declarations\n",
            "    constraints : Size=12, Index=constraints_index, Active=True\n",
            "        Key : Lower : Body                                                                                                : Upper : Active\n",
            "          1 :  -Inf :                       - u[0] - u[1] - u[2] - u[3] - u[4] - u[5] - u[6] - u[7] - u[8] - u[9] - u[10] :  -4.0 :   True\n",
            "          2 :  -Inf :                         u[0] + u[1] + u[2] + u[3] + u[4] + u[5] + u[6] + u[7] + u[8] + u[9] + u[10] :   8.0 :   True\n",
            "          3 :  -Inf :                                                                                         u[2] + u[7] :   1.0 :   True\n",
            "          4 :  -Inf :                                                                                         u[1] + u[9] :   1.0 :   True\n",
            "          5 :  -Inf :                                                                                         u[2] + u[8] :   1.0 :   True\n",
            "          6 :  -Inf :                                                                                       - u[4] + u[9] :   0.0 :   True\n",
            "          7 :  -Inf :                                                                         - u[0] - u[1] - u[2] - u[3] :  -1.0 :   True\n",
            "          8 :  -Inf :                                                                           u[0] + u[1] + u[2] + u[3] :   2.0 :   True\n",
            "          9 :  -Inf :                                                                                         u[5] + u[9] :   1.0 :   True\n",
            "         10 :  -Inf :                                                                                  u[6] + u[8] + u[9] :   2.0 :   True\n",
            "         11 :  -Inf : -4*u[0] - 3*u[1] - 6*u[2] - 5*u[3] - 2*u[4] - 6*u[5] - 4*u[6] - 8*u[7] - 8*u[8] - 6*u[9] - 12*u[10] : -26.0 :   True\n",
            "         12 :  -Inf :                                                                                 u[5] + u[6] + u[10] :   1.0 :   True\n",
            "\n",
            "5 Declarations: u_index u constraints_index constraints objective\n"
          ]
        }
      ]
    },
    {
      "cell_type": "code",
      "source": [
        "!apt-get install -y -qq coinor-cbc"
      ],
      "metadata": {
        "id": "-10ILg8sJ_LZ"
      },
      "execution_count": 44,
      "outputs": []
    },
    {
      "cell_type": "code",
      "source": [
        "opt_cbc = SolverFactory('cbc')"
      ],
      "metadata": {
        "id": "YM0UfiXPKOVr"
      },
      "execution_count": 45,
      "outputs": []
    },
    {
      "cell_type": "code",
      "source": [
        "result = opt_cbc.solve(model_3)\n",
        "print(result)\n",
        "\n",
        "print('Solver status:', result.solver.status)\n",
        "print('Solver termination condition:',result.solver.termination_condition)\n",
        "print('Solver time:',result.solver.time)\n"
      ],
      "metadata": {
        "colab": {
          "base_uri": "https://localhost:8080/"
        },
        "id": "wWO_9EPGKRk2",
        "outputId": "bfc75c27-62e8-4366-bd7f-f7064d26dea2"
      },
      "execution_count": 46,
      "outputs": [
        {
          "output_type": "stream",
          "name": "stdout",
          "text": [
            "\n",
            "Problem: \n",
            "- Name: unknown\n",
            "  Lower bound: 45.0\n",
            "  Upper bound: 45.0\n",
            "  Number of objectives: 1\n",
            "  Number of constraints: 13\n",
            "  Number of variables: 12\n",
            "  Number of nonzeros: 11\n",
            "  Sense: maximize\n",
            "Solver: \n",
            "- Status: ok\n",
            "  User time: -1.0\n",
            "  System time: 0.0\n",
            "  Wallclock time: 0.01\n",
            "  Termination condition: optimal\n",
            "  Termination message: Model was solved to optimality (subject to tolerances), and an optimal solution is available.\n",
            "  Statistics: \n",
            "    Branch and bound: \n",
            "      Number of bounded subproblems: None\n",
            "      Number of created subproblems: None\n",
            "    Black box: \n",
            "      Number of iterations: 6\n",
            "  Error rc: 0\n",
            "  Time: 0.07696843147277832\n",
            "Solution: \n",
            "- number of solutions: 0\n",
            "  number of solutions displayed: 0\n",
            "\n",
            "Solver status: ok\n",
            "Solver termination condition: optimal\n",
            "Solver time: 0.07696843147277832\n"
          ]
        }
      ]
    },
    {
      "cell_type": "code",
      "source": [
        "# display solution\n",
        "print('\\nObjective = ', model_3.objective())\n",
        "\n",
        "print('\\nDecision Variables')\n",
        "for i in col_indices_1:\n",
        "  print('u[',i,'] = ', model_3.u[i].value)\n",
        "print('\\nConstraints')\n",
        "model_2.constraints.display()"
      ],
      "metadata": {
        "colab": {
          "base_uri": "https://localhost:8080/"
        },
        "id": "fjivFjotKbjb",
        "outputId": "e0a19e84-8546-40df-fb5b-a97011152a38"
      },
      "execution_count": 48,
      "outputs": [
        {
          "output_type": "stream",
          "name": "stdout",
          "text": [
            "\n",
            "Objective =  45.0\n",
            "\n",
            "Decision Variables\n",
            "u[ 0 ] =  1.0\n",
            "u[ 1 ] =  0.0\n",
            "u[ 2 ] =  0.0\n",
            "u[ 3 ] =  1.0\n",
            "u[ 4 ] =  1.0\n",
            "u[ 5 ] =  0.0\n",
            "u[ 6 ] =  0.0\n",
            "u[ 7 ] =  1.0\n",
            "u[ 8 ] =  1.0\n",
            "u[ 9 ] =  1.0\n",
            "u[ 10 ] =  1.0\n",
            "\n",
            "Constraints\n",
            "constraints : Size=12\n",
            "    Key : Lower : Body  : Upper\n",
            "      1 :  None :  -7.0 :  -4.0\n",
            "      2 :  None :   7.0 :   8.0\n",
            "      3 :  None :   1.0 :   1.0\n",
            "      4 :  None :   1.0 :   1.0\n",
            "      5 :  None :   1.0 :   1.0\n",
            "      6 :  None :   0.0 :   0.0\n",
            "      7 :  None :  -2.0 :  -1.0\n",
            "      8 :  None :   2.0 :   2.0\n",
            "      9 :  None :   1.0 :   1.0\n",
            "     10 :  None :   2.0 :   2.0\n",
            "     11 :  None : -45.0 : -26.0\n",
            "     12 :  None :   1.0 :   1.0\n"
          ]
        }
      ]
    },
    {
      "cell_type": "markdown",
      "source": [
        "If we remove the restriction of integer on variables then again we get the same optimal value.it is because that when variables are real then it is bounded by 0 and 1 so maximum value is 1.And if is binary then also maximum value is binary then also maximum value is 1 and we are maximizing the problem in both the cases so we are getting the same answer."
      ],
      "metadata": {
        "id": "GKtnRqqMLk49"
      }
    },
    {
      "cell_type": "code",
      "source": [
        ""
      ],
      "metadata": {
        "id": "iHKBB48GLiwD"
      },
      "execution_count": null,
      "outputs": []
    }
  ]
}