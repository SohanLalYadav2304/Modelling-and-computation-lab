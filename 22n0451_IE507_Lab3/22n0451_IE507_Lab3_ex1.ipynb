{
  "nbformat": 4,
  "nbformat_minor": 0,
  "metadata": {
    "colab": {
      "name": "22n0451_IE507_Lab3_ex1.ipynb",
      "provenance": [],
      "collapsed_sections": []
    },
    "kernelspec": {
      "name": "python3",
      "display_name": "Python 3"
    },
    "language_info": {
      "name": "python"
    }
  },
  "cells": [
    {
      "cell_type": "code",
      "execution_count": null,
      "metadata": {
        "id": "0LOyGXaC8sww"
      },
      "outputs": [],
      "source": [
        "!pip install -q pyomo"
      ]
    },
    {
      "cell_type": "code",
      "source": [
        "from pyomo.environ import*"
      ],
      "metadata": {
        "id": "ns2m0I3nIIXO"
      },
      "execution_count": null,
      "outputs": []
    },
    {
      "cell_type": "code",
      "source": [
        "import numpy as np"
      ],
      "metadata": {
        "id": "DLOXt-ZAIQLY"
      },
      "execution_count": null,
      "outputs": []
    },
    {
      "cell_type": "markdown",
      "source": [
        "Exe 1 :\n",
        "\n",
        "$ min \\ 2x_1 − 2x_2 + 2x_3 \\\\ \\text{s.t.}  x_1 ≥ 2, x_2 ≥ 1, x_3 ≥ 1;\\\\ 2x1 − x2 + 2x3 ≤ 6, \\\\\n",
        "x1 − 4x2 + 2x3 ≤ −15, \\\\\n",
        "−2x1 + 2x2 + x3 ≤ −8 \\\\\n",
        " $"
      ],
      "metadata": {
        "id": "o3I_y9aXIWua"
      }
    },
    {
      "cell_type": "code",
      "source": [
        "model = ConcreteModel()"
      ],
      "metadata": {
        "id": "-0i5zyoSIV7E"
      },
      "execution_count": null,
      "outputs": []
    },
    {
      "cell_type": "code",
      "source": [
        "N = 3\n",
        "M = 3\n",
        "lb = np.array([2,1,1])\n",
        "ub = np.array([np.inf,np.inf,np.inf])\n",
        "obj_coef_c = np.array([2,-2,2])\n",
        "constr_coef_A = np.array([[2,-1,2],\n",
        "                        [1,-4,2],\n",
        "                        [-2,2,1]])\n",
        "constr_rhs_b = np.array([6,-15,-8])\n",
        "row_indices=np.arange(M)\n",
        "col_indices=np.arange(N)\n",
        "print(row_indices)\n",
        "print(col_indices)"
      ],
      "metadata": {
        "colab": {
          "base_uri": "https://localhost:8080/"
        },
        "id": "VjkfngRBITSR",
        "outputId": "5ac0b211-fc55-484d-e2f3-ee5d88b17887"
      },
      "execution_count": null,
      "outputs": [
        {
          "output_type": "stream",
          "name": "stdout",
          "text": [
            "[0 1 2]\n",
            "[0 1 2]\n"
          ]
        }
      ]
    },
    {
      "cell_type": "code",
      "source": [
        "model.x = Var(col_indices)"
      ],
      "metadata": {
        "id": "p_yoKE_jLhkZ"
      },
      "execution_count": null,
      "outputs": []
    },
    {
      "cell_type": "code",
      "source": [
        "model.constraints = ConstraintList()"
      ],
      "metadata": {
        "id": "idF1bFgQLtXg"
      },
      "execution_count": null,
      "outputs": []
    },
    {
      "cell_type": "code",
      "source": [
        "for i in col_indices:\n",
        "  model.x[i].setlb(lb[i])\n",
        "  model.x[i].setub(ub[i])"
      ],
      "metadata": {
        "id": "6iMsG0gtL-PN"
      },
      "execution_count": null,
      "outputs": []
    },
    {
      "cell_type": "code",
      "source": [
        "for i in row_indices:\n",
        "    model.constraints.add(sum(constr_coef_A[i][j]*model.x[j] for j in col_indices) <= constr_rhs_b[i])"
      ],
      "metadata": {
        "id": "K7CkfpBGMlyT"
      },
      "execution_count": null,
      "outputs": []
    },
    {
      "cell_type": "code",
      "source": [
        "model.objective = Objective(expr= summation(obj_coef_c,model.x), sense=minimize)"
      ],
      "metadata": {
        "id": "nPWtK1GoO6Z5"
      },
      "execution_count": null,
      "outputs": []
    },
    {
      "cell_type": "code",
      "source": [
        "model.pprint()"
      ],
      "metadata": {
        "colab": {
          "base_uri": "https://localhost:8080/"
        },
        "id": "g3FcxLQSQYD-",
        "outputId": "c434efb8-5ac7-475a-bbe9-badad75e01ee"
      },
      "execution_count": null,
      "outputs": [
        {
          "output_type": "stream",
          "name": "stdout",
          "text": [
            "2 Set Declarations\n",
            "    constraints_index : Size=1, Index=None, Ordered=Insertion\n",
            "        Key  : Dimen : Domain : Size : Members\n",
            "        None :     1 :    Any :    3 : {1, 2, 3}\n",
            "    x_index : Size=1, Index=None, Ordered=False\n",
            "        Key  : Dimen : Domain : Size : Members\n",
            "        None :     1 :    Any :    3 : {0, 1, 2}\n",
            "\n",
            "1 Var Declarations\n",
            "    x : Size=3, Index=x_index\n",
            "        Key : Lower : Value : Upper : Fixed : Stale : Domain\n",
            "          0 :     2 :  None :  None : False :  True :  Reals\n",
            "          1 :     1 :  None :  None : False :  True :  Reals\n",
            "          2 :     1 :  None :  None : False :  True :  Reals\n",
            "\n",
            "1 Objective Declarations\n",
            "    objective : Size=1, Index=None, Active=True\n",
            "        Key  : Active : Sense    : Expression\n",
            "        None :   True : minimize : 2*x[0] - 2*x[1] + 2*x[2]\n",
            "\n",
            "1 Constraint Declarations\n",
            "    constraints : Size=3, Index=constraints_index, Active=True\n",
            "        Key : Lower : Body                    : Upper : Active\n",
            "          1 :  -Inf :  2*x[0] - x[1] + 2*x[2] :   6.0 :   True\n",
            "          2 :  -Inf :  x[0] - 4*x[1] + 2*x[2] : -15.0 :   True\n",
            "          3 :  -Inf : -2*x[0] + 2*x[1] + x[2] :  -8.0 :   True\n",
            "\n",
            "5 Declarations: x_index x constraints_index constraints objective\n"
          ]
        }
      ]
    },
    {
      "cell_type": "code",
      "source": [
        "!apt-get install -y -qq glpk-utils"
      ],
      "metadata": {
        "colab": {
          "base_uri": "https://localhost:8080/"
        },
        "id": "xP9HyygxRbr9",
        "outputId": "c6cab572-5ac2-4b98-9955-ec7d44a87498"
      },
      "execution_count": null,
      "outputs": [
        {
          "output_type": "stream",
          "name": "stdout",
          "text": [
            "Selecting previously unselected package libsuitesparseconfig5:amd64.\n",
            "(Reading database ... 155676 files and directories currently installed.)\n",
            "Preparing to unpack .../libsuitesparseconfig5_1%3a5.1.2-2_amd64.deb ...\n",
            "Unpacking libsuitesparseconfig5:amd64 (1:5.1.2-2) ...\n",
            "Selecting previously unselected package libamd2:amd64.\n",
            "Preparing to unpack .../libamd2_1%3a5.1.2-2_amd64.deb ...\n",
            "Unpacking libamd2:amd64 (1:5.1.2-2) ...\n",
            "Selecting previously unselected package libcolamd2:amd64.\n",
            "Preparing to unpack .../libcolamd2_1%3a5.1.2-2_amd64.deb ...\n",
            "Unpacking libcolamd2:amd64 (1:5.1.2-2) ...\n",
            "Selecting previously unselected package libglpk40:amd64.\n",
            "Preparing to unpack .../libglpk40_4.65-1_amd64.deb ...\n",
            "Unpacking libglpk40:amd64 (4.65-1) ...\n",
            "Selecting previously unselected package glpk-utils.\n",
            "Preparing to unpack .../glpk-utils_4.65-1_amd64.deb ...\n",
            "Unpacking glpk-utils (4.65-1) ...\n",
            "Setting up libsuitesparseconfig5:amd64 (1:5.1.2-2) ...\n",
            "Setting up libcolamd2:amd64 (1:5.1.2-2) ...\n",
            "Setting up libamd2:amd64 (1:5.1.2-2) ...\n",
            "Setting up libglpk40:amd64 (4.65-1) ...\n",
            "Setting up glpk-utils (4.65-1) ...\n",
            "Processing triggers for libc-bin (2.27-3ubuntu1.5) ...\n",
            "Processing triggers for man-db (2.8.3-2ubuntu0.1) ...\n"
          ]
        }
      ]
    },
    {
      "cell_type": "code",
      "source": [
        "opt = SolverFactory('glpk', executable='/usr/bin/glpsol')\n",
        "result = opt.solve(model)\n",
        "print(result)\n",
        "\n",
        "print('Solver status:', result.solver.status)\n",
        "print('Solver termination condition:',result.solver.termination_condition)"
      ],
      "metadata": {
        "colab": {
          "base_uri": "https://localhost:8080/"
        },
        "id": "a1EOU-vmRqcT",
        "outputId": "100ac7b8-ef74-4898-f8e1-4ca7e0ee8b87"
      },
      "execution_count": null,
      "outputs": [
        {
          "output_type": "stream",
          "name": "stdout",
          "text": [
            "\n",
            "Problem: \n",
            "- Name: unknown\n",
            "  Lower bound: -inf\n",
            "  Upper bound: inf\n",
            "  Number of objectives: 1\n",
            "  Number of constraints: 4\n",
            "  Number of variables: 4\n",
            "  Number of nonzeros: 10\n",
            "  Sense: minimize\n",
            "Solver: \n",
            "- Status: ok\n",
            "  Termination condition: other\n",
            "  Statistics: \n",
            "    Branch and bound: \n",
            "      Number of bounded subproblems: 0\n",
            "      Number of created subproblems: 0\n",
            "  Error rc: 0\n",
            "  Time: 0.020888328552246094\n",
            "\n",
            "Solver status: ok\n",
            "Solver termination condition: other\n"
          ]
        }
      ]
    },
    {
      "cell_type": "markdown",
      "source": [
        "We get the above solution by using \"glpk\" solver. Now we use \"cbc\" solver \n",
        "to solve the problem.it is as follows:"
      ],
      "metadata": {
        "id": "12jSomaWg2-k"
      }
    },
    {
      "cell_type": "code",
      "source": [
        "\"!apt-get install -y -qq coinor-cbc"
      ],
      "metadata": {
        "colab": {
          "base_uri": "https://localhost:8080/"
        },
        "id": "lahbLL9kSBG5",
        "outputId": "823824bd-07ab-4cb4-e774-677ac42932cf"
      },
      "execution_count": null,
      "outputs": [
        {
          "output_type": "stream",
          "name": "stdout",
          "text": [
            "Selecting previously unselected package coinor-libcoinutils3v5.\n",
            "(Reading database ... \r(Reading database ... 5%\r(Reading database ... 10%\r(Reading database ... 15%\r(Reading database ... 20%\r(Reading database ... 25%\r(Reading database ... 30%\r(Reading database ... 35%\r(Reading database ... 40%\r(Reading database ... 45%\r(Reading database ... 50%\r(Reading database ... 55%\r(Reading database ... 60%\r(Reading database ... 65%\r(Reading database ... 70%\r(Reading database ... 75%\r(Reading database ... 80%\r(Reading database ... 85%\r(Reading database ... 90%\r(Reading database ... 95%\r(Reading database ... 100%\r(Reading database ... 155879 files and directories currently installed.)\n",
            "Preparing to unpack .../0-coinor-libcoinutils3v5_2.10.14+repack1-1_amd64.deb ...\n",
            "Unpacking coinor-libcoinutils3v5 (2.10.14+repack1-1) ...\n",
            "Selecting previously unselected package coinor-libosi1v5.\n",
            "Preparing to unpack .../1-coinor-libosi1v5_0.107.9+repack1-1_amd64.deb ...\n",
            "Unpacking coinor-libosi1v5 (0.107.9+repack1-1) ...\n",
            "Selecting previously unselected package coinor-libclp1.\n",
            "Preparing to unpack .../2-coinor-libclp1_1.16.11+repack1-1_amd64.deb ...\n",
            "Unpacking coinor-libclp1 (1.16.11+repack1-1) ...\n",
            "Selecting previously unselected package coinor-libcgl1.\n",
            "Preparing to unpack .../3-coinor-libcgl1_0.59.10+repack1-1_amd64.deb ...\n",
            "Unpacking coinor-libcgl1 (0.59.10+repack1-1) ...\n",
            "Selecting previously unselected package coinor-libcbc3.\n",
            "Preparing to unpack .../4-coinor-libcbc3_2.9.9+repack1-1_amd64.deb ...\n",
            "Unpacking coinor-libcbc3 (2.9.9+repack1-1) ...\n",
            "Selecting previously unselected package coinor-cbc.\n",
            "Preparing to unpack .../5-coinor-cbc_2.9.9+repack1-1_amd64.deb ...\n",
            "Unpacking coinor-cbc (2.9.9+repack1-1) ...\n",
            "Setting up coinor-libcoinutils3v5 (2.10.14+repack1-1) ...\n",
            "Setting up coinor-libosi1v5 (0.107.9+repack1-1) ...\n",
            "Setting up coinor-libclp1 (1.16.11+repack1-1) ...\n",
            "Setting up coinor-libcgl1 (0.59.10+repack1-1) ...\n",
            "Setting up coinor-libcbc3 (2.9.9+repack1-1) ...\n",
            "Setting up coinor-cbc (2.9.9+repack1-1) ...\n",
            "Processing triggers for man-db (2.8.3-2ubuntu0.1) ...\n",
            "Processing triggers for libc-bin (2.27-3ubuntu1.5) ...\n"
          ]
        }
      ]
    },
    {
      "cell_type": "code",
      "source": [
        "opt_cbc = SolverFactory('cbc')"
      ],
      "metadata": {
        "id": "e_XJWuP2TSfP"
      },
      "execution_count": null,
      "outputs": []
    },
    {
      "cell_type": "code",
      "source": [
        "result = opt_cbc.solve(model)\n",
        "print(result)\n",
        "\n",
        "print('Solver status:', result.solver.status)\n",
        "print('Solver termination condition:',result.solver.termination_condition)\n",
        "print('Solver time:',result.solver.time)"
      ],
      "metadata": {
        "colab": {
          "base_uri": "https://localhost:8080/"
        },
        "id": "985WCt_0SgAZ",
        "outputId": "cb2a4bc4-526b-4bfb-cdd1-a5a230c2117c"
      },
      "execution_count": null,
      "outputs": [
        {
          "output_type": "stream",
          "name": "stderr",
          "text": [
            "WARNING:pyomo.core:Loading a SolverResults object with a warning status into model.name=\"unknown\";\n",
            "  - termination condition: infeasible\n",
            "  - message from solver: <undefined>\n"
          ]
        },
        {
          "output_type": "stream",
          "name": "stdout",
          "text": [
            "\n",
            "Problem: \n",
            "- Name: unknown\n",
            "  Lower bound: None\n",
            "  Upper bound: inf\n",
            "  Number of objectives: 1\n",
            "  Number of constraints: 4\n",
            "  Number of variables: 4\n",
            "  Number of nonzeros: 3\n",
            "  Sense: minimize\n",
            "Solver: \n",
            "- Status: warning\n",
            "  User time: -1.0\n",
            "  System time: 0.0\n",
            "  Wallclock time: 0.0\n",
            "  Termination condition: infeasible\n",
            "  Termination message: Model was proven to be infeasible.\n",
            "  Statistics: \n",
            "    Branch and bound: \n",
            "      Number of bounded subproblems: 0\n",
            "      Number of created subproblems: 0\n",
            "    Black box: \n",
            "      Number of iterations: 0\n",
            "  Error rc: 0\n",
            "  Time: 0.03812742233276367\n",
            "\n",
            "Solver status: warning\n",
            "Solver termination condition: infeasible\n",
            "Solver time: 0.03812742233276367\n"
          ]
        }
      ]
    },
    {
      "cell_type": "markdown",
      "source": [
        "In above condition,we used \"cbc\" solver to solve the problem and we get the solution infeasible. Here we came to know about the \"Solver termination condition\" is infeasible in \"cbc\" solver but solver \"glpk\" doesn't tell anything about the solver termination condition.Like in this problem \"glpk\" shows \"other\" about solver termination condition.That's the reason \"cbc\" solver is considered better than \"glpk\" in solving problems. \\\n",
        "\n",
        "We can also define it by comparing solver status here.When we use \"glpk\" solver to solve problem it is shown that solver status is \"ok\" but when we use \"cbc\" solver to solve the problem then solver status is  shown \"warning\".Thus we can say that \"cbc\" found the issue but \"glpk\" couldn't.\n",
        "\n"
      ],
      "metadata": {
        "id": "2vCeAESdhUo8"
      }
    },
    {
      "cell_type": "markdown",
      "source": [
        "Answer 2: \n",
        "(a) $ \\\\ $\n",
        "Now we are to change the sense of objective function. Since at first we find the minimization of objective function but we couldn't find solution so now we want to maximize the solution."
      ],
      "metadata": {
        "id": "34EJ07eYUmsN"
      }
    },
    {
      "cell_type": "code",
      "source": [
        "model.objective.set_sense(maximize)"
      ],
      "metadata": {
        "id": "s3VVy8MGSgjm"
      },
      "execution_count": null,
      "outputs": []
    },
    {
      "cell_type": "code",
      "source": [
        "model.pprint()"
      ],
      "metadata": {
        "colab": {
          "base_uri": "https://localhost:8080/"
        },
        "id": "Rea1V5RyVFTA",
        "outputId": "5529d44d-739b-407d-8bf2-b8157e00393d"
      },
      "execution_count": null,
      "outputs": [
        {
          "output_type": "stream",
          "name": "stdout",
          "text": [
            "2 Set Declarations\n",
            "    constraints_index : Size=1, Index=None, Ordered=Insertion\n",
            "        Key  : Dimen : Domain : Size : Members\n",
            "        None :     1 :    Any :    3 : {1, 2, 3}\n",
            "    x_index : Size=1, Index=None, Ordered=False\n",
            "        Key  : Dimen : Domain : Size : Members\n",
            "        None :     1 :    Any :    3 : {0, 1, 2}\n",
            "\n",
            "1 Var Declarations\n",
            "    x : Size=3, Index=x_index\n",
            "        Key : Lower : Value : Upper : Fixed : Stale : Domain\n",
            "          0 :     2 :  None :  None : False :  True :  Reals\n",
            "          1 :     1 :  None :  None : False :  True :  Reals\n",
            "          2 :     1 :  None :  None : False :  True :  Reals\n",
            "\n",
            "1 Objective Declarations\n",
            "    objective : Size=1, Index=None, Active=True\n",
            "        Key  : Active : Sense    : Expression\n",
            "        None :   True : maximize : 2*x[0] - 2*x[1] + 2*x[2]\n",
            "\n",
            "1 Constraint Declarations\n",
            "    constraints : Size=3, Index=constraints_index, Active=True\n",
            "        Key : Lower : Body                    : Upper : Active\n",
            "          1 :  -Inf :  2*x[0] - x[1] + 2*x[2] :   6.0 :   True\n",
            "          2 :  -Inf :  x[0] - 4*x[1] + 2*x[2] : -15.0 :   True\n",
            "          3 :  -Inf : -2*x[0] + 2*x[1] + x[2] :  -8.0 :   True\n",
            "\n",
            "5 Declarations: x_index x constraints_index constraints objective\n"
          ]
        }
      ]
    },
    {
      "cell_type": "code",
      "source": [
        "result = opt_cbc.solve(model)\n",
        "print(result)\n",
        "\n",
        "print('Solver status:', result.solver.status)\n",
        "print('Solver termination condition:',result.solver.termination_condition)\n",
        "print('Solver time:',result.solver.time)"
      ],
      "metadata": {
        "colab": {
          "base_uri": "https://localhost:8080/"
        },
        "id": "Qu8c2Vi8VKEq",
        "outputId": "081abffe-bddd-40d0-e9ab-564879d3a5ae"
      },
      "execution_count": null,
      "outputs": [
        {
          "output_type": "stream",
          "name": "stderr",
          "text": [
            "WARNING:pyomo.core:Loading a SolverResults object with a warning status into model.name=\"unknown\";\n",
            "  - termination condition: infeasible\n",
            "  - message from solver: <undefined>\n"
          ]
        },
        {
          "output_type": "stream",
          "name": "stdout",
          "text": [
            "\n",
            "Problem: \n",
            "- Name: unknown\n",
            "  Lower bound: -inf\n",
            "  Upper bound: None\n",
            "  Number of objectives: 1\n",
            "  Number of constraints: 4\n",
            "  Number of variables: 4\n",
            "  Number of nonzeros: 3\n",
            "  Sense: maximize\n",
            "Solver: \n",
            "- Status: warning\n",
            "  User time: -1.0\n",
            "  System time: 0.0\n",
            "  Wallclock time: 0.0\n",
            "  Termination condition: infeasible\n",
            "  Termination message: Model was proven to be infeasible.\n",
            "  Statistics: \n",
            "    Branch and bound: \n",
            "      Number of bounded subproblems: 0\n",
            "      Number of created subproblems: 0\n",
            "    Black box: \n",
            "      Number of iterations: 0\n",
            "  Error rc: 0\n",
            "  Time: 0.022100448608398438\n",
            "\n",
            "Solver status: warning\n",
            "Solver termination condition: infeasible\n",
            "Solver time: 0.022100448608398438\n"
          ]
        }
      ]
    },
    {
      "cell_type": "markdown",
      "source": [
        "When we change the sense of objective function from minimize to maximize,it is again infeasible solution.We get the solver termination condition is infeasible and solver status is showing warning."
      ],
      "metadata": {
        "id": "CsRRGHZejGAV"
      }
    },
    {
      "cell_type": "markdown",
      "source": [
        "Answer2:(b) \n",
        "\n",
        "Now we are to make the problem with sense minimize again and set the uppper bounds of $ x_1  \\ and \\  x_2 \\  like \\  x_1\\leq 5  \\ \\text{and} \\ x_2 \\leq 10\n",
        "$"
      ],
      "metadata": {
        "id": "MJRe7whmjXf0"
      }
    },
    {
      "cell_type": "code",
      "source": [
        "model.objective.set_sense(minimize)\n",
        "model.x[1].setub(5)\n",
        "model.x[2].setub(10)"
      ],
      "metadata": {
        "id": "zRWw6n_AV2iH"
      },
      "execution_count": null,
      "outputs": []
    },
    {
      "cell_type": "code",
      "source": [
        "model.pprint()"
      ],
      "metadata": {
        "colab": {
          "base_uri": "https://localhost:8080/"
        },
        "id": "ROgKxSMqYH0Q",
        "outputId": "938f079f-0838-4e03-a244-d925060d89aa"
      },
      "execution_count": null,
      "outputs": [
        {
          "output_type": "stream",
          "name": "stdout",
          "text": [
            "2 Set Declarations\n",
            "    constraints_index : Size=1, Index=None, Ordered=Insertion\n",
            "        Key  : Dimen : Domain : Size : Members\n",
            "        None :     1 :    Any :    3 : {1, 2, 3}\n",
            "    x_index : Size=1, Index=None, Ordered=False\n",
            "        Key  : Dimen : Domain : Size : Members\n",
            "        None :     1 :    Any :    3 : {0, 1, 2}\n",
            "\n",
            "1 Var Declarations\n",
            "    x : Size=3, Index=x_index\n",
            "        Key : Lower : Value : Upper : Fixed : Stale : Domain\n",
            "          0 :     2 :  None :  None : False :  True :  Reals\n",
            "          1 :     1 :  None :     5 : False :  True :  Reals\n",
            "          2 :     1 :  None :    10 : False :  True :  Reals\n",
            "\n",
            "1 Objective Declarations\n",
            "    objective : Size=1, Index=None, Active=True\n",
            "        Key  : Active : Sense    : Expression\n",
            "        None :   True : minimize : 2*x[0] - 2*x[1] + 2*x[2]\n",
            "\n",
            "1 Constraint Declarations\n",
            "    constraints : Size=3, Index=constraints_index, Active=True\n",
            "        Key : Lower : Body                    : Upper : Active\n",
            "          1 :  -Inf :  2*x[0] - x[1] + 2*x[2] :   6.0 :   True\n",
            "          2 :  -Inf :  x[0] - 4*x[1] + 2*x[2] : -15.0 :   True\n",
            "          3 :  -Inf : -2*x[0] + 2*x[1] + x[2] :  -8.0 :   True\n",
            "\n",
            "5 Declarations: x_index x constraints_index constraints objective\n"
          ]
        }
      ]
    },
    {
      "cell_type": "code",
      "source": [
        "result = opt_cbc.solve(model)\n",
        "print(result)\n",
        "\n",
        "print('Solver status:', result.solver.status)\n",
        "print('Solver termination condition:',result.solver.termination_condition)\n",
        "print('Solver time:',result.solver.time)"
      ],
      "metadata": {
        "colab": {
          "base_uri": "https://localhost:8080/"
        },
        "id": "HWGAe19pYKXN",
        "outputId": "62f6ace5-ce7a-4852-ffd8-c25087238129"
      },
      "execution_count": null,
      "outputs": [
        {
          "output_type": "stream",
          "name": "stderr",
          "text": [
            "WARNING:pyomo.core:Loading a SolverResults object with a warning status into model.name=\"unknown\";\n",
            "  - termination condition: infeasible\n",
            "  - message from solver: <undefined>\n"
          ]
        },
        {
          "output_type": "stream",
          "name": "stdout",
          "text": [
            "\n",
            "Problem: \n",
            "- Name: unknown\n",
            "  Lower bound: None\n",
            "  Upper bound: inf\n",
            "  Number of objectives: 1\n",
            "  Number of constraints: 4\n",
            "  Number of variables: 4\n",
            "  Number of nonzeros: 3\n",
            "  Sense: minimize\n",
            "Solver: \n",
            "- Status: warning\n",
            "  User time: -1.0\n",
            "  System time: 0.0\n",
            "  Wallclock time: 0.0\n",
            "  Termination condition: infeasible\n",
            "  Termination message: Model was proven to be infeasible.\n",
            "  Statistics: \n",
            "    Branch and bound: \n",
            "      Number of bounded subproblems: 0\n",
            "      Number of created subproblems: 0\n",
            "    Black box: \n",
            "      Number of iterations: 0\n",
            "  Error rc: 0\n",
            "  Time: 0.017529726028442383\n",
            "\n",
            "Solver status: warning\n",
            "Solver termination condition: infeasible\n",
            "Solver time: 0.017529726028442383\n"
          ]
        }
      ]
    },
    {
      "cell_type": "markdown",
      "source": [
        "Hence after changing the bounds of $x_2 \\ and\\  x_1 $ the solution is again infeasible .We get the solver termination condition is infeasible and solver status is again showing warning."
      ],
      "metadata": {
        "id": "_MzBCbgzkJij"
      }
    },
    {
      "cell_type": "markdown",
      "source": [
        "Answer 2 (c) : We are to add a new constraint.To make the problem independet from last part we have to remove the bounds of $ x_1 \\ and \\ x_2 $ . New constrain is as following: \\\n",
        "\n",
        "$-x_2+x_3 \\leq 16\n",
        "$"
      ],
      "metadata": {
        "id": "KilENcP4Y5ML"
      }
    },
    {
      "cell_type": "code",
      "source": [
        "model.objective.set_sense(minimize)\n",
        "model.x[1].setub(np.inf)\n",
        "model.x[2].setub(np.inf)\n",
        "new_constr_coef = [0,-1,1]\n",
        "new_constr_rhs = 16\n",
        "model.constraints.add(sum(new_constr_coef[j]*model.x[j] for j in col_indices) <= new_constr_rhs)\n",
        "model.pprint()"
      ],
      "metadata": {
        "colab": {
          "base_uri": "https://localhost:8080/"
        },
        "id": "y8AyBOR7Y0Zi",
        "outputId": "767d0788-20ec-4f7b-a2d6-32fb093a505e"
      },
      "execution_count": null,
      "outputs": [
        {
          "output_type": "stream",
          "name": "stdout",
          "text": [
            "2 Set Declarations\n",
            "    constraints_index : Size=1, Index=None, Ordered=Insertion\n",
            "        Key  : Dimen : Domain : Size : Members\n",
            "        None :     1 :    Any :    4 : {1, 2, 3, 4}\n",
            "    x_index : Size=1, Index=None, Ordered=False\n",
            "        Key  : Dimen : Domain : Size : Members\n",
            "        None :     1 :    Any :    3 : {0, 1, 2}\n",
            "\n",
            "1 Var Declarations\n",
            "    x : Size=3, Index=x_index\n",
            "        Key : Lower : Value : Upper : Fixed : Stale : Domain\n",
            "          0 :     2 :  None :  None : False :  True :  Reals\n",
            "          1 :     1 :  None :  None : False :  True :  Reals\n",
            "          2 :     1 :  None :  None : False :  True :  Reals\n",
            "\n",
            "1 Objective Declarations\n",
            "    objective : Size=1, Index=None, Active=True\n",
            "        Key  : Active : Sense    : Expression\n",
            "        None :   True : minimize : 2*x[0] - 2*x[1] + 2*x[2]\n",
            "\n",
            "1 Constraint Declarations\n",
            "    constraints : Size=4, Index=constraints_index, Active=True\n",
            "        Key : Lower : Body                    : Upper : Active\n",
            "          1 :  -Inf :  2*x[0] - x[1] + 2*x[2] :   6.0 :   True\n",
            "          2 :  -Inf :  x[0] - 4*x[1] + 2*x[2] : -15.0 :   True\n",
            "          3 :  -Inf : -2*x[0] + 2*x[1] + x[2] :  -8.0 :   True\n",
            "          4 :  -Inf :           - x[1] + x[2] :  16.0 :   True\n",
            "\n",
            "5 Declarations: x_index x constraints_index constraints objective\n"
          ]
        }
      ]
    },
    {
      "cell_type": "code",
      "source": [
        "result = opt_cbc.solve(model)\n",
        "print(result)\n",
        "\n",
        "print('Solver status:', result.solver.status)\n",
        "print('Solver termination condition:',result.solver.termination_condition)\n",
        "print('Solver time:',result.solver.time)"
      ],
      "metadata": {
        "colab": {
          "base_uri": "https://localhost:8080/"
        },
        "id": "uX5uaMpnaXLZ",
        "outputId": "0113207a-20b2-4974-eeb7-86caebe7e9b5"
      },
      "execution_count": null,
      "outputs": [
        {
          "output_type": "stream",
          "name": "stderr",
          "text": [
            "WARNING:pyomo.core:Loading a SolverResults object with a warning status into model.name=\"unknown\";\n",
            "  - termination condition: infeasible\n",
            "  - message from solver: <undefined>\n"
          ]
        },
        {
          "output_type": "stream",
          "name": "stdout",
          "text": [
            "\n",
            "Problem: \n",
            "- Name: unknown\n",
            "  Lower bound: None\n",
            "  Upper bound: 11.0\n",
            "  Number of objectives: 1\n",
            "  Number of constraints: 5\n",
            "  Number of variables: 4\n",
            "  Number of nonzeros: 0\n",
            "  Sense: minimize\n",
            "Solver: \n",
            "- Status: warning\n",
            "  User time: -1.0\n",
            "  System time: 0.0\n",
            "  Wallclock time: 0.0\n",
            "  Termination condition: infeasible\n",
            "  Termination message: Model was proven to be infeasible.\n",
            "  Statistics: \n",
            "    Branch and bound: \n",
            "      Number of bounded subproblems: 0\n",
            "      Number of created subproblems: 0\n",
            "    Black box: \n",
            "      Number of iterations: 0\n",
            "  Error rc: 0\n",
            "  Time: 0.015981435775756836\n",
            "\n",
            "Solver status: warning\n",
            "Solver termination condition: infeasible\n",
            "Solver time: 0.015981435775756836\n"
          ]
        }
      ]
    },
    {
      "cell_type": "markdown",
      "source": [
        "After adding new constraint $-x_2+x_3 \\leq 16$ , we get again infeasible solution. Again we get solver status is as warning and solver termination condtion is infeasible. \n"
      ],
      "metadata": {
        "id": "kmB1TXORk6Tp"
      }
    },
    {
      "cell_type": "markdown",
      "source": [
        "Answer2 :(d) : We are to deactivate the objective function.To do all that first we have to deactivate the constraint what we added in last part of problem."
      ],
      "metadata": {
        "id": "Yi5_9Y4LlbGe"
      }
    },
    {
      "cell_type": "code",
      "source": [
        "model.constraints[4].deactivate()"
      ],
      "metadata": {
        "id": "4_L3dzhIahu2"
      },
      "execution_count": null,
      "outputs": []
    },
    {
      "cell_type": "code",
      "source": [
        "model.pprint()"
      ],
      "metadata": {
        "colab": {
          "base_uri": "https://localhost:8080/"
        },
        "id": "7ujqm6lgcGrB",
        "outputId": "aa66350c-1164-4052-8884-3b2691f4da07"
      },
      "execution_count": null,
      "outputs": [
        {
          "output_type": "stream",
          "name": "stdout",
          "text": [
            "2 Set Declarations\n",
            "    constraints_index : Size=1, Index=None, Ordered=Insertion\n",
            "        Key  : Dimen : Domain : Size : Members\n",
            "        None :     1 :    Any :    4 : {1, 2, 3, 4}\n",
            "    x_index : Size=1, Index=None, Ordered=False\n",
            "        Key  : Dimen : Domain : Size : Members\n",
            "        None :     1 :    Any :    3 : {0, 1, 2}\n",
            "\n",
            "1 Var Declarations\n",
            "    x : Size=3, Index=x_index\n",
            "        Key : Lower : Value : Upper : Fixed : Stale : Domain\n",
            "          0 :     2 :  None :  None : False :  True :  Reals\n",
            "          1 :     1 :  None :  None : False :  True :  Reals\n",
            "          2 :     1 :  None :  None : False :  True :  Reals\n",
            "\n",
            "1 Objective Declarations\n",
            "    objective : Size=1, Index=None, Active=True\n",
            "        Key  : Active : Sense    : Expression\n",
            "        None :   True : minimize : 2*x[0] - 2*x[1] + 2*x[2]\n",
            "\n",
            "1 Constraint Declarations\n",
            "    constraints : Size=4, Index=constraints_index, Active=True\n",
            "        Key : Lower : Body                    : Upper : Active\n",
            "          1 :  -Inf :  2*x[0] - x[1] + 2*x[2] :   6.0 :   True\n",
            "          2 :  -Inf :  x[0] - 4*x[1] + 2*x[2] : -15.0 :   True\n",
            "          3 :  -Inf : -2*x[0] + 2*x[1] + x[2] :  -8.0 :   True\n",
            "          4 :  -Inf :           - x[1] + x[2] :  16.0 :  False\n",
            "\n",
            "5 Declarations: x_index x constraints_index constraints objective\n"
          ]
        }
      ]
    },
    {
      "cell_type": "markdown",
      "source": [
        "Now we are to deactivate the objective min $2x_1-2x_2+2x_3 $ and define a new objective as $x_1+2x_2+3x_3$ and we are to deactivate the constraint $2x_1-x_2+2x_3\\leq 6$ and add a new constraint $ x_2+x_3 \\geq 25  $  so :"
      ],
      "metadata": {
        "id": "Dz7e7x0Al-O0"
      }
    },
    {
      "cell_type": "code",
      "source": [
        "model.objective.deactivate()"
      ],
      "metadata": {
        "id": "4romf6kTcVJR"
      },
      "execution_count": null,
      "outputs": []
    },
    {
      "cell_type": "code",
      "source": [
        "model.constraints[1].deactivate()"
      ],
      "metadata": {
        "id": "9mFiKpnjcmAg"
      },
      "execution_count": null,
      "outputs": []
    },
    {
      "cell_type": "code",
      "source": [
        "obj_coef_d = np.array([1,2,3])\n",
        "model.newobjective = Objective(expr = summation(obj_coef_d,model.x),sense=minimize)\n",
        "new_constr_coefa = [0,1,1]\n",
        "new_constr_rhsa = 25\n",
        "model.constraints.add(sum(new_constr_coefa[j]*model.x[j] for j in col_indices) >= new_constr_rhsa)\n",
        "model.pprint()"
      ],
      "metadata": {
        "colab": {
          "base_uri": "https://localhost:8080/"
        },
        "id": "-nwXxUdlcrel",
        "outputId": "ca0123df-fa78-4d3e-8309-012b77a3d506"
      },
      "execution_count": null,
      "outputs": [
        {
          "output_type": "stream",
          "name": "stdout",
          "text": [
            "2 Set Declarations\n",
            "    constraints_index : Size=1, Index=None, Ordered=Insertion\n",
            "        Key  : Dimen : Domain : Size : Members\n",
            "        None :     1 :    Any :    5 : {1, 2, 3, 4, 5}\n",
            "    x_index : Size=1, Index=None, Ordered=False\n",
            "        Key  : Dimen : Domain : Size : Members\n",
            "        None :     1 :    Any :    3 : {0, 1, 2}\n",
            "\n",
            "1 Var Declarations\n",
            "    x : Size=3, Index=x_index\n",
            "        Key : Lower : Value : Upper : Fixed : Stale : Domain\n",
            "          0 :     2 :  None :  None : False :  True :  Reals\n",
            "          1 :     1 :  None :  None : False :  True :  Reals\n",
            "          2 :     1 :  None :  None : False :  True :  Reals\n",
            "\n",
            "2 Objective Declarations\n",
            "    newobjective : Size=1, Index=None, Active=True\n",
            "        Key  : Active : Sense    : Expression\n",
            "        None :   True : minimize : x[0] + 2*x[1] + 3*x[2]\n",
            "    objective : Size=1, Index=None, Active=False\n",
            "        Key  : Active : Sense    : Expression\n",
            "        None :  False : minimize : 2*x[0] - 2*x[1] + 2*x[2]\n",
            "\n",
            "1 Constraint Declarations\n",
            "    constraints : Size=5, Index=constraints_index, Active=True\n",
            "        Key : Lower : Body                    : Upper : Active\n",
            "          1 :  -Inf :  2*x[0] - x[1] + 2*x[2] :   6.0 :  False\n",
            "          2 :  -Inf :  x[0] - 4*x[1] + 2*x[2] : -15.0 :   True\n",
            "          3 :  -Inf : -2*x[0] + 2*x[1] + x[2] :  -8.0 :   True\n",
            "          4 :  -Inf :           - x[1] + x[2] :  16.0 :  False\n",
            "          5 :  25.0 :             x[1] + x[2] :  +Inf :   True\n",
            "\n",
            "6 Declarations: x_index x constraints_index constraints objective newobjective\n"
          ]
        }
      ]
    },
    {
      "cell_type": "code",
      "source": [
        "result = opt_cbc.solve(model)\n",
        "print(result)\n",
        "\n",
        "print('Solver status:', result.solver.status)\n",
        "print('Solver termination condition:',result.solver.termination_condition)\n",
        "print('Solver time:',result.solver.time)"
      ],
      "metadata": {
        "colab": {
          "base_uri": "https://localhost:8080/"
        },
        "id": "3MD78bNmexFK",
        "outputId": "bd597b6c-1959-4c25-9131-c259ab519054"
      },
      "execution_count": null,
      "outputs": [
        {
          "output_type": "stream",
          "name": "stdout",
          "text": [
            "\n",
            "Problem: \n",
            "- Name: unknown\n",
            "  Lower bound: 79.5\n",
            "  Upper bound: 79.5\n",
            "  Number of objectives: 1\n",
            "  Number of constraints: 4\n",
            "  Number of variables: 4\n",
            "  Number of nonzeros: 3\n",
            "  Sense: minimize\n",
            "Solver: \n",
            "- Status: ok\n",
            "  User time: -1.0\n",
            "  System time: 0.0\n",
            "  Wallclock time: 0.0\n",
            "  Termination condition: optimal\n",
            "  Termination message: Model was solved to optimality (subject to tolerances), and an optimal solution is available.\n",
            "  Statistics: \n",
            "    Branch and bound: \n",
            "      Number of bounded subproblems: None\n",
            "      Number of created subproblems: None\n",
            "    Black box: \n",
            "      Number of iterations: 2\n",
            "  Error rc: 0\n",
            "  Time: 0.02067279815673828\n",
            "Solution: \n",
            "- number of solutions: 0\n",
            "  number of solutions displayed: 0\n",
            "\n",
            "Solver status: ok\n",
            "Solver termination condition: optimal\n",
            "Solver time: 0.02067279815673828\n"
          ]
        }
      ]
    },
    {
      "cell_type": "code",
      "source": [
        "# display solution\n",
        "print('\\nObjective = ', model.newobjective())\n",
        "\n",
        "print('\\nDecision Variables')\n",
        "for i in col_indices:\n",
        "  print('x[',i,'] = ', model.x[i].value)\n",
        "print('\\nConstraints')\n",
        "model.constraints.display()"
      ],
      "metadata": {
        "colab": {
          "base_uri": "https://localhost:8080/"
        },
        "id": "KtdotzXAe17-",
        "outputId": "b9a4d251-0ba7-4591-917b-df3eb1a8483e"
      },
      "execution_count": null,
      "outputs": [
        {
          "output_type": "stream",
          "name": "stdout",
          "text": [
            "\n",
            "Objective =  79.5\n",
            "\n",
            "Decision Variables\n",
            "x[ 0 ] =  28.5\n",
            "x[ 1 ] =  24.0\n",
            "x[ 2 ] =  1.0\n",
            "\n",
            "Constraints\n",
            "constraints : Size=5\n",
            "    Key : Lower : Body  : Upper\n",
            "      2 :  None : -65.5 : -15.0\n",
            "      3 :  None :  -8.0 :  -8.0\n",
            "      5 :  25.0 :  25.0 :  None\n"
          ]
        }
      ]
    },
    {
      "cell_type": "markdown",
      "source": [
        "So when we change the constraint and define a new constraint.Also we deactivate a constraint and add a new constraint then we get the solution \n",
        "Objective =  79.5 \n",
        "\n",
        "Decision Variables\n",
        "$x_1 =  28.5,\n",
        "x_2 =  24.0,\n",
        "x_3=  1.0 $\n",
        "Here the solver termination condition is optimal and solver status is ok.\n",
        "constraint 2 ,3,5 are active constraints.and others are inactive constraints."
      ],
      "metadata": {
        "id": "gFkQCYlgm6RZ"
      }
    },
    {
      "cell_type": "code",
      "source": [
        ""
      ],
      "metadata": {
        "id": "xQGE1LdofsbU"
      },
      "execution_count": null,
      "outputs": []
    }
  ]
}